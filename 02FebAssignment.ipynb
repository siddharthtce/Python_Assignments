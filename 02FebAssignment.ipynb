{
 "cells": [
  {
   "cell_type": "code",
   "execution_count": null,
   "id": "bf1833ae-f212-434e-9c91-e955ad3f26d8",
   "metadata": {},
   "outputs": [],
   "source": [
    "# 1. Characteristics of tuple\n",
    "\n",
    "'''\n",
    "Tuple is an ordered collection of similar or different datatypes. Tuple is immutable. But supports indexing & nested objects.\n",
    "'''"
   ]
  },
  {
   "cell_type": "code",
   "execution_count": 6,
   "id": "29d1633d-77f5-40cf-b0ad-8f158e0a59bb",
   "metadata": {},
   "outputs": [
    {
     "name": "stdout",
     "output_type": "stream",
     "text": [
      "1\n",
      "2\n"
     ]
    }
   ],
   "source": [
    "# 2. Tuple methods in python are count & index\n",
    "'''\n",
    "As the tuple is immutable, there is no option to update the tuple & hence it supports the above 2 methods only.\n",
    "'''\n",
    "\n",
    "tup=(1,2,3,4)\n",
    "print(tup.count(3))\n",
    "print(tup.index(3))"
   ]
  },
  {
   "cell_type": "code",
   "execution_count": 2,
   "id": "d5179971-a350-4801-974e-45cdfad0a19a",
   "metadata": {},
   "outputs": [
    {
     "data": {
      "text/plain": [
       "[1, 2, 3, 4]"
      ]
     },
     "execution_count": 2,
     "metadata": {},
     "output_type": "execute_result"
    }
   ],
   "source": [
    "# 3. Removing duplicates from list\n",
    "\n",
    "List = [1, 1, 1, 2, 1, 3, 1, 4, 2, 1, 2, 2, 2, 3, 2, 4, 3, 1, 3, 2, 3, 3, 3, 4, 4, 1, 4, 2, 4, 3, 4, 4]\n",
    "\n",
    "st=set(List)\n",
    "List=list(st)\n",
    "List"
   ]
  },
  {
   "cell_type": "code",
   "execution_count": 10,
   "id": "41d6174c-3fd7-4f2e-8f12-f2d4cabfdd8d",
   "metadata": {},
   "outputs": [
    {
     "data": {
      "text/plain": [
       "{1, 2, 3, 4, 5, 6, 7}"
      ]
     },
     "execution_count": 10,
     "metadata": {},
     "output_type": "execute_result"
    }
   ],
   "source": [
    "#4 Union & Update\n",
    "\n",
    "s1={1,2,3,4}\n",
    "s2={1,5,6,7}\n",
    "#s1.union(s2)\n",
    "#s1.update(s2)"
   ]
  },
  {
   "cell_type": "code",
   "execution_count": 11,
   "id": "35fe50ae-56b6-4284-878a-f150323cc5c2",
   "metadata": {},
   "outputs": [
    {
     "data": {
      "text/plain": [
       "{1, 2, 3, 4}"
      ]
     },
     "execution_count": 11,
     "metadata": {},
     "output_type": "execute_result"
    }
   ],
   "source": [
    "s1"
   ]
  },
  {
   "cell_type": "code",
   "execution_count": null,
   "id": "7b8369ad-f0d7-4c2f-bea1-2f5ade2baf80",
   "metadata": {},
   "outputs": [],
   "source": [
    "# Union is used to display all the elements that are present in both the sets (set that is calling the Union method & the set that is being called). \n",
    "# Update is used to add the elements present in the iterable to the set that is calling the Update method."
   ]
  },
  {
   "cell_type": "code",
   "execution_count": 19,
   "id": "6dba26f7-821a-4d10-bec0-a6d891dfd90f",
   "metadata": {},
   "outputs": [],
   "source": [
    "#5 Dictionary is an ordered Data Structure in Python that stores values as Key-Value pair. It is mutable. \n",
    "\n",
    "# Example\n",
    "dict1={\"Name1\": \"Ajay\",\"Name2\":\"Siddharth\"}\n",
    "dict2={1.5:\"Lemon\",2:\"Tomato\"}"
   ]
  },
  {
   "cell_type": "code",
   "execution_count": 20,
   "id": "8621f252-0db3-4c72-a824-d336643c857f",
   "metadata": {},
   "outputs": [
    {
     "data": {
      "text/plain": [
       "{'Name1': 'Ajay', 'Name2': 'Siddharth'}"
      ]
     },
     "execution_count": 20,
     "metadata": {},
     "output_type": "execute_result"
    }
   ],
   "source": [
    "dict1"
   ]
  },
  {
   "cell_type": "code",
   "execution_count": 21,
   "id": "383e9f82-18ff-4298-bb02-d08181b46954",
   "metadata": {},
   "outputs": [
    {
     "data": {
      "text/plain": [
       "{1.5: 'Lemon', 2: 'Tomato'}"
      ]
     },
     "execution_count": 21,
     "metadata": {},
     "output_type": "execute_result"
    }
   ],
   "source": [
    "dict2"
   ]
  },
  {
   "cell_type": "code",
   "execution_count": null,
   "id": "c7d0314c-a788-4acd-b007-1150c15acbba",
   "metadata": {},
   "outputs": [],
   "source": [
    "# In this example, Name1 & Name2 are keys and Ajay & Siddharth are values for the respective keys. We can store any kind of data type as the key or value. "
   ]
  },
  {
   "cell_type": "code",
   "execution_count": 29,
   "id": "f958f477-afbb-44b7-b54b-42bcd9f703a6",
   "metadata": {},
   "outputs": [],
   "source": [
    "#7 Yes, we can create a nested dictionary\n",
    "\n",
    "dict3={\"Names\":dict1,\"vegetables\":dict2,\"fruits\":{\"fruit1\":\"apple\",\"fruit2\":\"mango\"}}"
   ]
  },
  {
   "cell_type": "code",
   "execution_count": 30,
   "id": "fc458cbf-77dd-440c-bfaf-4a575a638e1d",
   "metadata": {},
   "outputs": [
    {
     "data": {
      "text/plain": [
       "{'Names': {'Name1': 'Ajay', 'Name2': 'Siddharth'},\n",
       " 'vegetables': {1.5: 'Lemon', 2: 'Tomato'},\n",
       " 'fruits': {'fruit1': 'apple', 'fruit2': 'mango'}}"
      ]
     },
     "execution_count": 30,
     "metadata": {},
     "output_type": "execute_result"
    }
   ],
   "source": [
    "dict3"
   ]
  },
  {
   "cell_type": "code",
   "execution_count": 36,
   "id": "045faeab-bca9-4ad2-ab79-cc21e5277abf",
   "metadata": {},
   "outputs": [],
   "source": [
    "#7 \n",
    "dict1= {'language' : 'Python', 'course': 'Data Science Masters'}"
   ]
  },
  {
   "cell_type": "code",
   "execution_count": 37,
   "id": "4bbda4b9-56a0-4fe9-9a5a-2eb928e0eca1",
   "metadata": {},
   "outputs": [
    {
     "data": {
      "text/plain": [
       "{'language': 'Python', 'course': 'Data Science Masters'}"
      ]
     },
     "execution_count": 37,
     "metadata": {},
     "output_type": "execute_result"
    }
   ],
   "source": [
    "dict1"
   ]
  },
  {
   "cell_type": "code",
   "execution_count": 48,
   "id": "5777ba2a-050f-4a56-a59a-c54cc3ed6eb6",
   "metadata": {},
   "outputs": [
    {
     "data": {
      "text/plain": [
       "\"['Python', 'Machine Learning’, 'Deep Learning']\""
      ]
     },
     "execution_count": 48,
     "metadata": {},
     "output_type": "execute_result"
    }
   ],
   "source": [
    "dict1.setdefault('topics',['Python', 'Machine Learning', 'Deep Learning'])"
   ]
  },
  {
   "cell_type": "code",
   "execution_count": 49,
   "id": "66cfbf72-298a-467f-85e7-79e9deff6493",
   "metadata": {},
   "outputs": [
    {
     "data": {
      "text/plain": [
       "{'language': 'Python',\n",
       " 'course': 'Data Science Masters',\n",
       " 'topics': \"['Python', 'Machine Learning’, 'Deep Learning']\"}"
      ]
     },
     "execution_count": 49,
     "metadata": {},
     "output_type": "execute_result"
    }
   ],
   "source": [
    "dict1"
   ]
  },
  {
   "cell_type": "code",
   "execution_count": 33,
   "id": "0e2ea54c-a591-4177-a44d-cc063a735a62",
   "metadata": {},
   "outputs": [
    {
     "name": "stdout",
     "output_type": "stream",
     "text": [
      "Ajay\n",
      "Siddharth\n"
     ]
    }
   ],
   "source": [
    "#8 The three view objects in Python dictionary is key, value & items\n",
    "\n",
    "# In-built methods to display the three view objects are as follows\n",
    "\n",
    "for i in dict1.keys():\n",
    "    print(dict1[i])"
   ]
  },
  {
   "cell_type": "code",
   "execution_count": 34,
   "id": "3cb762a0-592c-446c-8e1a-3e7d9b5d3dc8",
   "metadata": {},
   "outputs": [
    {
     "name": "stdout",
     "output_type": "stream",
     "text": [
      "Ajay\n",
      "Siddharth\n"
     ]
    }
   ],
   "source": [
    "for i in dict1.values():\n",
    "    print(i)"
   ]
  },
  {
   "cell_type": "code",
   "execution_count": 35,
   "id": "c13f011d-3fec-4b46-a0db-d434db168fc0",
   "metadata": {},
   "outputs": [
    {
     "name": "stdout",
     "output_type": "stream",
     "text": [
      "(1.5, 'Lemon')\n",
      "(2, 'Tomato')\n"
     ]
    }
   ],
   "source": [
    "for i in dict2.items():\n",
    "    print(i)"
   ]
  },
  {
   "cell_type": "code",
   "execution_count": null,
   "id": "7d0f94b6-cfa4-4edf-8580-2447751500d4",
   "metadata": {},
   "outputs": [],
   "source": []
  }
 ],
 "metadata": {
  "kernelspec": {
   "display_name": "Python 3 (ipykernel)",
   "language": "python",
   "name": "python3"
  },
  "language_info": {
   "codemirror_mode": {
    "name": "ipython",
    "version": 3
   },
   "file_extension": ".py",
   "mimetype": "text/x-python",
   "name": "python",
   "nbconvert_exporter": "python",
   "pygments_lexer": "ipython3",
   "version": "3.10.8"
  }
 },
 "nbformat": 4,
 "nbformat_minor": 5
}
