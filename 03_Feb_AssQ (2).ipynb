{
 "cells": [
  {
   "cell_type": "code",
   "execution_count": 2,
   "id": "fd39a6c7-36a8-489b-837a-6be4280aa6b2",
   "metadata": {},
   "outputs": [],
   "source": [
    "#1 \n",
    "def oddNum(a):\n",
    "    ls=[]\n",
    "    for i in range(1,a+1):\n",
    "        if i%2!=0:\n",
    "            ls.append(i)\n",
    "    return ls"
   ]
  },
  {
   "cell_type": "code",
   "execution_count": 3,
   "id": "b26507e2-181a-4e5e-8205-10e7cd7235bb",
   "metadata": {},
   "outputs": [
    {
     "data": {
      "text/plain": [
       "[1, 3, 5, 7, 9, 11, 13, 15, 17, 19, 21, 23, 25]"
      ]
     },
     "execution_count": 3,
     "metadata": {},
     "output_type": "execute_result"
    }
   ],
   "source": [
    "oddNum(25)"
   ]
  },
  {
   "cell_type": "markdown",
   "id": "b70e5030-88e2-438b-b9a4-8b647accc70d",
   "metadata": {},
   "source": [
    "#2\n",
    "*args & **kwargs are used to pass any number of arguments as input to a function. args is used to pass any data type like int, string, list, tuple, set etc. whereas **kwargs is used to pass key-value pair"
   ]
  },
  {
   "cell_type": "code",
   "execution_count": 6,
   "id": "33b9a30d-dc50-4832-8920-904f9f5244a9",
   "metadata": {},
   "outputs": [],
   "source": [
    "def output(*args):\n",
    "    for i in args:\n",
    "        print(i)"
   ]
  },
  {
   "cell_type": "code",
   "execution_count": 7,
   "id": "fa13582f-f34a-4af4-afd7-d844a058ea18",
   "metadata": {},
   "outputs": [
    {
     "name": "stdout",
     "output_type": "stream",
     "text": [
      "Sidd\n",
      "Sriram\n",
      "1\n",
      "4\n",
      "5\n",
      "['Joshua', 'Francis']\n",
      "Hariharan\n",
      "{'Apple', 'Orange'}\n"
     ]
    }
   ],
   "source": [
    "output(\"Sidd\",\"Sriram\",1,4,5,[\"Joshua\",\"Francis\"],(\"Hariharan\"),{\"Apple\",\"Orange\"})"
   ]
  },
  {
   "cell_type": "code",
   "execution_count": 12,
   "id": "b99c44f5-5c76-4388-a5a5-536bacbaa2ec",
   "metadata": {},
   "outputs": [],
   "source": [
    "def output(**kwargs):\n",
    "    for i in kwargs.keys():\n",
    "        print(f\"The value of {i} is {kwargs[i]}\")"
   ]
  },
  {
   "cell_type": "code",
   "execution_count": 14,
   "id": "05470232-a5f7-4b76-8ae4-945f0fd3deb1",
   "metadata": {},
   "outputs": [
    {
     "name": "stdout",
     "output_type": "stream",
     "text": [
      "The value of School1 is Ramakrishna Mission\n",
      "The value of School2 is St. John's\n",
      "The value of School3 is Thiagaraja\n"
     ]
    }
   ],
   "source": [
    "output(School1=\"Ramakrishna Mission\",School2=\"St. John's\",School3=\"Thiagaraja\")"
   ]
  },
  {
   "cell_type": "code",
   "execution_count": null,
   "id": "a2c87e1f-c94f-45fe-a9fe-9589816342a4",
   "metadata": {},
   "outputs": [],
   "source": [
    "#3\n",
    "Iterator is an object that is used to iterator over an element, say list, tuple etc. The method that is used to initialize the iterator object is iter keyword. The method used for iteration is next()"
   ]
  },
  {
   "cell_type": "code",
   "execution_count": 14,
   "id": "f2a93e64-fa6b-4389-ac03-e4cf9ff3614e",
   "metadata": {},
   "outputs": [
    {
     "name": "stdout",
     "output_type": "stream",
     "text": [
      "2\n",
      "4\n",
      "6\n",
      "8\n",
      "10\n"
     ]
    }
   ],
   "source": [
    "#3\n",
    "ls=[2, 4, 6, 8, 10, 12, 14, 16, 18, 20]\n",
    "iterator1=iter(ls)\n",
    "for i in range(5):\n",
    "        print(next(iterator1))\n",
    "    "
   ]
  },
  {
   "cell_type": "markdown",
   "id": "d260b184-5946-4d09-9203-a80fdd156824",
   "metadata": {},
   "source": [
    "#4 Generator function is used to generate values one after the other & does not return values in the form of a list. This saves memory as the values are returned one after the other. Yield keyword is used to create a generator function. "
   ]
  },
  {
   "cell_type": "code",
   "execution_count": 4,
   "id": "3d82b0cb-e016-4648-b17d-2c2fce26e950",
   "metadata": {},
   "outputs": [],
   "source": [
    "def even(a):\n",
    "    for i in a:\n",
    "        if i%2==0:\n",
    "            yield i"
   ]
  },
  {
   "cell_type": "code",
   "execution_count": 9,
   "id": "56c4734e-08df-4ebd-9c7d-92dad438777c",
   "metadata": {},
   "outputs": [
    {
     "data": {
      "text/plain": [
       "generator"
      ]
     },
     "execution_count": 9,
     "metadata": {},
     "output_type": "execute_result"
    }
   ],
   "source": [
    "type(even(10))"
   ]
  },
  {
   "cell_type": "code",
   "execution_count": 6,
   "id": "b085ad11-a311-453e-9924-133ab0b322dc",
   "metadata": {},
   "outputs": [],
   "source": [
    "ls=[1,2,3,4,5,6,7,8,9,10,11]"
   ]
  },
  {
   "cell_type": "code",
   "execution_count": 7,
   "id": "3f81c81e-e0ef-400c-be4f-a9e8e3db9408",
   "metadata": {},
   "outputs": [
    {
     "name": "stdout",
     "output_type": "stream",
     "text": [
      "2\n",
      "4\n",
      "6\n",
      "8\n",
      "10\n"
     ]
    }
   ],
   "source": [
    "for i in even(ls):\n",
    "    print(i)"
   ]
  },
  {
   "cell_type": "code",
   "execution_count": 65,
   "id": "b1f84bb7-62fa-4a48-8eef-77db5184cdbe",
   "metadata": {},
   "outputs": [],
   "source": [
    "#5\n",
    "def prime(n):\n",
    "    ls=[]\n",
    "    for i in range(2,n+1):\n",
    "        flag=0\n",
    "        for j in range(2,i):\n",
    "            if i%j==0:\n",
    "                flag=1\n",
    "                break\n",
    "        if flag==0:\n",
    "            yield i"
   ]
  },
  {
   "cell_type": "code",
   "execution_count": 68,
   "id": "b28c991a-68d1-4c53-af3e-c7c48b10f7c9",
   "metadata": {},
   "outputs": [
    {
     "name": "stdout",
     "output_type": "stream",
     "text": [
      "2\n",
      "3\n",
      "5\n",
      "7\n",
      "11\n"
     ]
    }
   ],
   "source": [
    "iterator=iter(prime(1000))\n",
    "for i in range(5):\n",
    "    print(next(iterator))"
   ]
  },
  {
   "cell_type": "code",
   "execution_count": null,
   "id": "8e4005aa-2de8-45d7-a6a9-57ed50e7b6d0",
   "metadata": {},
   "outputs": [],
   "source": []
  }
 ],
 "metadata": {
  "kernelspec": {
   "display_name": "Python 3 (ipykernel)",
   "language": "python",
   "name": "python3"
  },
  "language_info": {
   "codemirror_mode": {
    "name": "ipython",
    "version": 3
   },
   "file_extension": ".py",
   "mimetype": "text/x-python",
   "name": "python",
   "nbconvert_exporter": "python",
   "pygments_lexer": "ipython3",
   "version": "3.10.8"
  }
 },
 "nbformat": 4,
 "nbformat_minor": 5
}
