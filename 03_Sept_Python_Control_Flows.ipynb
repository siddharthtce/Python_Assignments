{
 "cells": [
  {
   "cell_type": "markdown",
   "id": "9116105e-c8e4-4abd-925b-d5abb1e41937",
   "metadata": {},
   "source": [
    "# Basic If-Else Statements:"
   ]
  },
  {
   "cell_type": "code",
   "execution_count": 8,
   "id": "71a4e009-072f-4b93-84f4-80411f0de3da",
   "metadata": {},
   "outputs": [
    {
     "name": "stdin",
     "output_type": "stream",
     "text": [
      "Enter the number which needs to be verified 0\n"
     ]
    },
    {
     "name": "stdout",
     "output_type": "stream",
     "text": [
      "The number is equal to 0\n"
     ]
    }
   ],
   "source": [
    "#1\n",
    "a=int(input(\"Enter the number which needs to be verified\"))\n",
    "if a>0:\n",
    "    print(\"The number is positive\")\n",
    "elif a<0:\n",
    "    print(\"The number is negative\")\n",
    "else:\n",
    "    print(\"The number is equal to 0\")"
   ]
  },
  {
   "cell_type": "code",
   "execution_count": 6,
   "id": "bc621201-a9f4-4ca3-af6d-cd29ff4947a2",
   "metadata": {},
   "outputs": [
    {
     "name": "stdout",
     "output_type": "stream",
     "text": [
      "The person is not eligible to vote\n"
     ]
    }
   ],
   "source": [
    "#2\n",
    "age=12\n",
    "if age>=18:\n",
    "    print(\"The person is eligible to vote\")\n",
    "else:\n",
    "    print(\"The person is not eligible to vote\")"
   ]
  },
  {
   "cell_type": "code",
   "execution_count": 7,
   "id": "3d067e64-7107-4093-a237-e82428faa7ef",
   "metadata": {},
   "outputs": [
    {
     "name": "stdout",
     "output_type": "stream",
     "text": [
      "b is greater\n"
     ]
    }
   ],
   "source": [
    "#3\n",
    "a=10\n",
    "b=20\n",
    "if a>b:\n",
    "    print(\"a is greater\")\n",
    "else:\n",
    "    print(\"b is greater\")"
   ]
  },
  {
   "cell_type": "code",
   "execution_count": 10,
   "id": "e171077c-d9b6-464b-a983-f11734eb4425",
   "metadata": {},
   "outputs": [
    {
     "name": "stdin",
     "output_type": "stream",
     "text": [
      "Enter the year to check for Leap year 2005\n"
     ]
    },
    {
     "name": "stdout",
     "output_type": "stream",
     "text": [
      "The year is not a leap year\n"
     ]
    }
   ],
   "source": [
    "#4\n",
    "year=int(input(\"Enter the year to check for Leap year\"))\n",
    "if year%4==0:\n",
    "    print(\"The year is a leap year\")\n",
    "else:\n",
    "    print(\"The year is not a leap year\")"
   ]
  },
  {
   "cell_type": "code",
   "execution_count": 13,
   "id": "c26740c1-c8a1-4892-856b-016e1f5d9279",
   "metadata": {},
   "outputs": [
    {
     "name": "stdin",
     "output_type": "stream",
     "text": [
      "Enter the character that needs to be verified for vowel v\n"
     ]
    },
    {
     "name": "stdout",
     "output_type": "stream",
     "text": [
      "The character is not a vowel\n"
     ]
    }
   ],
   "source": [
    "#5\n",
    "ch=str(input(\"Enter the character that needs to be verified for vowel\"))\n",
    "vow=['a','e','i','o','u']\n",
    "if ch in vow:\n",
    "    print(\"The character is a vowel\")\n",
    "else:\n",
    "    print(\"The character is not a vowel\")"
   ]
  },
  {
   "cell_type": "code",
   "execution_count": 14,
   "id": "74dd2318-6cee-491c-8e84-d1177416e01c",
   "metadata": {},
   "outputs": [
    {
     "name": "stdout",
     "output_type": "stream",
     "text": [
      "The number 19 is odd\n"
     ]
    }
   ],
   "source": [
    "#6\n",
    "num=19\n",
    "if num%2==0:\n",
    "    print(\"The number\",num,\"is even\")\n",
    "else:\n",
    "    print(\"The number\",num,\"is odd\")"
   ]
  },
  {
   "cell_type": "code",
   "execution_count": 17,
   "id": "cf50f74e-1e17-45ff-9537-df7ec8c5c20f",
   "metadata": {},
   "outputs": [
    {
     "name": "stdout",
     "output_type": "stream",
     "text": [
      "c is greatest of all 3 numbers\n"
     ]
    }
   ],
   "source": [
    "#8\n",
    "a=10\n",
    "b=20\n",
    "c=30\n",
    "if a>b and a>c:\n",
    "    print(\"a is greatest of all 3 numbers\")\n",
    "elif b>a and b>c:\n",
    "    print(\"b is greatest of all 3 numbers\")\n",
    "else:\n",
    "    print(\"c is greatest of all 3 numbers\")"
   ]
  },
  {
   "cell_type": "code",
   "execution_count": 22,
   "id": "d3355a6c-3303-447e-893c-c204989e7481",
   "metadata": {},
   "outputs": [
    {
     "name": "stdout",
     "output_type": "stream",
     "text": [
      "The string malayalam is a palindrome\n"
     ]
    }
   ],
   "source": [
    "#9\n",
    "st=\"Malayalam\"\n",
    "st=st.lower()\n",
    "if st==st[::-1]:\n",
    "    print(\"The string\",st,\"is a palindrome\")\n",
    "else:\n",
    "    print(\"The string\",st,\"is not a palindrome\")"
   ]
  },
  {
   "cell_type": "code",
   "execution_count": 24,
   "id": "afd6d79c-72c0-4e41-848c-22c68ea123c7",
   "metadata": {},
   "outputs": [
    {
     "name": "stdout",
     "output_type": "stream",
     "text": [
      "The student has scored A grade\n"
     ]
    }
   ],
   "source": [
    "#10\n",
    "score=90\n",
    "if score>90:\n",
    "    print(\"The student has scored A+ grade\")\n",
    "elif score>80:\n",
    "    print(\"The student has scored A grade\")\n",
    "elif score>70:\n",
    "    print(\"The student has scored B grade\")\n",
    "elif score>60:\n",
    "    print(\"The student has scored C grade\")\n",
    "else:\n",
    "    print(\"The student has failed\")"
   ]
  },
  {
   "cell_type": "markdown",
   "id": "3c88fe1b-a66f-4d40-afa0-decbcbdff1ee",
   "metadata": {},
   "source": [
    "# Nested If-Else Statements:"
   ]
  },
  {
   "cell_type": "code",
   "execution_count": 28,
   "id": "fce893b3-0b73-4f74-9240-02b99153eea4",
   "metadata": {},
   "outputs": [
    {
     "name": "stdout",
     "output_type": "stream",
     "text": [
      "B is the greatest number\n"
     ]
    }
   ],
   "source": [
    "#11\n",
    "a=10\n",
    "b=30\n",
    "c=20\n",
    "if a>b:\n",
    "    if a>c:\n",
    "        print(\"A is the greatest number\")\n",
    "elif b>c:\n",
    "    if b>a:\n",
    "        print(\"B is the greatest number\")\n",
    "else:\n",
    "    print(\"C is the greatest number\")"
   ]
  },
  {
   "cell_type": "code",
   "execution_count": 1,
   "id": "1d116f89-eddb-4ef6-bfe7-0449ea85770e",
   "metadata": {},
   "outputs": [
    {
     "name": "stdin",
     "output_type": "stream",
     "text": [
      "Enter the length of side 1 10\n",
      "Enter the length of side 2 20\n",
      "Enter the length of side 3 10\n"
     ]
    },
    {
     "name": "stdout",
     "output_type": "stream",
     "text": [
      "It is an isosceles triangle\n"
     ]
    }
   ],
   "source": [
    "#12\n",
    "a=int(input(\"Enter the length of side 1\"))\n",
    "b=int(input(\"Enter the length of side 2\"))\n",
    "c=int(input(\"Enter the length of side 3\"))\n",
    "if a==b==c:\n",
    "    print(\"It is an equilateral triangle\")\n",
    "elif a==b or b==c or a==c:\n",
    "    print(\"It is an isosceles triangle\")\n",
    "else:\n",
    "    print(\"It is a scalene triangle\")"
   ]
  },
  {
   "cell_type": "code",
   "execution_count": 5,
   "id": "224352cd-0a09-4339-9f62-08ba34e7d07e",
   "metadata": {},
   "outputs": [
    {
     "name": "stdin",
     "output_type": "stream",
     "text": [
      "Enter the number which needs to be verified 0\n"
     ]
    },
    {
     "name": "stdout",
     "output_type": "stream",
     "text": [
      "The number is equal to 0\n"
     ]
    }
   ],
   "source": [
    "#14\n",
    "a=int(input(\"Enter the number which needs to be verified\"))\n",
    "if a>=0:\n",
    "    if a>0:\n",
    "        print(\"The number is positive\")\n",
    "    else:\n",
    "        print(\"The number is equal to 0\")\n",
    "else:\n",
    "    print(\"The number is negative\")"
   ]
  },
  {
   "cell_type": "code",
   "execution_count": 9,
   "id": "878ff3e5-c04d-4973-99d0-50ef1883e457",
   "metadata": {},
   "outputs": [
    {
     "name": "stdin",
     "output_type": "stream",
     "text": [
      "Enter the age of the person 13\n"
     ]
    },
    {
     "name": "stdout",
     "output_type": "stream",
     "text": [
      "The person is a teenager\n"
     ]
    }
   ],
   "source": [
    "#15\n",
    "age=int(input(\"Enter the age of the person\"))\n",
    "if age>19:\n",
    "        print(\"The person is not a teenager\")\n",
    "else:\n",
    "        if age<13:\n",
    "                print(\"The person is not a teenager\")\n",
    "        elif age>=13 and age<=19:\n",
    "                print(\"The person is a teenager\")\n",
    "        "
   ]
  },
  {
   "cell_type": "code",
   "execution_count": 6,
   "id": "d2540302-a2da-4e23-a95a-348a67fe3b9f",
   "metadata": {},
   "outputs": [
    {
     "name": "stdout",
     "output_type": "stream",
     "text": [
      "The angle is acute angle\n"
     ]
    }
   ],
   "source": [
    "#16\n",
    "angle=40\n",
    "if angle==90:\n",
    "    print(\"The angle is right angled\")\n",
    "else:\n",
    "    if angle>90:\n",
    "        print(\"The angle is obtuse angle\")\n",
    "    elif angle<90:\n",
    "        print(\"The angle is acute angle\")"
   ]
  },
  {
   "cell_type": "code",
   "execution_count": 16,
   "id": "cdb0ad1f-9e51-4a3f-9af2-a4f61b1fe600",
   "metadata": {},
   "outputs": [
    {
     "name": "stdin",
     "output_type": "stream",
     "text": [
      "Enter the day of the week 9\n"
     ]
    },
    {
     "name": "stdout",
     "output_type": "stream",
     "text": [
      "Enter the day between 1 and 7\n"
     ]
    }
   ],
   "source": [
    "#18\n",
    "day=int(input(\"Enter the day of the week\"))\n",
    "if day<1 or day>7:\n",
    "    print(\"Enter the day between 1 and 7\")\n",
    "else:\n",
    "    if day==1:\n",
    "        print(\"The day is Monday\")\n",
    "    elif day==2:\n",
    "        print(\"The day is Tuesday\")\n",
    "    elif day==3:\n",
    "        print(\"The day is Wednesday\")\n",
    "    elif day==4:\n",
    "        print(\"The day is Thursday\")\n",
    "    elif day==5:\n",
    "        print(\"The day is Friday\")\n",
    "    elif day==6:\n",
    "        print(\"The day is Saturday\")\n",
    "    elif day==7:\n",
    "        print(\"The day is Sunday\")"
   ]
  },
  {
   "cell_type": "code",
   "execution_count": 5,
   "id": "082dff79-4d87-4f90-bc4f-634d0dc7801a",
   "metadata": {},
   "outputs": [
    {
     "name": "stdin",
     "output_type": "stream",
     "text": [
      "Enter the year 2001\n"
     ]
    },
    {
     "name": "stdout",
     "output_type": "stream",
     "text": [
      "The year is not a leap year\n"
     ]
    }
   ],
   "source": [
    "#19\n",
    "year=int(input(\"Enter the year\"))\n",
    "if year%4==0:\n",
    "    if year%400==0:\n",
    "        print(\"The year is a leap year & it is divisible by 400\")\n",
    "    else:\n",
    "        print(\"The year is a leap year\")\n",
    "else:\n",
    "    print(\"The year is not a leap year\")"
   ]
  },
  {
   "cell_type": "code",
   "execution_count": 6,
   "id": "365d0da1-2aa4-4d5c-ae35-b666f03b5a50",
   "metadata": {},
   "outputs": [
    {
     "name": "stdout",
     "output_type": "stream",
     "text": [
      "The student has scored A grade\n"
     ]
    }
   ],
   "source": [
    "#21\n",
    "score=90\n",
    "if score>90:\n",
    "    print(\"The student has scored A+ grade\")\n",
    "elif score>80:\n",
    "    print(\"The student has scored A grade\")\n",
    "elif score>70:\n",
    "    print(\"The student has scored B grade\")\n",
    "elif score>60:\n",
    "    print(\"The student has scored C grade\")\n",
    "else:\n",
    "    print(\"The student has failed\")"
   ]
  },
  {
   "cell_type": "code",
   "execution_count": 9,
   "id": "d2d60d33-798a-4238-bbc6-969879b976a1",
   "metadata": {},
   "outputs": [
    {
     "name": "stdout",
     "output_type": "stream",
     "text": [
      "The angle is right angled\n"
     ]
    }
   ],
   "source": [
    "#22\n",
    "angle=90\n",
    "if angle==90:\n",
    "    print(\"The angle is right angled\")\n",
    "elif angle>90:\n",
    "    print(\"The angle is obtuse angle\")\n",
    "elif angle<90:\n",
    "    print(\"The angle is acute angle\")"
   ]
  },
  {
   "cell_type": "code",
   "execution_count": 6,
   "id": "c528c909-172c-4148-8ef1-ea23ee70db78",
   "metadata": {},
   "outputs": [
    {
     "name": "stdout",
     "output_type": "stream",
     "text": [
      "The person is Obese\n"
     ]
    }
   ],
   "source": [
    "#23\n",
    "bmi=30\n",
    "if bmi<18.5:\n",
    "    print(\"The person is Underweight\")\n",
    "elif 18.5>=bmi<=24.9:\n",
    "    print(\"The person is Normal weight\")\n",
    "elif 25.0>=bmi<=29.9:\n",
    "    print(\"The person is Over weight\")\n",
    "elif 30.0>=bmi:\n",
    "    print(\"The person is Obese\")"
   ]
  },
  {
   "cell_type": "code",
   "execution_count": 19,
   "id": "cf4a61be-01be-4428-82aa-81821a3d498f",
   "metadata": {},
   "outputs": [
    {
     "name": "stdin",
     "output_type": "stream",
     "text": [
      "Enter the number which needs to be verified 10\n"
     ]
    },
    {
     "name": "stdout",
     "output_type": "stream",
     "text": [
      "The number is positive\n"
     ]
    }
   ],
   "source": [
    "#24\n",
    "a=int(input(\"Enter the number which needs to be verified\"))\n",
    "if a>0:\n",
    "    print(\"The number is positive\")\n",
    "elif a<0:\n",
    "    print(\"The number is negative\")\n",
    "else:\n",
    "    print(\"The number is equal to 0\")"
   ]
  },
  {
   "cell_type": "code",
   "execution_count": 25,
   "id": "7e2108df-5a5b-40d8-9bb0-ec4e1f0e28c4",
   "metadata": {},
   "outputs": [
    {
     "name": "stdout",
     "output_type": "stream",
     "text": [
      "The Type of character is Numeric\n"
     ]
    }
   ],
   "source": [
    "#25\n",
    "c='1'\n",
    "if c.islower()==True:\n",
    "    print(\"The Type of character is Lower case\")\n",
    "elif c.isupper()==True:\n",
    "    print(\"The Type of character is Upper case\")\n",
    "elif c.isalnum()==False:\n",
    "    print(\"The Type of character is Special\")\n",
    "else:\n",
    "    print(\"The Type of character is Numeric\")"
   ]
  },
  {
   "cell_type": "code",
   "execution_count": 4,
   "id": "0c52647b-fe25-41cf-b719-c6d9970128d9",
   "metadata": {},
   "outputs": [
    {
     "name": "stdout",
     "output_type": "stream",
     "text": [
      "392.0\n"
     ]
    }
   ],
   "source": [
    "#26\n",
    "purchase_amt=400\n",
    "final_cost=0\n",
    "if purchase_amt<=10:\n",
    "    final_cost=purchase_amt\n",
    "elif purchase_amt<=100:\n",
    "    final_cost=purchase_amt-purchase_amt*0.01\n",
    "elif purchase_amt<=500:\n",
    "    final_cost=purchase_amt-purchase_amt*0.02\n",
    "elif purchase_amt<=1000:\n",
    "    final_cost=purchase_amt-purchase_amt*0.03\n",
    "else:\n",
    "    final_cost=purchase_amt-purchase_amt*0.04\n",
    "print (final_cost)"
   ]
  },
  {
   "cell_type": "markdown",
   "id": "935a6c85-898a-40ba-992c-577427828ab3",
   "metadata": {},
   "source": [
    "# Basic Level"
   ]
  },
  {
   "cell_type": "code",
   "execution_count": 7,
   "id": "4c6d7602-a93a-4d83-a49f-9acf5f4fd0f7",
   "metadata": {},
   "outputs": [
    {
     "name": "stdin",
     "output_type": "stream",
     "text": [
      "Enter the number which needs to be verified 11\n"
     ]
    },
    {
     "name": "stdout",
     "output_type": "stream",
     "text": [
      "The number is positive\n"
     ]
    }
   ],
   "source": [
    "#1\n",
    "a=int(input(\"Enter the number which needs to be verified\"))\n",
    "if a>0:\n",
    "    print(\"The number is positive\")\n",
    "elif a<0:\n",
    "    print(\"The number is negative\")\n",
    "else:\n",
    "    print(\"The number is equal to 0\")"
   ]
  },
  {
   "cell_type": "code",
   "execution_count": 8,
   "id": "ccb01b81-ed07-4dcc-a192-3d843888252b",
   "metadata": {},
   "outputs": [
    {
     "name": "stdout",
     "output_type": "stream",
     "text": [
      "The person is not eligible to vote\n"
     ]
    }
   ],
   "source": [
    "#2\n",
    "age=12\n",
    "if age>=18:\n",
    "    print(\"The person is eligible to vote\")\n",
    "else:\n",
    "    print(\"The person is not eligible to vote\")"
   ]
  },
  {
   "cell_type": "code",
   "execution_count": 9,
   "id": "362f2482-a3e1-4eba-b174-964c48ed8e33",
   "metadata": {},
   "outputs": [
    {
     "name": "stdout",
     "output_type": "stream",
     "text": [
      "B is greater of the 2 numbers\n"
     ]
    }
   ],
   "source": [
    "#3\n",
    "a=10\n",
    "b=20\n",
    "if a>b:\n",
    "    print(\"A is greater of the 2 numbers\")\n",
    "elif b>a:\n",
    "    print(\"B is greater of the 2 numbers\")\n",
    "else:\n",
    "    print(\"A & B are equal\")"
   ]
  },
  {
   "cell_type": "code",
   "execution_count": 10,
   "id": "d412be08-25cb-4b7e-b898-a69d7c5ba551",
   "metadata": {},
   "outputs": [
    {
     "name": "stdout",
     "output_type": "stream",
     "text": [
      "The student has scored A grade\n"
     ]
    }
   ],
   "source": [
    "#4\n",
    "score=90\n",
    "if score>90:\n",
    "    print(\"The student has scored A+ grade\")\n",
    "elif score>80:\n",
    "    print(\"The student has scored A grade\")\n",
    "elif score>70:\n",
    "    print(\"The student has scored B grade\")\n",
    "elif score>60:\n",
    "    print(\"The student has scored C grade\")\n",
    "else:\n",
    "    print(\"The student has failed\")"
   ]
  },
  {
   "cell_type": "code",
   "execution_count": 11,
   "id": "752ff74d-03c4-4bae-9a46-db26a9ac1242",
   "metadata": {},
   "outputs": [
    {
     "name": "stdin",
     "output_type": "stream",
     "text": [
      "Enter the year to check for Leap year 2005\n"
     ]
    },
    {
     "name": "stdout",
     "output_type": "stream",
     "text": [
      "The year is not a leap year\n"
     ]
    }
   ],
   "source": [
    "#5\n",
    "year=int(input(\"Enter the year to check for Leap year\"))\n",
    "if year%4==0:\n",
    "    print(\"The year is a leap year\")\n",
    "else:\n",
    "    print(\"The year is not a leap year\")"
   ]
  },
  {
   "cell_type": "code",
   "execution_count": 12,
   "id": "4b6f4655-ce5f-4a53-9220-c6e1aa74014d",
   "metadata": {},
   "outputs": [
    {
     "name": "stdin",
     "output_type": "stream",
     "text": [
      "Enter the length of side 1 10\n",
      "Enter the length of side 2 20\n",
      "Enter the length of side 3 10\n"
     ]
    },
    {
     "name": "stdout",
     "output_type": "stream",
     "text": [
      "It is an isosceles triangle\n"
     ]
    }
   ],
   "source": [
    "#6\n",
    "a=int(input(\"Enter the length of side 1\"))\n",
    "b=int(input(\"Enter the length of side 2\"))\n",
    "c=int(input(\"Enter the length of side 3\"))\n",
    "if a==b==c:\n",
    "    print(\"It is an equilateral triangle\")\n",
    "elif a==b or b==c or a==c:\n",
    "    print(\"It is an isosceles triangle\")\n",
    "else:\n",
    "    print(\"It is a scalene triangle\")"
   ]
  },
  {
   "cell_type": "code",
   "execution_count": 13,
   "id": "517fed60-6a9a-4385-9749-b12ab9a8bef3",
   "metadata": {},
   "outputs": [
    {
     "name": "stdout",
     "output_type": "stream",
     "text": [
      "c is greatest of all 3 numbers\n"
     ]
    }
   ],
   "source": [
    "#7\n",
    "a=10\n",
    "b=20\n",
    "c=30\n",
    "if a>b and a>c:\n",
    "    print(\"a is greatest of all 3 numbers\")\n",
    "elif b>a and b>c:\n",
    "    print(\"b is greatest of all 3 numbers\")\n",
    "else:\n",
    "    print(\"c is greatest of all 3 numbers\")"
   ]
  },
  {
   "cell_type": "code",
   "execution_count": 14,
   "id": "f343ab85-a901-4ed4-a060-72c974a9dd2d",
   "metadata": {},
   "outputs": [
    {
     "name": "stdin",
     "output_type": "stream",
     "text": [
      "Enter the character that needs to be verified for vowel b\n"
     ]
    },
    {
     "name": "stdout",
     "output_type": "stream",
     "text": [
      "The character is a consonant\n"
     ]
    }
   ],
   "source": [
    "#8\n",
    "ch=str(input(\"Enter the character that needs to be verified for vowel\"))\n",
    "vow=['a','e','i','o','u']\n",
    "if ch in vow:\n",
    "    print(\"The character is a vowel\")\n",
    "else:\n",
    "    print(\"The character is a consonant\")"
   ]
  },
  {
   "cell_type": "code",
   "execution_count": 16,
   "id": "0b17071a-9502-4344-ab66-6c926a9d73af",
   "metadata": {},
   "outputs": [
    {
     "name": "stdout",
     "output_type": "stream",
     "text": [
      "776.0\n"
     ]
    }
   ],
   "source": [
    "#9\n",
    "purchase_amt=800\n",
    "final_cost=0\n",
    "if purchase_amt<=10:\n",
    "    final_cost=purchase_amt\n",
    "elif purchase_amt<=100:\n",
    "    final_cost=purchase_amt-purchase_amt*0.01\n",
    "elif purchase_amt<=500:\n",
    "    final_cost=purchase_amt-purchase_amt*0.02\n",
    "elif purchase_amt<=1000:\n",
    "    final_cost=purchase_amt-purchase_amt*0.03\n",
    "else:\n",
    "    final_cost=purchase_amt-purchase_amt*0.04\n",
    "print (final_cost)"
   ]
  },
  {
   "cell_type": "code",
   "execution_count": 17,
   "id": "8718bbcf-5366-4df2-9245-81790ca21495",
   "metadata": {},
   "outputs": [
    {
     "name": "stdout",
     "output_type": "stream",
     "text": [
      "The number 19 is odd\n"
     ]
    }
   ],
   "source": [
    "#10\n",
    "num=19\n",
    "if num%2==0:\n",
    "    print(\"The number\",num,\"is even\")\n",
    "else:\n",
    "    print(\"The number\",num,\"is odd\")"
   ]
  },
  {
   "cell_type": "markdown",
   "id": "cac591a8-c53a-4e48-9b5e-4c1c2b5325da",
   "metadata": {},
   "source": [
    "# Intermediate Level"
   ]
  },
  {
   "cell_type": "code",
   "execution_count": 19,
   "id": "1e8873cc-032c-4d0c-b469-941573baf6ae",
   "metadata": {},
   "outputs": [
    {
     "name": "stdout",
     "output_type": "stream",
     "text": [
      "c is greatest of all 3 numbers\n"
     ]
    }
   ],
   "source": [
    "#14\n",
    "a=10\n",
    "b=20\n",
    "c=30\n",
    "if a>b and a>c:\n",
    "    print(\"a is greatest of all 3 numbers\")\n",
    "elif b>a and b>c:\n",
    "    print(\"b is greatest of all 3 numbers\")\n",
    "else:\n",
    "    print(\"c is greatest of all 3 numbers\")"
   ]
  },
  {
   "cell_type": "code",
   "execution_count": 18,
   "id": "58540b9c-d006-420f-b051-af1ca09c6369",
   "metadata": {},
   "outputs": [
    {
     "name": "stdout",
     "output_type": "stream",
     "text": [
      "The string malayalam is a palindrome\n"
     ]
    }
   ],
   "source": [
    "#16\n",
    "st=\"Malayalam\"\n",
    "st=st.lower()\n",
    "if st==st[::-1]:\n",
    "    print(\"The string\",st,\"is a palindrome\")\n",
    "else:\n",
    "    print(\"The string\",st,\"is not a palindrome\")"
   ]
  },
  {
   "cell_type": "code",
   "execution_count": 20,
   "id": "45630d2b-6e3b-4f3c-95b9-544d19cab1cc",
   "metadata": {},
   "outputs": [
    {
     "name": "stdin",
     "output_type": "stream",
     "text": [
      "Enter the temperature in celcius 100.2\n"
     ]
    },
    {
     "name": "stdout",
     "output_type": "stream",
     "text": [
      "The converted temperature to fahrenheit is 212.36\n"
     ]
    }
   ],
   "source": [
    "#18\n",
    "c=float(input(\"Enter the temperature in celcius\"))\n",
    "f=(c*9/5)+32\n",
    "print(\"The converted temperature to fahrenheit is\",f)"
   ]
  },
  {
   "cell_type": "code",
   "execution_count": 11,
   "id": "7ba59292-b61b-4e47-a22e-79b1f816b6ca",
   "metadata": {},
   "outputs": [
    {
     "name": "stdin",
     "output_type": "stream",
     "text": [
      "Enter the number 89\n",
      "Enter the number 32\n",
      "Enter the action that you need to perform with the calculator 4\n"
     ]
    },
    {
     "name": "stdout",
     "output_type": "stream",
     "text": [
      "Select the correct operation\n"
     ]
    }
   ],
   "source": [
    "#19\n",
    "num=[]\n",
    "nos=2\n",
    "for i in range(nos):\n",
    "    i=int(input(\"Enter the number\"))\n",
    "    num.append(i)\n",
    "calculate=str(input(\"Enter the action that you need to perform with the calculator\"))\n",
    "if calculate=='+':\n",
    "    sum=0\n",
    "    for j in num:\n",
    "        sum=sum+j\n",
    "    print(\"The sum of the numbers is\",sum)\n",
    "elif calculate=='*':\n",
    "    mul=1\n",
    "    for j in num:\n",
    "        mul=mul*j\n",
    "    print(\"The product of the numbers is\",mul)\n",
    "elif calculate=='-':\n",
    "    sub=num[0]-num[1]\n",
    "    print(\"The subtraction of the numbers is\",sub)\n",
    "elif calculate=='/':\n",
    "    div=num[0]/num[1]\n",
    "    print(\"The division of the numbers is\",div)\n",
    "else:\n",
    "    print(\"Select the correct operation\")"
   ]
  },
  {
   "cell_type": "markdown",
   "id": "73554371-0062-4a93-b459-c331a60ab06e",
   "metadata": {},
   "source": [
    "# Advanced Level"
   ]
  },
  {
   "cell_type": "code",
   "execution_count": 24,
   "id": "50b85c5b-7c96-4476-a1c5-f940e9f82fdd",
   "metadata": {},
   "outputs": [
    {
     "name": "stdin",
     "output_type": "stream",
     "text": [
      "Enter the height in centimeters 176\n",
      "Enter the weight in kgs 67\n"
     ]
    },
    {
     "name": "stdout",
     "output_type": "stream",
     "text": [
      "Your BMI is 21.62964876033058\n",
      "You are in your normal weight. Please maintain the same weight\n"
     ]
    }
   ],
   "source": [
    "ht=int(input(\"Enter the height in centimeters\"))\n",
    "ht_m=ht/100\n",
    "ht_m=float(ht_m)\n",
    "wt=float(input(\"Enter the weight in kgs\"))\n",
    "bmi=wt/(ht_m**2)\n",
    "print(\"Your BMI is\",bmi)\n",
    "if bmi<18.5:\n",
    "    print(\"You are Underweight. Eat well & stay healthy\")\n",
    "elif 18.5<=bmi<=24.9:\n",
    "    print(\"You are in your normal weight. Please maintain the same weight\")\n",
    "elif 25.0<=bmi<=29.9:\n",
    "    print(\"You are Over weight. Do Exercises & reduce your weight\")\n",
    "elif 30.0>=bmi:\n",
    "    print(\"You are obese. Do Exercises & follow strict diet to reduce weight\")"
   ]
  },
  {
   "cell_type": "markdown",
   "id": "cff644e0-d758-425b-90db-26085a5d35ec",
   "metadata": {},
   "source": [
    "# Challenge Level"
   ]
  },
  {
   "cell_type": "code",
   "execution_count": 14,
   "id": "0224c8a5-a838-4f56-ab80-c7763e29e7df",
   "metadata": {},
   "outputs": [
    {
     "name": "stdin",
     "output_type": "stream",
     "text": [
      "Enter the number for which the factors has to be identified 32\n"
     ]
    },
    {
     "name": "stdout",
     "output_type": "stream",
     "text": [
      "The factors of the number are [1, 2, 4, 8, 16, 32]\n"
     ]
    }
   ],
   "source": [
    "#40\n",
    "num=int(input(\"Enter the number for which the factors has to be identified\"))\n",
    "ls=[]\n",
    "for i in range(1,num+1):\n",
    "    if num%i==0:\n",
    "        ls.append(i)\n",
    "print(\"The factors of the number are\",ls)"
   ]
  },
  {
   "cell_type": "code",
   "execution_count": null,
   "id": "a63906d5-61bb-4ca1-b83d-d7cfceb2cc27",
   "metadata": {},
   "outputs": [],
   "source": []
  }
 ],
 "metadata": {
  "kernelspec": {
   "display_name": "Python 3 (ipykernel)",
   "language": "python",
   "name": "python3"
  },
  "language_info": {
   "codemirror_mode": {
    "name": "ipython",
    "version": 3
   },
   "file_extension": ".py",
   "mimetype": "text/x-python",
   "name": "python",
   "nbconvert_exporter": "python",
   "pygments_lexer": "ipython3",
   "version": "3.10.8"
  }
 },
 "nbformat": 4,
 "nbformat_minor": 5
}
