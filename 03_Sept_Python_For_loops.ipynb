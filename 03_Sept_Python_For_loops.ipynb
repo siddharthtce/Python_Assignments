{
 "cells": [
  {
   "cell_type": "code",
   "execution_count": 1,
   "id": "7597bdbb-9a92-4f22-8bf5-88f3941cb4bb",
   "metadata": {},
   "outputs": [
    {
     "name": "stdout",
     "output_type": "stream",
     "text": [
      "1\n",
      "2\n",
      "3\n",
      "4\n",
      "5\n",
      "6\n",
      "7\n",
      "8\n",
      "9\n",
      "10\n"
     ]
    }
   ],
   "source": [
    "#1\n",
    "for i in range(1,11):\n",
    "    print(i)"
   ]
  },
  {
   "cell_type": "code",
   "execution_count": 2,
   "id": "8f955833-af1e-4d3a-a86a-22068f8b6d46",
   "metadata": {},
   "outputs": [
    {
     "name": "stdout",
     "output_type": "stream",
     "text": [
      "718\n"
     ]
    }
   ],
   "source": [
    "#2\n",
    "sum=0\n",
    "ls=[73,2,65,11,98,384,85]\n",
    "for i in ls:\n",
    "    sum=sum+i\n",
    "print(sum)"
   ]
  },
  {
   "cell_type": "code",
   "execution_count": 5,
   "id": "7a6e210c-da3f-4b17-ad43-5140083a1900",
   "metadata": {},
   "outputs": [
    {
     "name": "stdout",
     "output_type": "stream",
     "text": [
      "htrahddiS si eman yM\n"
     ]
    }
   ],
   "source": [
    "#2\n",
    "st=\"My name is Siddharth\"\n",
    "st1=\"\"\n",
    "for i in st[::-1]:\n",
    "    st1=st1+i\n",
    "print(st1)"
   ]
  },
  {
   "cell_type": "code",
   "execution_count": 7,
   "id": "c9ab50f7-ab27-4ee6-98dc-9360c905435d",
   "metadata": {},
   "outputs": [
    {
     "name": "stdin",
     "output_type": "stream",
     "text": [
      "Enter the number for which multiplication table has to be derived 21\n"
     ]
    },
    {
     "name": "stdout",
     "output_type": "stream",
     "text": [
      "21 * 1 is 21\n",
      "21 * 2 is 42\n",
      "21 * 3 is 63\n",
      "21 * 4 is 84\n",
      "21 * 5 is 105\n",
      "21 * 6 is 126\n",
      "21 * 7 is 147\n",
      "21 * 8 is 168\n",
      "21 * 9 is 189\n",
      "21 * 10 is 210\n"
     ]
    }
   ],
   "source": [
    "#5\n",
    "num=int(input(\"Enter the number for which multiplication table has to be derived\"))\n",
    "for i in range(1,11):\n",
    "    print(num,\"*\",i,\"is\",num*i)"
   ]
  },
  {
   "cell_type": "code",
   "execution_count": 8,
   "id": "afc8fb54-cb29-4983-907f-5379029ae6dc",
   "metadata": {},
   "outputs": [
    {
     "name": "stdout",
     "output_type": "stream",
     "text": [
      "The even numbers in the list are [2, 98, 384]\n",
      "The odd numbers in the list are [73, 65, 11, 85]\n"
     ]
    }
   ],
   "source": [
    "#6\n",
    "ls=[73,2,65,11,98,384,85]\n",
    "even=[]\n",
    "odd=[]\n",
    "for i in ls:\n",
    "    if i%2==0:\n",
    "        even.append(i)\n",
    "    elif i%2==1:\n",
    "        odd.append(i)\n",
    "print(\"The even numbers in the list are\",even)\n",
    "print(\"The odd numbers in the list are\",odd)"
   ]
  },
  {
   "cell_type": "code",
   "execution_count": 9,
   "id": "408c2d13-9f23-4ba9-b6d5-73eb70eba419",
   "metadata": {},
   "outputs": [
    {
     "name": "stdout",
     "output_type": "stream",
     "text": [
      "1\n",
      "4\n",
      "9\n",
      "16\n",
      "25\n"
     ]
    }
   ],
   "source": [
    "#7\n",
    "for i in range(1,6):\n",
    "    print(i**2)"
   ]
  },
  {
   "cell_type": "code",
   "execution_count": 10,
   "id": "d6da99c6-1d7c-4d0b-944d-fbf0fa58105c",
   "metadata": {},
   "outputs": [
    {
     "name": "stdout",
     "output_type": "stream",
     "text": [
      "The length of the string is 20\n"
     ]
    }
   ],
   "source": [
    "#8\n",
    "st=\"My name is Siddharth\"\n",
    "len=0\n",
    "for i in st:\n",
    "    len=len+1\n",
    "print(\"The length of the string is\",len)"
   ]
  },
  {
   "cell_type": "code",
   "execution_count": 11,
   "id": "547bbd2f-c63e-4cb1-9939-0ac99076f1bf",
   "metadata": {},
   "outputs": [
    {
     "name": "stdout",
     "output_type": "stream",
     "text": [
      "718\n",
      "The average of numbers is 102.57142857142857\n"
     ]
    }
   ],
   "source": [
    "#9\n",
    "sum=0\n",
    "count=0\n",
    "ls=[73,2,65,11,98,384,85]\n",
    "for i in ls:\n",
    "    sum=sum+i\n",
    "    count=count+1\n",
    "print(sum)\n",
    "print(\"The average of numbers is\",sum/count)"
   ]
  },
  {
   "cell_type": "code",
   "execution_count": 23,
   "id": "0c6808ee-7021-4ef9-87dd-20625ca477eb",
   "metadata": {},
   "outputs": [
    {
     "name": "stdout",
     "output_type": "stream",
     "text": [
      "['a', 'e', 'i', 'i', 'a']\n",
      "The vowels present in the string are {'e', 'i', 'a'}\n"
     ]
    }
   ],
   "source": [
    "#13\n",
    "st=\"My name is Siddharth\"\n",
    "vow=['a','e','i','o','u']\n",
    "ls=[]\n",
    "for i in st:\n",
    "    if i in vow:\n",
    "        ls.append(i)\n",
    "print(ls)\n",
    "st=set(ls)\n",
    "print(\"The vowels present in the string are\",st)"
   ]
  },
  {
   "cell_type": "code",
   "execution_count": 24,
   "id": "a9a48e9a-92cb-49d7-9216-d5c87f39172f",
   "metadata": {},
   "outputs": [
    {
     "name": "stdout",
     "output_type": "stream",
     "text": [
      "The common elements in the 2 lists are [98]\n"
     ]
    }
   ],
   "source": [
    "#18\n",
    "ls1=[73,2,65,11,98,384,85]\n",
    "ls2=[74,93,94,21,50,98]\n",
    "ls3=[]\n",
    "for i in ls1:\n",
    "    if i in ls2:\n",
    "        ls3.append(i)\n",
    "print(\"The common elements in the 2 lists are\",ls3)"
   ]
  },
  {
   "cell_type": "code",
   "execution_count": 26,
   "id": "8d00d7df-85d2-4844-8166-46244c529edf",
   "metadata": {},
   "outputs": [
    {
     "name": "stdout",
     "output_type": "stream",
     "text": [
      "\n",
      "* \n",
      "* * \n",
      "* * * \n",
      "* * * * \n",
      "* * * * * \n",
      "* * * * * * \n",
      "* * * * * * * \n",
      "* * * * * * * * \n"
     ]
    }
   ],
   "source": [
    "#19\n",
    "for i in range(1,10):\n",
    "    for j in range(1,i):\n",
    "        print(\"*\",end=\" \")\n",
    "    print()"
   ]
  },
  {
   "cell_type": "code",
   "execution_count": 31,
   "id": "a5009832-104a-4fe6-9dd5-7d8aae8045b9",
   "metadata": {},
   "outputs": [
    {
     "data": {
      "text/plain": [
       "[1, 9, 25, 49, 81]"
      ]
     },
     "execution_count": 31,
     "metadata": {},
     "output_type": "execute_result"
    }
   ],
   "source": [
    "#27\n",
    "ls=[]\n",
    "for i in range(1,11):\n",
    "    if i%2==1:\n",
    "        ls.append(i**2)\n",
    "ls"
   ]
  },
  {
   "cell_type": "code",
   "execution_count": 27,
   "id": "85dfb9a4-2e8a-43ee-aaad-bcedd35a8ff1",
   "metadata": {},
   "outputs": [
    {
     "name": "stdout",
     "output_type": "stream",
     "text": [
      "The list of vowels are ['a', 'e', 'i', 'i', 'a']\n"
     ]
    }
   ],
   "source": [
    "#29\n",
    "st=\"My name is Siddharth\"\n",
    "vow=['a','e','i','o','u']\n",
    "ls=[]\n",
    "for i in st:\n",
    "    if i in vow:\n",
    "        ls.append(i)\n",
    "print(\"The list of vowels are\",ls)"
   ]
  },
  {
   "cell_type": "code",
   "execution_count": 30,
   "id": "db559845-72c2-451b-abe6-b6514fa69eae",
   "metadata": {},
   "outputs": [
    {
     "name": "stdout",
     "output_type": "stream",
     "text": [
      "My name is Siddharth\n"
     ]
    }
   ],
   "source": [
    "#30\n",
    "st=\"My1 name i2s Siddh3arth\"\n",
    "st1=\"\"\n",
    "for i in st:\n",
    "    if i.isalpha()==True or i==\" \":\n",
    "        st1=st1+i\n",
    "print(st1)"
   ]
  },
  {
   "cell_type": "code",
   "execution_count": null,
   "id": "ec8f4b71-365b-4715-902b-53642158a133",
   "metadata": {},
   "outputs": [],
   "source": []
  }
 ],
 "metadata": {
  "kernelspec": {
   "display_name": "Python 3 (ipykernel)",
   "language": "python",
   "name": "python3"
  },
  "language_info": {
   "codemirror_mode": {
    "name": "ipython",
    "version": 3
   },
   "file_extension": ".py",
   "mimetype": "text/x-python",
   "name": "python",
   "nbconvert_exporter": "python",
   "pygments_lexer": "ipython3",
   "version": "3.10.8"
  }
 },
 "nbformat": 4,
 "nbformat_minor": 5
}
