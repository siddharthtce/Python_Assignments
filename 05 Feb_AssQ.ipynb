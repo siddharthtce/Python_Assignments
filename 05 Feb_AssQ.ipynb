{
 "cells": [
  {
   "cell_type": "code",
   "execution_count": 4,
   "id": "5201b3a6-b704-49ee-a6d8-d2c61a588911",
   "metadata": {},
   "outputs": [],
   "source": [
    "#1\n",
    "'''\n",
    "Class is a blueprint or a set of instructions to build an object. A class contains the functions / methods that the signifies how an object will behave & the variables which signifies what the object will contain. \n",
    "\n",
    "Object is an instance or a specimen of a class. The objects of a particular class shares the attributes & methods of the class. But the values of the attribute is unique to each object. \n",
    "'''\n",
    "\n",
    "class animal:\n",
    "    def __init__(self,communicate):\n",
    "        self.communicate=communicate\n",
    "    \n",
    "    def communicate_mode(self):\n",
    "        return \"The animal \"+self.communicate"
   ]
  },
  {
   "cell_type": "code",
   "execution_count": 5,
   "id": "54a2a0aa-723e-4a22-b07c-8300e6c46c3c",
   "metadata": {},
   "outputs": [
    {
     "data": {
      "text/plain": [
       "'The animal bark'"
      ]
     },
     "execution_count": 5,
     "metadata": {},
     "output_type": "execute_result"
    }
   ],
   "source": [
    "dog=animal('bark')\n",
    "dog.communicate_mode()"
   ]
  },
  {
   "cell_type": "code",
   "execution_count": null,
   "id": "7df3904b-6e15-40a2-9f44-c465fcb35c46",
   "metadata": {},
   "outputs": [],
   "source": [
    "'''\n",
    "In the above example, animal is the class & the dog is the object / instance of the class (animal)\n",
    "'''"
   ]
  },
  {
   "cell_type": "code",
   "execution_count": null,
   "id": "89fec2b4-b300-4cf6-9e59-2fdbf030f0c0",
   "metadata": {},
   "outputs": [],
   "source": [
    "#2\n",
    "'''\n",
    "The four pillars of OOPS are \n",
    "\n",
    "1. Abstraction\n",
    "2. Encapsulation\n",
    "3. Polymorphism\n",
    "4. Inheritance\n",
    "\n",
    "'''"
   ]
  },
  {
   "cell_type": "code",
   "execution_count": 11,
   "id": "fbacfdb0-0486-45b4-b55d-202b372dcaa3",
   "metadata": {},
   "outputs": [],
   "source": [
    "#3\n",
    "'''\n",
    "__init__() is used to initialise the value for object's attributes\n",
    "\n",
    "'''\n",
    "\n",
    "class shape:\n",
    "    def __init__(self,l,b):\n",
    "        self.length=l\n",
    "        self.breadth=b\n",
    "    \n",
    "    def area(self):\n",
    "        print(f\"The area is {self.length*self.breadth}\")"
   ]
  },
  {
   "cell_type": "code",
   "execution_count": 12,
   "id": "5adda4bd-0eb7-438a-9aa5-acbf93c9962e",
   "metadata": {},
   "outputs": [
    {
     "name": "stdout",
     "output_type": "stream",
     "text": [
      "The area is 4\n"
     ]
    }
   ],
   "source": [
    "square=shape(2,2)\n",
    "square.area()"
   ]
  },
  {
   "cell_type": "code",
   "execution_count": 13,
   "id": "048bbf1e-8b80-4887-b979-dbb2b3cef429",
   "metadata": {},
   "outputs": [
    {
     "name": "stdout",
     "output_type": "stream",
     "text": [
      "The area is 8\n"
     ]
    }
   ],
   "source": [
    "rectangle=shape(2,4)\n",
    "rectangle.area()"
   ]
  },
  {
   "cell_type": "code",
   "execution_count": null,
   "id": "46471e33-8fc9-4152-adcb-3f68cdf845fe",
   "metadata": {},
   "outputs": [],
   "source": [
    "#4\n",
    "'''\n",
    "Self refers to the instance of the class. By using self, we can access the class attributes. self is not a keyword & we can use any string instead of self. But it should be unique across the entire class\n",
    "'''"
   ]
  },
  {
   "cell_type": "code",
   "execution_count": 14,
   "id": "f9c32419-893a-4deb-9cf7-959d876b2db6",
   "metadata": {},
   "outputs": [],
   "source": [
    "#5\n",
    "'''\n",
    "Inheritance is used to define a class that is used to derive the methods & attributes from another class\n",
    "'''\n",
    "\n",
    "#Single Inheritance\n",
    "\n",
    "class college:\n",
    "    name=\"ABC College\"\n",
    "    \n",
    "    def __init__(self):\n",
    "        pass\n",
    "    \n",
    "    def location(self):\n",
    "        return \"The college is located in Chennai\"\n",
    "    \n",
    "\n",
    "class lecturer(college):\n",
    "    name = \"Ramanan\"\n",
    "    \n",
    "    def residence(self):\n",
    "        return \"The lecturer is based out of Bengaluru\""
   ]
  },
  {
   "cell_type": "code",
   "execution_count": 15,
   "id": "58034ac0-b274-485e-a063-ee14bd328a78",
   "metadata": {},
   "outputs": [],
   "source": [
    "lect1=lecturer()"
   ]
  },
  {
   "cell_type": "code",
   "execution_count": 16,
   "id": "9121fb6a-d728-4fbe-a1b0-9085b3471fe8",
   "metadata": {},
   "outputs": [
    {
     "data": {
      "text/plain": [
       "'The college is located in Chennai'"
      ]
     },
     "execution_count": 16,
     "metadata": {},
     "output_type": "execute_result"
    }
   ],
   "source": [
    "lect1.location()"
   ]
  },
  {
   "cell_type": "code",
   "execution_count": 17,
   "id": "9543c193-9a86-4d3e-aedc-a7ae16a43a10",
   "metadata": {},
   "outputs": [],
   "source": [
    "# Multi-level Inheritance\n",
    "\n",
    "class college:\n",
    "    name=\"ABC College\"\n",
    "    \n",
    "    def __init__(self):\n",
    "        pass\n",
    "    \n",
    "    def location(self):\n",
    "        return \"The college is located in Chennai\"\n",
    "    \n",
    "\n",
    "class lecturer(college):\n",
    "    name = \"Ramanan\"\n",
    "    \n",
    "    def residence(self):\n",
    "        return \"The lecturer is based out of Bengaluru\"\n",
    "    \n",
    "class student(lecturer):\n",
    "    name= \"Hari\"\n",
    "    \n",
    "    def birth_place(self):\n",
    "        return \"The student was born in Goa\""
   ]
  },
  {
   "cell_type": "code",
   "execution_count": 18,
   "id": "ce2aa62b-cba1-4411-8a40-680119a726ac",
   "metadata": {},
   "outputs": [
    {
     "data": {
      "text/plain": [
       "'The college is located in Chennai'"
      ]
     },
     "execution_count": 18,
     "metadata": {},
     "output_type": "execute_result"
    }
   ],
   "source": [
    "stud1=student()\n",
    "stud1.location()"
   ]
  },
  {
   "cell_type": "code",
   "execution_count": 23,
   "id": "e006296b-c442-40f5-a557-0851a882d4d2",
   "metadata": {},
   "outputs": [],
   "source": [
    "# Multiple Inheritance\n",
    "\n",
    "class college:\n",
    "    name=\"ABC College\"\n",
    "    \n",
    "    def __init__(self):\n",
    "        pass\n",
    "    \n",
    "    def location(self):\n",
    "        return \"The college is located in Chennai\"\n",
    "    \n",
    "\n",
    "class lecturer():\n",
    "    name = \"Ramanan\"\n",
    "    \n",
    "    def location(self):\n",
    "        return \"The lecturer is based out of Bengaluru\"\n",
    "    \n",
    "class student(lecturer,college):\n",
    "    name= \"Hari\"\n",
    "    \n",
    "    def birth_place(self):\n",
    "        return \"The student was born in Goa\""
   ]
  },
  {
   "cell_type": "code",
   "execution_count": 25,
   "id": "e2007bf1-7c64-459b-9c7c-29020b7888f2",
   "metadata": {},
   "outputs": [
    {
     "data": {
      "text/plain": [
       "'The lecturer is based out of Bengaluru'"
      ]
     },
     "execution_count": 25,
     "metadata": {},
     "output_type": "execute_result"
    }
   ],
   "source": [
    "stud1=student()\n",
    "stud1.location()"
   ]
  },
  {
   "cell_type": "code",
   "execution_count": 30,
   "id": "ddbfdb6e-3a14-4a2c-8769-35e691ee45bd",
   "metadata": {},
   "outputs": [],
   "source": [
    "# Hierarchical Inheritance\n",
    "\n",
    "class college:\n",
    "    name=\"ABC College\"\n",
    "    \n",
    "    def __init__(self):\n",
    "        pass\n",
    "    \n",
    "    def location(self):\n",
    "        return \"The college is located in Chennai\"\n",
    "    \n",
    "\n",
    "class lecturer(college):\n",
    "    name = \"Ramanan\"\n",
    "    \n",
    "    def residence(self):\n",
    "        return \"The lecturer is based out of Bengaluru\"\n",
    "    \n",
    "class student(college):\n",
    "    name= \"Hari\"\n",
    "    \n",
    "    def birth_place(self):\n",
    "        return \"The student was born in Goa\""
   ]
  },
  {
   "cell_type": "code",
   "execution_count": 31,
   "id": "a5c1a7e2-2cf2-48d6-9a10-5f841f9465db",
   "metadata": {},
   "outputs": [
    {
     "data": {
      "text/plain": [
       "'The college is located in Chennai'"
      ]
     },
     "execution_count": 31,
     "metadata": {},
     "output_type": "execute_result"
    }
   ],
   "source": [
    "lect1=lecturer()\n",
    "lect1.location()"
   ]
  },
  {
   "cell_type": "code",
   "execution_count": 33,
   "id": "27f2a70d-88ce-4987-ac61-a52a72693359",
   "metadata": {},
   "outputs": [
    {
     "data": {
      "text/plain": [
       "'The college is located in Chennai'"
      ]
     },
     "execution_count": 33,
     "metadata": {},
     "output_type": "execute_result"
    }
   ],
   "source": [
    "stud1=student()\n",
    "stud1.location()"
   ]
  },
  {
   "cell_type": "code",
   "execution_count": 34,
   "id": "0f067dcb-2d97-4382-84d6-c8bd452f251a",
   "metadata": {},
   "outputs": [],
   "source": [
    "# Hybrid Inheritance\n",
    "\n",
    "class college:\n",
    "    name=\"ABC College\"\n",
    "    \n",
    "    def __init__(self):\n",
    "        pass\n",
    "    \n",
    "    def location(self):\n",
    "        return \"The college is located in Chennai\"\n",
    "    \n",
    "\n",
    "class lecturer(college):\n",
    "    name = \"Ramanan\"\n",
    "    \n",
    "    def residence(self):\n",
    "        return \"The lecturer is based out of Bengaluru\"\n",
    "    \n",
    "    def exam(self):\n",
    "        return \"The exam is on October\"\n",
    "    \n",
    "class student(college):\n",
    "    name= \"Hari\"\n",
    "    \n",
    "    def birth_place(self):\n",
    "        return \"The student was born in Goa\"\n",
    "    \n",
    "\n",
    "class exam(student,lecturer):\n",
    "    pass\n",
    "    \n"
   ]
  },
  {
   "cell_type": "code",
   "execution_count": 35,
   "id": "6ae4dcba-d376-4ca3-8fa9-b9c804d81b95",
   "metadata": {},
   "outputs": [
    {
     "data": {
      "text/plain": [
       "'The exam is on October'"
      ]
     },
     "execution_count": 35,
     "metadata": {},
     "output_type": "execute_result"
    }
   ],
   "source": [
    "ex1=exam()\n",
    "ex1.exam()"
   ]
  },
  {
   "cell_type": "code",
   "execution_count": null,
   "id": "d434c1ef-2f1b-4b44-9aa0-845e2bca60b8",
   "metadata": {},
   "outputs": [],
   "source": []
  }
 ],
 "metadata": {
  "kernelspec": {
   "display_name": "Python 3 (ipykernel)",
   "language": "python",
   "name": "python3"
  },
  "language_info": {
   "codemirror_mode": {
    "name": "ipython",
    "version": 3
   },
   "file_extension": ".py",
   "mimetype": "text/x-python",
   "name": "python",
   "nbconvert_exporter": "python",
   "pygments_lexer": "ipython3",
   "version": "3.10.8"
  }
 },
 "nbformat": 4,
 "nbformat_minor": 5
}
