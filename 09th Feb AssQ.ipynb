{
 "cells": [
  {
   "cell_type": "code",
   "execution_count": 21,
   "id": "9448793f-54c4-49ed-acf9-1c6db9dec572",
   "metadata": {},
   "outputs": [],
   "source": [
    "#1\n",
    "\n",
    "class vehicle:\n",
    "    def __init__(self,name,max_speed,ave_speed):\n",
    "        self.name_of_vehicle = name\n",
    "        self.max_speed = max_speed\n",
    "        self.average_of_vehicle = ave_speed\n",
    "        \n",
    "    def display_details(self):\n",
    "        print(f\"The {self.name_of_vehicle} has a maximum speed of {self.max_speed} & its average speed is {self.average_of_vehicle}\")"
   ]
  },
  {
   "cell_type": "code",
   "execution_count": 15,
   "id": "fbcac460-59e9-4780-80a0-ea127ab748d6",
   "metadata": {},
   "outputs": [],
   "source": [
    "car1=vehicle(\"Santro\",100,60)\n",
    "car2=vehicle(\"Wagon R\",80,40)"
   ]
  },
  {
   "cell_type": "code",
   "execution_count": null,
   "id": "d2aeef35-7973-4f40-ac5c-fb3737fb2681",
   "metadata": {},
   "outputs": [
    {
     "name": "stdout",
     "output_type": "stream",
     "text": [
      "The Santro has a maximum speed of 100 & its average speed is 60\n",
      "The Wagon R has a maximum speed of 80 & its average speed is 40\n"
     ]
    }
   ],
   "source": [
    "car1.display_details()\n",
    "car2.display_details()"
   ]
  },
  {
   "cell_type": "code",
   "execution_count": 22,
   "id": "192dfbe9-4931-4701-bd82-c10da452ee3c",
   "metadata": {},
   "outputs": [],
   "source": [
    "#2\n",
    "class vehicle_child_class(vehicle):\n",
    "    def __init__(self,name,max_speed,ave_speed):\n",
    "        super().__init__(name,max_speed,ave_speed)\n",
    "        \n",
    "    def seating_capacity(self,seating_capacity):\n",
    "        return self.name_of_vehicle + \" has a seating capacity of \" +str(seating_capacity)+\" members\""
   ]
  },
  {
   "cell_type": "code",
   "execution_count": 23,
   "id": "005c7878-683a-4cd9-ba46-faf8fd8088fe",
   "metadata": {},
   "outputs": [],
   "source": [
    "ch=vehicle_child_class(\"BMW\",200,160)"
   ]
  },
  {
   "cell_type": "code",
   "execution_count": 24,
   "id": "b864e434-c115-44cf-857d-39f1f3c13034",
   "metadata": {},
   "outputs": [
    {
     "data": {
      "text/plain": [
       "'BMW has a seating capacity of 5 members'"
      ]
     },
     "execution_count": 24,
     "metadata": {},
     "output_type": "execute_result"
    }
   ],
   "source": [
    "ch.seating_capacity(5)"
   ]
  },
  {
   "cell_type": "code",
   "execution_count": 2,
   "id": "0a8d936b-a0ce-4f70-83f8-18dcddb0a191",
   "metadata": {},
   "outputs": [],
   "source": [
    "#3\n",
    "'''\n",
    "Multiple Inheritance is a feature in which an object or class inherits features / characteristics from more than one object or class\n",
    "'''\n",
    "class A:\n",
    "    def print_text(self):\n",
    "        print(\"A\")\n",
    "\n",
    "class B:\n",
    "    def print_text(self):\n",
    "        print(\"B\")\n",
    "        \n",
    "class C(A,B):\n",
    "    pass"
   ]
  },
  {
   "cell_type": "code",
   "execution_count": 3,
   "id": "63855572-cd6a-47c2-9304-7c89a2fefddc",
   "metadata": {},
   "outputs": [],
   "source": [
    "c=C()"
   ]
  },
  {
   "cell_type": "code",
   "execution_count": 4,
   "id": "8fef51b1-a6e2-46f6-a1a8-b79aa452adba",
   "metadata": {},
   "outputs": [
    {
     "name": "stdout",
     "output_type": "stream",
     "text": [
      "A\n"
     ]
    }
   ],
   "source": [
    "c.print_text()"
   ]
  },
  {
   "cell_type": "code",
   "execution_count": 5,
   "id": "7edf67c0-4539-429a-b371-8f770fe4df4e",
   "metadata": {},
   "outputs": [],
   "source": [
    "#4\n",
    "\n",
    "# Setter / Getter are methods in OOPS to set values to / get values of private variables in a class\n",
    "\n",
    "\n",
    "class sampleClass:\n",
    "    def __init__(self,value):\n",
    "        self.__value=value\n",
    "        \n",
    "    @property\n",
    "    def display_value(self):\n",
    "        return self.__value\n",
    "    \n",
    "    \n",
    "    @display_value.setter\n",
    "    def display_value(self,text):\n",
    "        self.__value=text\n",
    "        \n",
    "    \n",
    "    @display_value.getter\n",
    "    def display_value(self):\n",
    "        return self.__value"
   ]
  },
  {
   "cell_type": "code",
   "execution_count": 6,
   "id": "ba3d6d34-cd96-4a80-a81a-09cb1b895308",
   "metadata": {},
   "outputs": [],
   "source": [
    "x=sampleClass(\"hello\")"
   ]
  },
  {
   "cell_type": "code",
   "execution_count": 8,
   "id": "fa911fc6-840e-4fb5-904e-095c5ff16358",
   "metadata": {},
   "outputs": [
    {
     "data": {
      "text/plain": [
       "'hello'"
      ]
     },
     "execution_count": 8,
     "metadata": {},
     "output_type": "execute_result"
    }
   ],
   "source": [
    "x.display_value"
   ]
  },
  {
   "cell_type": "code",
   "execution_count": 10,
   "id": "87a07788-ea57-4de6-8dc3-ab0221c6963f",
   "metadata": {},
   "outputs": [],
   "source": [
    "#5\n",
    "'''\n",
    "Method overriding is a scenario in which the behaviour of parent class method is overridden by child class method having same name\n",
    "'''\n",
    "\n",
    "class college1:\n",
    "    def college_name(self):\n",
    "        print (\"ABC College\")\n",
    "        \n",
    "\n",
    "class college2(college1):\n",
    "    def college_name(self):\n",
    "        print(\"DEF College\")"
   ]
  },
  {
   "cell_type": "code",
   "execution_count": 11,
   "id": "840eb639-90a9-475f-8638-4a48d1ccf3b6",
   "metadata": {},
   "outputs": [
    {
     "name": "stdout",
     "output_type": "stream",
     "text": [
      "DEF College\n"
     ]
    }
   ],
   "source": [
    "coll=college2()\n",
    "coll.college_name()"
   ]
  },
  {
   "cell_type": "code",
   "execution_count": null,
   "id": "f627d9d5-4ba2-4cca-98f1-241e3e4deaf1",
   "metadata": {},
   "outputs": [],
   "source": []
  }
 ],
 "metadata": {
  "kernelspec": {
   "display_name": "Python 3 (ipykernel)",
   "language": "python",
   "name": "python3"
  },
  "language_info": {
   "codemirror_mode": {
    "name": "ipython",
    "version": 3
   },
   "file_extension": ".py",
   "mimetype": "text/x-python",
   "name": "python",
   "nbconvert_exporter": "python",
   "pygments_lexer": "ipython3",
   "version": "3.10.8"
  }
 },
 "nbformat": 4,
 "nbformat_minor": 5
}
