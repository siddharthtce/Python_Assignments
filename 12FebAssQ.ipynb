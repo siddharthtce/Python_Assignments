{
 "cells": [
  {
   "cell_type": "code",
   "execution_count": null,
   "id": "6e812ef4-3531-43dc-84de-65d4652245ae",
   "metadata": {},
   "outputs": [],
   "source": [
    "#1\n",
    "# Exception is an error that happens during the execution of a program. It can be handled using try - except blocks.\n",
    "# Syntax error occurs when the interpreter identifies invalid syntax during execution of a code. "
   ]
  },
  {
   "cell_type": "code",
   "execution_count": 3,
   "id": "2105fc1a-b421-4580-b509-93daffef75de",
   "metadata": {},
   "outputs": [
    {
     "name": "stdin",
     "output_type": "stream",
     "text": [
      "Enter the number a 12\n",
      "Enter the number b 0\n"
     ]
    },
    {
     "ename": "ZeroDivisionError",
     "evalue": "division by zero",
     "output_type": "error",
     "traceback": [
      "\u001b[0;31m---------------------------------------------------------------------------\u001b[0m",
      "\u001b[0;31mZeroDivisionError\u001b[0m                         Traceback (most recent call last)",
      "Cell \u001b[0;32mIn[3], line 9\u001b[0m\n\u001b[1;32m      7\u001b[0m a\u001b[38;5;241m=\u001b[39m\u001b[38;5;28mint\u001b[39m(\u001b[38;5;28minput\u001b[39m(\u001b[38;5;124m\"\u001b[39m\u001b[38;5;124mEnter the number a\u001b[39m\u001b[38;5;124m\"\u001b[39m))\n\u001b[1;32m      8\u001b[0m b\u001b[38;5;241m=\u001b[39m\u001b[38;5;28mint\u001b[39m(\u001b[38;5;28minput\u001b[39m(\u001b[38;5;124m\"\u001b[39m\u001b[38;5;124mEnter the number b\u001b[39m\u001b[38;5;124m\"\u001b[39m))\n\u001b[0;32m----> 9\u001b[0m c\u001b[38;5;241m=\u001b[39m\u001b[43ma\u001b[49m\u001b[38;5;241;43m/\u001b[39;49m\u001b[43mb\u001b[49m\n\u001b[1;32m     10\u001b[0m log\u001b[38;5;241m.\u001b[39minfo(\u001b[38;5;124m\"\u001b[39m\u001b[38;5;124mThe division of a/b is \u001b[39m\u001b[38;5;132;01m%d\u001b[39;00m\u001b[38;5;124m\"\u001b[39m,c)\n",
      "\u001b[0;31mZeroDivisionError\u001b[0m: division by zero"
     ]
    }
   ],
   "source": [
    "#2\n",
    "# If an exception is not handled, the program will get aborted and the Exception is printed on the console.\n",
    "\n",
    "import logging as log\n",
    "log.basicConfig(filename='Sample.log',level=log.DEBUG)\n",
    "\n",
    "a=int(input(\"Enter the number a\"))\n",
    "b=int(input(\"Enter the number b\"))\n",
    "c=a/b\n",
    "log.info(\"The division of a/b is %d\",c)"
   ]
  },
  {
   "cell_type": "code",
   "execution_count": 2,
   "id": "cb0d7fbe-085d-4a24-97c1-10ce683856ee",
   "metadata": {},
   "outputs": [],
   "source": [
    "#3\n",
    "\n",
    "import logging as log\n",
    "log.basicConfig(filename='Sample2.log',level=log.INFO, format='%(asctime)s - %(levelname)s - %(message)s')\n",
    "\n",
    "try:\n",
    "    a=10\n",
    "    b=0\n",
    "    c=a/b\n",
    "    \n",
    "except ZeroDivisionError as z:\n",
    "               log.error(z)\n",
    "\n",
    "else:\n",
    "                log.info(\"There is no Exception\")\n",
    "    \n",
    "finally:\n",
    "                log.info(\"This is the example of Exception handling use case\")"
   ]
  },
  {
   "cell_type": "code",
   "execution_count": 1,
   "id": "68fc51ce-2b22-4d8b-aa67-82a0990f4c28",
   "metadata": {},
   "outputs": [],
   "source": [
    "#4\n",
    "\n",
    "'''\n",
    "Try block is used to raise an exception\n",
    "Raise keyword is used to raise an exception and transfer the control flow to the Except block where the Exception is handled\n",
    "Else block is executed when there is no exception raised in the Try block\n",
    "Finally block is executed always, irrespective of Exception is thrown or not\n",
    "\n",
    "'''\n",
    "\n",
    "import logging as log\n",
    "log.basicConfig(filename='Sample3.log',level=log.INFO, format='%(asctime)s - %(levelname)s - %(message)s')\n",
    "\n",
    "def age_finder(age):\n",
    "    try:\n",
    "        if age<0:\n",
    "            raise ValueError(\"User entered invalid age\")\n",
    "        elif 0>=age<18:\n",
    "            log.info(\"User is less than 18 years\")\n",
    "        else:\n",
    "            log.info(\"User is above 18 years\")\n",
    "    \n",
    "    except ValueError as v:\n",
    "        log.error(v)\n",
    "        \n",
    "    else:\n",
    "        log.info(\"Age is captured successfully\")\n",
    "    \n",
    "    finally:\n",
    "        log.info(\"End of the Age function\")\n",
    "    \n",
    "    \n"
   ]
  },
  {
   "cell_type": "code",
   "execution_count": 2,
   "id": "2ed377f2-e218-46d9-b142-f997df1ee7b0",
   "metadata": {},
   "outputs": [],
   "source": [
    "age_finder(-1)"
   ]
  },
  {
   "cell_type": "code",
   "execution_count": 7,
   "id": "48cf480d-19a7-4e26-b5bb-5d52da45d5fc",
   "metadata": {},
   "outputs": [
    {
     "name": "stdout",
     "output_type": "stream",
     "text": [
      "The variable b is having zero. Hence provide a different value.\n"
     ]
    }
   ],
   "source": [
    "#5 & #6\n",
    "\n",
    "# Custom Exceptions are user defined Exceptions & they are inherited from the Exception class.\n",
    "# We need Custom Exceptions to address our Project related problems as Python's built-in exceptions address Python related problems.\n",
    "\n",
    "class DivByZeroError(Exception):\n",
    "    '''\n",
    "    Creation of Custom Exception class\n",
    "    '''\n",
    "\n",
    "\n",
    "try:\n",
    "    a=10\n",
    "    b=0\n",
    "    if b==0:\n",
    "        raise DivByZeroError(\"The variable b is having zero. Hence provide a different value.\")\n",
    "        \n",
    "except DivByZeroError as d:\n",
    "    print(d)\n",
    "        "
   ]
  },
  {
   "cell_type": "code",
   "execution_count": 2,
   "id": "15a41e6d-a82e-4e35-86e8-c95875fafc43",
   "metadata": {},
   "outputs": [],
   "source": [
    "#6\n",
    "\n",
    "class DataTypeError(Exception):\n",
    "    '''\n",
    "    Creation of Custom Exception class\n",
    "    '''\n",
    "\n",
    "\n",
    "import logging as log\n",
    "log.basicConfig(filename=\"Sample4.log\",level=log.DEBUG,format='%(asctime)s - %(levelname)s - %(message)s')\n",
    "    \n",
    "try:\n",
    "    a=10\n",
    "    b=\"Siddharth\"\n",
    "    \n",
    "    if type(a) and type(b) != str:\n",
    "                log.info(\"There is no error\")\n",
    "    elif type(a) or type(b) == str:\n",
    "                raise DataTypeError(\"Enter integer values only\") \n",
    "\n",
    "except DataTypeError as t:\n",
    "                log.error(t)\n",
    "        "
   ]
  },
  {
   "cell_type": "code",
   "execution_count": null,
   "id": "5de62be3-8e04-4583-9d25-7e8ed307a5b3",
   "metadata": {},
   "outputs": [],
   "source": []
  }
 ],
 "metadata": {
  "kernelspec": {
   "display_name": "Python 3 (ipykernel)",
   "language": "python",
   "name": "python3"
  },
  "language_info": {
   "codemirror_mode": {
    "name": "ipython",
    "version": 3
   },
   "file_extension": ".py",
   "mimetype": "text/x-python",
   "name": "python",
   "nbconvert_exporter": "python",
   "pygments_lexer": "ipython3",
   "version": "3.10.8"
  }
 },
 "nbformat": 4,
 "nbformat_minor": 5
}
