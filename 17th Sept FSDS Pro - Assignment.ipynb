{
 "cells": [
  {
   "cell_type": "markdown",
   "id": "b9b31ee9-4756-4950-adce-b6d9c52d187b",
   "metadata": {},
   "source": [
    "# For loop"
   ]
  },
  {
   "cell_type": "code",
   "execution_count": 3,
   "id": "bd37718f-2e66-46d4-96d7-012dd8387092",
   "metadata": {},
   "outputs": [
    {
     "name": "stdout",
     "output_type": "stream",
     "text": [
      "1 2 3 4 5 6 7 8 9 10 "
     ]
    }
   ],
   "source": [
    "#1 \n",
    "for i in range(1,11):\n",
    "    print(i, end=\" \")"
   ]
  },
  {
   "cell_type": "code",
   "execution_count": null,
   "id": "a3d7e97e-46c1-40a3-b0b4-ed928eb91dbf",
   "metadata": {},
   "outputs": [],
   "source": [
    "#2\n",
    "for loop is used to execute a loop for a predefined number of times.\n",
    "while loop is used to execute a loop till a condition is satisfied."
   ]
  },
  {
   "cell_type": "code",
   "execution_count": 6,
   "id": "38cb9263-e249-4066-b210-1cacd794efdc",
   "metadata": {},
   "outputs": [
    {
     "name": "stdout",
     "output_type": "stream",
     "text": [
      "Sum of the numbers 1 to 100 is 5050\n"
     ]
    }
   ],
   "source": [
    "#3\n",
    "sum=0\n",
    "for i in range(1,101):\n",
    "    sum=sum+i\n",
    "print(f\"Sum of the numbers 1 to 100 is {sum}\")"
   ]
  },
  {
   "cell_type": "code",
   "execution_count": null,
   "id": "46e6a6f0-a47e-4ba7-8c21-29f79d520652",
   "metadata": {},
   "outputs": [],
   "source": [
    "#4 Example for iteration using for loop is as follows\n",
    "ls=[1,3,5,2,5,26,20,94,294,13]\n",
    "for i in ls:\n",
    "    print(i, end=\" \")"
   ]
  },
  {
   "cell_type": "code",
   "execution_count": 9,
   "id": "b27410fe-ff93-4eb9-8ad0-e6db28c1a665",
   "metadata": {},
   "outputs": [
    {
     "name": "stdout",
     "output_type": "stream",
     "text": [
      "The product of all elements in the list is 28022904000\n"
     ]
    }
   ],
   "source": [
    "#5\n",
    "prod=1\n",
    "ls=[1,3,5,2,5,26,20,94,294,13]\n",
    "for i in ls:\n",
    "    prod=prod*i\n",
    "print(\"The product of all elements in the list is\", prod)"
   ]
  },
  {
   "cell_type": "code",
   "execution_count": 11,
   "id": "e9416e42-a680-46b0-a651-6a410b2fd4c4",
   "metadata": {},
   "outputs": [
    {
     "name": "stdout",
     "output_type": "stream",
     "text": [
      "2 4 6 8 10 12 14 16 18 20 "
     ]
    }
   ],
   "source": [
    "#6 \n",
    "for i in range(1,21):\n",
    "    if i%2==0:\n",
    "        print(i, end=\" \")"
   ]
  },
  {
   "cell_type": "code",
   "execution_count": 17,
   "id": "9d9627ca-ca38-4360-b65b-ad5f700bab1b",
   "metadata": {},
   "outputs": [],
   "source": [
    "#7\n",
    "def fact(n):\n",
    "    fact=1\n",
    "    for i in range(1,n+1):\n",
    "        fact=fact*i\n",
    "    print(f\"The factorial of the number is {fact}\")   "
   ]
  },
  {
   "cell_type": "code",
   "execution_count": 18,
   "id": "eaffe3a2-e815-4b5c-b035-255d0cb2fb73",
   "metadata": {},
   "outputs": [
    {
     "name": "stdout",
     "output_type": "stream",
     "text": [
      "The factorial of the number is 3628800\n"
     ]
    }
   ],
   "source": [
    "fact(10)"
   ]
  },
  {
   "cell_type": "code",
   "execution_count": 19,
   "id": "56ba488a-f938-445b-b25f-ba79a3583c3e",
   "metadata": {},
   "outputs": [
    {
     "name": "stdout",
     "output_type": "stream",
     "text": [
      "Hello, I am Siddharth"
     ]
    }
   ],
   "source": [
    "#8 Example for iteration using for loop is as follows\n",
    "st=\"Hello, I am Siddharth\"\n",
    "for i in st:\n",
    "    print(i,end=\"\")"
   ]
  },
  {
   "cell_type": "code",
   "execution_count": 24,
   "id": "e90bdf7f-fbee-477f-8875-69f43155866d",
   "metadata": {},
   "outputs": [
    {
     "name": "stdout",
     "output_type": "stream",
     "text": [
      "The maximum value in the list is 294\n"
     ]
    }
   ],
   "source": [
    "#9\n",
    "ls=[1,3,5,2,5,26,20,94,294,13]\n",
    "max=ls[0]\n",
    "for i in ls[1:]:\n",
    "    if i>max:\n",
    "        max=i\n",
    "print(\"The maximum value in the list is\",max)"
   ]
  },
  {
   "cell_type": "code",
   "execution_count": 27,
   "id": "10687947-9408-4212-99f7-a0c655a54cd8",
   "metadata": {},
   "outputs": [
    {
     "name": "stdout",
     "output_type": "stream",
     "text": [
      "The number of vowels in the string is 5\n"
     ]
    }
   ],
   "source": [
    "#11\n",
    "vow_count=0\n",
    "st=\"Hello, I am Siddharth\"\n",
    "vow=['a','e','i','o','u']\n",
    "for i in st:\n",
    "    if i in vow:\n",
    "        vow_count=vow_count+1\n",
    "print(\"The number of vowels in the string is\",vow_count)"
   ]
  },
  {
   "cell_type": "code",
   "execution_count": 28,
   "id": "f542251f-1872-4c0f-afd6-c84d32c76b28",
   "metadata": {},
   "outputs": [],
   "source": [
    "#12 \n",
    "def mul_table(n):\n",
    "    for i in range(1,21):\n",
    "        print(f\"{n} x {i} = {n*i}\")"
   ]
  },
  {
   "cell_type": "code",
   "execution_count": 29,
   "id": "17b22fa0-92bb-44b6-b313-72f45a05f8ad",
   "metadata": {},
   "outputs": [
    {
     "name": "stdout",
     "output_type": "stream",
     "text": [
      "11 x 1 = 11\n",
      "11 x 2 = 22\n",
      "11 x 3 = 33\n",
      "11 x 4 = 44\n",
      "11 x 5 = 55\n",
      "11 x 6 = 66\n",
      "11 x 7 = 77\n",
      "11 x 8 = 88\n",
      "11 x 9 = 99\n",
      "11 x 10 = 110\n",
      "11 x 11 = 121\n",
      "11 x 12 = 132\n",
      "11 x 13 = 143\n",
      "11 x 14 = 154\n",
      "11 x 15 = 165\n",
      "11 x 16 = 176\n",
      "11 x 17 = 187\n",
      "11 x 18 = 198\n",
      "11 x 19 = 209\n",
      "11 x 20 = 220\n"
     ]
    }
   ],
   "source": [
    "mul_table(11)"
   ]
  },
  {
   "cell_type": "code",
   "execution_count": 30,
   "id": "8ed23998-fa32-4fb7-b674-8a5ddcbf4b26",
   "metadata": {},
   "outputs": [
    {
     "name": "stdout",
     "output_type": "stream",
     "text": [
      "25 93 22 93 94 20 19 32 "
     ]
    }
   ],
   "source": [
    "#13\n",
    "lst=[32,19,20,94,93,22,93,25]\n",
    "for i in lst[::-1]:\n",
    "    print(i,end=\" \")"
   ]
  },
  {
   "cell_type": "code",
   "execution_count": 31,
   "id": "3309f8a5-8c6a-4557-bc4f-a04f4b7dc086",
   "metadata": {},
   "outputs": [
    {
     "name": "stdout",
     "output_type": "stream",
     "text": [
      "The common elements in the list is [32, 20, 94, 25]\n"
     ]
    }
   ],
   "source": [
    "#14\n",
    "lst1=[32,19,20,94,93,22,93,25]\n",
    "lst2=[32,25,20,96,94,23,98,26]\n",
    "lst3=[]\n",
    "for i in lst1:\n",
    "    if i in lst2:\n",
    "        lst3.append(i)\n",
    "print(f\"The common elements in the list is {lst3}\")"
   ]
  },
  {
   "cell_type": "code",
   "execution_count": 33,
   "id": "477bbdde-d8d4-4e56-a9e7-6c5a75b772ec",
   "metadata": {},
   "outputs": [
    {
     "name": "stdout",
     "output_type": "stream",
     "text": [
      "The Name 1 & the corresponding name is Ajay\n",
      "The Name 2 & the corresponding name is Balaji\n",
      "The Name 3 & the corresponding name is Sid\n"
     ]
    }
   ],
   "source": [
    "#15\n",
    "dict1={\"Name 1\":\"Ajay\",\"Name 2\":\"Balaji\",\"Name 3\":\"Sid\"}\n",
    "for i in dict1.keys():\n",
    "    print(f\"The {i} & the corresponding name is {dict1[i]}\")"
   ]
  },
  {
   "cell_type": "code",
   "execution_count": 36,
   "id": "bc713384-6028-4749-a38b-9b8d39aa0689",
   "metadata": {},
   "outputs": [
    {
     "name": "stdout",
     "output_type": "stream",
     "text": [
      "The names provided in the dictionary are Ajay\n",
      "The names provided in the dictionary are Balaji\n",
      "The names provided in the dictionary are Sid\n"
     ]
    }
   ],
   "source": [
    "for i in dict1.values():\n",
    "    print(f\"The names provided in the dictionary are {i}\")"
   ]
  },
  {
   "cell_type": "code",
   "execution_count": 44,
   "id": "a28e5a58-87fc-4248-9dd3-05fa78bd6c7f",
   "metadata": {},
   "outputs": [
    {
     "name": "stdout",
     "output_type": "stream",
     "text": [
      "The string is a palindrome\n"
     ]
    }
   ],
   "source": [
    "#17\n",
    "st1=\"Malayalam\"\n",
    "st2=\"\"\n",
    "st1=st1.lower()\n",
    "for i in st1[::-1]:\n",
    "    st2=st2+i\n",
    "if st1==st2:\n",
    "    print(\"The string is a palindrome\")\n",
    "else:\n",
    "    print(\"The string is not a palindrome\")\n",
    "    "
   ]
  },
  {
   "cell_type": "code",
   "execution_count": 46,
   "id": "07bfadec-fd6e-4fbb-8b16-930d07709304",
   "metadata": {},
   "outputs": [
    {
     "name": "stdout",
     "output_type": "stream",
     "text": [
      "The number of words in the sentence is 5\n"
     ]
    }
   ],
   "source": [
    "#19\n",
    "st=\"This is a sample sentence\"\n",
    "lst=st.split()\n",
    "count=0\n",
    "for i in lst:\n",
    "    count+=1\n",
    "print(\"The number of words in the sentence is\",count)"
   ]
  },
  {
   "cell_type": "code",
   "execution_count": 47,
   "id": "a413b32c-616f-4d2d-9eb7-b05a61607a1e",
   "metadata": {},
   "outputs": [
    {
     "name": "stdout",
     "output_type": "stream",
     "text": [
      "The sum of odd numbers from 1 to 50 is 625\n"
     ]
    }
   ],
   "source": [
    "#20\n",
    "sum=0\n",
    "for i in range(1,51):\n",
    "    if i%2!=0:\n",
    "        sum=sum+i\n",
    "print(\"The sum of odd numbers from 1 to 50 is\",sum)"
   ]
  },
  {
   "cell_type": "code",
   "execution_count": 48,
   "id": "c48d137d-84cf-42e6-a987-c49112842c8f",
   "metadata": {},
   "outputs": [],
   "source": [
    "#21\n",
    "def leap_year(n):\n",
    "    if n%4==0:\n",
    "        print(\"The year is a leap year\")\n",
    "    else:\n",
    "        print(\"The year is not a leap year\")"
   ]
  },
  {
   "cell_type": "code",
   "execution_count": 49,
   "id": "c9117e2e-95cd-4ac7-8101-039705490405",
   "metadata": {},
   "outputs": [
    {
     "name": "stdout",
     "output_type": "stream",
     "text": [
      "The year is a leap year\n"
     ]
    }
   ],
   "source": [
    "leap_year(2004)"
   ]
  },
  {
   "cell_type": "code",
   "execution_count": 50,
   "id": "7eb34a1a-26a8-41d8-9ef2-4789ed71e778",
   "metadata": {},
   "outputs": [
    {
     "name": "stdout",
     "output_type": "stream",
     "text": [
      "The year is not a leap year\n"
     ]
    }
   ],
   "source": [
    "leap_year(2005)"
   ]
  },
  {
   "cell_type": "markdown",
   "id": "752b0533-8b58-49b1-8b44-72a968119d46",
   "metadata": {},
   "source": [
    "# If-Else"
   ]
  },
  {
   "cell_type": "code",
   "execution_count": 51,
   "id": "8d2cf228-0218-4caa-a6c0-8ef55383569a",
   "metadata": {},
   "outputs": [],
   "source": [
    "#1\n",
    "def num_check(n):\n",
    "    if n>0:\n",
    "        return \"The number is positive\"\n",
    "    elif n<0:\n",
    "        return \"The number is negative\"\n",
    "    else:\n",
    "        return \"The number is zero\""
   ]
  },
  {
   "cell_type": "code",
   "execution_count": 52,
   "id": "c675d5c7-dccd-43bc-b156-6950fc1fa7c9",
   "metadata": {},
   "outputs": [
    {
     "data": {
      "text/plain": [
       "'The number is negative'"
      ]
     },
     "execution_count": 52,
     "metadata": {},
     "output_type": "execute_result"
    }
   ],
   "source": [
    "num_check(-20)"
   ]
  },
  {
   "cell_type": "code",
   "execution_count": 53,
   "id": "a2cd6648-6577-465f-87f6-04f1831d7ef9",
   "metadata": {},
   "outputs": [],
   "source": [
    "#2\n",
    "def odd_even_check(n):\n",
    "    if n%2==0:\n",
    "        return \"The number is even\"\n",
    "    elif n%2!=0:\n",
    "        return \"The number is odd\""
   ]
  },
  {
   "cell_type": "code",
   "execution_count": 54,
   "id": "ccd3e1d8-e05e-44c7-a217-2ee1e526f6cb",
   "metadata": {},
   "outputs": [
    {
     "data": {
      "text/plain": [
       "'The number is odd'"
      ]
     },
     "execution_count": 54,
     "metadata": {},
     "output_type": "execute_result"
    }
   ],
   "source": [
    "odd_even_check(23)"
   ]
  },
  {
   "cell_type": "code",
   "execution_count": 55,
   "id": "4da03810-ad5d-45d0-8639-02701b25b086",
   "metadata": {},
   "outputs": [
    {
     "name": "stdin",
     "output_type": "stream",
     "text": [
      "Enter number 1 32\n",
      "Enter number 2 52\n",
      "Enter number 3 11\n"
     ]
    },
    {
     "name": "stdout",
     "output_type": "stream",
     "text": [
      "52 is the greatest of all\n"
     ]
    }
   ],
   "source": [
    "#4\n",
    "num1=int(input(\"Enter number 1\"))\n",
    "num2=int(input(\"Enter number 2\"))\n",
    "num3=int(input(\"Enter number 3\"))\n",
    "if num1>num2 and num1>num3:\n",
    "    print(f\"{num1} is the greatest of all\")\n",
    "elif num2>num1 and num2>num3:\n",
    "    print(f\"{num2} is the greatest of all\")\n",
    "else:\n",
    "    print(f\"{num3} is the greatest of all\")"
   ]
  },
  {
   "cell_type": "code",
   "execution_count": 1,
   "id": "e7c2a47f-d7dd-4bc6-8f7d-5c5e051cad6f",
   "metadata": {},
   "outputs": [],
   "source": [
    "#5\n",
    "def abs_val(n):\n",
    "    if n<0:\n",
    "        return n*-1\n",
    "    else:\n",
    "        return n"
   ]
  },
  {
   "cell_type": "code",
   "execution_count": 2,
   "id": "8b6ce5c4-f7ed-48b6-894e-7fe60407eff6",
   "metadata": {},
   "outputs": [
    {
     "data": {
      "text/plain": [
       "5"
      ]
     },
     "execution_count": 2,
     "metadata": {},
     "output_type": "execute_result"
    }
   ],
   "source": [
    "abs_val(-5)"
   ]
  },
  {
   "cell_type": "code",
   "execution_count": 3,
   "id": "133cca73-96f6-416b-bcce-bf39579dbba7",
   "metadata": {},
   "outputs": [],
   "source": [
    "#6\n",
    "def vow_check(n):\n",
    "    vow=['a','e','i','o','u']\n",
    "    if n in vow:\n",
    "        return \"The given character is a vowel\"\n",
    "    else:\n",
    "        return \"The given character is a consonent\""
   ]
  },
  {
   "cell_type": "code",
   "execution_count": 4,
   "id": "22908b9f-9a5b-4620-aaba-fd02e48d256f",
   "metadata": {},
   "outputs": [
    {
     "data": {
      "text/plain": [
       "'The given character is a consonent'"
      ]
     },
     "execution_count": 4,
     "metadata": {},
     "output_type": "execute_result"
    }
   ],
   "source": [
    "vow_check('b')"
   ]
  },
  {
   "cell_type": "code",
   "execution_count": 5,
   "id": "9e4f55ec-9290-41c8-b54c-f6a7c4193692",
   "metadata": {},
   "outputs": [],
   "source": [
    "#7\n",
    "def vote_check(n):\n",
    "    if n>=18:\n",
    "        return \"The user is eligible to vote\"\n",
    "    else:\n",
    "        return \"The user is not eligible to vote\""
   ]
  },
  {
   "cell_type": "code",
   "execution_count": 6,
   "id": "fab4fcf2-9a73-47c1-8a6b-fce361170ebe",
   "metadata": {},
   "outputs": [
    {
     "data": {
      "text/plain": [
       "'The user is eligible to vote'"
      ]
     },
     "execution_count": 6,
     "metadata": {},
     "output_type": "execute_result"
    }
   ],
   "source": [
    "vote_check(19)"
   ]
  },
  {
   "cell_type": "code",
   "execution_count": 9,
   "id": "6f4867a1-9305-4e54-af9d-b5381fe62d3e",
   "metadata": {},
   "outputs": [],
   "source": [
    "#8\n",
    "def discount_calculator(cost):\n",
    "    if cost<10:\n",
    "        print(\"The discount is 0 INR\")\n",
    "    elif 10<=cost<100:\n",
    "        print(f\"The discount is {cost*0.10} INR\")\n",
    "    elif 100<=cost<1000:\n",
    "        print(f\"The discount is {cost*0.20} INR\")"
   ]
  },
  {
   "cell_type": "code",
   "execution_count": 10,
   "id": "9924def2-8af8-4155-b2a1-2ac212c22757",
   "metadata": {},
   "outputs": [
    {
     "name": "stdout",
     "output_type": "stream",
     "text": [
      "The discount is 24.0 INR\n"
     ]
    }
   ],
   "source": [
    "discount_calculator(120)"
   ]
  },
  {
   "cell_type": "code",
   "execution_count": 11,
   "id": "29095ade-b813-400e-8016-2a2b81d2ceb0",
   "metadata": {},
   "outputs": [],
   "source": [
    "#9\n",
    "def range_check(n):\n",
    "    if n in range(0,100):\n",
    "        return \"The number is in specified range\"\n",
    "    else:\n",
    "        return \"The number is not in specified range\""
   ]
  },
  {
   "cell_type": "code",
   "execution_count": 12,
   "id": "6ccfe0a2-db73-4d8d-ac14-8b40d64009f0",
   "metadata": {},
   "outputs": [
    {
     "data": {
      "text/plain": [
       "'The number is not in specified range'"
      ]
     },
     "execution_count": 12,
     "metadata": {},
     "output_type": "execute_result"
    }
   ],
   "source": [
    "range_check(120)"
   ]
  },
  {
   "cell_type": "code",
   "execution_count": 18,
   "id": "b84b2d47-1a98-4afe-aee1-a941770c2539",
   "metadata": {},
   "outputs": [],
   "source": [
    "#10\n",
    "def grade(n):\n",
    "    if n>90:\n",
    "        return \"The student has secured A+ grade\"\n",
    "    elif 81<n<=90:\n",
    "        return \"The student has secured A grade\"\n",
    "    elif 71<n<=80:\n",
    "        return \"The student has secured B grade\"\n",
    "    elif 61<n<=70:\n",
    "        return \"The student has secured C grade\"\n",
    "    else:\n",
    "        return \"The student has failed\""
   ]
  },
  {
   "cell_type": "code",
   "execution_count": 19,
   "id": "f2977b02-e7dd-4efc-a572-c862ea776c27",
   "metadata": {},
   "outputs": [
    {
     "data": {
      "text/plain": [
       "'The student has secured A+ grade'"
      ]
     },
     "execution_count": 19,
     "metadata": {},
     "output_type": "execute_result"
    }
   ],
   "source": [
    "grade(91)"
   ]
  },
  {
   "cell_type": "code",
   "execution_count": 20,
   "id": "c94859ea-8127-4f2a-997d-d8995962e1fa",
   "metadata": {},
   "outputs": [
    {
     "data": {
      "text/plain": [
       "'The student has failed'"
      ]
     },
     "execution_count": 20,
     "metadata": {},
     "output_type": "execute_result"
    }
   ],
   "source": [
    "grade(54)"
   ]
  },
  {
   "cell_type": "code",
   "execution_count": 21,
   "id": "77b27711-d261-48c0-9806-641ff0f77f95",
   "metadata": {},
   "outputs": [],
   "source": [
    "#11\n",
    "def str_len(n):\n",
    "    if len(n)>0:\n",
    "        return \"The string is not empty\"\n",
    "    else:\n",
    "        return \"The string is empty\""
   ]
  },
  {
   "cell_type": "code",
   "execution_count": 22,
   "id": "0f8dc34f-66a0-4322-87f9-48282be610b6",
   "metadata": {},
   "outputs": [
    {
     "data": {
      "text/plain": [
       "'The string is not empty'"
      ]
     },
     "execution_count": 22,
     "metadata": {},
     "output_type": "execute_result"
    }
   ],
   "source": [
    "str_len('a')"
   ]
  },
  {
   "cell_type": "code",
   "execution_count": 23,
   "id": "abe4a026-1934-44b9-849f-ed18f01d8432",
   "metadata": {},
   "outputs": [
    {
     "data": {
      "text/plain": [
       "'The string is empty'"
      ]
     },
     "execution_count": 23,
     "metadata": {},
     "output_type": "execute_result"
    }
   ],
   "source": [
    "str_len('')"
   ]
  },
  {
   "cell_type": "code",
   "execution_count": null,
   "id": "aa9384b9-e2b3-40c4-af60-5abf81056d56",
   "metadata": {},
   "outputs": [
    {
     "name": "stdin",
     "output_type": "stream",
     "text": [
      "Enter the length of side 1 19\n",
      "Enter the length of side 2 12\n",
      "Enter the length of side 3 19\n"
     ]
    },
    {
     "name": "stdout",
     "output_type": "stream",
     "text": [
      "It is an isosceles triangle\n"
     ]
    }
   ],
   "source": [
    "#12\n",
    "a=int(input(\"Enter the length of side 1\"))\n",
    "b=int(input(\"Enter the length of side 2\"))\n",
    "c=int(input(\"Enter the length of side 3\"))\n",
    "if a==b==c:\n",
    "    print(\"It is an equilateral triangle\")\n",
    "elif a==b or b==c or a==c:\n",
    "    print(\"It is an isosceles triangle\")\n",
    "else:\n",
    "    print(\"It is a scalene triangle\")"
   ]
  },
  {
   "cell_type": "code",
   "execution_count": 27,
   "id": "c53c7d46-1c45-4cbd-a5da-af606aeebf56",
   "metadata": {},
   "outputs": [],
   "source": [
    "#13\n",
    "def day_check():\n",
    "    day=int(input(\"Enter the day of the week\"))\n",
    "    if day<1 or day>7:\n",
    "        print(\"Enter the day between 1 and 7\")\n",
    "    else:\n",
    "        if day==1:\n",
    "            print(\"The day is Monday\")\n",
    "        elif day==2:\n",
    "            print(\"The day is Tuesday\")\n",
    "        elif day==3:\n",
    "            print(\"The day is Wednesday\")\n",
    "        elif day==4:\n",
    "            print(\"The day is Thursday\")\n",
    "        elif day==5:\n",
    "            print(\"The day is Friday\")\n",
    "        elif day==6:\n",
    "            print(\"The day is Saturday\")\n",
    "        elif day==7:\n",
    "            print(\"The day is Sunday\")"
   ]
  },
  {
   "cell_type": "code",
   "execution_count": 28,
   "id": "3d5d81ca-fd23-4f81-9dda-d7efc9647139",
   "metadata": {},
   "outputs": [
    {
     "name": "stdin",
     "output_type": "stream",
     "text": [
      "Enter the day of the week 15\n"
     ]
    },
    {
     "name": "stdout",
     "output_type": "stream",
     "text": [
      "Enter the day between 1 and 7\n"
     ]
    }
   ],
   "source": [
    "day_check()"
   ]
  },
  {
   "cell_type": "code",
   "execution_count": 29,
   "id": "830eac44-6679-4117-a17c-14915272cd29",
   "metadata": {},
   "outputs": [
    {
     "name": "stdin",
     "output_type": "stream",
     "text": [
      "Enter the day of the week 5\n"
     ]
    },
    {
     "name": "stdout",
     "output_type": "stream",
     "text": [
      "The day is Friday\n"
     ]
    }
   ],
   "source": [
    "day_check()"
   ]
  },
  {
   "cell_type": "code",
   "execution_count": 30,
   "id": "adb6ded8-97f0-4acc-a7b6-bc98989c62f1",
   "metadata": {},
   "outputs": [],
   "source": [
    "#14\n",
    "def year_check(n):\n",
    "    if n%4==0:\n",
    "        return \"It is a leap year\"\n",
    "    else:\n",
    "        return \"It is not a leap year\""
   ]
  },
  {
   "cell_type": "code",
   "execution_count": 31,
   "id": "9f9e6ca6-3572-4e3d-8cb4-914ff782fc19",
   "metadata": {},
   "outputs": [
    {
     "data": {
      "text/plain": [
       "'It is not a leap year'"
      ]
     },
     "execution_count": 31,
     "metadata": {},
     "output_type": "execute_result"
    }
   ],
   "source": [
    "year_check(2005)"
   ]
  },
  {
   "cell_type": "code",
   "execution_count": 3,
   "id": "a1704a3a-7043-4554-ab0b-0678f11103e1",
   "metadata": {},
   "outputs": [],
   "source": [
    "#16\n",
    "def senior_citizen_discount(n):\n",
    "    if n>60:\n",
    "        return \"The person is eligible for senior citizen discount\"\n",
    "    else:\n",
    "        return \"The person is not eligible for senior citizen discount\""
   ]
  },
  {
   "cell_type": "code",
   "execution_count": 4,
   "id": "e7b63904-9c8d-47bb-8eba-9181458fda72",
   "metadata": {},
   "outputs": [
    {
     "data": {
      "text/plain": [
       "'The person is eligible for senior citizen discount'"
      ]
     },
     "execution_count": 4,
     "metadata": {},
     "output_type": "execute_result"
    }
   ],
   "source": [
    "senior_citizen_discount(61)"
   ]
  },
  {
   "cell_type": "code",
   "execution_count": 11,
   "id": "db987af7-3730-4a0c-8e8f-cd9bf4aa5251",
   "metadata": {},
   "outputs": [],
   "source": [
    "#17\n",
    "def character_recognition():\n",
    "    st=input(\"Enter the character to be be verified for the case\")\n",
    "    if st.isupper()==True:\n",
    "        return \"The character is upper case\"\n",
    "    elif st.islower()==True:\n",
    "        return \"The character is lower case\"\n",
    "    else:\n",
    "        return \"The character is neither upper or lower case\""
   ]
  },
  {
   "cell_type": "code",
   "execution_count": 12,
   "id": "61d0d4a7-6868-4b52-8fab-9cb2a902c0ec",
   "metadata": {},
   "outputs": [
    {
     "name": "stdin",
     "output_type": "stream",
     "text": [
      "Enter the character to be be verified for the case a\n"
     ]
    },
    {
     "data": {
      "text/plain": [
       "'The character is lower case'"
      ]
     },
     "execution_count": 12,
     "metadata": {},
     "output_type": "execute_result"
    }
   ],
   "source": [
    "character_recognition()"
   ]
  },
  {
   "cell_type": "code",
   "execution_count": 29,
   "id": "5d250a6c-f6ed-47ec-80e3-e39f5583cf81",
   "metadata": {},
   "outputs": [],
   "source": [
    "#19\n",
    "def century_year_check(n):\n",
    "    if n%100==0:\n",
    "        return \"The year is century year\"\n",
    "    else:\n",
    "        return \"The year is not century year\""
   ]
  },
  {
   "cell_type": "code",
   "execution_count": 30,
   "id": "9a250ce8-e261-46f0-89fe-899b55ce84e8",
   "metadata": {},
   "outputs": [
    {
     "data": {
      "text/plain": [
       "'The year is century year'"
      ]
     },
     "execution_count": 30,
     "metadata": {},
     "output_type": "execute_result"
    }
   ],
   "source": [
    "century_year_check(2400)"
   ]
  },
  {
   "cell_type": "code",
   "execution_count": 31,
   "id": "551fc525-e231-4ebb-9935-f0e57c4bc24e",
   "metadata": {},
   "outputs": [
    {
     "data": {
      "text/plain": [
       "'The year is not century year'"
      ]
     },
     "execution_count": 31,
     "metadata": {},
     "output_type": "execute_result"
    }
   ],
   "source": [
    "century_year_check(2001)"
   ]
  },
  {
   "cell_type": "code",
   "execution_count": 41,
   "id": "0e1bf248-8448-4ac9-9d44-da8374656256",
   "metadata": {},
   "outputs": [],
   "source": [
    "#20\n",
    "def square_check(n):\n",
    "    count=0\n",
    "    for i in range(1,n):\n",
    "        if i*i==n:\n",
    "            count=count+1\n",
    "        else:\n",
    "            pass\n",
    "    if count==1:\n",
    "        return \"The number is a perfect square\"\n",
    "    else:\n",
    "        return \"The number is not a perfect square\""
   ]
  },
  {
   "cell_type": "code",
   "execution_count": 42,
   "id": "60564b4e-0f46-4c92-b107-6b22ca5050c3",
   "metadata": {},
   "outputs": [
    {
     "data": {
      "text/plain": [
       "'The number is a perfect square'"
      ]
     },
     "execution_count": 42,
     "metadata": {},
     "output_type": "execute_result"
    }
   ],
   "source": [
    "square_check(81)"
   ]
  },
  {
   "cell_type": "code",
   "execution_count": 43,
   "id": "2ec1fbcf-599d-40f5-8334-b28f1e184f05",
   "metadata": {},
   "outputs": [
    {
     "data": {
      "text/plain": [
       "'The number is not a perfect square'"
      ]
     },
     "execution_count": 43,
     "metadata": {},
     "output_type": "execute_result"
    }
   ],
   "source": [
    "square_check(85)"
   ]
  },
  {
   "cell_type": "code",
   "execution_count": 44,
   "id": "87624da3-10b2-4365-8b55-be96c37ead02",
   "metadata": {},
   "outputs": [],
   "source": [
    "#21 \n",
    "# Continue statement is used to skip the remaining part of the iteration within a loop & proceed with the next iteration\n",
    "# Break statement is used to break the remaining part of the loop & move out of the loop"
   ]
  },
  {
   "cell_type": "code",
   "execution_count": 47,
   "id": "a593f6e7-ec93-4b02-9fd2-350740cb3ce0",
   "metadata": {},
   "outputs": [
    {
     "name": "stdout",
     "output_type": "stream",
     "text": [
      "The person is Obese\n"
     ]
    }
   ],
   "source": [
    "#22\n",
    "bmi=30\n",
    "if bmi<18.5:\n",
    "    print(\"The person is Underweight\")\n",
    "elif 18.5>=bmi<=24.9:\n",
    "    print(\"The person is Normal weight\")\n",
    "elif 25.0>=bmi<=29.9:\n",
    "    print(\"The person is Over weight\")\n",
    "else:\n",
    "    print(\"The person is Obese\")"
   ]
  },
  {
   "cell_type": "code",
   "execution_count": 52,
   "id": "a84a534d-6330-4e84-ba4a-4370d44585c3",
   "metadata": {},
   "outputs": [],
   "source": [
    "#24\n",
    "def prime_check(n):\n",
    "    count=0\n",
    "    for i in range(2,n):\n",
    "        if n%i==0:\n",
    "            count=count+1\n",
    "    if count==0:\n",
    "        return \"The number is prime\"\n",
    "    else:\n",
    "        return \"The number is not prime\""
   ]
  },
  {
   "cell_type": "code",
   "execution_count": 53,
   "id": "56344d02-af35-44ed-a009-c79bc77836f6",
   "metadata": {},
   "outputs": [
    {
     "data": {
      "text/plain": [
       "'The number is prime'"
      ]
     },
     "execution_count": 53,
     "metadata": {},
     "output_type": "execute_result"
    }
   ],
   "source": [
    "prime_check(71)"
   ]
  },
  {
   "cell_type": "code",
   "execution_count": 54,
   "id": "c40b347c-3825-41cf-af99-0fa2217cda9b",
   "metadata": {},
   "outputs": [
    {
     "data": {
      "text/plain": [
       "'The number is not prime'"
      ]
     },
     "execution_count": 54,
     "metadata": {},
     "output_type": "execute_result"
    }
   ],
   "source": [
    "prime_check(121)"
   ]
  },
  {
   "cell_type": "markdown",
   "id": "4c547356-9477-4994-b7ba-a6bb28686e3e",
   "metadata": {},
   "source": [
    "# Map"
   ]
  },
  {
   "cell_type": "code",
   "execution_count": 1,
   "id": "b4ddafc8-be70-4c61-9bad-b0b77560f3fb",
   "metadata": {},
   "outputs": [],
   "source": [
    "#1 \n",
    "# Map is used to apply a function to all elements of a list / tuple / string & display the result"
   ]
  },
  {
   "cell_type": "code",
   "execution_count": 2,
   "id": "18bbd35b-7a5e-461f-b466-e5fb74a979b0",
   "metadata": {},
   "outputs": [
    {
     "data": {
      "text/plain": [
       "[1, 4, 9, 16, 25, 36, 49]"
      ]
     },
     "execution_count": 2,
     "metadata": {},
     "output_type": "execute_result"
    }
   ],
   "source": [
    "#2\n",
    "lst=[1,2,3,4,5,6,7]\n",
    "list(map(lambda x:x**2,lst))"
   ]
  },
  {
   "cell_type": "code",
   "execution_count": 3,
   "id": "5052b68a-764c-4cfd-968d-a4f70f4e10df",
   "metadata": {},
   "outputs": [],
   "source": [
    "#3 \n",
    "# List comprehension returns a list, whereas Map returns a map object. In List Comprehension, filtering is possible, wehereas in Map, we don't have the filtering facility."
   ]
  },
  {
   "cell_type": "code",
   "execution_count": 13,
   "id": "f3c8a9a5-5ce0-4fb6-99ad-1e2a99475711",
   "metadata": {},
   "outputs": [
    {
     "data": {
      "text/plain": [
       "['SIDD', 'AJAY', 'BALAJI']"
      ]
     },
     "execution_count": 13,
     "metadata": {},
     "output_type": "execute_result"
    }
   ],
   "source": [
    "#4\n",
    "lst=['Sidd','Ajay','Balaji']\n",
    "list(map(lambda x:x.upper(),lst))"
   ]
  },
  {
   "cell_type": "code",
   "execution_count": 5,
   "id": "63324eca-190a-4c62-b062-39b6482e3d59",
   "metadata": {},
   "outputs": [
    {
     "data": {
      "text/plain": [
       "[4, 4, 6]"
      ]
     },
     "execution_count": 5,
     "metadata": {},
     "output_type": "execute_result"
    }
   ],
   "source": [
    "#5\n",
    "lst=['Sidd','Ajay','Balaji']\n",
    "list(map(lambda x:len(x),lst))"
   ]
  },
  {
   "cell_type": "code",
   "execution_count": 7,
   "id": "3baf3cc7-76d8-4000-92fe-c6f8dac2f0a3",
   "metadata": {},
   "outputs": [
    {
     "name": "stdout",
     "output_type": "stream",
     "text": [
      "The temperature in fahrenheit is [96.8, 85.82, 116.6, 51.8]\n"
     ]
    }
   ],
   "source": [
    "#7\n",
    "lst_celcius=[36,29.9,47,11]\n",
    "lst_fahrenheit=list(map(lambda x:(x*9/5)+32,lst))\n",
    "print(f\"The temperature in fahrenheit is {lst_fahrenheit}\")"
   ]
  },
  {
   "cell_type": "code",
   "execution_count": 10,
   "id": "d7c5b218-ef3f-4d44-8871-0c0f31fa7d11",
   "metadata": {},
   "outputs": [
    {
     "data": {
      "text/plain": [
       "[83, 50, 29, 11]"
      ]
     },
     "execution_count": 10,
     "metadata": {},
     "output_type": "execute_result"
    }
   ],
   "source": [
    "#8\n",
    "lst=[83.2,49.9,29.0,11.1]\n",
    "list(map(lambda x:round(x),lst))"
   ]
  },
  {
   "cell_type": "markdown",
   "id": "8b6aed0f-8302-4e7b-8e8a-f5e055030b9e",
   "metadata": {},
   "source": [
    "# Reduce "
   ]
  },
  {
   "cell_type": "code",
   "execution_count": null,
   "id": "b6d0f93d-d069-4e47-9c9f-3ad1f5e9ee10",
   "metadata": {},
   "outputs": [],
   "source": [
    "#1 \n",
    "# Reduce is to perform a certain action, say addition, multiplication etc. among all the elements present in the list / tuple & produces a single valued result "
   ]
  },
  {
   "cell_type": "code",
   "execution_count": 2,
   "id": "0f405ffc-f6ac-4506-b023-f2d4c5c03656",
   "metadata": {},
   "outputs": [],
   "source": [
    "from functools import reduce"
   ]
  },
  {
   "cell_type": "code",
   "execution_count": 3,
   "id": "cb7a482c-c460-443c-b5f9-35eb16765cf7",
   "metadata": {},
   "outputs": [
    {
     "data": {
      "text/plain": [
       "120"
      ]
     },
     "execution_count": 3,
     "metadata": {},
     "output_type": "execute_result"
    }
   ],
   "source": [
    "#2\n",
    "lst=[1,2,3,4,5]\n",
    "reduce(lambda x,y:x*y,lst)"
   ]
  },
  {
   "cell_type": "code",
   "execution_count": 4,
   "id": "c44a43d2-ddea-4721-9cb3-d3ddd9e226dc",
   "metadata": {},
   "outputs": [
    {
     "data": {
      "text/plain": [
       "6"
      ]
     },
     "execution_count": 4,
     "metadata": {},
     "output_type": "execute_result"
    }
   ],
   "source": [
    "#3\n",
    "lst=[1,2,3,4,5,6,4,2,1]\n",
    "reduce(lambda x,y:x if x>y else y,lst)"
   ]
  },
  {
   "cell_type": "code",
   "execution_count": 6,
   "id": "1c4d118b-9910-4456-9af5-330b33e81c8d",
   "metadata": {},
   "outputs": [
    {
     "data": {
      "text/plain": [
       "'AjayBalajiSid'"
      ]
     },
     "execution_count": 6,
     "metadata": {},
     "output_type": "execute_result"
    }
   ],
   "source": [
    "#4\n",
    "lst=['Ajay','Balaji','Sid']\n",
    "reduce(lambda x,y:x+y, lst)"
   ]
  },
  {
   "cell_type": "code",
   "execution_count": 7,
   "id": "cb42861b-2f9b-427c-a79c-a7d77f2f2df5",
   "metadata": {},
   "outputs": [
    {
     "data": {
      "text/plain": [
       "3628800"
      ]
     },
     "execution_count": 7,
     "metadata": {},
     "output_type": "execute_result"
    }
   ],
   "source": [
    "#5\n",
    "n=10\n",
    "reduce(lambda x,y:x*y,range(1,n+1))"
   ]
  },
  {
   "cell_type": "code",
   "execution_count": 8,
   "id": "c5400b39-d568-430d-8647-773c0b5b2dad",
   "metadata": {},
   "outputs": [
    {
     "data": {
      "text/plain": [
       "28"
      ]
     },
     "execution_count": 8,
     "metadata": {},
     "output_type": "execute_result"
    }
   ],
   "source": [
    "#7\n",
    "lst=[1,2,3,4,5,6,4,2,1]\n",
    "reduce(lambda x,y:x+y,lst)"
   ]
  },
  {
   "cell_type": "markdown",
   "id": "1bce9d28-60f3-4d28-bd72-bb46cb89a040",
   "metadata": {},
   "source": [
    "# Filter"
   ]
  },
  {
   "cell_type": "code",
   "execution_count": 2,
   "id": "1f6e0cef-f86a-4406-96d4-d5a239f03d85",
   "metadata": {},
   "outputs": [
    {
     "data": {
      "text/plain": [
       "[2, 4, 56]"
      ]
     },
     "execution_count": 2,
     "metadata": {},
     "output_type": "execute_result"
    }
   ],
   "source": [
    "#1\n",
    "# Filter is used to filter out an iterable based on a certain condition / function. It applies the condition to all elements of the iterable & returns the elements which satisfies the specific condition\n",
    "\n",
    "lst=[1,2,3,4,56]\n",
    "list(filter(lambda x:x%2==0,lst)) #Returns even numbers in the form of list"
   ]
  },
  {
   "cell_type": "code",
   "execution_count": 3,
   "id": "04f352f8-7dee-45e0-8702-cbec4d81b5b4",
   "metadata": {},
   "outputs": [
    {
     "data": {
      "text/plain": [
       "[2, 4, 56]"
      ]
     },
     "execution_count": 3,
     "metadata": {},
     "output_type": "execute_result"
    }
   ],
   "source": [
    "#2\n",
    "lst=[1,2,3,4,56]\n",
    "list(filter(lambda x:x%2==0,lst))"
   ]
  },
  {
   "cell_type": "code",
   "execution_count": 5,
   "id": "ba8b5498-c3f6-4593-b6c5-a507700a1326",
   "metadata": {},
   "outputs": [
    {
     "data": {
      "text/plain": [
       "['Balaji']"
      ]
     },
     "execution_count": 5,
     "metadata": {},
     "output_type": "execute_result"
    }
   ],
   "source": [
    "#3\n",
    "lst=['Ajay','Balaji','Sidd']\n",
    "list(filter(lambda x:x[0]=='B',lst))"
   ]
  },
  {
   "cell_type": "code",
   "execution_count": 8,
   "id": "08b178fa-18eb-43a7-b7f5-42db54ece491",
   "metadata": {},
   "outputs": [
    {
     "data": {
      "text/plain": [
       "['']"
      ]
     },
     "execution_count": 8,
     "metadata": {},
     "output_type": "execute_result"
    }
   ],
   "source": [
    "#5\n",
    "lst=['Ajay','Balaji','','Sidd']\n",
    "list(filter(lambda x:x=='',lst))"
   ]
  },
  {
   "cell_type": "code",
   "execution_count": 10,
   "id": "6a2dd282-acf8-469a-8273-20578447fda7",
   "metadata": {},
   "outputs": [
    {
     "data": {
      "text/plain": [
       "['Balaji']"
      ]
     },
     "execution_count": 10,
     "metadata": {},
     "output_type": "execute_result"
    }
   ],
   "source": [
    "#6\n",
    "lst=['Ajay','Balaji','','Sidd']\n",
    "list(filter(lambda x:len(x)>5,lst))"
   ]
  },
  {
   "cell_type": "markdown",
   "id": "f75a5d3f-3446-4324-a05e-df4d18428ec0",
   "metadata": {},
   "source": [
    "# Recursion"
   ]
  },
  {
   "cell_type": "code",
   "execution_count": null,
   "id": "95832ae8-d440-4423-b00c-f7ec57d936c4",
   "metadata": {},
   "outputs": [],
   "source": [
    "#1\n",
    "# Recursion is a concept where a function calls itself till the execution is complete. \n",
    "# Recursion is different from For loop as in For loop, the execution depends on the iterable, whereas Recursion depends on the function"
   ]
  },
  {
   "cell_type": "code",
   "execution_count": 18,
   "id": "94963819-aae3-40a9-aff1-9472afd79b6f",
   "metadata": {},
   "outputs": [],
   "source": [
    "#2\n",
    "def fact(n):\n",
    "    if n<=0:\n",
    "        return 1\n",
    "    else:\n",
    "        return n*fact(n-1)"
   ]
  },
  {
   "cell_type": "code",
   "execution_count": 19,
   "id": "541fa6f2-a400-492f-a1a5-943ff5e4aea1",
   "metadata": {},
   "outputs": [
    {
     "data": {
      "text/plain": [
       "120"
      ]
     },
     "execution_count": 19,
     "metadata": {},
     "output_type": "execute_result"
    }
   ],
   "source": [
    "fact(5)"
   ]
  },
  {
   "cell_type": "code",
   "execution_count": 16,
   "id": "47e69a5a-f287-4fac-96e8-e13b019cc92d",
   "metadata": {},
   "outputs": [],
   "source": [
    "#3\n",
    "def fib(n):\n",
    "    if n<=0:\n",
    "        return 1\n",
    "    else: \n",
    "        return fib(n-1)+fib(n-2)"
   ]
  },
  {
   "cell_type": "code",
   "execution_count": 17,
   "id": "d6a3cd30-dec1-4ba1-92e5-1e857d149776",
   "metadata": {},
   "outputs": [
    {
     "data": {
      "text/plain": [
       "13"
      ]
     },
     "execution_count": 17,
     "metadata": {},
     "output_type": "execute_result"
    }
   ],
   "source": [
    "fib(5)"
   ]
  },
  {
   "cell_type": "markdown",
   "id": "4b15e192-0990-4a43-97b5-3347f77fec5b",
   "metadata": {},
   "source": [
    "# Basics of Functions:"
   ]
  },
  {
   "cell_type": "code",
   "execution_count": 1,
   "id": "4fd0e58a-2a69-4a11-9f73-1646c62f5a55",
   "metadata": {},
   "outputs": [],
   "source": [
    "#1 \n",
    "# Function is a block of code which is used to perform certain task whenever called. We can pass values to function (or) we can execute a function without passing any value to it. "
   ]
  },
  {
   "cell_type": "code",
   "execution_count": 2,
   "id": "50b2c905-828a-4db1-a741-b8c353c28492",
   "metadata": {},
   "outputs": [
    {
     "data": {
      "text/plain": [
       "'\\ndef <function_name>(<optional_parameter>):\\n    body\\n    return x #optional\\n'"
      ]
     },
     "execution_count": 2,
     "metadata": {},
     "output_type": "execute_result"
    }
   ],
   "source": [
    "#2 \n",
    "'''\n",
    "We define a function in below format\n",
    "\n",
    "def <function_name>(<optional_parameter>):\n",
    "    body\n",
    "    return x #optional\n",
    "'''"
   ]
  },
  {
   "cell_type": "code",
   "execution_count": 3,
   "id": "ea0a88cb-2269-4c6d-88a1-c8ea0c6b3c6c",
   "metadata": {},
   "outputs": [],
   "source": [
    "#3 \n",
    "#Function definition is used to perform a specific task & function call is the statement that is used to invoke / call the function."
   ]
  },
  {
   "cell_type": "code",
   "execution_count": 5,
   "id": "5c5782e2-d3d2-4304-86a5-b2ca4978dae1",
   "metadata": {},
   "outputs": [],
   "source": [
    "#4 \n",
    "def sum(a,b):\n",
    "    return a+b"
   ]
  },
  {
   "cell_type": "code",
   "execution_count": 6,
   "id": "70b4f259-7fd0-40d5-bcb4-28a17de8f60f",
   "metadata": {},
   "outputs": [
    {
     "data": {
      "text/plain": [
       "5"
      ]
     },
     "execution_count": 6,
     "metadata": {},
     "output_type": "execute_result"
    }
   ],
   "source": [
    "sum(2,3)"
   ]
  },
  {
   "cell_type": "code",
   "execution_count": 7,
   "id": "caacd3e7-23fb-4f8c-9f8a-fec5e06b1b03",
   "metadata": {},
   "outputs": [],
   "source": [
    "#5 \n",
    "\n",
    "#Function signature refers to the name, arguments the function accepts & the return type of the function"
   ]
  },
  {
   "cell_type": "code",
   "execution_count": 8,
   "id": "a81a7100-bf60-427b-a971-b5392d5ed642",
   "metadata": {},
   "outputs": [],
   "source": [
    "#6\n",
    "def prod(a,b):\n",
    "    return a*b"
   ]
  },
  {
   "cell_type": "code",
   "execution_count": 9,
   "id": "d4aef728-d73d-4b5f-84af-8a5109a39fb4",
   "metadata": {},
   "outputs": [
    {
     "data": {
      "text/plain": [
       "6"
      ]
     },
     "execution_count": 9,
     "metadata": {},
     "output_type": "execute_result"
    }
   ],
   "source": [
    "prod(2,3)"
   ]
  },
  {
   "cell_type": "markdown",
   "id": "c0ec161a-bef2-4ff3-9aaa-b07048338534",
   "metadata": {},
   "source": [
    "# Function Parameters and Arguments:"
   ]
  },
  {
   "cell_type": "code",
   "execution_count": 10,
   "id": "e113df6e-0ce7-4a20-b45a-1981569d4a63",
   "metadata": {},
   "outputs": [],
   "source": [
    "#1 \n",
    "#Formal arguments are the variables used in the function definition to accept the value that is passed from the function call statement. \n",
    "# Actual arguments are the actual values that are passed to the formal arguments in the function call statement. "
   ]
  },
  {
   "cell_type": "code",
   "execution_count": 11,
   "id": "eb504160-d8ef-4541-a1a6-0d9c96e5e317",
   "metadata": {},
   "outputs": [],
   "source": [
    "#2 \n",
    "def sample_func(a=10,b=20):\n",
    "    return a+b"
   ]
  },
  {
   "cell_type": "code",
   "execution_count": 12,
   "id": "596d5767-b991-4963-87c7-5c18e710ed43",
   "metadata": {},
   "outputs": [
    {
     "data": {
      "text/plain": [
       "30"
      ]
     },
     "execution_count": 12,
     "metadata": {},
     "output_type": "execute_result"
    }
   ],
   "source": [
    "sample_func()"
   ]
  },
  {
   "cell_type": "code",
   "execution_count": 13,
   "id": "38cff8e8-6978-476e-867a-cd719dbdc618",
   "metadata": {},
   "outputs": [
    {
     "data": {
      "text/plain": [
       "38"
      ]
     },
     "execution_count": 13,
     "metadata": {},
     "output_type": "execute_result"
    }
   ],
   "source": [
    "sample_func(11,27)"
   ]
  },
  {
   "cell_type": "code",
   "execution_count": 16,
   "id": "015ec910-8e05-4f39-a6cd-fec4e421a276",
   "metadata": {},
   "outputs": [],
   "source": [
    "#3\n",
    "# We use keyword arguments in function calls as follows\n",
    "\n",
    "def sample_func(a,b):\n",
    "    print(f\"The value of a & b is {a} & {b} respectively\")\n",
    "    return a+b"
   ]
  },
  {
   "cell_type": "code",
   "execution_count": 17,
   "id": "604e83c4-f657-417f-bc35-1b7a61923eae",
   "metadata": {},
   "outputs": [
    {
     "name": "stdout",
     "output_type": "stream",
     "text": [
      "The value of a & b is 7 & 20 respectively\n"
     ]
    },
    {
     "data": {
      "text/plain": [
       "27"
      ]
     },
     "execution_count": 17,
     "metadata": {},
     "output_type": "execute_result"
    }
   ],
   "source": [
    "sample_func(b=20,a=7)"
   ]
  },
  {
   "cell_type": "code",
   "execution_count": 1,
   "id": "b1ca69cb-8d1a-4d7c-9d42-1a6744fd9f17",
   "metadata": {},
   "outputs": [],
   "source": [
    "#4\n",
    "def variable_arguments_function(*args):\n",
    "    return sum(args)"
   ]
  },
  {
   "cell_type": "code",
   "execution_count": 2,
   "id": "42f87be5-2bfd-4cf2-a1d1-1c252ab0b655",
   "metadata": {},
   "outputs": [
    {
     "data": {
      "text/plain": [
       "15"
      ]
     },
     "execution_count": 2,
     "metadata": {},
     "output_type": "execute_result"
    }
   ],
   "source": [
    "variable_arguments_function(1,2,3,4,5)"
   ]
  },
  {
   "cell_type": "code",
   "execution_count": 3,
   "id": "434ac698-e8cb-4545-92e4-28c0642fc3ea",
   "metadata": {},
   "outputs": [
    {
     "data": {
      "text/plain": [
       "6"
      ]
     },
     "execution_count": 3,
     "metadata": {},
     "output_type": "execute_result"
    }
   ],
   "source": [
    "variable_arguments_function(1,2,3)"
   ]
  },
  {
   "cell_type": "code",
   "execution_count": 5,
   "id": "f855ffe4-ab8d-4aa8-af45-37e57cc11f50",
   "metadata": {},
   "outputs": [],
   "source": [
    "#5\n",
    "# *args is used to pass variable number of parameters/arguments to a function\n",
    "# **kwargs is used to pass variable number of key - value pairs (keyword arguments) to a function\n",
    "# Instead of args & kwargs, we can specify any different name as well. But the prefix has to be * / **"
   ]
  },
  {
   "cell_type": "markdown",
   "id": "220b7af0-eae5-4b55-bd2e-4ebbdcfda6fa",
   "metadata": {},
   "source": [
    "# Return Values & Scoping"
   ]
  },
  {
   "cell_type": "code",
   "execution_count": 7,
   "id": "b36e3b7f-d83a-4aac-a32a-90db54f51b4d",
   "metadata": {},
   "outputs": [],
   "source": [
    "#1\n",
    "# Role of return statement is used to terminate the function execution & pass the result back to the function call statement"
   ]
  },
  {
   "cell_type": "code",
   "execution_count": 11,
   "id": "da33a638-6b9d-48da-8376-22bc485c8ef5",
   "metadata": {},
   "outputs": [],
   "source": [
    "#3\n",
    "# A function with another function as an argument or returns a function as an output is called the High order function\n",
    "\n",
    "def prod1(a,b):\n",
    "    def prod2():\n",
    "        return a*b\n",
    "    return prod2()"
   ]
  },
  {
   "cell_type": "code",
   "execution_count": 13,
   "id": "6fdecedf-d21d-4c1b-ac77-a847dbd33814",
   "metadata": {},
   "outputs": [
    {
     "data": {
      "text/plain": [
       "6"
      ]
     },
     "execution_count": 13,
     "metadata": {},
     "output_type": "execute_result"
    }
   ],
   "source": [
    "prod1(2,3)"
   ]
  },
  {
   "cell_type": "markdown",
   "id": "ac1bcff4-cc47-4327-ae62-4b5184aba089",
   "metadata": {},
   "source": [
    "# Lambda Functions and Higher-Order Functions:"
   ]
  },
  {
   "cell_type": "code",
   "execution_count": 23,
   "id": "d5697adb-60c6-4403-9526-cc227b8e812d",
   "metadata": {},
   "outputs": [],
   "source": [
    "#1\n",
    "# Lambda functions are similar to normal functions. But they don't have a name & hence they are also called anonymous functions. They are used to define a function in a single line of code"
   ]
  },
  {
   "cell_type": "code",
   "execution_count": null,
   "id": "6e8af8a3-925d-479d-9283-6bcb0235c351",
   "metadata": {},
   "outputs": [],
   "source": [
    "#3\n",
    "# Higher order functions use functions as a parameter / argument (or) return functions as output\n",
    "# Map, Filter & Reduce are examples of higher order functions\n",
    "\n",
    "'''\n",
    "Example\n",
    "\n",
    "lst=[1,2,3,4,5]\n",
    "list(map(lambda x:x**2,lst))\n",
    "\n",
    "Here lambda is a function & map uses lambda function as a parameter / argument. Hence it is a Higher order function. \n",
    "\n",
    "'''"
   ]
  },
  {
   "cell_type": "code",
   "execution_count": 25,
   "id": "1a833876-cf45-47e9-8f78-9dcfc511a649",
   "metadata": {},
   "outputs": [
    {
     "data": {
      "text/plain": [
       "[2, 4]"
      ]
     },
     "execution_count": 25,
     "metadata": {},
     "output_type": "execute_result"
    }
   ],
   "source": [
    "#4\n",
    "lst=[1,2,3,4,5]\n",
    "list(filter(lambda x:x%2==0,lst))"
   ]
  },
  {
   "cell_type": "markdown",
   "id": "23402ab9-ae9e-49ab-8384-6d71699a2231",
   "metadata": {},
   "source": [
    "# Built-in Functions:"
   ]
  },
  {
   "cell_type": "code",
   "execution_count": null,
   "id": "4870556f-a3a5-4b28-ab23-c03469f62ed6",
   "metadata": {},
   "outputs": [],
   "source": [
    "#1\n",
    "# len() - Returns the number of elements in an object\n",
    "# max() - Returns the maximum value of element present in an object\n",
    "# min() - Returns the minimum value of element present in an object"
   ]
  },
  {
   "cell_type": "code",
   "execution_count": 20,
   "id": "e267013f-c33c-4766-ab96-6fda5757285c",
   "metadata": {},
   "outputs": [
    {
     "data": {
      "text/plain": [
       "[1, 4, 9, 16, 25]"
      ]
     },
     "execution_count": 20,
     "metadata": {},
     "output_type": "execute_result"
    }
   ],
   "source": [
    "#2\n",
    "lst=[1,2,3,4,5]\n",
    "list(map(lambda x:x**2,lst))"
   ]
  },
  {
   "cell_type": "code",
   "execution_count": null,
   "id": "2a96e525-1d29-4437-b259-13401e0ade5f",
   "metadata": {},
   "outputs": [],
   "source": [
    "#3\n",
    "# Filter function is used to filter the iterable based on a specific condition / function"
   ]
  },
  {
   "cell_type": "code",
   "execution_count": 22,
   "id": "7624b253-dafc-4cb7-af8b-040520ac3a01",
   "metadata": {},
   "outputs": [
    {
     "data": {
      "text/plain": [
       "120"
      ]
     },
     "execution_count": 22,
     "metadata": {},
     "output_type": "execute_result"
    }
   ],
   "source": [
    "#4\n",
    "from functools import reduce\n",
    "lst=[1,2,3,4,5]\n",
    "reduce(lambda x,y:x*y,lst)"
   ]
  },
  {
   "cell_type": "markdown",
   "id": "7460d99c-af87-476d-87de-7d561b2fa99a",
   "metadata": {},
   "source": [
    "# Function Documentation and Best Practices"
   ]
  },
  {
   "cell_type": "code",
   "execution_count": 14,
   "id": "67acceff-e495-48b1-8bd7-b7bd9cce6259",
   "metadata": {},
   "outputs": [],
   "source": [
    "#1 \n",
    "# Docstrings provide a convenient way of documentation with Python functions. It provides what a function does. \n",
    "# It is declared with triple-single quotes (or) triple double-quotes\n",
    "\n",
    "def func():\n",
    "    '''\n",
    "    This is a sample function to explain how a docstring is provided\n",
    "    '''\n",
    "    pass\n",
    "    "
   ]
  },
  {
   "cell_type": "code",
   "execution_count": 16,
   "id": "a5b0d1b0-b507-47ef-a735-d635054b6164",
   "metadata": {},
   "outputs": [
    {
     "data": {
      "text/plain": [
       "'\\nNaming Conventions\\n\\nFunction - Camelcase - All characters / words should be in small case, separated by underscores\\nVariable - Camelcase - All characters / words should be in small case, separated by underscores\\n'"
      ]
     },
     "execution_count": 16,
     "metadata": {},
     "output_type": "execute_result"
    }
   ],
   "source": [
    "#2 \n",
    "'''\n",
    "Naming Conventions\n",
    "\n",
    "Function - Camelcase - All characters / words should be in small case, separated by underscores\n",
    "Variable - Camelcase - All characters / words should be in small case, separated by underscores\n",
    "'''"
   ]
  },
  {
   "cell_type": "code",
   "execution_count": null,
   "id": "51c441d5-80cc-4096-8ccb-245b3686566c",
   "metadata": {
    "tags": []
   },
   "outputs": [],
   "source": []
  }
 ],
 "metadata": {
  "kernelspec": {
   "display_name": "Python 3 (ipykernel)",
   "language": "python",
   "name": "python3"
  },
  "language_info": {
   "codemirror_mode": {
    "name": "ipython",
    "version": 3
   },
   "file_extension": ".py",
   "mimetype": "text/x-python",
   "name": "python",
   "nbconvert_exporter": "python",
   "pygments_lexer": "ipython3",
   "version": "3.10.8"
  }
 },
 "nbformat": 4,
 "nbformat_minor": 5
}
