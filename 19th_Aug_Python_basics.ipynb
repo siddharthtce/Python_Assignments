{
 "cells": [
  {
   "cell_type": "markdown",
   "id": "e091293e-e4a0-4c25-a4fd-166381980536",
   "metadata": {},
   "source": [
    "TOPIC: Python Basics Variable"
   ]
  },
  {
   "cell_type": "markdown",
   "id": "44fcd01d-ac04-4ef1-a836-569e7a6ee13f",
   "metadata": {},
   "source": [
    "1. Declare two variables, `x` and `y`, and assign them integer values. Swap the values of these variables without using any temporary variable."
   ]
  },
  {
   "cell_type": "code",
   "execution_count": 10,
   "id": "ada148a0-ceb7-458f-bf57-6e6c39bff173",
   "metadata": {},
   "outputs": [],
   "source": [
    "x=10\n",
    "y=5"
   ]
  },
  {
   "cell_type": "code",
   "execution_count": 11,
   "id": "a125783e-fa28-4b34-bf30-d9ec4b7cd2a9",
   "metadata": {},
   "outputs": [],
   "source": [
    "x=x+y\n",
    "y=x-y\n",
    "x=x-y"
   ]
  },
  {
   "cell_type": "code",
   "execution_count": 12,
   "id": "3b73feae-9fe6-4aee-aaf5-5e980be2b3c8",
   "metadata": {},
   "outputs": [
    {
     "name": "stdout",
     "output_type": "stream",
     "text": [
      "The value of x & y is 5 10\n"
     ]
    }
   ],
   "source": [
    "print(\"The value of x & y is\",x,y)"
   ]
  },
  {
   "cell_type": "markdown",
   "id": "9fa1aeb8-b417-4d28-8115-f7dfe5526ee4",
   "metadata": {},
   "source": [
    "2. Create a program that calculates the area of a rectangle. Take the length and width as inputs from the user and store them in variables. Calculate and display the area."
   ]
  },
  {
   "cell_type": "code",
   "execution_count": 13,
   "id": "47792670-558a-425b-a7ea-d696262bc392",
   "metadata": {},
   "outputs": [
    {
     "name": "stdin",
     "output_type": "stream",
     "text": [
      "Enter the length of the rectangle 3\n"
     ]
    }
   ],
   "source": [
    "l = int(input(\"Enter the length of the rectangle\"))"
   ]
  },
  {
   "cell_type": "code",
   "execution_count": 14,
   "id": "718d1e86-3b19-4eb0-adcb-f428c4dba9ae",
   "metadata": {},
   "outputs": [
    {
     "name": "stdin",
     "output_type": "stream",
     "text": [
      "Enter the length of the rectangle 4\n"
     ]
    }
   ],
   "source": [
    "b = int(input(\"Enter the length of the rectangle\"))"
   ]
  },
  {
   "cell_type": "code",
   "execution_count": 15,
   "id": "e1ce47d2-cb0b-430a-8b14-c1d8a5a04677",
   "metadata": {},
   "outputs": [],
   "source": [
    "area= l * b"
   ]
  },
  {
   "cell_type": "code",
   "execution_count": 16,
   "id": "0da237b7-7cf5-4869-9399-00297a507c3c",
   "metadata": {},
   "outputs": [
    {
     "name": "stdout",
     "output_type": "stream",
     "text": [
      "The area of the rectangle is 12\n"
     ]
    }
   ],
   "source": [
    "print(\"The area of the rectangle is\",area)"
   ]
  },
  {
   "cell_type": "markdown",
   "id": "2c79b2f6-31fd-4bd8-b28e-e6bd82dad41d",
   "metadata": {},
   "source": [
    "3. Write a Python program that converts temperature from Celsius to Fahrenheit. Take the temperature in Celsius as input, store it in a variable, convert it to Fahrenheit, and display the result."
   ]
  },
  {
   "cell_type": "code",
   "execution_count": 17,
   "id": "63a7b997-af9c-4809-910a-551225479f2d",
   "metadata": {},
   "outputs": [
    {
     "name": "stdin",
     "output_type": "stream",
     "text": [
      "Enter the temperature in celcius 63\n"
     ]
    }
   ],
   "source": [
    "c=float(input(\"Enter the temperature in celcius\"))"
   ]
  },
  {
   "cell_type": "code",
   "execution_count": 18,
   "id": "e12f7610-d112-4e14-86c3-c81bee0a623c",
   "metadata": {},
   "outputs": [],
   "source": [
    "f=(c*9/5)+32"
   ]
  },
  {
   "cell_type": "code",
   "execution_count": 19,
   "id": "b32e1b36-3c79-4a6e-b022-153971d5405f",
   "metadata": {},
   "outputs": [
    {
     "name": "stdout",
     "output_type": "stream",
     "text": [
      "The converted temperature to fahrenheit is 145.4\n"
     ]
    }
   ],
   "source": [
    "print(\"The converted temperature to fahrenheit is\",f)"
   ]
  },
  {
   "cell_type": "markdown",
   "id": "74686fa9-f19d-4af6-a955-3b68cbd9577e",
   "metadata": {},
   "source": [
    "TOPIC: String Based Questions"
   ]
  },
  {
   "cell_type": "markdown",
   "id": "0dfa6947-859e-4ceb-9512-f3f2964e02b3",
   "metadata": {},
   "source": [
    "1. Write a Python program that takes a string as input and prints the length of the string."
   ]
  },
  {
   "cell_type": "code",
   "execution_count": 21,
   "id": "a377347f-6ab2-4db1-b101-71cb41c8de73",
   "metadata": {},
   "outputs": [
    {
     "name": "stdin",
     "output_type": "stream",
     "text": [
      "Enter the string for which length has to be found Siddharth\n"
     ]
    }
   ],
   "source": [
    "st = str(input(\"Enter the string for which length has to be found\"))"
   ]
  },
  {
   "cell_type": "code",
   "execution_count": 22,
   "id": "5c89720b-5d43-4d5c-82ac-8b98e771e479",
   "metadata": {},
   "outputs": [],
   "source": [
    "length = len(st)"
   ]
  },
  {
   "cell_type": "code",
   "execution_count": 23,
   "id": "aa567776-0d5a-47f8-8d75-984e4c4f2584",
   "metadata": {},
   "outputs": [
    {
     "name": "stdout",
     "output_type": "stream",
     "text": [
      "The length of the entered string is 9\n"
     ]
    }
   ],
   "source": [
    "print(\"The length of the entered string is\",length)"
   ]
  },
  {
   "cell_type": "markdown",
   "id": "91fba4e1-d2b3-410e-bd61-31e7a29ae510",
   "metadata": {},
   "source": [
    "2. Create a program that takes a sentence from the user and counts the number of vowels (a, e, i, o, u) in the string."
   ]
  },
  {
   "cell_type": "code",
   "execution_count": 11,
   "id": "c8784ed9-f969-492a-be80-4c19bf7c7ee6",
   "metadata": {},
   "outputs": [],
   "source": [
    "st = \"Hello, this is the text\""
   ]
  },
  {
   "cell_type": "code",
   "execution_count": 13,
   "id": "1537e4a3-f066-4dd1-adac-9921740b1371",
   "metadata": {},
   "outputs": [
    {
     "name": "stdout",
     "output_type": "stream",
     "text": [
      "6\n"
     ]
    }
   ],
   "source": [
    "count=0\n",
    "for i in st:\n",
    "    if i in ['a','e','i','o','u']:\n",
    "        count=count+1\n",
    "        \n",
    "print(count)"
   ]
  },
  {
   "cell_type": "markdown",
   "id": "fe84a49a-dd92-4723-aed0-931ae025f0c9",
   "metadata": {},
   "source": [
    "3. Given a string, reverse the order of characters using string slicing and print the reversed string."
   ]
  },
  {
   "cell_type": "code",
   "execution_count": 17,
   "id": "658d0f31-3a38-41b9-8609-a6eab54b00bd",
   "metadata": {},
   "outputs": [],
   "source": [
    "st = \"Malayalam\""
   ]
  },
  {
   "cell_type": "code",
   "execution_count": 18,
   "id": "f6f42140-1fca-484f-97e0-9b22312f4623",
   "metadata": {},
   "outputs": [],
   "source": [
    "rev_st = st[::-1]"
   ]
  },
  {
   "cell_type": "code",
   "execution_count": 19,
   "id": "1d4923a7-59c6-4c88-b16c-9495f8dffc1b",
   "metadata": {},
   "outputs": [
    {
     "name": "stdout",
     "output_type": "stream",
     "text": [
      "The reversed string is malayalaM\n"
     ]
    }
   ],
   "source": [
    "print(\"The reversed string is\", rev_st)"
   ]
  },
  {
   "cell_type": "markdown",
   "id": "579d18e5-4eca-4f40-be1c-2a4065944300",
   "metadata": {},
   "source": [
    "4. Write a program that takes a string as input and checks if it is a palindrome (reads the same forwards and backwards)."
   ]
  },
  {
   "cell_type": "code",
   "execution_count": 11,
   "id": "ac71c77f-d7b5-4f60-9a53-3770bcb97dc3",
   "metadata": {},
   "outputs": [
    {
     "name": "stdin",
     "output_type": "stream",
     "text": [
      "Enter the text which needs to be verified for Palindrome malayalam\n"
     ]
    }
   ],
   "source": [
    "st = str(input(\"Enter the text which needs to be verified for Palindrome\"))"
   ]
  },
  {
   "cell_type": "code",
   "execution_count": 12,
   "id": "62feb38b-1dea-459a-8976-6fcbf23549f7",
   "metadata": {},
   "outputs": [
    {
     "name": "stdout",
     "output_type": "stream",
     "text": [
      "The entered text is a palindrome\n"
     ]
    }
   ],
   "source": [
    "rev=st[::-1] #Perform the reverse slicing of the entered string\n",
    "if st == rev:\n",
    "    print(\"The entered text is a palindrome\")\n",
    "else:\n",
    "    print(\"The entered text is not a palindrome\")"
   ]
  },
  {
   "cell_type": "markdown",
   "id": "33069b48-1f94-4b5f-a33a-32a51b208d08",
   "metadata": {},
   "source": [
    "5. Create a program that takes a string as input and removes all the spaces from it. Print the modified string without spaces."
   ]
  },
  {
   "cell_type": "code",
   "execution_count": 1,
   "id": "3bd85ef8-2a71-4e75-9928-c30c13db69a8",
   "metadata": {},
   "outputs": [
    {
     "name": "stdin",
     "output_type": "stream",
     "text": [
      "Enter the text for which the white space has to be removed Hello this is the text\n"
     ]
    }
   ],
   "source": [
    "st = str(input(\"Enter the text for which the white space has to be removed\"))"
   ]
  },
  {
   "cell_type": "code",
   "execution_count": 2,
   "id": "eeecf089-4199-4f63-ae6a-7dae7df5a41c",
   "metadata": {},
   "outputs": [],
   "source": [
    "updated_text = st.replace(\" \", \"\")"
   ]
  },
  {
   "cell_type": "code",
   "execution_count": 5,
   "id": "edd30056-ced7-4065-993d-48042f6f4360",
   "metadata": {},
   "outputs": [
    {
     "name": "stdout",
     "output_type": "stream",
     "text": [
      "The text after removing white space is Hellothisisthetext\n"
     ]
    }
   ],
   "source": [
    "print(\"The text after removing white space is\", updated_text)"
   ]
  }
 ],
 "metadata": {
  "kernelspec": {
   "display_name": "Python 3 (ipykernel)",
   "language": "python",
   "name": "python3"
  },
  "language_info": {
   "codemirror_mode": {
    "name": "ipython",
    "version": 3
   },
   "file_extension": ".py",
   "mimetype": "text/x-python",
   "name": "python",
   "nbconvert_exporter": "python",
   "pygments_lexer": "ipython3",
   "version": "3.10.8"
  }
 },
 "nbformat": 4,
 "nbformat_minor": 5
}
