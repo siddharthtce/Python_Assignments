{
 "cells": [
  {
   "cell_type": "markdown",
   "id": "5957db88-2e92-40a9-8141-4a884fe5a73e",
   "metadata": {},
   "source": [
    "TOPIC: String Based Assignment Problem"
   ]
  },
  {
   "cell_type": "code",
   "execution_count": 2,
   "id": "0ebe6710-7e0b-4d0f-a17c-2c41b22e5af8",
   "metadata": {},
   "outputs": [
    {
     "name": "stdout",
     "output_type": "stream",
     "text": [
      "The reversed string is olleH\n"
     ]
    }
   ],
   "source": [
    "#1\n",
    "st=\"Hello\"\n",
    "rev_st=st[::-1]\n",
    "print(\"The reversed string is\",rev_st)"
   ]
  },
  {
   "cell_type": "code",
   "execution_count": 4,
   "id": "0dee079c-7155-4dbd-aa66-477a5f996687",
   "metadata": {},
   "outputs": [
    {
     "name": "stdout",
     "output_type": "stream",
     "text": [
      "The string is not a palindrome\n"
     ]
    }
   ],
   "source": [
    "#2\n",
    "st1=\"Word\"\n",
    "rev_st1=st1[::-1]\n",
    "if st1==rev_st1:\n",
    "    print(\"The string is a palindrome\")\n",
    "else:\n",
    "    print(\"The string is not a palindrome\")"
   ]
  },
  {
   "cell_type": "code",
   "execution_count": 5,
   "id": "10302466-b04a-46bb-969b-d4ac4722a51f",
   "metadata": {},
   "outputs": [
    {
     "name": "stdout",
     "output_type": "stream",
     "text": [
      "Upper case text is TEXT\n"
     ]
    }
   ],
   "source": [
    "#3\n",
    "st2=\"Text\"\n",
    "print(\"Upper case text is\",st2.upper())"
   ]
  },
  {
   "cell_type": "code",
   "execution_count": 6,
   "id": "cdd23500-0987-4b2c-badb-5518d1bf6e89",
   "metadata": {},
   "outputs": [
    {
     "name": "stdout",
     "output_type": "stream",
     "text": [
      "Lower case text is text\n"
     ]
    }
   ],
   "source": [
    "#4\n",
    "st3=\"TEXT\"\n",
    "print(\"Lower case text is\",st3.lower())"
   ]
  },
  {
   "cell_type": "code",
   "execution_count": 2,
   "id": "53bf71ee-fa61-4a71-a137-3bcfb6ccf2de",
   "metadata": {},
   "outputs": [
    {
     "name": "stdout",
     "output_type": "stream",
     "text": [
      "The total number of vowels in the string is 1\n"
     ]
    }
   ],
   "source": [
    "#5\n",
    "st=\"word\"\n",
    "count=0\n",
    "for i in st:\n",
    "    if i in ['a','e','i','o','u']:\n",
    "        count=count+1\n",
    "\n",
    "print(\"The total number of vowels in the string is\",count)"
   ]
  },
  {
   "cell_type": "code",
   "execution_count": 2,
   "id": "7f647139-fbc9-4af0-b22a-cd89c493b8f7",
   "metadata": {},
   "outputs": [
    {
     "name": "stdout",
     "output_type": "stream",
     "text": [
      "The total number of consonents in the string is 3\n"
     ]
    }
   ],
   "source": [
    "#6 \n",
    "st=\"word\"\n",
    "count=0\n",
    "for i in st:\n",
    "    if i not in ['a','e','i','o','u']:\n",
    "        count=count+1\n",
    "\n",
    "print(\"The total number of consonents in the string is\",count)"
   ]
  },
  {
   "cell_type": "code",
   "execution_count": 1,
   "id": "02dde6be-dd48-4805-be2d-4c81cc7bd117",
   "metadata": {},
   "outputs": [
    {
     "name": "stdout",
     "output_type": "stream",
     "text": [
      "The string after removal of white space is Hi,howareyoudoing?\n"
     ]
    }
   ],
   "source": [
    "#7\n",
    "st=\"Hi, how are you doing?\"\n",
    "bst=\"\"\n",
    "for i in st:\n",
    "    if i != \" \":\n",
    "        bst=bst+i\n",
    "print(\"The string after removal of white space is\",bst)"
   ]
  },
  {
   "cell_type": "code",
   "execution_count": 2,
   "id": "f1a88c52-ce75-489d-815d-33360708b827",
   "metadata": {},
   "outputs": [
    {
     "name": "stdout",
     "output_type": "stream",
     "text": [
      "The length of the string is 22\n"
     ]
    }
   ],
   "source": [
    "#8\n",
    "st=\"Hi, this is the string\"\n",
    "count=0\n",
    "for i in st:\n",
    "    count=count+1\n",
    "print(\"The length of the string is\",count)"
   ]
  },
  {
   "cell_type": "code",
   "execution_count": 13,
   "id": "6a71caa8-b207-4e9d-9d28-58d83395edd0",
   "metadata": {},
   "outputs": [
    {
     "name": "stdout",
     "output_type": "stream",
     "text": [
      "The string contains the specific word\n"
     ]
    }
   ],
   "source": [
    "#9\n",
    "st=\"Hi, this is the string\"\n",
    "x=\"the\"\n",
    "ls=st.split()\n",
    "ls\n",
    "count=0\n",
    "for i in ls:\n",
    "    if i==x:\n",
    "        count=count+1\n",
    "if count!=0:\n",
    "    print(\"The string contains the specific word\")\n",
    "else:\n",
    "    print(\"The string does not contain the specific word\")"
   ]
  },
  {
   "cell_type": "code",
   "execution_count": 6,
   "id": "d135d3c3-c4c5-4771-ac1b-cd8b7427ddb9",
   "metadata": {},
   "outputs": [
    {
     "name": "stdout",
     "output_type": "stream",
     "text": [
      "The string contains the specific word\n"
     ]
    }
   ],
   "source": [
    "st=\"Hi, this is the string\"\n",
    "x=\"the\"\n",
    "if x in st:\n",
    "    print(\"The string contains the specific word\")\n",
    "else:\n",
    "    print(\"The string does not contain the specific word\")"
   ]
  },
  {
   "cell_type": "code",
   "execution_count": 3,
   "id": "2aaef491-b976-4a09-8f7f-ad786040b1b6",
   "metadata": {},
   "outputs": [
    {
     "data": {
      "text/plain": [
       "'This is coding exercise'"
      ]
     },
     "execution_count": 3,
     "metadata": {},
     "output_type": "execute_result"
    }
   ],
   "source": [
    "#10\n",
    "st=\"This is Python exercise\"\n",
    "st.replace(\"Python\", \"coding\")"
   ]
  },
  {
   "cell_type": "code",
   "execution_count": 17,
   "id": "97011367-4b42-4f21-a8fc-e572c83523ac",
   "metadata": {},
   "outputs": [
    {
     "name": "stdout",
     "output_type": "stream",
     "text": [
      "['I', 'live', 'in', 'Chennai', 'and', 'Chennai', 'is', 'the', 'capital', 'of', 'Tamil', 'Nadu']\n",
      "The word Chennai is present in the string 2 times\n"
     ]
    }
   ],
   "source": [
    "#11\n",
    "st=\"I live in Chennai and Chennai is the capital of Tamil Nadu\"\n",
    "ls=st.split()\n",
    "print(ls)\n",
    "count=0\n",
    "for i in ls:\n",
    "    if i==\"Chennai\":\n",
    "        count=count+1\n",
    "print(\"The word Chennai is present in the string\",count,\"times\")"
   ]
  },
  {
   "cell_type": "code",
   "execution_count": 4,
   "id": "b6643390-8719-4379-9a3a-93bbe1887f91",
   "metadata": {},
   "outputs": [
    {
     "data": {
      "text/plain": [
       "8"
      ]
     },
     "execution_count": 4,
     "metadata": {},
     "output_type": "execute_result"
    }
   ],
   "source": [
    "#12\n",
    "st=\"This is Python exercise\"\n",
    "st.find(\"Python\")"
   ]
  },
  {
   "cell_type": "code",
   "execution_count": 22,
   "id": "a56faf63-4fef-41a0-b476-3307e032758b",
   "metadata": {},
   "outputs": [
    {
     "data": {
      "text/plain": [
       "-1"
      ]
     },
     "execution_count": 22,
     "metadata": {},
     "output_type": "execute_result"
    }
   ],
   "source": [
    "#13\n",
    "st=\"This is Python exercise\"\n",
    "st.rfind(\"Hello\")"
   ]
  },
  {
   "cell_type": "code",
   "execution_count": 8,
   "id": "487b2fc3-b5eb-40f4-aaeb-9f375dfcf95e",
   "metadata": {},
   "outputs": [
    {
     "data": {
      "text/plain": [
       "['This', 'is', 'Python', 'exercise']"
      ]
     },
     "execution_count": 8,
     "metadata": {},
     "output_type": "execute_result"
    }
   ],
   "source": [
    "#14\n",
    "st.split(\" \")"
   ]
  },
  {
   "cell_type": "code",
   "execution_count": 1,
   "id": "d0001b1f-2154-41cc-9386-f030f22cf8e8",
   "metadata": {},
   "outputs": [],
   "source": [
    "#15\n",
    "lst = ['This', 'is', 'Python', 'exercise']"
   ]
  },
  {
   "cell_type": "code",
   "execution_count": 4,
   "id": "ef8c43cd-1f8d-4f68-b43b-c09f6ecd148e",
   "metadata": {},
   "outputs": [
    {
     "name": "stdout",
     "output_type": "stream",
     "text": [
      "This is Python exercise\n"
     ]
    }
   ],
   "source": [
    "print(\" \".join(lst))"
   ]
  },
  {
   "cell_type": "code",
   "execution_count": 15,
   "id": "b4d28a97-299b-403b-b802-5a840224132e",
   "metadata": {},
   "outputs": [
    {
     "data": {
      "text/plain": [
       "'This_is_Python_exercise'"
      ]
     },
     "execution_count": 15,
     "metadata": {},
     "output_type": "execute_result"
    }
   ],
   "source": [
    "#16\n",
    "st.replace(\" \", \"_\")"
   ]
  },
  {
   "cell_type": "code",
   "execution_count": 18,
   "id": "b079fa09-91a8-4e3b-b3d3-839c867448ec",
   "metadata": {},
   "outputs": [
    {
     "data": {
      "text/plain": [
       "True"
      ]
     },
     "execution_count": 18,
     "metadata": {},
     "output_type": "execute_result"
    }
   ],
   "source": [
    "#17\n",
    "st.startswith('This')"
   ]
  },
  {
   "cell_type": "code",
   "execution_count": 21,
   "id": "3633f42a-b685-4b04-9454-4c499cb81c2c",
   "metadata": {},
   "outputs": [
    {
     "data": {
      "text/plain": [
       "True"
      ]
     },
     "execution_count": 21,
     "metadata": {},
     "output_type": "execute_result"
    }
   ],
   "source": [
    "#18\n",
    "st.endswith(\"exercise\")"
   ]
  },
  {
   "cell_type": "code",
   "execution_count": 2,
   "id": "44b50a64-ad8f-4f91-81f1-7f2c1f253649",
   "metadata": {},
   "outputs": [
    {
     "data": {
      "text/plain": [
       "'Hello World'"
      ]
     },
     "execution_count": 2,
     "metadata": {},
     "output_type": "execute_result"
    }
   ],
   "source": [
    "#19\n",
    "st1=\"hello world\"\n",
    "st1.title()"
   ]
  },
  {
   "cell_type": "code",
   "execution_count": 9,
   "id": "beecd5a3-f306-4352-982a-8cee7b2157e3",
   "metadata": {},
   "outputs": [
    {
     "name": "stdout",
     "output_type": "stream",
     "text": [
      "The longest word in the sentence is ' sentence '\n"
     ]
    }
   ],
   "source": [
    "#20\n",
    "st=\"This is the sample sentence\"\n",
    "ls=st.split()\n",
    "le=0\n",
    "longest_word=\"\"\n",
    "for i in ls:\n",
    "    if len(i)>le:\n",
    "        le=len(i)\n",
    "        longest_word=i\n",
    "print(\"The longest word in the sentence is '\",longest_word,\"'\")\n",
    "        "
   ]
  },
  {
   "cell_type": "code",
   "execution_count": 10,
   "id": "3e74d399-aaea-41a5-adaa-2ce45a01b486",
   "metadata": {},
   "outputs": [
    {
     "name": "stdout",
     "output_type": "stream",
     "text": [
      "The shortest word in the sentence is ' is '\n"
     ]
    }
   ],
   "source": [
    "#21\n",
    "st=\"This is the sample sentence\"\n",
    "ls=st.split()\n",
    "le=30\n",
    "shortest_word=\"\"\n",
    "for i in ls:\n",
    "    if len(i)<le:\n",
    "        le=len(i)\n",
    "        shortest_word=i\n",
    "print(\"The shortest word in the sentence is '\",shortest_word,\"'\")"
   ]
  },
  {
   "cell_type": "code",
   "execution_count": 16,
   "id": "981f6899-f92e-4d85-9266-a18634a29249",
   "metadata": {},
   "outputs": [
    {
     "name": "stdout",
     "output_type": "stream",
     "text": [
      "The reversed string is ' sentence sample the is This '\n"
     ]
    }
   ],
   "source": [
    "#22\n",
    "st+\"This is the sample sentence\"\n",
    "ls=st.split()\n",
    "rev_ls=ls[::-1]\n",
    "print(\"The reversed string is '\",\" \".join(rev_ls),\"'\")"
   ]
  },
  {
   "cell_type": "code",
   "execution_count": 26,
   "id": "46c4f974-0f2b-47ae-bc13-93e6e85b519b",
   "metadata": {},
   "outputs": [
    {
     "data": {
      "text/plain": [
       "False"
      ]
     },
     "execution_count": 26,
     "metadata": {},
     "output_type": "execute_result"
    }
   ],
   "source": [
    "#23\n",
    "st.isalnum()"
   ]
  },
  {
   "cell_type": "code",
   "execution_count": 32,
   "id": "71123086-7d04-48c2-b1b5-635b4fca8b2e",
   "metadata": {},
   "outputs": [
    {
     "name": "stdout",
     "output_type": "stream",
     "text": [
      "12\n"
     ]
    }
   ],
   "source": [
    "#24\n",
    "st=\"1. My name is Sid 2. My friend's name is Ajay\"\n",
    "text=\"\"\n",
    "for i in st:\n",
    "    if i.isnumeric():\n",
    "        text= text+i\n",
    "print(text)"
   ]
  },
  {
   "cell_type": "code",
   "execution_count": 33,
   "id": "0a1e8314-4002-4a3d-aba3-fbb534369872",
   "metadata": {},
   "outputs": [
    {
     "name": "stdout",
     "output_type": "stream",
     "text": [
      "MynameisSidMyfriendsnameisAjay\n"
     ]
    }
   ],
   "source": [
    "#25\n",
    "st=\"1. My name is Sid 2. My friend's name is Ajay\"\n",
    "text=\"\"\n",
    "for i in st:\n",
    "    if i.isalpha():\n",
    "        text= text+i\n",
    "print(text)"
   ]
  },
  {
   "cell_type": "code",
   "execution_count": 3,
   "id": "64c4f541-3556-490a-b4e3-353aa4c34bf9",
   "metadata": {},
   "outputs": [
    {
     "name": "stdout",
     "output_type": "stream",
     "text": [
      "The number of upper letters is 2\n"
     ]
    }
   ],
   "source": [
    "#26\n",
    "st=\"Ajay Gunaseelan\"\n",
    "count=0\n",
    "for i in st:\n",
    "    if i.isupper():\n",
    "        count=count+1\n",
    "print(\"The number of upper letters is\",count)"
   ]
  },
  {
   "cell_type": "code",
   "execution_count": 39,
   "id": "4665d388-a977-498d-abc4-55e97a201466",
   "metadata": {},
   "outputs": [
    {
     "name": "stdout",
     "output_type": "stream",
     "text": [
      "The number of lowercase letters is 12\n"
     ]
    }
   ],
   "source": [
    "#27\n",
    "st=\"Ajay Gunaseelan\"\n",
    "count=0\n",
    "for i in st:\n",
    "    if i.islower():\n",
    "        count=count+1\n",
    "print(\"The number of lowercase letters is\",count)"
   ]
  },
  {
   "cell_type": "code",
   "execution_count": 17,
   "id": "b4b82800-708b-42a8-a3a6-9d7b9f1f9a9b",
   "metadata": {},
   "outputs": [
    {
     "name": "stdout",
     "output_type": "stream",
     "text": [
      "aJAY gUNASEELAN\n"
     ]
    }
   ],
   "source": [
    "#28\n",
    "st=\"Ajay Gunaseelan\"\n",
    "swapped_st=st.swapcase()\n",
    "print(swapped_st)"
   ]
  },
  {
   "cell_type": "code",
   "execution_count": 22,
   "id": "92362810-420d-4a15-9c5c-39311036382a",
   "metadata": {},
   "outputs": [
    {
     "name": "stdout",
     "output_type": "stream",
     "text": [
      "This is sentence\n"
     ]
    }
   ],
   "source": [
    "#29\n",
    "st=\"This is the sentence\"\n",
    "ls=st.split()\n",
    "word_to_remove=\"the\"\n",
    "new_ls=[]\n",
    "for i in ls:\n",
    "    if i!=word_to_remove:\n",
    "        new_ls.append(i)    \n",
    "print(\" \".join(new_ls))"
   ]
  },
  {
   "cell_type": "code",
   "execution_count": 50,
   "id": "90d9e632-1c75-41e9-8c57-d424c7b6087d",
   "metadata": {},
   "outputs": [
    {
     "name": "stdout",
     "output_type": "stream",
     "text": [
      "The EMAIL ID is not valid\n"
     ]
    }
   ],
   "source": [
    "#30\n",
    "st=\"siddharthtce@gmail.com\"\n",
    "email=\"@gmail.com1\"\n",
    "if email in st:\n",
    "    print(\"The EMAIL ID is valid\")\n",
    "else:\n",
    "    print(\"The EMAIL ID is not valid\")"
   ]
  },
  {
   "cell_type": "markdown",
   "id": "f0588d85-9230-4726-9431-b2200069cfa5",
   "metadata": {},
   "source": [
    "List Based Practice Problem :"
   ]
  },
  {
   "cell_type": "code",
   "execution_count": 5,
   "id": "4002f26f-f4cd-40ce-a131-d67bbe43dcc6",
   "metadata": {},
   "outputs": [
    {
     "name": "stdout",
     "output_type": "stream",
     "text": [
      "[1, 2, 3, 4, 5, 6, 7, 8, 9, 10]\n"
     ]
    }
   ],
   "source": [
    "#1\n",
    "lst=list(range(1,11))\n",
    "print(lst)"
   ]
  },
  {
   "cell_type": "code",
   "execution_count": 6,
   "id": "58367582-8755-4cfa-be7c-a4c7d02fc29c",
   "metadata": {},
   "outputs": [
    {
     "name": "stdout",
     "output_type": "stream",
     "text": [
      "the length of the lsit is 7\n"
     ]
    }
   ],
   "source": [
    "#2\n",
    "lst=[1,2,3,4,5,6,7]\n",
    "count=0\n",
    "for i in lst:\n",
    "    count=count+1\n",
    "print(\"the length of the lsit is\",count)"
   ]
  },
  {
   "cell_type": "code",
   "execution_count": 7,
   "id": "578ef5ea-694a-4a6d-b012-880e8255d27e",
   "metadata": {},
   "outputs": [],
   "source": [
    "#3\n",
    "lst.append(11)"
   ]
  },
  {
   "cell_type": "code",
   "execution_count": 8,
   "id": "59d5cbb4-6430-437e-95a8-df2d532a1c32",
   "metadata": {},
   "outputs": [
    {
     "data": {
      "text/plain": [
       "[1, 2, 3, 4, 5, 6, 7, 11]"
      ]
     },
     "execution_count": 8,
     "metadata": {},
     "output_type": "execute_result"
    }
   ],
   "source": [
    "lst"
   ]
  },
  {
   "cell_type": "code",
   "execution_count": 9,
   "id": "b6d63589-1a4d-422b-a27f-81bccca9fe4e",
   "metadata": {},
   "outputs": [],
   "source": [
    "#4\n",
    "lst.insert(2,3)"
   ]
  },
  {
   "cell_type": "code",
   "execution_count": 10,
   "id": "83b3633a-a8c8-4089-9e4f-1e794abf3d86",
   "metadata": {},
   "outputs": [
    {
     "data": {
      "text/plain": [
       "[1, 2, 3, 3, 4, 5, 6, 7, 11]"
      ]
     },
     "execution_count": 10,
     "metadata": {},
     "output_type": "execute_result"
    }
   ],
   "source": [
    "lst"
   ]
  },
  {
   "cell_type": "code",
   "execution_count": 11,
   "id": "2f12e491-b4a0-4616-b9c1-37dfec5b215c",
   "metadata": {},
   "outputs": [],
   "source": [
    "#5\n",
    "lst.remove(2)"
   ]
  },
  {
   "cell_type": "code",
   "execution_count": 12,
   "id": "c02b7b0a-500f-4fae-88c3-a9e0a015381b",
   "metadata": {},
   "outputs": [
    {
     "data": {
      "text/plain": [
       "[1, 3, 3, 4, 5, 6, 7, 11]"
      ]
     },
     "execution_count": 12,
     "metadata": {},
     "output_type": "execute_result"
    }
   ],
   "source": [
    "lst"
   ]
  },
  {
   "cell_type": "code",
   "execution_count": 11,
   "id": "b50b20e8-73ac-49f3-9dcd-09ce7b38a187",
   "metadata": {},
   "outputs": [
    {
     "data": {
      "text/plain": [
       "5"
      ]
     },
     "execution_count": 11,
     "metadata": {},
     "output_type": "execute_result"
    }
   ],
   "source": [
    "#6\n",
    "lst.pop(4)"
   ]
  },
  {
   "cell_type": "code",
   "execution_count": 13,
   "id": "af2a51f3-f29f-4cba-9a1f-f5de580d38d5",
   "metadata": {},
   "outputs": [
    {
     "data": {
      "text/plain": [
       "[1, 3, 3, 4, 5, 6, 7, 11]"
      ]
     },
     "execution_count": 13,
     "metadata": {},
     "output_type": "execute_result"
    }
   ],
   "source": [
    "lst"
   ]
  },
  {
   "cell_type": "code",
   "execution_count": 15,
   "id": "bb84b622-d45b-485f-8899-951cba402690",
   "metadata": {},
   "outputs": [
    {
     "name": "stdout",
     "output_type": "stream",
     "text": [
      "The element is not present in the list\n"
     ]
    }
   ],
   "source": [
    "#7\n",
    "count=0\n",
    "n=50\n",
    "for i in lst:\n",
    "    if i ==50:\n",
    "        count = count+1\n",
    "if count !=0:\n",
    "    print(\"The element is present in the list\")\n",
    "else:\n",
    "    print(\"The element is not present in the list\")"
   ]
  },
  {
   "cell_type": "code",
   "execution_count": 14,
   "id": "734127ad-e06c-45cb-9ce0-02ee871ddd94",
   "metadata": {},
   "outputs": [
    {
     "data": {
      "text/plain": [
       "1"
      ]
     },
     "execution_count": 14,
     "metadata": {},
     "output_type": "execute_result"
    }
   ],
   "source": [
    "#9\n",
    "lst.count(4)"
   ]
  },
  {
   "cell_type": "code",
   "execution_count": 16,
   "id": "de486d4a-083e-4992-b1c3-46d8b6b4334d",
   "metadata": {},
   "outputs": [
    {
     "name": "stdout",
     "output_type": "stream",
     "text": [
      "The element 50 is present 0 times\n"
     ]
    }
   ],
   "source": [
    "#9\n",
    "count=0\n",
    "n=50\n",
    "for i in lst:\n",
    "    if i ==n:\n",
    "        count = count+1\n",
    "print(\"The element\",n, \"is present\",count,\"times\")"
   ]
  },
  {
   "cell_type": "code",
   "execution_count": 17,
   "id": "85e1fdf0-40a9-45c4-b253-09a672210685",
   "metadata": {},
   "outputs": [
    {
     "data": {
      "text/plain": [
       "[11, 7, 6, 5, 4, 3, 3, 1]"
      ]
     },
     "execution_count": 17,
     "metadata": {},
     "output_type": "execute_result"
    }
   ],
   "source": [
    "#10\n",
    "lst[::-1]"
   ]
  },
  {
   "cell_type": "code",
   "execution_count": 30,
   "id": "97f0b831-af76-4d0f-a070-77c74b814c9a",
   "metadata": {},
   "outputs": [],
   "source": [
    "lst=[42,49,10,45,1,5,19]"
   ]
  },
  {
   "cell_type": "code",
   "execution_count": 34,
   "id": "66517852-f855-434f-b592-94a5b267c1f9",
   "metadata": {},
   "outputs": [],
   "source": [
    "#11\n",
    "lst.sort()"
   ]
  },
  {
   "cell_type": "code",
   "execution_count": 35,
   "id": "cc71c3fa-029e-4218-84ca-7ae88053c589",
   "metadata": {},
   "outputs": [
    {
     "name": "stdout",
     "output_type": "stream",
     "text": [
      "[1, 5, 10, 19, 42, 45, 49]\n"
     ]
    }
   ],
   "source": [
    "print(lst)"
   ]
  },
  {
   "cell_type": "code",
   "execution_count": 36,
   "id": "7fc5f292-512d-47a8-bc35-6cdfbcddec01",
   "metadata": {},
   "outputs": [],
   "source": [
    "#12\n",
    "lst.sort(reverse=True)"
   ]
  },
  {
   "cell_type": "code",
   "execution_count": 37,
   "id": "1e327bf0-ab76-4b3b-8c47-ac8527eb0d6c",
   "metadata": {},
   "outputs": [
    {
     "data": {
      "text/plain": [
       "[49, 45, 42, 19, 10, 5, 1]"
      ]
     },
     "execution_count": 37,
     "metadata": {},
     "output_type": "execute_result"
    }
   ],
   "source": [
    "lst"
   ]
  },
  {
   "cell_type": "code",
   "execution_count": 38,
   "id": "fcd15064-ca0e-4887-bd66-7779f648312d",
   "metadata": {},
   "outputs": [],
   "source": [
    "#13\n",
    "lst=list(range(2,21,2))"
   ]
  },
  {
   "cell_type": "code",
   "execution_count": 39,
   "id": "8d4975a1-1493-4e41-b333-83ec0cda5add",
   "metadata": {},
   "outputs": [
    {
     "data": {
      "text/plain": [
       "[2, 4, 6, 8, 10, 12, 14, 16, 18, 20]"
      ]
     },
     "execution_count": 39,
     "metadata": {},
     "output_type": "execute_result"
    }
   ],
   "source": [
    "lst"
   ]
  },
  {
   "cell_type": "code",
   "execution_count": 40,
   "id": "a117a9de-da2e-402c-9039-e52de0b055b2",
   "metadata": {},
   "outputs": [],
   "source": [
    "#14\n",
    "lst=list(range(1,21,2))"
   ]
  },
  {
   "cell_type": "code",
   "execution_count": 41,
   "id": "f7fdc8dd-9ff9-46bf-8f83-e65c1b2895cf",
   "metadata": {},
   "outputs": [
    {
     "data": {
      "text/plain": [
       "[1, 3, 5, 7, 9, 11, 13, 15, 17, 19]"
      ]
     },
     "execution_count": 41,
     "metadata": {},
     "output_type": "execute_result"
    }
   ],
   "source": [
    "lst"
   ]
  },
  {
   "cell_type": "code",
   "execution_count": 42,
   "id": "0d9ba8ff-d526-46ea-b8b9-b9ae687bef75",
   "metadata": {},
   "outputs": [
    {
     "name": "stdout",
     "output_type": "stream",
     "text": [
      "The sume of elements in the list is 100\n"
     ]
    }
   ],
   "source": [
    "#15\n",
    "lst=[1, 3, 5, 7, 9, 11, 13, 15, 17, 19]\n",
    "sum=0\n",
    "for i in lst:\n",
    "    sum=sum+i\n",
    "print(\"The sum of elements in the list is\",sum)"
   ]
  },
  {
   "cell_type": "code",
   "execution_count": 44,
   "id": "1c98da04-c8e2-4322-988b-c90e264370e5",
   "metadata": {},
   "outputs": [
    {
     "name": "stdout",
     "output_type": "stream",
     "text": [
      "The maximum value in the list is 19\n"
     ]
    }
   ],
   "source": [
    "#16\n",
    "print(\"The maximum value in the list is\",max(lst))"
   ]
  },
  {
   "cell_type": "code",
   "execution_count": 45,
   "id": "8360c60c-f97d-4a08-8a9b-d86e36671205",
   "metadata": {},
   "outputs": [
    {
     "name": "stdout",
     "output_type": "stream",
     "text": [
      "The minimum value in the list is 1\n"
     ]
    }
   ],
   "source": [
    "#17\n",
    "print(\"The minimum value in the list is\",min(lst))"
   ]
  },
  {
   "cell_type": "code",
   "execution_count": 47,
   "id": "5af056a0-8522-4077-9e10-103292744e74",
   "metadata": {},
   "outputs": [],
   "source": [
    "#23\n",
    "lst1=[1,2,3,4,5]\n",
    "lst2=[6,7,8,9,10]\n",
    "lst1.extend(lst2)"
   ]
  },
  {
   "cell_type": "code",
   "execution_count": 48,
   "id": "12541447-b856-45e2-8334-c1100c3edea2",
   "metadata": {},
   "outputs": [
    {
     "data": {
      "text/plain": [
       "[1, 2, 3, 4, 5, 6, 7, 8, 9, 10]"
      ]
     },
     "execution_count": 48,
     "metadata": {},
     "output_type": "execute_result"
    }
   ],
   "source": [
    "lst1"
   ]
  },
  {
   "cell_type": "code",
   "execution_count": 51,
   "id": "27d6ddd8-6331-4fa4-a084-ba4d89529432",
   "metadata": {},
   "outputs": [
    {
     "name": "stdout",
     "output_type": "stream",
     "text": [
      "2\n",
      "4\n",
      "6\n",
      "8\n",
      "10\n",
      "12\n",
      "14\n",
      "16\n",
      "18\n",
      "20\n"
     ]
    }
   ],
   "source": [
    "#24\n",
    "for i in lst1:\n",
    "    print(i*2)"
   ]
  },
  {
   "cell_type": "code",
   "execution_count": 58,
   "id": "2f3d5893-e64b-4552-93b0-abc79a102d78",
   "metadata": {},
   "outputs": [
    {
     "name": "stdout",
     "output_type": "stream",
     "text": [
      "1\n",
      "2\n",
      "3\n",
      "4\n",
      "5\n"
     ]
    }
   ],
   "source": [
    "#26\n",
    "lst=['1','2','3','4','5']\n",
    "for i in lst:\n",
    "    print(int(i))"
   ]
  },
  {
   "cell_type": "code",
   "execution_count": 19,
   "id": "ae6173cd-3374-43a4-b6eb-edeee7026ca8",
   "metadata": {},
   "outputs": [
    {
     "name": "stdout",
     "output_type": "stream",
     "text": [
      "1\n",
      "2\n",
      "3\n",
      "4\n",
      "5\n"
     ]
    }
   ],
   "source": [
    "#27\n",
    "lst=[1,2,3,4,5]\n",
    "for i in lst:\n",
    "    print(str(i))"
   ]
  },
  {
   "cell_type": "markdown",
   "id": "369e8674-0bb4-4a66-9e74-5293ae3e1134",
   "metadata": {},
   "source": [
    "Tuple Based Practice Problem :"
   ]
  },
  {
   "cell_type": "code",
   "execution_count": 1,
   "id": "9f439e6a-18c6-4574-89ec-cc18b666b712",
   "metadata": {},
   "outputs": [],
   "source": [
    "a={}"
   ]
  },
  {
   "cell_type": "code",
   "execution_count": 2,
   "id": "51caea7d-ca91-4090-81a4-e6a15493aa62",
   "metadata": {},
   "outputs": [
    {
     "data": {
      "text/plain": [
       "dict"
      ]
     },
     "execution_count": 2,
     "metadata": {},
     "output_type": "execute_result"
    }
   ],
   "source": [
    "type(a)"
   ]
  },
  {
   "cell_type": "code",
   "execution_count": 21,
   "id": "099665a1-f6a4-4601-823c-2ef874593f93",
   "metadata": {},
   "outputs": [],
   "source": [
    "#1\n",
    "a=(1,2,3,4,5)"
   ]
  },
  {
   "cell_type": "code",
   "execution_count": 4,
   "id": "19241851-433d-4fff-9284-16a6c3c2c599",
   "metadata": {},
   "outputs": [
    {
     "data": {
      "text/plain": [
       "(1, 2, 3, 4, 5)"
      ]
     },
     "execution_count": 4,
     "metadata": {},
     "output_type": "execute_result"
    }
   ],
   "source": [
    "a"
   ]
  },
  {
   "cell_type": "code",
   "execution_count": 22,
   "id": "72e2b4fb-aca7-4908-80a0-b2d856c3bd22",
   "metadata": {},
   "outputs": [
    {
     "data": {
      "text/plain": [
       "3"
      ]
     },
     "execution_count": 22,
     "metadata": {},
     "output_type": "execute_result"
    }
   ],
   "source": [
    "#2\n",
    "a[2]"
   ]
  },
  {
   "cell_type": "code",
   "execution_count": 23,
   "id": "e44198c3-8689-4c0a-8296-a625a88a3072",
   "metadata": {},
   "outputs": [
    {
     "name": "stdout",
     "output_type": "stream",
     "text": [
      "The length of tuple is 5\n"
     ]
    }
   ],
   "source": [
    "#3\n",
    "len=0\n",
    "for i in a:\n",
    "    len=len+1\n",
    "print(\"The length of tuple is\",len)"
   ]
  },
  {
   "cell_type": "code",
   "execution_count": 24,
   "id": "a077481b-0c94-4b95-a5cb-893e5fdb11e8",
   "metadata": {},
   "outputs": [
    {
     "data": {
      "text/plain": [
       "1"
      ]
     },
     "execution_count": 24,
     "metadata": {},
     "output_type": "execute_result"
    }
   ],
   "source": [
    "#4\n",
    "a.count(2)"
   ]
  },
  {
   "cell_type": "code",
   "execution_count": 25,
   "id": "3f751946-fd04-4ebb-80c6-d843a8ecf404",
   "metadata": {},
   "outputs": [
    {
     "data": {
      "text/plain": [
       "1"
      ]
     },
     "execution_count": 25,
     "metadata": {},
     "output_type": "execute_result"
    }
   ],
   "source": [
    "#5\n",
    "a.index(2)"
   ]
  },
  {
   "cell_type": "code",
   "execution_count": 26,
   "id": "c966aa66-84c0-4b61-987a-498d279f4e05",
   "metadata": {},
   "outputs": [],
   "source": [
    "#7\n",
    "lst=list(a)"
   ]
  },
  {
   "cell_type": "code",
   "execution_count": 27,
   "id": "e48f4f6a-4b16-4794-bc0b-adbd6421b374",
   "metadata": {},
   "outputs": [
    {
     "data": {
      "text/plain": [
       "list"
      ]
     },
     "execution_count": 27,
     "metadata": {},
     "output_type": "execute_result"
    }
   ],
   "source": [
    "type(lst)"
   ]
  },
  {
   "cell_type": "code",
   "execution_count": 28,
   "id": "853434bb-9cc6-4bf6-97e5-012268a933f8",
   "metadata": {},
   "outputs": [],
   "source": [
    "tup=tuple(lst)"
   ]
  },
  {
   "cell_type": "code",
   "execution_count": 29,
   "id": "0a5b7eec-c94b-4408-823b-9afa55ffdf5b",
   "metadata": {},
   "outputs": [
    {
     "data": {
      "text/plain": [
       "tuple"
      ]
     },
     "execution_count": 29,
     "metadata": {},
     "output_type": "execute_result"
    }
   ],
   "source": [
    "type(tup)"
   ]
  },
  {
   "cell_type": "code",
   "execution_count": 30,
   "id": "0efa611e-7a12-4d52-9ce4-f6465cd4364a",
   "metadata": {},
   "outputs": [
    {
     "data": {
      "text/plain": [
       "(1, 2, 3, 4, 5)"
      ]
     },
     "execution_count": 30,
     "metadata": {},
     "output_type": "execute_result"
    }
   ],
   "source": [
    "tup"
   ]
  },
  {
   "cell_type": "code",
   "execution_count": 22,
   "id": "a6c4b01f-36d8-4efa-9762-f26d63d07ef0",
   "metadata": {},
   "outputs": [
    {
     "name": "stdout",
     "output_type": "stream",
     "text": [
      "The tuple is not empty\n"
     ]
    }
   ],
   "source": [
    "#14\n",
    "count=0\n",
    "for i in tup:\n",
    "    count=count+1\n",
    "if count!=0:\n",
    "    print(\"The tuple is not empty\")"
   ]
  },
  {
   "cell_type": "code",
   "execution_count": 24,
   "id": "01551353-f516-45db-a6ab-1646d88ecef8",
   "metadata": {},
   "outputs": [
    {
     "name": "stdout",
     "output_type": "stream",
     "text": [
      "The tuples are not equal\n"
     ]
    }
   ],
   "source": [
    "#18\n",
    "tup1 = (1,2,3,4,5)\n",
    "tup2 = (6,7,8,9,10)\n",
    "if tup1==tup2:\n",
    "    print(\"The tuples are equal\")\n",
    "else:\n",
    "    print(\"The tuples are not equal\")"
   ]
  },
  {
   "cell_type": "code",
   "execution_count": 25,
   "id": "7210f391-8fee-4541-a961-eb035563fa9a",
   "metadata": {},
   "outputs": [],
   "source": [
    "#19\n",
    "del(tup)"
   ]
  },
  {
   "cell_type": "code",
   "execution_count": 27,
   "id": "af1b2ecc-07a6-4cc9-99ab-34294a1f7dd9",
   "metadata": {},
   "outputs": [
    {
     "data": {
      "text/plain": [
       "392"
      ]
     },
     "execution_count": 27,
     "metadata": {},
     "output_type": "execute_result"
    }
   ],
   "source": [
    "#21\n",
    "tup=(42,391,392,10,94,94,19)\n",
    "max(tup)"
   ]
  },
  {
   "cell_type": "code",
   "execution_count": 28,
   "id": "fcd51d11-049f-43fb-97fc-47fac32bb54c",
   "metadata": {},
   "outputs": [
    {
     "data": {
      "text/plain": [
       "10"
      ]
     },
     "execution_count": 28,
     "metadata": {},
     "output_type": "execute_result"
    }
   ],
   "source": [
    "#22\n",
    "min(tup)"
   ]
  },
  {
   "cell_type": "code",
   "execution_count": 29,
   "id": "4edb0ae1-d8a5-4b44-ae31-0b098d5ff96b",
   "metadata": {},
   "outputs": [
    {
     "data": {
      "text/plain": [
       "(1, 2, 3, 4, 5, 6, 7, 8, 9, 10)"
      ]
     },
     "execution_count": 29,
     "metadata": {},
     "output_type": "execute_result"
    }
   ],
   "source": [
    "#30\n",
    "tup1+tup2"
   ]
  },
  {
   "cell_type": "markdown",
   "id": "f3ccfd63-7e5a-45b7-a05c-2f329dd04c5b",
   "metadata": {},
   "source": [
    "Set Based Practice Problem :"
   ]
  },
  {
   "cell_type": "code",
   "execution_count": 31,
   "id": "24f035ef-ce9b-4aa2-bb70-0b659a311117",
   "metadata": {},
   "outputs": [],
   "source": [
    "#1\n",
    "st={1,2,3,4,5}"
   ]
  },
  {
   "cell_type": "code",
   "execution_count": 2,
   "id": "0e3b0b4b-355f-4203-a87b-76ec17b8f225",
   "metadata": {},
   "outputs": [
    {
     "data": {
      "text/plain": [
       "{1, 2, 3, 4, 5}"
      ]
     },
     "execution_count": 2,
     "metadata": {},
     "output_type": "execute_result"
    }
   ],
   "source": [
    "st"
   ]
  },
  {
   "cell_type": "code",
   "execution_count": 3,
   "id": "a17d12f6-1567-4c4f-9888-9a9f46e80bdd",
   "metadata": {},
   "outputs": [],
   "source": [
    "#2\n",
    "st.add(6)"
   ]
  },
  {
   "cell_type": "code",
   "execution_count": 4,
   "id": "f6278de6-c712-4a0b-b063-eae577e20547",
   "metadata": {},
   "outputs": [
    {
     "data": {
      "text/plain": [
       "{1, 2, 3, 4, 5, 6}"
      ]
     },
     "execution_count": 4,
     "metadata": {},
     "output_type": "execute_result"
    }
   ],
   "source": [
    "st"
   ]
  },
  {
   "cell_type": "code",
   "execution_count": 5,
   "id": "1b975763-6e6c-4939-8b55-42299842bedc",
   "metadata": {},
   "outputs": [],
   "source": [
    "#3\n",
    "st.remove(3)"
   ]
  },
  {
   "cell_type": "code",
   "execution_count": 6,
   "id": "f10e849e-0346-4d80-9b62-9100c82cdd64",
   "metadata": {},
   "outputs": [
    {
     "data": {
      "text/plain": [
       "{1, 2, 4, 5, 6}"
      ]
     },
     "execution_count": 6,
     "metadata": {},
     "output_type": "execute_result"
    }
   ],
   "source": [
    "st"
   ]
  },
  {
   "cell_type": "code",
   "execution_count": 32,
   "id": "f40089a6-ea0d-4492-b4d6-023ff808ac27",
   "metadata": {},
   "outputs": [
    {
     "data": {
      "text/plain": [
       "{1, 2, 3, 4, 5}"
      ]
     },
     "execution_count": 32,
     "metadata": {},
     "output_type": "execute_result"
    }
   ],
   "source": [
    "st"
   ]
  },
  {
   "cell_type": "code",
   "execution_count": 33,
   "id": "c7565574-5455-4422-b1f9-bdba55fb3dfe",
   "metadata": {},
   "outputs": [],
   "source": [
    "st1={4,2,4,54,1,1,9}"
   ]
  },
  {
   "cell_type": "code",
   "execution_count": 34,
   "id": "95999031-cd16-4757-82ba-01bba55ddb32",
   "metadata": {},
   "outputs": [
    {
     "data": {
      "text/plain": [
       "{1, 2, 3, 4, 5, 9, 54}"
      ]
     },
     "execution_count": 34,
     "metadata": {},
     "output_type": "execute_result"
    }
   ],
   "source": [
    "#9\n",
    "st.union(st1)"
   ]
  },
  {
   "cell_type": "code",
   "execution_count": 9,
   "id": "8586f0d2-9427-414f-9a11-21ca9e1c9583",
   "metadata": {},
   "outputs": [
    {
     "data": {
      "text/plain": [
       "{2, 4}"
      ]
     },
     "execution_count": 9,
     "metadata": {},
     "output_type": "execute_result"
    }
   ],
   "source": [
    "#10\n",
    "st.intersection(st1)"
   ]
  },
  {
   "cell_type": "code",
   "execution_count": 10,
   "id": "83cec174-e3a4-4448-9133-b56272fc6514",
   "metadata": {},
   "outputs": [
    {
     "data": {
      "text/plain": [
       "{3, 5}"
      ]
     },
     "execution_count": 10,
     "metadata": {},
     "output_type": "execute_result"
    }
   ],
   "source": [
    "#11\n",
    "st.difference(st1)"
   ]
  },
  {
   "cell_type": "code",
   "execution_count": 11,
   "id": "aabc5d11-ffbf-4e84-82c4-ad4debfb1093",
   "metadata": {},
   "outputs": [
    {
     "data": {
      "text/plain": [
       "False"
      ]
     },
     "execution_count": 11,
     "metadata": {},
     "output_type": "execute_result"
    }
   ],
   "source": [
    "#12\n",
    "st.issubset(st1)"
   ]
  },
  {
   "cell_type": "code",
   "execution_count": 12,
   "id": "27081b61-a9f2-4c71-8de2-cc339450f388",
   "metadata": {},
   "outputs": [],
   "source": [
    "st={0,1,2}\n",
    "st1={0,1,2,3,4}"
   ]
  },
  {
   "cell_type": "code",
   "execution_count": 13,
   "id": "27672fee-17a8-44a2-b6eb-fa8139c1484f",
   "metadata": {},
   "outputs": [
    {
     "data": {
      "text/plain": [
       "True"
      ]
     },
     "execution_count": 13,
     "metadata": {},
     "output_type": "execute_result"
    }
   ],
   "source": [
    "st.issubset(st1)"
   ]
  },
  {
   "cell_type": "code",
   "execution_count": 14,
   "id": "01cc13bd-8f20-43b7-851f-932887924ab1",
   "metadata": {},
   "outputs": [
    {
     "data": {
      "text/plain": [
       "True"
      ]
     },
     "execution_count": 14,
     "metadata": {},
     "output_type": "execute_result"
    }
   ],
   "source": [
    "#13\n",
    "st1.issuperset(st)"
   ]
  },
  {
   "cell_type": "code",
   "execution_count": 18,
   "id": "76db4d2e-6995-4706-8562-edc8ab9f0956",
   "metadata": {},
   "outputs": [
    {
     "data": {
      "text/plain": [
       "{1, 2, 3, 4, 5, 6, 7, 8, 9, 10}"
      ]
     },
     "execution_count": 18,
     "metadata": {},
     "output_type": "execute_result"
    }
   ],
   "source": [
    "st"
   ]
  },
  {
   "cell_type": "code",
   "execution_count": 20,
   "id": "3774e556-8219-45ec-a71c-b8a1a6d76d2f",
   "metadata": {},
   "outputs": [
    {
     "name": "stdout",
     "output_type": "stream",
     "text": [
      "2\n",
      "4\n",
      "6\n",
      "8\n",
      "10\n"
     ]
    }
   ],
   "source": [
    "#26\n",
    "for i in st:\n",
    "    if i%2==0:\n",
    "        print(i)"
   ]
  },
  {
   "cell_type": "code",
   "execution_count": 26,
   "id": "18068e07-df50-4d94-9383-763eb6470c4f",
   "metadata": {},
   "outputs": [
    {
     "name": "stdout",
     "output_type": "stream",
     "text": [
      "The set is not empty\n"
     ]
    }
   ],
   "source": [
    "#29\n",
    "count=0\n",
    "st={1,42,39,2,39}\n",
    "for i in st:\n",
    "    count=count+1\n",
    "if count ==0:\n",
    "    print(\"The set is empty\")\n",
    "else:\n",
    "    print(\"The set is not empty\")"
   ]
  },
  {
   "cell_type": "code",
   "execution_count": 25,
   "id": "3555eb3e-ec1b-408f-be2c-4b228aa402bd",
   "metadata": {},
   "outputs": [
    {
     "name": "stdout",
     "output_type": "stream",
     "text": [
      "The set created from string is {'T', 's', 'n', 'e', 'r', 'h', 't', 'g', 'i', 'S', ' '}\n"
     ]
    }
   ],
   "source": [
    "#33\n",
    "string=\"This is the String\"\n",
    "st=set(string)\n",
    "print(\"The set created from string is\",st)"
   ]
  },
  {
   "cell_type": "code",
   "execution_count": 24,
   "id": "464179d2-1be4-450d-b4c3-21ef1f6f220c",
   "metadata": {},
   "outputs": [
    {
     "data": {
      "text/plain": [
       "{2, 19, 39, 49, 59, 219}"
      ]
     },
     "execution_count": 24,
     "metadata": {},
     "output_type": "execute_result"
    }
   ],
   "source": [
    "#34\n",
    "sts={'19', '2', '219', '39', '49', '59'}\n",
    "st=set()\n",
    "for i in sts:\n",
    "    st.add(int(i))\n",
    "st"
   ]
  },
  {
   "cell_type": "code",
   "execution_count": 23,
   "id": "c32590c6-e1ac-41bd-871c-8843176a5752",
   "metadata": {},
   "outputs": [
    {
     "data": {
      "text/plain": [
       "{'19', '2', '219', '39', '49', '59'}"
      ]
     },
     "execution_count": 23,
     "metadata": {},
     "output_type": "execute_result"
    }
   ],
   "source": [
    "#35\n",
    "st={2,49,49,219,19,39,59,19}\n",
    "sts=set()\n",
    "for i in st:\n",
    "    sts.add(str(i))\n",
    "sts"
   ]
  },
  {
   "cell_type": "code",
   "execution_count": 20,
   "id": "1ec53c47-a229-441d-9c4b-f2bf54e18d01",
   "metadata": {},
   "outputs": [
    {
     "data": {
      "text/plain": [
       "{1, 2, 4, 5, 32}"
      ]
     },
     "execution_count": 20,
     "metadata": {},
     "output_type": "execute_result"
    }
   ],
   "source": [
    "#36\n",
    "tup=(1,4,2,32,1,4,2,5)\n",
    "st=set(tup)\n",
    "st"
   ]
  },
  {
   "cell_type": "code",
   "execution_count": 21,
   "id": "06210003-03f6-41a3-8429-cff9b7b5d282",
   "metadata": {},
   "outputs": [
    {
     "data": {
      "text/plain": [
       "(0, 1, 2, 3, 5, 6, 9, 91)"
      ]
     },
     "execution_count": 21,
     "metadata": {},
     "output_type": "execute_result"
    }
   ],
   "source": [
    "#37\n",
    "st={1,3,2,5,6,91,1,0,3,9}\n",
    "tup=tuple(st)\n",
    "tup"
   ]
  },
  {
   "cell_type": "code",
   "execution_count": 19,
   "id": "bb9fc1ec-85fa-4e49-87dd-189e147c0233",
   "metadata": {},
   "outputs": [
    {
     "name": "stdout",
     "output_type": "stream",
     "text": [
      "The maximum value of the set is 59\n"
     ]
    }
   ],
   "source": [
    "#38\n",
    "s-{3,1,4,9,0,1,44,10,59}\n",
    "print(\"The maximum value of the set is\",max(s))"
   ]
  },
  {
   "cell_type": "code",
   "execution_count": 18,
   "id": "627cb96c-058a-4cfd-aab8-6fd46a945ea5",
   "metadata": {},
   "outputs": [
    {
     "name": "stdout",
     "output_type": "stream",
     "text": [
      "The minimum value of the set is 1\n"
     ]
    }
   ],
   "source": [
    "#39\n",
    "s={3,1,4,59,3,54}\n",
    "print(\"The minimum value of the set is\",min(s))"
   ]
  },
  {
   "cell_type": "code",
   "execution_count": 16,
   "id": "a51f036b-95bb-4480-8238-351be13b54be",
   "metadata": {},
   "outputs": [
    {
     "name": "stdin",
     "output_type": "stream",
     "text": [
      "Enter the number to be added to the set 3\n",
      "Enter the number to be added to the set 4\n",
      "Enter the number to be added to the set 9\n",
      "Enter the number to be added to the set 1\n",
      "Enter the number to be added to the set 5\n"
     ]
    },
    {
     "name": "stdout",
     "output_type": "stream",
     "text": [
      "{1, 3, 4, 5, 9}\n"
     ]
    }
   ],
   "source": [
    "#40\n",
    "s=set()\n",
    "for i in range(5):\n",
    "    s.add(int(input(\"Enter the number to be added to the set\")))\n",
    "print(s)"
   ]
  },
  {
   "cell_type": "code",
   "execution_count": 12,
   "id": "beab435f-03a3-4d64-9199-4eb1604a4b71",
   "metadata": {},
   "outputs": [
    {
     "data": {
      "text/plain": [
       "set()"
      ]
     },
     "execution_count": 12,
     "metadata": {},
     "output_type": "execute_result"
    }
   ],
   "source": [
    "#41\n",
    "s1={1,2,3}\n",
    "s2={4,5,6}\n",
    "s1.intersection(s2)"
   ]
  },
  {
   "cell_type": "code",
   "execution_count": 10,
   "id": "917717aa-8bd4-4fdc-b743-3c0c96ba4ff8",
   "metadata": {},
   "outputs": [
    {
     "name": "stdout",
     "output_type": "stream",
     "text": [
      "{1, 2, 3}\n",
      "The new list after removing duplicates is [1, 2, 3]\n"
     ]
    }
   ],
   "source": [
    "#43\n",
    "ls=[1,2,3,1,2,3]\n",
    "sls=set(ls)\n",
    "print(sls)\n",
    "new_ls=list(sls)\n",
    "print(\"The new list after removing duplicates is\",new_ls)"
   ]
  },
  {
   "cell_type": "code",
   "execution_count": 7,
   "id": "b6bfb7d2-88c6-4ab2-987b-ebbc5bf0c6d9",
   "metadata": {},
   "outputs": [
    {
     "name": "stdout",
     "output_type": "stream",
     "text": [
      "The sets have different elements\n"
     ]
    }
   ],
   "source": [
    "#44\n",
    "s1={11,2,492,294,21,490,11,194,394,21,2}\n",
    "s2={11,492,194,490,394,21,2,294}\n",
    "if s1.difference(s2) == {}:\n",
    "    print(\"The sets have same elements\")\n",
    "else:\n",
    "    print(\"The sets have different elements\")"
   ]
  },
  {
   "cell_type": "code",
   "execution_count": 8,
   "id": "6d0862e6-796a-4ea6-85ad-da3ab53149dc",
   "metadata": {},
   "outputs": [
    {
     "name": "stdout",
     "output_type": "stream",
     "text": [
      "[2, 3, 0, 1, 6]\n"
     ]
    }
   ],
   "source": [
    "#45\n",
    "ls=[]\n",
    "for i in range(5):\n",
    "    ls.append(pow)\n",
    "print(ls)"
   ]
  },
  {
   "cell_type": "code",
   "execution_count": 3,
   "id": "e7acb035-f748-4b83-8387-0fceba097bc6",
   "metadata": {},
   "outputs": [
    {
     "data": {
      "text/plain": [
       "{42}"
      ]
     },
     "execution_count": 3,
     "metadata": {},
     "output_type": "execute_result"
    }
   ],
   "source": [
    "#46\n",
    "s={42,52,55,22,52}\n",
    "ls=[42,44,56,59,51]\n",
    "sls=set(ls)\n",
    "sls\n",
    "s.intersection(sls)"
   ]
  },
  {
   "cell_type": "code",
   "execution_count": 15,
   "id": "83469526-554f-4201-91e4-873437193170",
   "metadata": {},
   "outputs": [
    {
     "data": {
      "text/plain": [
       "True"
      ]
     },
     "execution_count": 15,
     "metadata": {},
     "output_type": "execute_result"
    }
   ],
   "source": [
    "#48\n",
    "s1={1,2,3,4,5}\n",
    "s2={4,5}\n",
    "s2.issubset(s1)"
   ]
  },
  {
   "cell_type": "code",
   "execution_count": 13,
   "id": "e0c2f22d-3ebb-4ae0-8c6e-c33716ec0a5e",
   "metadata": {},
   "outputs": [
    {
     "data": {
      "text/plain": [
       "{1, 2, 3, 4, 5, 6, 7, 8, 9, 10, 11, 12, 13, 14, 15}"
      ]
     },
     "execution_count": 13,
     "metadata": {},
     "output_type": "execute_result"
    }
   ],
   "source": [
    "#50\n",
    "s1={1,2,3,4,5}\n",
    "s2={6,7,8,9,10}\n",
    "s3={11,12,13,14,15}\n",
    "s=set()\n",
    "s=s1.union(s2,s3)\n",
    "s"
   ]
  },
  {
   "cell_type": "code",
   "execution_count": null,
   "id": "e0931dbc-091f-4af5-8d1b-829d3f35944b",
   "metadata": {},
   "outputs": [],
   "source": []
  }
 ],
 "metadata": {
  "kernelspec": {
   "display_name": "Python 3 (ipykernel)",
   "language": "python",
   "name": "python3"
  },
  "language_info": {
   "codemirror_mode": {
    "name": "ipython",
    "version": 3
   },
   "file_extension": ".py",
   "mimetype": "text/x-python",
   "name": "python",
   "nbconvert_exporter": "python",
   "pygments_lexer": "ipython3",
   "version": "3.10.8"
  }
 },
 "nbformat": 4,
 "nbformat_minor": 5
}
