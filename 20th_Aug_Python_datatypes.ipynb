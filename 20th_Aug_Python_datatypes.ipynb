{
 "cells": [
  {
   "cell_type": "markdown",
   "id": "5957db88-2e92-40a9-8141-4a884fe5a73e",
   "metadata": {},
   "source": [
    "TOPIC: String Based Assignment Problem"
   ]
  },
  {
   "cell_type": "code",
   "execution_count": 2,
   "id": "0ebe6710-7e0b-4d0f-a17c-2c41b22e5af8",
   "metadata": {},
   "outputs": [
    {
     "name": "stdout",
     "output_type": "stream",
     "text": [
      "The reversed string is olleH\n"
     ]
    }
   ],
   "source": [
    "st=\"Hello\"\n",
    "rev_st=st[::-1]\n",
    "print(\"The reversed string is\",rev_st)"
   ]
  },
  {
   "cell_type": "code",
   "execution_count": 4,
   "id": "0dee079c-7155-4dbd-aa66-477a5f996687",
   "metadata": {},
   "outputs": [
    {
     "name": "stdout",
     "output_type": "stream",
     "text": [
      "The string is not a palindrome\n"
     ]
    }
   ],
   "source": [
    "st1=\"Word\"\n",
    "rev_st1=st1[::-1]\n",
    "if st1==rev_st1:\n",
    "    print(\"The string is a palindrome\")\n",
    "else:\n",
    "    print(\"The string is not a palindrome\")"
   ]
  },
  {
   "cell_type": "code",
   "execution_count": 5,
   "id": "10302466-b04a-46bb-969b-d4ac4722a51f",
   "metadata": {},
   "outputs": [
    {
     "name": "stdout",
     "output_type": "stream",
     "text": [
      "Upper case text is TEXT\n"
     ]
    }
   ],
   "source": [
    "st2=\"Text\"\n",
    "print(\"Upper case text is\",st2.upper())"
   ]
  },
  {
   "cell_type": "code",
   "execution_count": 6,
   "id": "cdd23500-0987-4b2c-badb-5518d1bf6e89",
   "metadata": {},
   "outputs": [
    {
     "name": "stdout",
     "output_type": "stream",
     "text": [
      "Lower case text is text\n"
     ]
    }
   ],
   "source": [
    "st3=\"TEXT\"\n",
    "print(\"Lower case text is\",st3.lower())"
   ]
  },
  {
   "cell_type": "code",
   "execution_count": 2,
   "id": "53bf71ee-fa61-4a71-a137-3bcfb6ccf2de",
   "metadata": {},
   "outputs": [
    {
     "name": "stdout",
     "output_type": "stream",
     "text": [
      "The total number of vowels in the string is 1\n"
     ]
    }
   ],
   "source": [
    "st=\"word\"\n",
    "count=0\n",
    "for i in st:\n",
    "    if i in ['a','e','i','o','u']:\n",
    "        count=count+1\n",
    "\n",
    "print(\"The total number of vowels in the string is\",count)"
   ]
  },
  {
   "cell_type": "code",
   "execution_count": 2,
   "id": "7f647139-fbc9-4af0-b22a-cd89c493b8f7",
   "metadata": {},
   "outputs": [
    {
     "name": "stdout",
     "output_type": "stream",
     "text": [
      "The total number of consonents in the string is 3\n"
     ]
    }
   ],
   "source": [
    "st=\"word\"\n",
    "count=0\n",
    "for i in st:\n",
    "    if i not in ['a','e','i','o','u']:\n",
    "        count=count+1\n",
    "\n",
    "print(\"The total number of consonents in the string is\",count)"
   ]
  },
  {
   "cell_type": "code",
   "execution_count": 3,
   "id": "2aaef491-b976-4a09-8f7f-ad786040b1b6",
   "metadata": {},
   "outputs": [
    {
     "data": {
      "text/plain": [
       "'This is coding exercise'"
      ]
     },
     "execution_count": 3,
     "metadata": {},
     "output_type": "execute_result"
    }
   ],
   "source": [
    "st=\"This is Python exercise\"\n",
    "st.replace(\"Python\", \"coding\")"
   ]
  },
  {
   "cell_type": "code",
   "execution_count": 4,
   "id": "b6643390-8719-4379-9a3a-93bbe1887f91",
   "metadata": {},
   "outputs": [
    {
     "data": {
      "text/plain": [
       "8"
      ]
     },
     "execution_count": 4,
     "metadata": {},
     "output_type": "execute_result"
    }
   ],
   "source": [
    "st=\"This is Python exercise\"\n",
    "st.find(\"Python\")"
   ]
  },
  {
   "cell_type": "code",
   "execution_count": 8,
   "id": "487b2fc3-b5eb-40f4-aaeb-9f375dfcf95e",
   "metadata": {},
   "outputs": [
    {
     "data": {
      "text/plain": [
       "['This', 'is', 'Python', 'exercise']"
      ]
     },
     "execution_count": 8,
     "metadata": {},
     "output_type": "execute_result"
    }
   ],
   "source": [
    "st.split(\" \")"
   ]
  },
  {
   "cell_type": "code",
   "execution_count": 9,
   "id": "d0001b1f-2154-41cc-9386-f030f22cf8e8",
   "metadata": {},
   "outputs": [],
   "source": [
    "lst = ['This', 'is', 'Python', 'exercise']"
   ]
  },
  {
   "cell_type": "code",
   "execution_count": 13,
   "id": "ef8c43cd-1f8d-4f68-b43b-c09f6ecd148e",
   "metadata": {},
   "outputs": [
    {
     "name": "stdout",
     "output_type": "stream",
     "text": [
      "This is Python exercise\n"
     ]
    }
   ],
   "source": [
    "print(\" \".join(lst))"
   ]
  },
  {
   "cell_type": "code",
   "execution_count": 15,
   "id": "b4d28a97-299b-403b-b802-5a840224132e",
   "metadata": {},
   "outputs": [
    {
     "data": {
      "text/plain": [
       "'This_is_Python_exercise'"
      ]
     },
     "execution_count": 15,
     "metadata": {},
     "output_type": "execute_result"
    }
   ],
   "source": [
    "st.replace(\" \", \"_\")"
   ]
  },
  {
   "cell_type": "code",
   "execution_count": 18,
   "id": "b079fa09-91a8-4e3b-b3d3-839c867448ec",
   "metadata": {},
   "outputs": [
    {
     "data": {
      "text/plain": [
       "True"
      ]
     },
     "execution_count": 18,
     "metadata": {},
     "output_type": "execute_result"
    }
   ],
   "source": [
    "st.startswith('This')"
   ]
  },
  {
   "cell_type": "code",
   "execution_count": 21,
   "id": "3633f42a-b685-4b04-9454-4c499cb81c2c",
   "metadata": {},
   "outputs": [
    {
     "data": {
      "text/plain": [
       "True"
      ]
     },
     "execution_count": 21,
     "metadata": {},
     "output_type": "execute_result"
    }
   ],
   "source": [
    "st.endswith(\"exercise\")"
   ]
  },
  {
   "cell_type": "code",
   "execution_count": 23,
   "id": "44b50a64-ad8f-4f91-81f1-7f2c1f253649",
   "metadata": {},
   "outputs": [
    {
     "data": {
      "text/plain": [
       "'Hello'"
      ]
     },
     "execution_count": 23,
     "metadata": {},
     "output_type": "execute_result"
    }
   ],
   "source": [
    "st1=\"hello\"\n",
    "st1.capitalize()"
   ]
  },
  {
   "cell_type": "code",
   "execution_count": 26,
   "id": "46c4f974-0f2b-47ae-bc13-93e6e85b519b",
   "metadata": {},
   "outputs": [
    {
     "data": {
      "text/plain": [
       "False"
      ]
     },
     "execution_count": 26,
     "metadata": {},
     "output_type": "execute_result"
    }
   ],
   "source": [
    "st.isalnum()"
   ]
  },
  {
   "cell_type": "code",
   "execution_count": 32,
   "id": "71123086-7d04-48c2-b1b5-635b4fca8b2e",
   "metadata": {},
   "outputs": [
    {
     "name": "stdout",
     "output_type": "stream",
     "text": [
      "12\n"
     ]
    }
   ],
   "source": [
    "st=\"1. My name is Sid 2. My friend's name is Ajay\"\n",
    "text=\"\"\n",
    "for i in st:\n",
    "    if i.isnumeric():\n",
    "        text= text+i\n",
    "print(text)"
   ]
  },
  {
   "cell_type": "code",
   "execution_count": 33,
   "id": "0a1e8314-4002-4a3d-aba3-fbb534369872",
   "metadata": {},
   "outputs": [
    {
     "name": "stdout",
     "output_type": "stream",
     "text": [
      "MynameisSidMyfriendsnameisAjay\n"
     ]
    }
   ],
   "source": [
    "st=\"1. My name is Sid 2. My friend's name is Ajay\"\n",
    "text=\"\"\n",
    "for i in st:\n",
    "    if i.isalpha():\n",
    "        text= text+i\n",
    "print(text)"
   ]
  },
  {
   "cell_type": "code",
   "execution_count": 36,
   "id": "8f8080bb-657b-4249-b40b-dd94fc629cd6",
   "metadata": {},
   "outputs": [
    {
     "data": {
      "text/plain": [
       "['Ajay', 'Gunaseelan']"
      ]
     },
     "execution_count": 36,
     "metadata": {},
     "output_type": "execute_result"
    }
   ],
   "source": [
    "st=\"Ajay Gunaseelan\"\n",
    "st.split()"
   ]
  },
  {
   "cell_type": "code",
   "execution_count": 39,
   "id": "4665d388-a977-498d-abc4-55e97a201466",
   "metadata": {},
   "outputs": [
    {
     "name": "stdout",
     "output_type": "stream",
     "text": [
      "The number of lowercase letters is 12\n"
     ]
    }
   ],
   "source": [
    "st=\"Ajay Gunaseelan\"\n",
    "count=0\n",
    "for i in st:\n",
    "    if i.islower():\n",
    "        count=count+1\n",
    "print(\"The number of lowercase letters is\",count)"
   ]
  },
  {
   "cell_type": "code",
   "execution_count": 40,
   "id": "80f061f5-a76e-4af2-9ea1-6819884336ca",
   "metadata": {},
   "outputs": [
    {
     "name": "stdout",
     "output_type": "stream",
     "text": [
      "The number of upper letters is 2\n"
     ]
    }
   ],
   "source": [
    "st=\"Ajay Gunaseelan\"\n",
    "count=0\n",
    "for i in st:\n",
    "    if i.isupper():\n",
    "        count=count+1\n",
    "print(\"The number of upper letters is\",count)"
   ]
  },
  {
   "cell_type": "code",
   "execution_count": 43,
   "id": "50e9e2ff-b35b-448e-9b01-0beecda2645b",
   "metadata": {},
   "outputs": [
    {
     "data": {
      "text/plain": [
       "' Gunaseelan'"
      ]
     },
     "execution_count": 43,
     "metadata": {},
     "output_type": "execute_result"
    }
   ],
   "source": [
    "st.replace(\"Ajay\",\"\")"
   ]
  },
  {
   "cell_type": "code",
   "execution_count": 50,
   "id": "90d9e632-1c75-41e9-8c57-d424c7b6087d",
   "metadata": {},
   "outputs": [
    {
     "name": "stdout",
     "output_type": "stream",
     "text": [
      "The EMAIL ID is not valid\n"
     ]
    }
   ],
   "source": [
    "st=\"siddharthtce@gmail.com\"\n",
    "email=\"@gmail.com1\"\n",
    "if email in st:\n",
    "    print(\"The EMAIL ID is valid\")\n",
    "else:\n",
    "    print(\"The EMAIL ID is not valid\")"
   ]
  },
  {
   "cell_type": "markdown",
   "id": "f0588d85-9230-4726-9431-b2200069cfa5",
   "metadata": {},
   "source": [
    "List Based Practice Problem :"
   ]
  },
  {
   "cell_type": "code",
   "execution_count": 4,
   "id": "4002f26f-f4cd-40ce-a131-d67bbe43dcc6",
   "metadata": {},
   "outputs": [
    {
     "name": "stdout",
     "output_type": "stream",
     "text": [
      "[1, 2, 3, 4, 5, 6, 7, 8, 9, 10, 11, 12, 13, 14, 15, 16, 17, 18, 19, 20, 21, 22, 23, 24, 25, 26, 27, 28, 29, 30, 31, 32, 33, 34, 35, 36, 37, 38, 39, 40, 41, 42, 43, 44, 45, 46, 47, 48, 49, 50, 51, 52, 53, 54, 55, 56, 57, 58, 59, 60, 61, 62, 63, 64, 65, 66, 67, 68, 69, 70, 71, 72, 73, 74, 75, 76, 77, 78, 79, 80, 81, 82, 83, 84, 85, 86, 87, 88, 89, 90, 91, 92, 93, 94, 95, 96, 97, 98, 99, 100]\n"
     ]
    }
   ],
   "source": [
    "lst=list(range(1,101))\n",
    "print(lst)"
   ]
  },
  {
   "cell_type": "code",
   "execution_count": 53,
   "id": "58367582-8755-4cfa-be7c-a4c7d02fc29c",
   "metadata": {},
   "outputs": [
    {
     "name": "stdout",
     "output_type": "stream",
     "text": [
      "the length of the lsit is 7\n"
     ]
    }
   ],
   "source": [
    "lst=[1,2,3,4,5,6,7]\n",
    "count=0\n",
    "for i in lst:\n",
    "    count=count+1\n",
    "print(\"the length of the lsit is\",count)"
   ]
  },
  {
   "cell_type": "code",
   "execution_count": 5,
   "id": "578ef5ea-694a-4a6d-b012-880e8255d27e",
   "metadata": {},
   "outputs": [],
   "source": [
    "lst.append(101)"
   ]
  },
  {
   "cell_type": "code",
   "execution_count": 6,
   "id": "59d5cbb4-6430-437e-95a8-df2d532a1c32",
   "metadata": {},
   "outputs": [
    {
     "data": {
      "text/plain": [
       "[1,\n",
       " 2,\n",
       " 3,\n",
       " 4,\n",
       " 5,\n",
       " 6,\n",
       " 7,\n",
       " 8,\n",
       " 9,\n",
       " 10,\n",
       " 11,\n",
       " 12,\n",
       " 13,\n",
       " 14,\n",
       " 15,\n",
       " 16,\n",
       " 17,\n",
       " 18,\n",
       " 19,\n",
       " 20,\n",
       " 21,\n",
       " 22,\n",
       " 23,\n",
       " 24,\n",
       " 25,\n",
       " 26,\n",
       " 27,\n",
       " 28,\n",
       " 29,\n",
       " 30,\n",
       " 31,\n",
       " 32,\n",
       " 33,\n",
       " 34,\n",
       " 35,\n",
       " 36,\n",
       " 37,\n",
       " 38,\n",
       " 39,\n",
       " 40,\n",
       " 41,\n",
       " 42,\n",
       " 43,\n",
       " 44,\n",
       " 45,\n",
       " 46,\n",
       " 47,\n",
       " 48,\n",
       " 49,\n",
       " 50,\n",
       " 51,\n",
       " 52,\n",
       " 53,\n",
       " 54,\n",
       " 55,\n",
       " 56,\n",
       " 57,\n",
       " 58,\n",
       " 59,\n",
       " 60,\n",
       " 61,\n",
       " 62,\n",
       " 63,\n",
       " 64,\n",
       " 65,\n",
       " 66,\n",
       " 67,\n",
       " 68,\n",
       " 69,\n",
       " 70,\n",
       " 71,\n",
       " 72,\n",
       " 73,\n",
       " 74,\n",
       " 75,\n",
       " 76,\n",
       " 77,\n",
       " 78,\n",
       " 79,\n",
       " 80,\n",
       " 81,\n",
       " 82,\n",
       " 83,\n",
       " 84,\n",
       " 85,\n",
       " 86,\n",
       " 87,\n",
       " 88,\n",
       " 89,\n",
       " 90,\n",
       " 91,\n",
       " 92,\n",
       " 93,\n",
       " 94,\n",
       " 95,\n",
       " 96,\n",
       " 97,\n",
       " 98,\n",
       " 99,\n",
       " 100,\n",
       " 101]"
      ]
     },
     "execution_count": 6,
     "metadata": {},
     "output_type": "execute_result"
    }
   ],
   "source": [
    "lst"
   ]
  },
  {
   "cell_type": "code",
   "execution_count": 7,
   "id": "b6d63589-1a4d-422b-a27f-81bccca9fe4e",
   "metadata": {},
   "outputs": [],
   "source": [
    "lst.insert(2,3)"
   ]
  },
  {
   "cell_type": "code",
   "execution_count": 8,
   "id": "83b3633a-a8c8-4089-9e4f-1e794abf3d86",
   "metadata": {},
   "outputs": [
    {
     "data": {
      "text/plain": [
       "[1,\n",
       " 2,\n",
       " 3,\n",
       " 3,\n",
       " 4,\n",
       " 5,\n",
       " 6,\n",
       " 7,\n",
       " 8,\n",
       " 9,\n",
       " 10,\n",
       " 11,\n",
       " 12,\n",
       " 13,\n",
       " 14,\n",
       " 15,\n",
       " 16,\n",
       " 17,\n",
       " 18,\n",
       " 19,\n",
       " 20,\n",
       " 21,\n",
       " 22,\n",
       " 23,\n",
       " 24,\n",
       " 25,\n",
       " 26,\n",
       " 27,\n",
       " 28,\n",
       " 29,\n",
       " 30,\n",
       " 31,\n",
       " 32,\n",
       " 33,\n",
       " 34,\n",
       " 35,\n",
       " 36,\n",
       " 37,\n",
       " 38,\n",
       " 39,\n",
       " 40,\n",
       " 41,\n",
       " 42,\n",
       " 43,\n",
       " 44,\n",
       " 45,\n",
       " 46,\n",
       " 47,\n",
       " 48,\n",
       " 49,\n",
       " 50,\n",
       " 51,\n",
       " 52,\n",
       " 53,\n",
       " 54,\n",
       " 55,\n",
       " 56,\n",
       " 57,\n",
       " 58,\n",
       " 59,\n",
       " 60,\n",
       " 61,\n",
       " 62,\n",
       " 63,\n",
       " 64,\n",
       " 65,\n",
       " 66,\n",
       " 67,\n",
       " 68,\n",
       " 69,\n",
       " 70,\n",
       " 71,\n",
       " 72,\n",
       " 73,\n",
       " 74,\n",
       " 75,\n",
       " 76,\n",
       " 77,\n",
       " 78,\n",
       " 79,\n",
       " 80,\n",
       " 81,\n",
       " 82,\n",
       " 83,\n",
       " 84,\n",
       " 85,\n",
       " 86,\n",
       " 87,\n",
       " 88,\n",
       " 89,\n",
       " 90,\n",
       " 91,\n",
       " 92,\n",
       " 93,\n",
       " 94,\n",
       " 95,\n",
       " 96,\n",
       " 97,\n",
       " 98,\n",
       " 99,\n",
       " 100,\n",
       " 101]"
      ]
     },
     "execution_count": 8,
     "metadata": {},
     "output_type": "execute_result"
    }
   ],
   "source": [
    "lst"
   ]
  },
  {
   "cell_type": "code",
   "execution_count": 9,
   "id": "2f12e491-b4a0-4616-b9c1-37dfec5b215c",
   "metadata": {},
   "outputs": [],
   "source": [
    "lst.remove(2)"
   ]
  },
  {
   "cell_type": "code",
   "execution_count": 10,
   "id": "c02b7b0a-500f-4fae-88c3-a9e0a015381b",
   "metadata": {},
   "outputs": [
    {
     "data": {
      "text/plain": [
       "[1,\n",
       " 3,\n",
       " 3,\n",
       " 4,\n",
       " 5,\n",
       " 6,\n",
       " 7,\n",
       " 8,\n",
       " 9,\n",
       " 10,\n",
       " 11,\n",
       " 12,\n",
       " 13,\n",
       " 14,\n",
       " 15,\n",
       " 16,\n",
       " 17,\n",
       " 18,\n",
       " 19,\n",
       " 20,\n",
       " 21,\n",
       " 22,\n",
       " 23,\n",
       " 24,\n",
       " 25,\n",
       " 26,\n",
       " 27,\n",
       " 28,\n",
       " 29,\n",
       " 30,\n",
       " 31,\n",
       " 32,\n",
       " 33,\n",
       " 34,\n",
       " 35,\n",
       " 36,\n",
       " 37,\n",
       " 38,\n",
       " 39,\n",
       " 40,\n",
       " 41,\n",
       " 42,\n",
       " 43,\n",
       " 44,\n",
       " 45,\n",
       " 46,\n",
       " 47,\n",
       " 48,\n",
       " 49,\n",
       " 50,\n",
       " 51,\n",
       " 52,\n",
       " 53,\n",
       " 54,\n",
       " 55,\n",
       " 56,\n",
       " 57,\n",
       " 58,\n",
       " 59,\n",
       " 60,\n",
       " 61,\n",
       " 62,\n",
       " 63,\n",
       " 64,\n",
       " 65,\n",
       " 66,\n",
       " 67,\n",
       " 68,\n",
       " 69,\n",
       " 70,\n",
       " 71,\n",
       " 72,\n",
       " 73,\n",
       " 74,\n",
       " 75,\n",
       " 76,\n",
       " 77,\n",
       " 78,\n",
       " 79,\n",
       " 80,\n",
       " 81,\n",
       " 82,\n",
       " 83,\n",
       " 84,\n",
       " 85,\n",
       " 86,\n",
       " 87,\n",
       " 88,\n",
       " 89,\n",
       " 90,\n",
       " 91,\n",
       " 92,\n",
       " 93,\n",
       " 94,\n",
       " 95,\n",
       " 96,\n",
       " 97,\n",
       " 98,\n",
       " 99,\n",
       " 100,\n",
       " 101]"
      ]
     },
     "execution_count": 10,
     "metadata": {},
     "output_type": "execute_result"
    }
   ],
   "source": [
    "lst"
   ]
  },
  {
   "cell_type": "code",
   "execution_count": 11,
   "id": "b50b20e8-73ac-49f3-9dcd-09ce7b38a187",
   "metadata": {},
   "outputs": [
    {
     "data": {
      "text/plain": [
       "5"
      ]
     },
     "execution_count": 11,
     "metadata": {},
     "output_type": "execute_result"
    }
   ],
   "source": [
    "lst.pop(4)"
   ]
  },
  {
   "cell_type": "code",
   "execution_count": 12,
   "id": "af2a51f3-f29f-4cba-9a1f-f5de580d38d5",
   "metadata": {},
   "outputs": [
    {
     "data": {
      "text/plain": [
       "[1,\n",
       " 3,\n",
       " 3,\n",
       " 4,\n",
       " 6,\n",
       " 7,\n",
       " 8,\n",
       " 9,\n",
       " 10,\n",
       " 11,\n",
       " 12,\n",
       " 13,\n",
       " 14,\n",
       " 15,\n",
       " 16,\n",
       " 17,\n",
       " 18,\n",
       " 19,\n",
       " 20,\n",
       " 21,\n",
       " 22,\n",
       " 23,\n",
       " 24,\n",
       " 25,\n",
       " 26,\n",
       " 27,\n",
       " 28,\n",
       " 29,\n",
       " 30,\n",
       " 31,\n",
       " 32,\n",
       " 33,\n",
       " 34,\n",
       " 35,\n",
       " 36,\n",
       " 37,\n",
       " 38,\n",
       " 39,\n",
       " 40,\n",
       " 41,\n",
       " 42,\n",
       " 43,\n",
       " 44,\n",
       " 45,\n",
       " 46,\n",
       " 47,\n",
       " 48,\n",
       " 49,\n",
       " 50,\n",
       " 51,\n",
       " 52,\n",
       " 53,\n",
       " 54,\n",
       " 55,\n",
       " 56,\n",
       " 57,\n",
       " 58,\n",
       " 59,\n",
       " 60,\n",
       " 61,\n",
       " 62,\n",
       " 63,\n",
       " 64,\n",
       " 65,\n",
       " 66,\n",
       " 67,\n",
       " 68,\n",
       " 69,\n",
       " 70,\n",
       " 71,\n",
       " 72,\n",
       " 73,\n",
       " 74,\n",
       " 75,\n",
       " 76,\n",
       " 77,\n",
       " 78,\n",
       " 79,\n",
       " 80,\n",
       " 81,\n",
       " 82,\n",
       " 83,\n",
       " 84,\n",
       " 85,\n",
       " 86,\n",
       " 87,\n",
       " 88,\n",
       " 89,\n",
       " 90,\n",
       " 91,\n",
       " 92,\n",
       " 93,\n",
       " 94,\n",
       " 95,\n",
       " 96,\n",
       " 97,\n",
       " 98,\n",
       " 99,\n",
       " 100,\n",
       " 101]"
      ]
     },
     "execution_count": 12,
     "metadata": {},
     "output_type": "execute_result"
    }
   ],
   "source": [
    "lst"
   ]
  },
  {
   "cell_type": "code",
   "execution_count": 14,
   "id": "734127ad-e06c-45cb-9ce0-02ee871ddd94",
   "metadata": {},
   "outputs": [
    {
     "data": {
      "text/plain": [
       "1"
      ]
     },
     "execution_count": 14,
     "metadata": {},
     "output_type": "execute_result"
    }
   ],
   "source": [
    "lst.count(4)"
   ]
  },
  {
   "cell_type": "code",
   "execution_count": 15,
   "id": "0a5c00ad-ae17-4531-ab2a-0f45f755d60f",
   "metadata": {},
   "outputs": [
    {
     "name": "stdout",
     "output_type": "stream",
     "text": [
      "The element is present in the list\n"
     ]
    }
   ],
   "source": [
    "count=0\n",
    "n=50\n",
    "for i in lst:\n",
    "    if i ==50:\n",
    "        count = count+1\n",
    "if count !=0:\n",
    "    print(\"The element is present in the list\")\n",
    "else:\n",
    "    print(\"The element is not present in the list\")"
   ]
  },
  {
   "cell_type": "code",
   "execution_count": 16,
   "id": "de486d4a-083e-4992-b1c3-46d8b6b4334d",
   "metadata": {},
   "outputs": [
    {
     "name": "stdout",
     "output_type": "stream",
     "text": [
      "The element is present 1 times\n"
     ]
    }
   ],
   "source": [
    "count=0\n",
    "n=50\n",
    "for i in lst:\n",
    "    if i ==50:\n",
    "        count = count+1\n",
    "print(\"The element is present\",count,\"times\")"
   ]
  },
  {
   "cell_type": "code",
   "execution_count": 17,
   "id": "85e1fdf0-40a9-45c4-b253-09a672210685",
   "metadata": {},
   "outputs": [
    {
     "data": {
      "text/plain": [
       "[101,\n",
       " 100,\n",
       " 99,\n",
       " 98,\n",
       " 97,\n",
       " 96,\n",
       " 95,\n",
       " 94,\n",
       " 93,\n",
       " 92,\n",
       " 91,\n",
       " 90,\n",
       " 89,\n",
       " 88,\n",
       " 87,\n",
       " 86,\n",
       " 85,\n",
       " 84,\n",
       " 83,\n",
       " 82,\n",
       " 81,\n",
       " 80,\n",
       " 79,\n",
       " 78,\n",
       " 77,\n",
       " 76,\n",
       " 75,\n",
       " 74,\n",
       " 73,\n",
       " 72,\n",
       " 71,\n",
       " 70,\n",
       " 69,\n",
       " 68,\n",
       " 67,\n",
       " 66,\n",
       " 65,\n",
       " 64,\n",
       " 63,\n",
       " 62,\n",
       " 61,\n",
       " 60,\n",
       " 59,\n",
       " 58,\n",
       " 57,\n",
       " 56,\n",
       " 55,\n",
       " 54,\n",
       " 53,\n",
       " 52,\n",
       " 51,\n",
       " 50,\n",
       " 49,\n",
       " 48,\n",
       " 47,\n",
       " 46,\n",
       " 45,\n",
       " 44,\n",
       " 43,\n",
       " 42,\n",
       " 41,\n",
       " 40,\n",
       " 39,\n",
       " 38,\n",
       " 37,\n",
       " 36,\n",
       " 35,\n",
       " 34,\n",
       " 33,\n",
       " 32,\n",
       " 31,\n",
       " 30,\n",
       " 29,\n",
       " 28,\n",
       " 27,\n",
       " 26,\n",
       " 25,\n",
       " 24,\n",
       " 23,\n",
       " 22,\n",
       " 21,\n",
       " 20,\n",
       " 19,\n",
       " 18,\n",
       " 17,\n",
       " 16,\n",
       " 15,\n",
       " 14,\n",
       " 13,\n",
       " 12,\n",
       " 11,\n",
       " 10,\n",
       " 9,\n",
       " 8,\n",
       " 7,\n",
       " 6,\n",
       " 4,\n",
       " 3,\n",
       " 3,\n",
       " 1]"
      ]
     },
     "execution_count": 17,
     "metadata": {},
     "output_type": "execute_result"
    }
   ],
   "source": [
    "lst[::-1]"
   ]
  },
  {
   "cell_type": "code",
   "execution_count": 30,
   "id": "97f0b831-af76-4d0f-a070-77c74b814c9a",
   "metadata": {},
   "outputs": [],
   "source": [
    "lst=[42,49,10,45,1,5,19]"
   ]
  },
  {
   "cell_type": "code",
   "execution_count": 34,
   "id": "66517852-f855-434f-b592-94a5b267c1f9",
   "metadata": {},
   "outputs": [],
   "source": [
    "lst.sort()"
   ]
  },
  {
   "cell_type": "code",
   "execution_count": 35,
   "id": "cc71c3fa-029e-4218-84ca-7ae88053c589",
   "metadata": {},
   "outputs": [
    {
     "name": "stdout",
     "output_type": "stream",
     "text": [
      "[1, 5, 10, 19, 42, 45, 49]\n"
     ]
    }
   ],
   "source": [
    "print(lst)"
   ]
  },
  {
   "cell_type": "code",
   "execution_count": 36,
   "id": "7fc5f292-512d-47a8-bc35-6cdfbcddec01",
   "metadata": {},
   "outputs": [],
   "source": [
    "lst.sort(reverse=True)"
   ]
  },
  {
   "cell_type": "code",
   "execution_count": 37,
   "id": "1e327bf0-ab76-4b3b-8c47-ac8527eb0d6c",
   "metadata": {},
   "outputs": [
    {
     "data": {
      "text/plain": [
       "[49, 45, 42, 19, 10, 5, 1]"
      ]
     },
     "execution_count": 37,
     "metadata": {},
     "output_type": "execute_result"
    }
   ],
   "source": [
    "lst"
   ]
  },
  {
   "cell_type": "code",
   "execution_count": 38,
   "id": "fcd15064-ca0e-4887-bd66-7779f648312d",
   "metadata": {},
   "outputs": [],
   "source": [
    "lst=list(range(2,21,2))"
   ]
  },
  {
   "cell_type": "code",
   "execution_count": 39,
   "id": "8d4975a1-1493-4e41-b333-83ec0cda5add",
   "metadata": {},
   "outputs": [
    {
     "data": {
      "text/plain": [
       "[2, 4, 6, 8, 10, 12, 14, 16, 18, 20]"
      ]
     },
     "execution_count": 39,
     "metadata": {},
     "output_type": "execute_result"
    }
   ],
   "source": [
    "lst"
   ]
  },
  {
   "cell_type": "code",
   "execution_count": 40,
   "id": "a117a9de-da2e-402c-9039-e52de0b055b2",
   "metadata": {},
   "outputs": [],
   "source": [
    "lst=list(range(1,21,2))"
   ]
  },
  {
   "cell_type": "code",
   "execution_count": 41,
   "id": "f7fdc8dd-9ff9-46bf-8f83-e65c1b2895cf",
   "metadata": {},
   "outputs": [
    {
     "data": {
      "text/plain": [
       "[1, 3, 5, 7, 9, 11, 13, 15, 17, 19]"
      ]
     },
     "execution_count": 41,
     "metadata": {},
     "output_type": "execute_result"
    }
   ],
   "source": [
    "lst"
   ]
  },
  {
   "cell_type": "code",
   "execution_count": 42,
   "id": "0d9ba8ff-d526-46ea-b8b9-b9ae687bef75",
   "metadata": {},
   "outputs": [
    {
     "name": "stdout",
     "output_type": "stream",
     "text": [
      "The sume of elements in the list is 100\n"
     ]
    }
   ],
   "source": [
    "lst=[1, 3, 5, 7, 9, 11, 13, 15, 17, 19]\n",
    "sum=0\n",
    "for i in lst:\n",
    "    sum=sum+i\n",
    "print(\"The sume of elements in the list is\",sum)"
   ]
  },
  {
   "cell_type": "code",
   "execution_count": 44,
   "id": "1c98da04-c8e2-4322-988b-c90e264370e5",
   "metadata": {},
   "outputs": [
    {
     "name": "stdout",
     "output_type": "stream",
     "text": [
      "The maximum value in the list is 19\n"
     ]
    }
   ],
   "source": [
    "print(\"The maximum value in the list is\",max(lst))"
   ]
  },
  {
   "cell_type": "code",
   "execution_count": 45,
   "id": "8360c60c-f97d-4a08-8a9b-d86e36671205",
   "metadata": {},
   "outputs": [
    {
     "name": "stdout",
     "output_type": "stream",
     "text": [
      "The minimum value in the list is 1\n"
     ]
    }
   ],
   "source": [
    "print(\"The minimum value in the list is\",min(lst))"
   ]
  },
  {
   "cell_type": "code",
   "execution_count": 47,
   "id": "5af056a0-8522-4077-9e10-103292744e74",
   "metadata": {},
   "outputs": [],
   "source": [
    "lst1=[1,2,3,4,5]\n",
    "lst2=[6,7,8,9,10]\n",
    "lst1.extend(lst2)"
   ]
  },
  {
   "cell_type": "code",
   "execution_count": 48,
   "id": "12541447-b856-45e2-8334-c1100c3edea2",
   "metadata": {},
   "outputs": [
    {
     "data": {
      "text/plain": [
       "[1, 2, 3, 4, 5, 6, 7, 8, 9, 10]"
      ]
     },
     "execution_count": 48,
     "metadata": {},
     "output_type": "execute_result"
    }
   ],
   "source": [
    "lst1"
   ]
  },
  {
   "cell_type": "code",
   "execution_count": 51,
   "id": "27d6ddd8-6331-4fa4-a084-ba4d89529432",
   "metadata": {},
   "outputs": [
    {
     "name": "stdout",
     "output_type": "stream",
     "text": [
      "2\n",
      "4\n",
      "6\n",
      "8\n",
      "10\n",
      "12\n",
      "14\n",
      "16\n",
      "18\n",
      "20\n"
     ]
    }
   ],
   "source": [
    "for i in lst1:\n",
    "    print(i*2)"
   ]
  },
  {
   "cell_type": "code",
   "execution_count": 58,
   "id": "2f3d5893-e64b-4552-93b0-abc79a102d78",
   "metadata": {},
   "outputs": [
    {
     "name": "stdout",
     "output_type": "stream",
     "text": [
      "1\n",
      "2\n",
      "3\n",
      "4\n",
      "5\n"
     ]
    }
   ],
   "source": [
    "lst=['1','2','3','4','5']\n",
    "for i in lst:\n",
    "    print(int(i))"
   ]
  },
  {
   "cell_type": "code",
   "execution_count": 59,
   "id": "39d16abf-2df1-40f1-8fa7-7c40089f11ce",
   "metadata": {},
   "outputs": [],
   "source": [
    "lst=[]"
   ]
  },
  {
   "cell_type": "code",
   "execution_count": 60,
   "id": "932e123a-fa76-4ede-95b3-c52aff5bcf0e",
   "metadata": {},
   "outputs": [
    {
     "data": {
      "text/plain": [
       "list"
      ]
     },
     "execution_count": 60,
     "metadata": {},
     "output_type": "execute_result"
    }
   ],
   "source": [
    "type(lst)"
   ]
  },
  {
   "cell_type": "code",
   "execution_count": 1,
   "id": "ae6173cd-3374-43a4-b6eb-edeee7026ca8",
   "metadata": {},
   "outputs": [
    {
     "name": "stdout",
     "output_type": "stream",
     "text": [
      "1\n",
      "2\n",
      "3\n",
      "4\n",
      "5\n"
     ]
    }
   ],
   "source": [
    "lst=[1,2,3,4,5]\n",
    "for i in lst:\n",
    "    print(str(i))"
   ]
  },
  {
   "cell_type": "markdown",
   "id": "369e8674-0bb4-4a66-9e74-5293ae3e1134",
   "metadata": {},
   "source": [
    "Tuple Based Practice Problem :"
   ]
  },
  {
   "cell_type": "code",
   "execution_count": 1,
   "id": "9f439e6a-18c6-4574-89ec-cc18b666b712",
   "metadata": {},
   "outputs": [],
   "source": [
    "a={}"
   ]
  },
  {
   "cell_type": "code",
   "execution_count": 2,
   "id": "51caea7d-ca91-4090-81a4-e6a15493aa62",
   "metadata": {},
   "outputs": [
    {
     "data": {
      "text/plain": [
       "dict"
      ]
     },
     "execution_count": 2,
     "metadata": {},
     "output_type": "execute_result"
    }
   ],
   "source": [
    "type(a)"
   ]
  },
  {
   "cell_type": "code",
   "execution_count": 3,
   "id": "099665a1-f6a4-4601-823c-2ef874593f93",
   "metadata": {},
   "outputs": [],
   "source": [
    "a=(1,2,3,4,5)"
   ]
  },
  {
   "cell_type": "code",
   "execution_count": 4,
   "id": "19241851-433d-4fff-9284-16a6c3c2c599",
   "metadata": {},
   "outputs": [
    {
     "data": {
      "text/plain": [
       "(1, 2, 3, 4, 5)"
      ]
     },
     "execution_count": 4,
     "metadata": {},
     "output_type": "execute_result"
    }
   ],
   "source": [
    "a"
   ]
  },
  {
   "cell_type": "code",
   "execution_count": 5,
   "id": "72e2b4fb-aca7-4908-80a0-b2d856c3bd22",
   "metadata": {},
   "outputs": [
    {
     "data": {
      "text/plain": [
       "3"
      ]
     },
     "execution_count": 5,
     "metadata": {},
     "output_type": "execute_result"
    }
   ],
   "source": [
    "a[2]"
   ]
  },
  {
   "cell_type": "code",
   "execution_count": 6,
   "id": "e44198c3-8689-4c0a-8296-a625a88a3072",
   "metadata": {},
   "outputs": [
    {
     "name": "stdout",
     "output_type": "stream",
     "text": [
      "The length of tuple is 5\n"
     ]
    }
   ],
   "source": [
    "len=0\n",
    "for i in a:\n",
    "    len=len+1\n",
    "print(\"The length of tuple is\",len)"
   ]
  },
  {
   "cell_type": "code",
   "execution_count": 7,
   "id": "a077481b-0c94-4b95-a5cb-893e5fdb11e8",
   "metadata": {},
   "outputs": [
    {
     "data": {
      "text/plain": [
       "1"
      ]
     },
     "execution_count": 7,
     "metadata": {},
     "output_type": "execute_result"
    }
   ],
   "source": [
    "a.count(2)"
   ]
  },
  {
   "cell_type": "code",
   "execution_count": 8,
   "id": "3f751946-fd04-4ebb-80c6-d843a8ecf404",
   "metadata": {},
   "outputs": [
    {
     "data": {
      "text/plain": [
       "1"
      ]
     },
     "execution_count": 8,
     "metadata": {},
     "output_type": "execute_result"
    }
   ],
   "source": [
    "a.index(2)"
   ]
  },
  {
   "cell_type": "code",
   "execution_count": 9,
   "id": "c966aa66-84c0-4b61-987a-498d279f4e05",
   "metadata": {},
   "outputs": [],
   "source": [
    "lst=list(a)"
   ]
  },
  {
   "cell_type": "code",
   "execution_count": 10,
   "id": "e48f4f6a-4b16-4794-bc0b-adbd6421b374",
   "metadata": {},
   "outputs": [
    {
     "data": {
      "text/plain": [
       "list"
      ]
     },
     "execution_count": 10,
     "metadata": {},
     "output_type": "execute_result"
    }
   ],
   "source": [
    "type(lst)"
   ]
  },
  {
   "cell_type": "code",
   "execution_count": 11,
   "id": "853434bb-9cc6-4bf6-97e5-012268a933f8",
   "metadata": {},
   "outputs": [],
   "source": [
    "tup=tuple(lst)"
   ]
  },
  {
   "cell_type": "code",
   "execution_count": 12,
   "id": "0a5b7eec-c94b-4408-823b-9afa55ffdf5b",
   "metadata": {},
   "outputs": [
    {
     "data": {
      "text/plain": [
       "tuple"
      ]
     },
     "execution_count": 12,
     "metadata": {},
     "output_type": "execute_result"
    }
   ],
   "source": [
    "type(tup)"
   ]
  },
  {
   "cell_type": "code",
   "execution_count": 17,
   "id": "4bb6a657-7d07-4b33-a447-f17a53d1c57a",
   "metadata": {},
   "outputs": [
    {
     "name": "stdout",
     "output_type": "stream",
     "text": [
      "2\n",
      "4\n",
      "6\n",
      "8\n",
      "10\n"
     ]
    }
   ],
   "source": [
    "for i in range(1,11):\n",
    "    if i%2==0:\n",
    "        print(i)"
   ]
  },
  {
   "cell_type": "code",
   "execution_count": 18,
   "id": "63027b43-085d-4679-886e-35eba01495ba",
   "metadata": {},
   "outputs": [
    {
     "name": "stdout",
     "output_type": "stream",
     "text": [
      "1\n",
      "3\n",
      "5\n",
      "7\n",
      "9\n"
     ]
    }
   ],
   "source": [
    "for i in range(1,11):\n",
    "    if i%2!=0:\n",
    "        print(i)"
   ]
  },
  {
   "cell_type": "code",
   "execution_count": 19,
   "id": "0efa611e-7a12-4d52-9ce4-f6465cd4364a",
   "metadata": {},
   "outputs": [
    {
     "data": {
      "text/plain": [
       "(1, 2, 3, 4, 5)"
      ]
     },
     "execution_count": 19,
     "metadata": {},
     "output_type": "execute_result"
    }
   ],
   "source": [
    "tup"
   ]
  },
  {
   "cell_type": "code",
   "execution_count": 20,
   "id": "b359193c-bd2d-4ec2-b179-e7ccc9c9f90c",
   "metadata": {},
   "outputs": [
    {
     "data": {
      "text/plain": [
       "(1, 2, 3, 4, 5, 1, 2, 3, 4, 5, 1, 2, 3, 4, 5)"
      ]
     },
     "execution_count": 20,
     "metadata": {},
     "output_type": "execute_result"
    }
   ],
   "source": [
    "tup*3"
   ]
  },
  {
   "cell_type": "code",
   "execution_count": 22,
   "id": "a6c4b01f-36d8-4efa-9762-f26d63d07ef0",
   "metadata": {},
   "outputs": [
    {
     "name": "stdout",
     "output_type": "stream",
     "text": [
      "The tuple is not empty\n"
     ]
    }
   ],
   "source": [
    "count=0\n",
    "for i in tup:\n",
    "    count=count+1\n",
    "if count!=0:\n",
    "    print(\"The tuple is not empty\")"
   ]
  },
  {
   "cell_type": "code",
   "execution_count": 24,
   "id": "01551353-f516-45db-a6ab-1646d88ecef8",
   "metadata": {},
   "outputs": [
    {
     "name": "stdout",
     "output_type": "stream",
     "text": [
      "The tuples are not equal\n"
     ]
    }
   ],
   "source": [
    "tup1 = (1,2,3,4,5)\n",
    "tup2 = (6,7,8,9,10)\n",
    "if tup1==tup2:\n",
    "    print(\"The tuples are equal\")\n",
    "else:\n",
    "    print(\"The tuples are not equal\")"
   ]
  },
  {
   "cell_type": "code",
   "execution_count": 25,
   "id": "7210f391-8fee-4541-a961-eb035563fa9a",
   "metadata": {},
   "outputs": [],
   "source": [
    "del(tup)"
   ]
  },
  {
   "cell_type": "code",
   "execution_count": 27,
   "id": "af1b2ecc-07a6-4cc9-99ab-34294a1f7dd9",
   "metadata": {},
   "outputs": [
    {
     "data": {
      "text/plain": [
       "392"
      ]
     },
     "execution_count": 27,
     "metadata": {},
     "output_type": "execute_result"
    }
   ],
   "source": [
    "tup=(42,391,392,10,94,94,19)\n",
    "max(tup)"
   ]
  },
  {
   "cell_type": "code",
   "execution_count": 28,
   "id": "fcd51d11-049f-43fb-97fc-47fac32bb54c",
   "metadata": {},
   "outputs": [
    {
     "data": {
      "text/plain": [
       "10"
      ]
     },
     "execution_count": 28,
     "metadata": {},
     "output_type": "execute_result"
    }
   ],
   "source": [
    "min(tup)"
   ]
  },
  {
   "cell_type": "code",
   "execution_count": 29,
   "id": "4edb0ae1-d8a5-4b44-ae31-0b098d5ff96b",
   "metadata": {},
   "outputs": [
    {
     "data": {
      "text/plain": [
       "(1, 2, 3, 4, 5, 6, 7, 8, 9, 10)"
      ]
     },
     "execution_count": 29,
     "metadata": {},
     "output_type": "execute_result"
    }
   ],
   "source": [
    "tup1+tup2"
   ]
  },
  {
   "cell_type": "markdown",
   "id": "f3ccfd63-7e5a-45b7-a05c-2f329dd04c5b",
   "metadata": {},
   "source": [
    "Set Based Practice Problem :"
   ]
  },
  {
   "cell_type": "code",
   "execution_count": 2,
   "id": "24f035ef-ce9b-4aa2-bb70-0b659a311117",
   "metadata": {},
   "outputs": [],
   "source": [
    "st={1,2,3,4,5}"
   ]
  },
  {
   "cell_type": "code",
   "execution_count": 2,
   "id": "0e3b0b4b-355f-4203-a87b-76ec17b8f225",
   "metadata": {},
   "outputs": [
    {
     "data": {
      "text/plain": [
       "{1, 2, 3, 4, 5}"
      ]
     },
     "execution_count": 2,
     "metadata": {},
     "output_type": "execute_result"
    }
   ],
   "source": [
    "st"
   ]
  },
  {
   "cell_type": "code",
   "execution_count": 3,
   "id": "a17d12f6-1567-4c4f-9888-9a9f46e80bdd",
   "metadata": {},
   "outputs": [],
   "source": [
    "st.add(6)"
   ]
  },
  {
   "cell_type": "code",
   "execution_count": 4,
   "id": "f6278de6-c712-4a0b-b063-eae577e20547",
   "metadata": {},
   "outputs": [
    {
     "data": {
      "text/plain": [
       "{1, 2, 3, 4, 5, 6}"
      ]
     },
     "execution_count": 4,
     "metadata": {},
     "output_type": "execute_result"
    }
   ],
   "source": [
    "st"
   ]
  },
  {
   "cell_type": "code",
   "execution_count": 5,
   "id": "1b975763-6e6c-4939-8b55-42299842bedc",
   "metadata": {},
   "outputs": [],
   "source": [
    "st.remove(3)"
   ]
  },
  {
   "cell_type": "code",
   "execution_count": 6,
   "id": "f10e849e-0346-4d80-9b62-9100c82cdd64",
   "metadata": {},
   "outputs": [
    {
     "data": {
      "text/plain": [
       "{1, 2, 4, 5, 6}"
      ]
     },
     "execution_count": 6,
     "metadata": {},
     "output_type": "execute_result"
    }
   ],
   "source": [
    "st"
   ]
  },
  {
   "cell_type": "code",
   "execution_count": 7,
   "id": "527cc342-1598-4b92-96a4-ee4be0213d91",
   "metadata": {},
   "outputs": [],
   "source": [
    "del(st)"
   ]
  },
  {
   "cell_type": "code",
   "execution_count": 4,
   "id": "83881498-ffa8-4098-95e3-fe495aaf7b74",
   "metadata": {},
   "outputs": [
    {
     "data": {
      "text/plain": [
       "1"
      ]
     },
     "execution_count": 4,
     "metadata": {},
     "output_type": "execute_result"
    }
   ],
   "source": [
    "st.pop()"
   ]
  },
  {
   "cell_type": "code",
   "execution_count": 5,
   "id": "f40089a6-ea0d-4492-b4d6-023ff808ac27",
   "metadata": {},
   "outputs": [
    {
     "data": {
      "text/plain": [
       "{2, 3, 4, 5}"
      ]
     },
     "execution_count": 5,
     "metadata": {},
     "output_type": "execute_result"
    }
   ],
   "source": [
    "st"
   ]
  },
  {
   "cell_type": "code",
   "execution_count": 6,
   "id": "c7565574-5455-4422-b1f9-bdba55fb3dfe",
   "metadata": {},
   "outputs": [],
   "source": [
    "st1={4,2,4,54,1,1,9}"
   ]
  },
  {
   "cell_type": "code",
   "execution_count": 8,
   "id": "95999031-cd16-4757-82ba-01bba55ddb32",
   "metadata": {},
   "outputs": [
    {
     "data": {
      "text/plain": [
       "{1, 2, 3, 4, 5, 9, 54}"
      ]
     },
     "execution_count": 8,
     "metadata": {},
     "output_type": "execute_result"
    }
   ],
   "source": [
    "st.union(st1)"
   ]
  },
  {
   "cell_type": "code",
   "execution_count": 9,
   "id": "8586f0d2-9427-414f-9a11-21ca9e1c9583",
   "metadata": {},
   "outputs": [
    {
     "data": {
      "text/plain": [
       "{2, 4}"
      ]
     },
     "execution_count": 9,
     "metadata": {},
     "output_type": "execute_result"
    }
   ],
   "source": [
    "st.intersection(st1)"
   ]
  },
  {
   "cell_type": "code",
   "execution_count": 10,
   "id": "83cec174-e3a4-4448-9133-b56272fc6514",
   "metadata": {},
   "outputs": [
    {
     "data": {
      "text/plain": [
       "{3, 5}"
      ]
     },
     "execution_count": 10,
     "metadata": {},
     "output_type": "execute_result"
    }
   ],
   "source": [
    "st.difference(st1)"
   ]
  },
  {
   "cell_type": "code",
   "execution_count": 11,
   "id": "aabc5d11-ffbf-4e84-82c4-ad4debfb1093",
   "metadata": {},
   "outputs": [
    {
     "data": {
      "text/plain": [
       "False"
      ]
     },
     "execution_count": 11,
     "metadata": {},
     "output_type": "execute_result"
    }
   ],
   "source": [
    "st.issubset(st1)"
   ]
  },
  {
   "cell_type": "code",
   "execution_count": 12,
   "id": "27081b61-a9f2-4c71-8de2-cc339450f388",
   "metadata": {},
   "outputs": [],
   "source": [
    "st={0,1,2}\n",
    "st1={0,1,2,3,4}"
   ]
  },
  {
   "cell_type": "code",
   "execution_count": 13,
   "id": "27672fee-17a8-44a2-b6eb-fa8139c1484f",
   "metadata": {},
   "outputs": [
    {
     "data": {
      "text/plain": [
       "True"
      ]
     },
     "execution_count": 13,
     "metadata": {},
     "output_type": "execute_result"
    }
   ],
   "source": [
    "st.issubset(st1)"
   ]
  },
  {
   "cell_type": "code",
   "execution_count": 14,
   "id": "01cc13bd-8f20-43b7-851f-932887924ab1",
   "metadata": {},
   "outputs": [
    {
     "data": {
      "text/plain": [
       "True"
      ]
     },
     "execution_count": 14,
     "metadata": {},
     "output_type": "execute_result"
    }
   ],
   "source": [
    "st1.issuperset(st)"
   ]
  },
  {
   "cell_type": "code",
   "execution_count": 16,
   "id": "80c3680c-d8ab-4953-8793-5217aa3fbb68",
   "metadata": {},
   "outputs": [
    {
     "name": "stdout",
     "output_type": "stream",
     "text": [
      "0\n",
      "2\n",
      "4\n"
     ]
    }
   ],
   "source": [
    "for i in st:\n",
    "    print (i*2)"
   ]
  },
  {
   "cell_type": "code",
   "execution_count": 17,
   "id": "6caa79a1-04ac-4519-8626-d7cd0b1f65c1",
   "metadata": {},
   "outputs": [],
   "source": [
    "st=set(range(1,11))"
   ]
  },
  {
   "cell_type": "code",
   "execution_count": 18,
   "id": "76db4d2e-6995-4706-8562-edc8ab9f0956",
   "metadata": {},
   "outputs": [
    {
     "data": {
      "text/plain": [
       "{1, 2, 3, 4, 5, 6, 7, 8, 9, 10}"
      ]
     },
     "execution_count": 18,
     "metadata": {},
     "output_type": "execute_result"
    }
   ],
   "source": [
    "st"
   ]
  },
  {
   "cell_type": "code",
   "execution_count": 20,
   "id": "3774e556-8219-45ec-a71c-b8a1a6d76d2f",
   "metadata": {},
   "outputs": [
    {
     "name": "stdout",
     "output_type": "stream",
     "text": [
      "2\n",
      "4\n",
      "6\n",
      "8\n",
      "10\n"
     ]
    }
   ],
   "source": [
    "for i in st:\n",
    "    if i%2==0:\n",
    "        print(i)"
   ]
  },
  {
   "cell_type": "code",
   "execution_count": null,
   "id": "e0c2f22d-3ebb-4ae0-8c6e-c33716ec0a5e",
   "metadata": {},
   "outputs": [],
   "source": []
  }
 ],
 "metadata": {
  "kernelspec": {
   "display_name": "Python 3 (ipykernel)",
   "language": "python",
   "name": "python3"
  },
  "language_info": {
   "codemirror_mode": {
    "name": "ipython",
    "version": 3
   },
   "file_extension": ".py",
   "mimetype": "text/x-python",
   "name": "python",
   "nbconvert_exporter": "python",
   "pygments_lexer": "ipython3",
   "version": "3.10.8"
  }
 },
 "nbformat": 4,
 "nbformat_minor": 5
}
