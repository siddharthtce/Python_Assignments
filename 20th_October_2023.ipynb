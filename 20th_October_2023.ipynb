{
 "cells": [
  {
   "cell_type": "markdown",
   "id": "02e3eec4-697a-4930-ac20-dfe17fab5975",
   "metadata": {},
   "source": [
    "# Constructor"
   ]
  },
  {
   "cell_type": "code",
   "execution_count": null,
   "id": "23a7d7b8-5cd5-4163-9386-6bfb1b8c3bf9",
   "metadata": {},
   "outputs": [],
   "source": [
    "#1\n",
    "'''\n",
    "Constructor is a special method that is used to create & initialize an object to the class.\n",
    "Every class has a constructor & they need not be defined explicitly. \n",
    "The purpose of the constructor is used to create an object & initialize value to the object variables.\n",
    "'''"
   ]
  },
  {
   "cell_type": "code",
   "execution_count": null,
   "id": "8a279e3b-2848-490e-b66b-aff699247df8",
   "metadata": {},
   "outputs": [],
   "source": [
    "#2\n",
    "'''\n",
    "Parameterized constructor receives parameters and uses them to initialize object's variables.\n",
    "Parameterized constructor needs to be explicitly defined for the class. \n",
    "\n",
    "Non-parameterized constructor does not receive parameters & initializes object's variables to default values.\n",
    "Non-parameterized constructor need not be explicitly defined for the class.\n",
    "'''"
   ]
  },
  {
   "cell_type": "code",
   "execution_count": 6,
   "id": "4968a531-a092-4448-aa7e-c4096f235943",
   "metadata": {},
   "outputs": [],
   "source": [
    "#3\n",
    "'''\n",
    "We define a constructor using __init__() method. \n",
    "The __init__() method is called when the instance of a class is created (or) when an object is instantiated.  \n",
    "It is not compulsory to define a non-parameterized constructor.\n",
    "'''\n",
    "\n",
    "class sampleClass:\n",
    "    def __init__(self):\n",
    "        pass\n",
    "    \n",
    "    def publishInfo(self):\n",
    "        print(\"Print this statement\")"
   ]
  },
  {
   "cell_type": "code",
   "execution_count": 7,
   "id": "63a976d2-34e1-44a2-9f40-c2a2d218f092",
   "metadata": {},
   "outputs": [
    {
     "name": "stdout",
     "output_type": "stream",
     "text": [
      "Print this statement\n"
     ]
    }
   ],
   "source": [
    "sc=sampleClass()\n",
    "sc.publishInfo()"
   ]
  },
  {
   "cell_type": "code",
   "execution_count": null,
   "id": "7c3aed32-bd85-4d82-a43f-301725d23551",
   "metadata": {},
   "outputs": [],
   "source": [
    "#4\n",
    "#__init__() function is called evertime an object is created. It is used to pass values to the object's attributes.\n"
   ]
  },
  {
   "cell_type": "code",
   "execution_count": 1,
   "id": "8740b5fa-22ab-4b65-bdb4-8618216915dd",
   "metadata": {},
   "outputs": [],
   "source": [
    "#5\n",
    "\n",
    "class Person:\n",
    "    def __init__(self,name,age):\n",
    "        self.name=name\n",
    "        self.age=age"
   ]
  },
  {
   "cell_type": "code",
   "execution_count": 2,
   "id": "67498504-4c34-4ba2-bac1-bdbb5b903115",
   "metadata": {},
   "outputs": [],
   "source": [
    "sidd=Person(\"Siddharth\",23)\n",
    "ajay=Person(\"Ajay\",24)"
   ]
  },
  {
   "cell_type": "code",
   "execution_count": 1,
   "id": "8676d271-8f0f-4e48-ad51-83817a55ddbb",
   "metadata": {},
   "outputs": [],
   "source": [
    "#6\n",
    "'''\n",
    "Constructor is called explictly by passing values to the object's attributes.\n",
    "'''\n",
    "\n",
    "class demo:\n",
    "    def __init__(self,x):\n",
    "        self.x=x\n",
    "        \n",
    "    def print_value(self):\n",
    "        return self.x"
   ]
  },
  {
   "cell_type": "code",
   "execution_count": 2,
   "id": "f14160d5-daad-42fc-9821-2f2ec11d9b1c",
   "metadata": {},
   "outputs": [
    {
     "data": {
      "text/plain": [
       "10"
      ]
     },
     "execution_count": 2,
     "metadata": {},
     "output_type": "execute_result"
    }
   ],
   "source": [
    "d=demo(10)\n",
    "d.print_value()"
   ]
  },
  {
   "cell_type": "code",
   "execution_count": null,
   "id": "9401f26d-afe7-4f69-8787-4cf8596a9ad5",
   "metadata": {},
   "outputs": [],
   "source": [
    "#7\n",
    "# Self is to signify that the attribute & method belongs to the class. \n",
    "# Instead of self, we can use any other name as well as self is not a keyword.\n",
    "\n",
    "class demo:\n",
    "    def __init__(self,x):\n",
    "        self.x=x\n",
    "        \n",
    "    def print_value(self):\n",
    "        return self.x"
   ]
  },
  {
   "cell_type": "code",
   "execution_count": null,
   "id": "5192d7a7-6360-42ff-a755-766e522975a9",
   "metadata": {},
   "outputs": [],
   "source": [
    "#8\n",
    "# Default constructor is one which doesn't have any arguments. It is called implictly (or) can be explictly called in Python.\n",
    "# Whenever an object is created without arguments, default constructor is called automatically. "
   ]
  },
  {
   "cell_type": "code",
   "execution_count": 7,
   "id": "fda675b5-ac3f-43db-94e3-5e5e13a06a82",
   "metadata": {},
   "outputs": [],
   "source": [
    "#9\n",
    "class Rectangle:\n",
    "    def __init__(self,width,height):\n",
    "        self.width=width\n",
    "        self.height=height\n",
    "    \n",
    "    def area(self):\n",
    "        print(f\"The area of the Rectangle is {self.width*self.height}\")"
   ]
  },
  {
   "cell_type": "code",
   "execution_count": 8,
   "id": "0f2a01f3-d6a4-441d-b738-935213115d90",
   "metadata": {},
   "outputs": [
    {
     "name": "stdout",
     "output_type": "stream",
     "text": [
      "The area of the Rectangle is 200\n"
     ]
    }
   ],
   "source": [
    "rect=Rectangle(10,20)\n",
    "rect.area()"
   ]
  },
  {
   "cell_type": "code",
   "execution_count": 9,
   "id": "6ea7abf5-fa88-482b-bc76-68ea2968de93",
   "metadata": {},
   "outputs": [],
   "source": [
    "#10\n",
    "'''\n",
    "A class can have multiple constructors. If we declare multiple constructors (__init__) \n",
    "with different number of arguments in the same class, then the latest one overwrites the \n",
    "previous constructor. \n",
    "'''\n",
    "class shape:\n",
    "    def __init__(self,width,length):\n",
    "        self.width=width\n",
    "        self.length=length\n",
    "    \n",
    "    def area_2_sides(self):\n",
    "        print(f\"The area of the Rectangle is {self.width*self.length}\")\n",
    "        \n",
    "    def __init__(self,width,length,height):\n",
    "        self.width=width\n",
    "        self.length=length\n",
    "        self.height=height\n",
    "    \n",
    "    def area_3_sides(self):\n",
    "        print(f\"The area of the Rectangle is {self.width*self.length*self.height}\")\n"
   ]
  },
  {
   "cell_type": "code",
   "execution_count": 11,
   "id": "e696d063-5328-4e0a-9ed2-9621ab2adc50",
   "metadata": {},
   "outputs": [
    {
     "name": "stdout",
     "output_type": "stream",
     "text": [
      "The area is 6000\n"
     ]
    }
   ],
   "source": [
    "cube=shape(10,20,30)\n",
    "cube.area_3_sides()"
   ]
  },
  {
   "cell_type": "code",
   "execution_count": null,
   "id": "b720cb2f-07d6-4ba8-8f5b-09b4a61f9771",
   "metadata": {},
   "outputs": [],
   "source": [
    "#11\n",
    "'''\n",
    "Method overloading is having different methods with same name (but with different number of arguments).\n",
    "'''"
   ]
  },
  {
   "cell_type": "code",
   "execution_count": 25,
   "id": "934eee02-6caa-4d90-bfce-2d6abe9a50f4",
   "metadata": {},
   "outputs": [],
   "source": [
    "#12\n",
    "'''\n",
    "super() function is used to access parent class attributes or methods\n",
    "'''\n",
    "class parent:\n",
    "    def __init__(self,members):\n",
    "        self.members=members\n",
    "        \n",
    "    def print_count(self):\n",
    "        return \"The number of members of family is \"+str(self.members)\n",
    "    \n",
    "class children(parent):\n",
    "    def __init__(self,members):\n",
    "        self.members=members\n",
    "        \n",
    "    def print_count(self):\n",
    "        return super().print_count()"
   ]
  },
  {
   "cell_type": "code",
   "execution_count": 26,
   "id": "d8ffa05c-b493-4485-8fdd-68a123258ee2",
   "metadata": {},
   "outputs": [],
   "source": [
    "parent=parent(2)"
   ]
  },
  {
   "cell_type": "code",
   "execution_count": 27,
   "id": "9ab5a067-986f-467e-8cf4-8ce6c2e2971b",
   "metadata": {},
   "outputs": [],
   "source": [
    "children=children(4)"
   ]
  },
  {
   "cell_type": "code",
   "execution_count": 28,
   "id": "e3ec5fac-8da4-4379-976b-25773b898470",
   "metadata": {},
   "outputs": [
    {
     "data": {
      "text/plain": [
       "'The number of members of family is 4'"
      ]
     },
     "execution_count": 28,
     "metadata": {},
     "output_type": "execute_result"
    }
   ],
   "source": [
    "children.print_count()"
   ]
  },
  {
   "cell_type": "code",
   "execution_count": 29,
   "id": "ff937bc8-deef-475d-b0db-6f541cd8903f",
   "metadata": {},
   "outputs": [],
   "source": [
    "#13\n",
    "class Book:\n",
    "    def __init__(self,title,author,published_year):\n",
    "        self.title=title\n",
    "        self.author=author\n",
    "        self.published_year=published_year\n",
    "        \n",
    "    def print_values(self):\n",
    "        print(f\"The title of the books is {self.title}. It was written by {self.author}. It was published in the year {self.published_year}\")"
   ]
  },
  {
   "cell_type": "code",
   "execution_count": 30,
   "id": "6251bf95-f8f6-417b-af25-d21908d199f1",
   "metadata": {},
   "outputs": [
    {
     "name": "stdout",
     "output_type": "stream",
     "text": [
      "The title of the books is Good Habits. It was written by Siddharth. It was published in the year 2023\n"
     ]
    }
   ],
   "source": [
    "bk=Book(\"Good Habits\",\"Siddharth\",2023)\n",
    "bk.print_values()"
   ]
  },
  {
   "cell_type": "code",
   "execution_count": null,
   "id": "04a2b6aa-94d8-4fb4-815d-ec342e4ed306",
   "metadata": {},
   "outputs": [],
   "source": [
    "#14\n",
    "'''\n",
    "Constructor is used to assign values to attributes of the class objects.\n",
    "Method is used to access / return the values of the attributes upon its execution\n",
    "'''"
   ]
  },
  {
   "cell_type": "code",
   "execution_count": 31,
   "id": "9a05cacd-3108-412c-8ac4-44214cc938cb",
   "metadata": {},
   "outputs": [],
   "source": [
    "#15\n",
    "'''\n",
    "self is used to assign the value passed via arguments to the variable of that particular object\n",
    "\n",
    "Example\n",
    "'''\n",
    "\n",
    "class car:\n",
    "    def __init__(self,door,window):\n",
    "        self.door=door\n",
    "        self.window=window\n",
    "        \n",
    "    def print_values(self):\n",
    "        return self.door,self.window"
   ]
  },
  {
   "cell_type": "code",
   "execution_count": 32,
   "id": "2364097b-6496-4fdd-8ee0-663a98ab9ff1",
   "metadata": {},
   "outputs": [],
   "source": [
    "wagonR=car(4,4)\n",
    "sumo=car(5,5)"
   ]
  },
  {
   "cell_type": "code",
   "execution_count": 34,
   "id": "ff873779-1fb5-4717-a34b-b7d368f8757c",
   "metadata": {},
   "outputs": [
    {
     "data": {
      "text/plain": [
       "(4, 4)"
      ]
     },
     "execution_count": 34,
     "metadata": {},
     "output_type": "execute_result"
    }
   ],
   "source": [
    "wagonR.print_values()"
   ]
  },
  {
   "cell_type": "code",
   "execution_count": 35,
   "id": "3f32b438-ace4-4ae5-a309-908440e332dc",
   "metadata": {},
   "outputs": [
    {
     "data": {
      "text/plain": [
       "(5, 5)"
      ]
     },
     "execution_count": 35,
     "metadata": {},
     "output_type": "execute_result"
    }
   ],
   "source": [
    "sumo.print_values()"
   ]
  },
  {
   "cell_type": "code",
   "execution_count": 36,
   "id": "62b9bcb0-285e-479a-a51f-a885be24c32a",
   "metadata": {},
   "outputs": [],
   "source": [
    "#17\n",
    "class Student:\n",
    "    def __init__(self,*args):\n",
    "        self.subjects=args\n",
    "        \n",
    "    def print_subjects(self):\n",
    "        return self.subjects"
   ]
  },
  {
   "cell_type": "code",
   "execution_count": 37,
   "id": "751ebe9c-0724-471d-b01b-63a8d8bd6eb8",
   "metadata": {},
   "outputs": [],
   "source": [
    "st1=Student(['English','Maths'])\n",
    "st2=Student(['English','Science','Social'])"
   ]
  },
  {
   "cell_type": "code",
   "execution_count": 38,
   "id": "10dc9270-ef52-4edb-87e0-18c9997c7788",
   "metadata": {},
   "outputs": [
    {
     "data": {
      "text/plain": [
       "(['English', 'Maths'],)"
      ]
     },
     "execution_count": 38,
     "metadata": {},
     "output_type": "execute_result"
    }
   ],
   "source": [
    "st1.print_subjects()"
   ]
  },
  {
   "cell_type": "code",
   "execution_count": 39,
   "id": "a4246841-04a5-46a0-a66c-5483894f9665",
   "metadata": {},
   "outputs": [
    {
     "data": {
      "text/plain": [
       "(['English', 'Science', 'Social'],)"
      ]
     },
     "execution_count": 39,
     "metadata": {},
     "output_type": "execute_result"
    }
   ],
   "source": [
    "st2.print_subjects()"
   ]
  },
  {
   "cell_type": "code",
   "execution_count": null,
   "id": "760f2ad5-acf2-4167-a167-368f64b7f220",
   "metadata": {},
   "outputs": [],
   "source": [
    "#18\n",
    "'''\n",
    "Destructor - __del__ is used to destroy instance of the class. It is called automatically when the object is no longer used in the program.\n",
    "Constructor - __init__ is used to assign values to the object's variables\n",
    "\n",
    "'''"
   ]
  },
  {
   "cell_type": "code",
   "execution_count": 40,
   "id": "0bb8d4dc-8070-434a-9726-cbaabc60917d",
   "metadata": {},
   "outputs": [],
   "source": [
    "#20\n",
    "class Car:\n",
    "    def __init__(self):\n",
    "        self.make=\"Maruthi\"\n",
    "        self.model=\"WagonR\"\n",
    "        \n",
    "    def display_info(self):\n",
    "        return self.make,self.model"
   ]
  },
  {
   "cell_type": "code",
   "execution_count": 41,
   "id": "e1f2370f-dae5-4ce9-a045-abc91427860e",
   "metadata": {},
   "outputs": [
    {
     "data": {
      "text/plain": [
       "('Maruthi', 'WagonR')"
      ]
     },
     "execution_count": 41,
     "metadata": {},
     "output_type": "execute_result"
    }
   ],
   "source": [
    "car=Car()\n",
    "car.display_info()"
   ]
  },
  {
   "cell_type": "markdown",
   "id": "57d1bf41-38e8-4605-93a2-c13240512434",
   "metadata": {},
   "source": [
    "# Inheritance"
   ]
  },
  {
   "cell_type": "code",
   "execution_count": null,
   "id": "a4e5517b-7512-4011-a4ab-7f945711e19c",
   "metadata": {},
   "outputs": [],
   "source": [
    "#1\n",
    "'''\n",
    "Inheritance is the concept by which the child class derives the properties & attributes of parent class\n",
    "'''"
   ]
  },
  {
   "cell_type": "code",
   "execution_count": null,
   "id": "e05e70da-fd55-49b7-ac0a-331b9b899550",
   "metadata": {},
   "outputs": [],
   "source": [
    "#2\n",
    "'''\n",
    "In Single Inheritance, a child class inherits properties & attributes from one parent class.\n",
    "In Multiple Inheritance, a child class inherits properties & attributes from multiple parent class.\n",
    "'''"
   ]
  },
  {
   "cell_type": "code",
   "execution_count": 42,
   "id": "8652c4f0-29a3-4803-97cb-2d477b19067f",
   "metadata": {},
   "outputs": [],
   "source": [
    "#3\n",
    "class Vehicle:\n",
    "    def __init__(self,color,speed):\n",
    "        self.color=color\n",
    "        self.speed=speed\n",
    "        \n",
    "class Car(Vehicle):\n",
    "    def __init__(self,color,speed,brand):\n",
    "        super().__init__(color,speed)\n",
    "        self.brand=brand\n",
    "        \n",
    "    def publish_details(self):\n",
    "        return self.color,self.speed,self.brand"
   ]
  },
  {
   "cell_type": "code",
   "execution_count": 43,
   "id": "f13bcbd4-c94a-4642-afb8-de543a350e44",
   "metadata": {},
   "outputs": [
    {
     "data": {
      "text/plain": [
       "('Red', 100, 'Maruthi')"
      ]
     },
     "execution_count": 43,
     "metadata": {},
     "output_type": "execute_result"
    }
   ],
   "source": [
    "wagonR=Car('Red',100,'Maruthi')\n",
    "wagonR.publish_details()"
   ]
  },
  {
   "cell_type": "code",
   "execution_count": 44,
   "id": "cd822b74-8ecb-46cb-99bb-35b6c9df6f20",
   "metadata": {},
   "outputs": [],
   "source": [
    "#4\n",
    "'''\n",
    "In Method Overriding, method present in parent class is overridden by child class.\n",
    "'''\n",
    "\n",
    "class Vehicle:\n",
    "    def speed(self):\n",
    "        return \"The vehicle runs in 100 kmph speed\"\n",
    "        \n",
    "class Car(Vehicle):\n",
    "    def speed(self):\n",
    "        return \"The vehicle runs in 50 kmph speed\""
   ]
  },
  {
   "cell_type": "code",
   "execution_count": 45,
   "id": "f22d7002-8a76-4e37-b289-41f2f6f7855e",
   "metadata": {},
   "outputs": [
    {
     "data": {
      "text/plain": [
       "'The vehicle runs in 50 kmph speed'"
      ]
     },
     "execution_count": 45,
     "metadata": {},
     "output_type": "execute_result"
    }
   ],
   "source": [
    "car=Car()\n",
    "car.speed()"
   ]
  },
  {
   "cell_type": "code",
   "execution_count": 46,
   "id": "12ce23cf-bf31-413b-b40c-41356fd89833",
   "metadata": {},
   "outputs": [],
   "source": [
    "#5\n",
    "# Parent class methods & attributes are accessed by super() function\n",
    "\n",
    "class parent:\n",
    "    def __init__(self,members):\n",
    "        self.members=members\n",
    "        \n",
    "    def print_count(self):\n",
    "        return \"The number of members of family is \"+str(self.members)\n",
    "    \n",
    "class children(parent):\n",
    "    def __init__(self,members):\n",
    "        self.members=members\n",
    "        \n",
    "    def print_count(self):\n",
    "        return super().print_count()\n",
    "    \n"
   ]
  },
  {
   "cell_type": "code",
   "execution_count": 47,
   "id": "97bde94a-c474-43a9-b8ab-d9124e8ab16f",
   "metadata": {},
   "outputs": [],
   "source": [
    "parent=parent(2)\n",
    "children=children(4)"
   ]
  },
  {
   "cell_type": "code",
   "execution_count": 48,
   "id": "7ede52f3-2940-4643-8795-af9eed1fd763",
   "metadata": {},
   "outputs": [
    {
     "data": {
      "text/plain": [
       "'The number of members of family is 4'"
      ]
     },
     "execution_count": 48,
     "metadata": {},
     "output_type": "execute_result"
    }
   ],
   "source": [
    "children.print_count()"
   ]
  },
  {
   "cell_type": "code",
   "execution_count": null,
   "id": "f3ec6d73-fee4-446c-9b6b-18821ead98fa",
   "metadata": {},
   "outputs": [],
   "source": [
    "#6\n",
    "'''\n",
    "super() function is used to access Parent class attributes & methods. \n",
    "\n",
    "Example\n",
    "\n",
    "'''\n",
    "class Vehicle:\n",
    "    def __init__(self,color,speed):\n",
    "        self.color=color\n",
    "        self.speed=speed\n",
    "        \n",
    "class Car(Vehicle):\n",
    "    def __init__(self,color,speed,brand):\n",
    "        super().__init__(color,speed)\n",
    "        self.brand=brand\n",
    "        \n",
    "    def publish_details(self):\n",
    "        return self.color,self.speed,self.brand"
   ]
  },
  {
   "cell_type": "code",
   "execution_count": 50,
   "id": "ee8ca599-58b9-4700-be1b-99028f309c48",
   "metadata": {},
   "outputs": [],
   "source": [
    "#7\n",
    "class Animal:\n",
    "    def speak(self):\n",
    "        return \"Animal speaks\"\n",
    "    \n",
    "class Dog(Animal):\n",
    "    def speak(self):\n",
    "        return \"Dog speaks\"\n",
    "    \n",
    "class Cat(Animal):\n",
    "    def speak(self):\n",
    "        return \"Cat speaks\""
   ]
  },
  {
   "cell_type": "code",
   "execution_count": 51,
   "id": "c270c678-a226-4410-9ff6-ed99b590080f",
   "metadata": {},
   "outputs": [
    {
     "data": {
      "text/plain": [
       "'Dog speaks'"
      ]
     },
     "execution_count": 51,
     "metadata": {},
     "output_type": "execute_result"
    }
   ],
   "source": [
    "dog=Dog()\n",
    "dog.speak()"
   ]
  },
  {
   "cell_type": "code",
   "execution_count": 52,
   "id": "5aac47ae-ebc0-45ad-b6ac-0988cb643678",
   "metadata": {},
   "outputs": [
    {
     "data": {
      "text/plain": [
       "'Cat speaks'"
      ]
     },
     "execution_count": 52,
     "metadata": {},
     "output_type": "execute_result"
    }
   ],
   "source": [
    "cat=Cat()\n",
    "cat.speak()"
   ]
  },
  {
   "cell_type": "code",
   "execution_count": 53,
   "id": "09405ab0-4260-4897-8d3b-4ea9b30e6d49",
   "metadata": {},
   "outputs": [],
   "source": [
    "#8\n",
    "'''\n",
    "isinstance() returns True if the specified object is of the specified type. Else it returns False\n",
    "\n",
    "'''\n",
    "x=isinstance(\"Hello\",str)"
   ]
  },
  {
   "cell_type": "code",
   "execution_count": 54,
   "id": "4334d66e-599c-44ee-abaf-06afbc00e451",
   "metadata": {},
   "outputs": [
    {
     "data": {
      "text/plain": [
       "True"
      ]
     },
     "execution_count": 54,
     "metadata": {},
     "output_type": "execute_result"
    }
   ],
   "source": [
    "x"
   ]
  },
  {
   "cell_type": "code",
   "execution_count": 55,
   "id": "018fa49c-f153-4a0f-944c-c807b94ab5b2",
   "metadata": {},
   "outputs": [],
   "source": [
    "y=isinstance(\"Hello\",int)"
   ]
  },
  {
   "cell_type": "code",
   "execution_count": 56,
   "id": "534ab5f4-5277-4470-904c-dcf8897e55e4",
   "metadata": {},
   "outputs": [
    {
     "data": {
      "text/plain": [
       "False"
      ]
     },
     "execution_count": 56,
     "metadata": {},
     "output_type": "execute_result"
    }
   ],
   "source": [
    "y"
   ]
  },
  {
   "cell_type": "code",
   "execution_count": 61,
   "id": "8178368d-40e3-40d8-9482-daca69a142ba",
   "metadata": {},
   "outputs": [],
   "source": [
    "#10\n",
    "'''\n",
    "Constructors are inherited using super() function\n",
    "'''\n",
    "\n",
    "class Vehicle:\n",
    "    def __init__(self,color,speed):\n",
    "        self.color=color\n",
    "        self.speed=speed\n",
    "        \n",
    "class Car(Vehicle):\n",
    "    def __init__(self,color,speed):\n",
    "        super().__init__(color,speed)"
   ]
  },
  {
   "cell_type": "code",
   "execution_count": 65,
   "id": "bd57436c-940d-4ca5-8f39-5383a14ec81d",
   "metadata": {},
   "outputs": [],
   "source": [
    "#11\n",
    "class Shape:\n",
    "    def area(self):\n",
    "        pass\n",
    "    \n",
    "class Circle(Shape):\n",
    "    def __init__(self,radius):\n",
    "        self.r=radius\n",
    "        \n",
    "    def area(self):\n",
    "        return 22/7*self.r*self.r\n",
    "    \n",
    "class Rectangle(Shape):\n",
    "    def __init__(self,length,breadth):\n",
    "        self.l=length\n",
    "        self.b=breadth\n",
    "        \n",
    "    def area(self):\n",
    "        return self.l*self.b"
   ]
  },
  {
   "cell_type": "code",
   "execution_count": 66,
   "id": "9a75abad-b04b-46a0-a139-bafe3af07e9b",
   "metadata": {},
   "outputs": [
    {
     "data": {
      "text/plain": [
       "154.0"
      ]
     },
     "execution_count": 66,
     "metadata": {},
     "output_type": "execute_result"
    }
   ],
   "source": [
    "circle=Circle(7)\n",
    "circle.area()"
   ]
  },
  {
   "cell_type": "code",
   "execution_count": 67,
   "id": "1b74cd46-e9b7-4b01-bb50-167cb80ea309",
   "metadata": {},
   "outputs": [
    {
     "data": {
      "text/plain": [
       "21"
      ]
     },
     "execution_count": 67,
     "metadata": {},
     "output_type": "execute_result"
    }
   ],
   "source": [
    "rectangle=Rectangle(7,3)\n",
    "rectangle.area()"
   ]
  },
  {
   "cell_type": "code",
   "execution_count": 5,
   "id": "7364a6eb-bfc8-4d44-91b9-f2581c67a551",
   "metadata": {},
   "outputs": [],
   "source": [
    "#12\n",
    "'''\n",
    "ABC is used to define Abstract Base Class in Python. Abstract Base Classes cannot be instantiated.\n",
    "Abstact methods has declaration alone. It doesn't have any definition. \n",
    "'''\n",
    "\n",
    "from abc import ABC,abstractmethod\n",
    "class Animal(ABC):\n",
    "    @abstractmethod\n",
    "    def eat(self):\n",
    "        pass\n",
    "    \n",
    "class Dog(Animal):\n",
    "    def eat(self):\n",
    "        return \"The dog eats\""
   ]
  },
  {
   "cell_type": "code",
   "execution_count": 6,
   "id": "094cdac1-6f43-402a-8ec3-7172b0ee0b9d",
   "metadata": {},
   "outputs": [
    {
     "data": {
      "text/plain": [
       "'The dog eats'"
      ]
     },
     "execution_count": 6,
     "metadata": {},
     "output_type": "execute_result"
    }
   ],
   "source": [
    "dog=Dog()\n",
    "dog.eat()"
   ]
  },
  {
   "cell_type": "code",
   "execution_count": null,
   "id": "8b740633-3c0f-42d6-a5e1-568899b6072c",
   "metadata": {},
   "outputs": [],
   "source": [
    "#15\n",
    "'''\n",
    "In Method Overloading, the name of the method is same. Only the number or type of arguments differs. \n",
    "Python does not support method Overloading. If a Class has multiple methods with same name, the latest method is used.\n",
    "It occurs within a single Class.\n",
    "\n",
    "In Method Overriding, the name, number & type of arguments is same in both Parent & Child class.\n",
    "It occurs between Parent - Child class (different classes).\n",
    "'''"
   ]
  },
  {
   "cell_type": "code",
   "execution_count": 71,
   "id": "06dada6a-d459-44d1-8da6-dfdfcc19b06c",
   "metadata": {},
   "outputs": [],
   "source": [
    "#17\n",
    "class Bird:\n",
    "    def fly(self):\n",
    "        return \"The bird flies\"\n",
    "        \n",
    "class Eagle(Bird):\n",
    "    def fly(self):\n",
    "        return \"The Eagle flies\"\n",
    "        \n",
    "class Sparrow(Bird):\n",
    "    def fly(self):\n",
    "        return \"The Sparrow flies\""
   ]
  },
  {
   "cell_type": "code",
   "execution_count": 73,
   "id": "126def41-41da-42b5-8f78-b5b2372c25b9",
   "metadata": {},
   "outputs": [
    {
     "data": {
      "text/plain": [
       "'The bird flies'"
      ]
     },
     "execution_count": 73,
     "metadata": {},
     "output_type": "execute_result"
    }
   ],
   "source": [
    "bird=Bird()\n",
    "bird.fly()"
   ]
  },
  {
   "cell_type": "code",
   "execution_count": 72,
   "id": "05dc6a18-45ac-48c1-bd02-994917256b8a",
   "metadata": {},
   "outputs": [
    {
     "data": {
      "text/plain": [
       "'The Eagle flies'"
      ]
     },
     "execution_count": 72,
     "metadata": {},
     "output_type": "execute_result"
    }
   ],
   "source": [
    "eagle=Eagle()\n",
    "eagle.fly()"
   ]
  },
  {
   "cell_type": "code",
   "execution_count": 74,
   "id": "fcd29d55-3b24-40de-933f-03fe8aeeff3c",
   "metadata": {},
   "outputs": [
    {
     "data": {
      "text/plain": [
       "'The Sparrow flies'"
      ]
     },
     "execution_count": 74,
     "metadata": {},
     "output_type": "execute_result"
    }
   ],
   "source": [
    "sparrow=Sparrow()\n",
    "sparrow.fly()"
   ]
  },
  {
   "cell_type": "code",
   "execution_count": 4,
   "id": "291b6714-cdca-4277-9417-29d833d788ee",
   "metadata": {},
   "outputs": [],
   "source": [
    "#18\n",
    "'''\n",
    "\n",
    "Diamond problem is a condition where 2 different classes B & C are derived from a single class A.\n",
    "Also, another class D is derived / inherited from both B & C in the form of multiple inheritance.\n",
    "\n",
    "Example\n",
    "'''\n",
    "\n",
    "class Bird:\n",
    "    def fly(self):\n",
    "        return \"The bird flies\"\n",
    "        \n",
    "class Eagle(Bird):\n",
    "    def fly(self):\n",
    "        return \"The Eagle flies\"\n",
    "        \n",
    "class Sparrow(Bird):\n",
    "    def fly(self):\n",
    "        return \"The Sparrow flies\"\n",
    "    \n",
    "class Nest(Sparrow,Eagle):\n",
    "    pass"
   ]
  },
  {
   "cell_type": "code",
   "execution_count": 5,
   "id": "7801aefb-fcc5-41ad-958c-a961ac5110c2",
   "metadata": {},
   "outputs": [
    {
     "data": {
      "text/plain": [
       "'The Sparrow flies'"
      ]
     },
     "execution_count": 5,
     "metadata": {},
     "output_type": "execute_result"
    }
   ],
   "source": [
    "nest=Nest()\n",
    "nest.fly()"
   ]
  },
  {
   "cell_type": "code",
   "execution_count": 2,
   "id": "189db70c-3d6c-4534-ab0c-7d12a0316c3a",
   "metadata": {},
   "outputs": [],
   "source": [
    "#20\n",
    "class Person:\n",
    "    def __init__(self,gender,character):\n",
    "        self.gender=gender\n",
    "        self.character=character\n",
    "        \n",
    "class Student(Person):\n",
    "    def __init__(self,gender,character,rollno,dept):\n",
    "        super().__init__(gender,character)\n",
    "        self.rollno=rollno\n",
    "        self.dept=dept\n",
    "        \n",
    "    def details(self):\n",
    "        return self.gender,self.character,self.rollno,self.dept\n",
    "        \n",
    "class Professor(Person):\n",
    "    def __init__(self,gender,character,college):\n",
    "        super().__init__(gender,character)\n",
    "        self.college=college\n",
    "        \n",
    "    def details(self):\n",
    "        return self.gender,self.character,self.college"
   ]
  },
  {
   "cell_type": "code",
   "execution_count": 3,
   "id": "8f54334f-125d-4b5e-99f7-f7a2e0ce86ea",
   "metadata": {},
   "outputs": [
    {
     "data": {
      "text/plain": [
       "('Male', 'Good', 102, 'EEE')"
      ]
     },
     "execution_count": 3,
     "metadata": {},
     "output_type": "execute_result"
    }
   ],
   "source": [
    "st=Student('Male','Good',102,'EEE')\n",
    "st.details()"
   ]
  },
  {
   "cell_type": "code",
   "execution_count": 4,
   "id": "46ec08e1-6255-485c-ae26-cdc9caa8d9a3",
   "metadata": {},
   "outputs": [
    {
     "data": {
      "text/plain": [
       "('Male', 'Expert', 'TCE')"
      ]
     },
     "execution_count": 4,
     "metadata": {},
     "output_type": "execute_result"
    }
   ],
   "source": [
    "pr=Professor('Male',\"Expert\",\"TCE\")\n",
    "pr.details()"
   ]
  },
  {
   "cell_type": "markdown",
   "id": "2ff291c2-fef9-4004-9da0-c4fe42a093b3",
   "metadata": {},
   "source": [
    "# Polymorphism"
   ]
  },
  {
   "cell_type": "code",
   "execution_count": null,
   "id": "ad86d89b-91bd-4a5b-bd17-3a1e16ae690c",
   "metadata": {},
   "outputs": [],
   "source": [
    "#1\n",
    "'''\n",
    "Polymorphism is a concept which refers to an object's ability to take up many forms.\n",
    "Poly - many\n",
    "morph - form\n",
    "\n",
    "Polymorphism has 2 types\n",
    "1. Compile time polymorphism\n",
    "2. Run time polymorphism\n",
    "'''\n"
   ]
  },
  {
   "cell_type": "code",
   "execution_count": null,
   "id": "67a6f670-ba1e-4f41-87ad-88f61a2d78bf",
   "metadata": {},
   "outputs": [],
   "source": [
    "#2\n",
    "'''\n",
    "Compile time polymorphism is achieved through Method Overloading.\n",
    "It occurs in same class through methods with same name, but with different arguments.\n",
    "Method Overloading is not possible in Python as the latest method implemented in the Class gets the usage. \n",
    "\n",
    "Run time polymorphism is achieved through Method Overriding.\n",
    "it occurs in 2 different class through methods with same name, same or different arguments.\n",
    "\n",
    "'''"
   ]
  },
  {
   "cell_type": "code",
   "execution_count": 9,
   "id": "949f06b6-989a-4c80-8f46-1d49a320d732",
   "metadata": {},
   "outputs": [],
   "source": [
    "#3\n",
    "class shape:\n",
    "    def area(self):\n",
    "        return \"This method prints the area of objects\"\n",
    "    \n",
    "class circle(shape):\n",
    "    def area(self):\n",
    "        return \"This method prints the area of circle\"\n",
    "    \n",
    "class square(shape):\n",
    "    def area(self):\n",
    "        return \"This method prints the area of square\"\n"
   ]
  },
  {
   "cell_type": "code",
   "execution_count": 10,
   "id": "ebb04930-ae89-472d-82e2-958fbc68e2ef",
   "metadata": {},
   "outputs": [
    {
     "data": {
      "text/plain": [
       "'This method prints the shape of circle'"
      ]
     },
     "execution_count": 10,
     "metadata": {},
     "output_type": "execute_result"
    }
   ],
   "source": [
    "circle=circle()\n",
    "circle.shape()"
   ]
  },
  {
   "cell_type": "code",
   "execution_count": null,
   "id": "e30e97a9-6b8c-4ee5-8531-76fd9b57db5d",
   "metadata": {},
   "outputs": [],
   "source": [
    "#4\n",
    "'''\n",
    "Method Overriding is a concept where the implementation of a method belonging to parent class is overridden in child class.\n",
    "In Method Overriding, the name, number & type of arguments is same in both Parent & Child class.\n",
    "It occurs between Parent - Child class (different classes).\n",
    "'''\n",
    "\n",
    "class Bird:\n",
    "    def fly(self):\n",
    "        return \"The bird flies\"\n",
    "        \n",
    "class Eagle(Bird):\n",
    "    def fly(self):\n",
    "        return \"The Eagle flies\"\n"
   ]
  },
  {
   "cell_type": "code",
   "execution_count": 6,
   "id": "7d497c1c-16c5-463a-a4bf-d124dcb51e5a",
   "metadata": {},
   "outputs": [
    {
     "data": {
      "text/plain": [
       "'The Eagle flies'"
      ]
     },
     "execution_count": 6,
     "metadata": {},
     "output_type": "execute_result"
    }
   ],
   "source": [
    "eagle=Eagle()\n",
    "eagle.fly()"
   ]
  },
  {
   "cell_type": "code",
   "execution_count": 11,
   "id": "16342a53-2e17-4d89-a770-4855b17dbde6",
   "metadata": {},
   "outputs": [],
   "source": [
    "#6\n",
    "class Animal:\n",
    "    def speak(self):\n",
    "        return \"Animal speaks\"\n",
    "    \n",
    "class Dog(Animal):\n",
    "    def speak(self):\n",
    "        return \"Dog speaks\"\n",
    "    \n",
    "class Cat(Animal):\n",
    "    def speak(self):\n",
    "        return \"Cat speaks\""
   ]
  },
  {
   "cell_type": "code",
   "execution_count": 12,
   "id": "9482266c-bc1a-482e-9f59-8c650bf63ba5",
   "metadata": {},
   "outputs": [
    {
     "data": {
      "text/plain": [
       "'Dog speaks'"
      ]
     },
     "execution_count": 12,
     "metadata": {},
     "output_type": "execute_result"
    }
   ],
   "source": [
    "dog=Dog()\n",
    "dog.speak()"
   ]
  },
  {
   "cell_type": "code",
   "execution_count": 13,
   "id": "eed1062f-8a63-43c9-86dd-10d471d9df9a",
   "metadata": {},
   "outputs": [
    {
     "data": {
      "text/plain": [
       "'Cat speaks'"
      ]
     },
     "execution_count": 13,
     "metadata": {},
     "output_type": "execute_result"
    }
   ],
   "source": [
    "cat=Cat()\n",
    "cat.speak()"
   ]
  },
  {
   "cell_type": "code",
   "execution_count": 14,
   "id": "d7fe2c2b-68eb-42b5-ab4f-9a9da611397d",
   "metadata": {},
   "outputs": [],
   "source": [
    "#7\n",
    "'''\n",
    "abc - Abstract Base Class module\n",
    "ABC - Abstract Base Class\n",
    "\n",
    "ABC is used to implement an abstract class in Python. \n",
    "abstract class cannot be instantiated, ie, object cannot be created for abstract class.\n",
    "abstractmethod cannot be defined. We can just declare it. Implementation of the method would be done in child class.\n",
    "'''\n",
    "\n",
    "from abc import ABC,abstractmethod\n",
    "\n",
    "class shape(ABC):\n",
    "    @abstractmethod\n",
    "    def area(self):\n",
    "        pass\n",
    "    \n",
    "class circle(shape):\n",
    "    def area(self):\n",
    "        return \"This method prints the area of circle\"\n",
    "    \n",
    "class square(shape):\n",
    "    def area(self):\n",
    "        return \"This method prints the area of square\""
   ]
  },
  {
   "cell_type": "code",
   "execution_count": 15,
   "id": "1aae4c23-0e83-47eb-a45a-d992bdaf1015",
   "metadata": {},
   "outputs": [
    {
     "data": {
      "text/plain": [
       "'This method prints the area of circle'"
      ]
     },
     "execution_count": 15,
     "metadata": {},
     "output_type": "execute_result"
    }
   ],
   "source": [
    "circle=circle()\n",
    "circle.area()"
   ]
  },
  {
   "cell_type": "code",
   "execution_count": 17,
   "id": "d2958c0a-8dbc-4b0b-8bd3-a1cfa40adce2",
   "metadata": {},
   "outputs": [],
   "source": [
    "#8\n",
    "\n",
    "from abc import ABC,abstractmethod\n",
    "\n",
    "class Vehicle(ABC):\n",
    "    @abstractmethod\n",
    "    def start(self):\n",
    "        pass\n",
    "    \n",
    "class Car(Vehicle):\n",
    "    def start(self):\n",
    "        return \"Start Car\"\n",
    "    \n",
    "class Boat(Vehicle):\n",
    "    def start(self):\n",
    "        return \"Start Boat\""
   ]
  },
  {
   "cell_type": "code",
   "execution_count": 18,
   "id": "99a61e97-bd49-4f6f-9d3e-45b2ac38ff23",
   "metadata": {},
   "outputs": [
    {
     "data": {
      "text/plain": [
       "'Start Car'"
      ]
     },
     "execution_count": 18,
     "metadata": {},
     "output_type": "execute_result"
    }
   ],
   "source": [
    "car=Car()\n",
    "car.start()"
   ]
  },
  {
   "cell_type": "code",
   "execution_count": 19,
   "id": "63111638-56b9-419e-b6c1-b1e64ce1a771",
   "metadata": {},
   "outputs": [
    {
     "data": {
      "text/plain": [
       "'Start Boat'"
      ]
     },
     "execution_count": 19,
     "metadata": {},
     "output_type": "execute_result"
    }
   ],
   "source": [
    "boat=Boat()\n",
    "boat.start()"
   ]
  },
  {
   "cell_type": "code",
   "execution_count": 25,
   "id": "0d83cad2-cc12-4c1c-bdf9-c5ac00fb0184",
   "metadata": {},
   "outputs": [],
   "source": [
    "#9\n",
    "'''\n",
    "isinstance() returns True if the specified object is of the specified type. Else it returns False\n",
    "\n",
    "'''\n",
    "x=isinstance(\"Hello\",str)"
   ]
  },
  {
   "cell_type": "code",
   "execution_count": 26,
   "id": "160d1d9a-39a3-4f69-8985-dd35f5d28f85",
   "metadata": {},
   "outputs": [
    {
     "data": {
      "text/plain": [
       "True"
      ]
     },
     "execution_count": 26,
     "metadata": {},
     "output_type": "execute_result"
    }
   ],
   "source": [
    "x"
   ]
  },
  {
   "cell_type": "code",
   "execution_count": 27,
   "id": "b91f0ad4-abac-47b1-a06f-7a145c728246",
   "metadata": {},
   "outputs": [],
   "source": [
    "#10\n",
    "# abstractmethod cannot be defined. We can just declare it. Implementation of the method would be done in child class.\n",
    "\n",
    "from abc import ABC,abstractmethod\n",
    "\n",
    "class Vehicle(ABC):\n",
    "    @abstractmethod\n",
    "    def start(self):\n",
    "        pass\n",
    "    \n",
    "class Car(Vehicle):\n",
    "    def start(self):\n",
    "        return \"Start Car\"\n",
    "    \n",
    "class Boat(Vehicle):\n",
    "    def start(self):\n",
    "        return \"Start Boat\""
   ]
  },
  {
   "cell_type": "code",
   "execution_count": 28,
   "id": "87bb242c-f218-4bad-af68-f438f70400c6",
   "metadata": {},
   "outputs": [
    {
     "data": {
      "text/plain": [
       "'Start Car'"
      ]
     },
     "execution_count": 28,
     "metadata": {},
     "output_type": "execute_result"
    }
   ],
   "source": [
    "car=Car()\n",
    "car.start()"
   ]
  },
  {
   "cell_type": "code",
   "execution_count": null,
   "id": "6ab465fb-7869-49f6-bcd2-4290f54ad6aa",
   "metadata": {},
   "outputs": [],
   "source": [
    "#12\n",
    "'''\n",
    "Polymorphism allows us to reuse the same code multiple times when a parent class is inherited in child class.\n",
    "It removes the need for redundant code. \n",
    "'''"
   ]
  },
  {
   "cell_type": "code",
   "execution_count": 22,
   "id": "9785ffa9-d4e2-4877-8cb7-c2b063dac133",
   "metadata": {},
   "outputs": [],
   "source": [
    "#13\n",
    "\n",
    "'''\n",
    "super() function is used to access parent class attributes or methods\n",
    "'''\n",
    "\n",
    "class Person:\n",
    "    def __init__(self,gender,character):\n",
    "        self.gender=gender\n",
    "        self.character=character\n",
    "        \n",
    "class Student(Person):\n",
    "    def __init__(self,gender,character,rollno,dept):\n",
    "        super().__init__(gender,character)\n",
    "        self.rollno=rollno\n",
    "        self.dept=dept\n",
    "        \n",
    "    def details(self):\n",
    "        return self.gender,self.character,self.rollno,self.dept\n",
    "        \n",
    "class Professor(Person):\n",
    "    def __init__(self,gender,character,college):\n",
    "        super().__init__(gender,character)\n",
    "        self.college=college\n",
    "        \n",
    "    def details(self):\n",
    "        return self.gender,self.character,self.college"
   ]
  },
  {
   "cell_type": "code",
   "execution_count": 23,
   "id": "3bf9bece-7ed5-4db3-8c12-849966e54281",
   "metadata": {},
   "outputs": [],
   "source": [
    "professor=Professor('Male','Expert','TCE')"
   ]
  },
  {
   "cell_type": "code",
   "execution_count": 24,
   "id": "1e49bf54-7d3f-4920-9390-5d84c61a5ec6",
   "metadata": {},
   "outputs": [
    {
     "data": {
      "text/plain": [
       "('Male', 'Expert', 'TCE')"
      ]
     },
     "execution_count": 24,
     "metadata": {},
     "output_type": "execute_result"
    }
   ],
   "source": [
    "professor.details()"
   ]
  },
  {
   "cell_type": "code",
   "execution_count": 51,
   "id": "a4bc149a-1fdb-4ad7-b367-45921be9e9d3",
   "metadata": {},
   "outputs": [],
   "source": [
    "#14\n",
    "class bank():\n",
    "    def __init__(self,savings,current,creditcard):\n",
    "        self.savings=savings\n",
    "        self.current=current\n",
    "        self.creditcard=creditcard\n",
    "    \n",
    "    def withdrawfromSavings(self):\n",
    "        return \"Amount withdrawn from \"+str(self.savings)\n",
    "    \n",
    "    def withdrawfromCurrent(self):\n",
    "        return \"Amount withdrawn from \"+str(self.current)\n",
    "    \n",
    "    def withdrawfromCreditCard(self):\n",
    "        return \"Amount withdrawn from \"+str(self.creditcard)\n",
    "    \n",
    "class ICICI(bank):\n",
    "    def __init__(self,savings,current,creditcard):\n",
    "        super().__init__(savings,current,creditcard)\n",
    "    \n",
    "    def withdrawfromSavings(self):\n",
    "        return super().withdrawfromSavings()\n",
    "    \n",
    "    def withdrawfromCurrent(self):\n",
    "        return super().withdrawfromCurrent()\n",
    "    \n",
    "    def withdrawfromCreditCard(self):\n",
    "        return super().withdrawfromCreditCard()\n",
    "    \n",
    "class SBI(bank):\n",
    "    def __init__(self,savings,current,creditcard):\n",
    "        super().__init__(savings,current,creditcard)\n",
    "    \n",
    "    def withdrawfromSavings(self):\n",
    "        return super().withdrawfromSavings()\n",
    "    \n",
    "    def withdrawfromCurrent(self):\n",
    "        return super().withdrawfromCurrent()\n",
    "    \n",
    "    def withdrawfromCreditCard(self):\n",
    "        return super().withdrawfromCreditCard()\n",
    "    \n",
    "class HDFC(bank):\n",
    "    def __init__(self,savings,current,creditcard):\n",
    "        super().__init__(savings,current,creditcard)\n",
    "    \n",
    "    def withdrawfromSavings(self):\n",
    "        return super().withdrawfromSavings()\n",
    "    \n",
    "    def withdrawfromCurrent(self):\n",
    "        return super().withdrawfromCurrent()\n",
    "    \n",
    "    def withdrawfromCreditCard(self):\n",
    "        return super().withdrawfromCreditCard()"
   ]
  },
  {
   "cell_type": "code",
   "execution_count": 52,
   "id": "216749f8-17f8-4e96-b268-3096cb947eff",
   "metadata": {},
   "outputs": [
    {
     "data": {
      "text/plain": [
       "'Amount withdrawn from 123113'"
      ]
     },
     "execution_count": 52,
     "metadata": {},
     "output_type": "execute_result"
    }
   ],
   "source": [
    "icici=ICICI(123113,39992,9999922)\n",
    "icici.withdrawfromSavings()"
   ]
  },
  {
   "cell_type": "code",
   "execution_count": 53,
   "id": "fc568d8a-851a-4c7b-b487-2e4f93e7661f",
   "metadata": {},
   "outputs": [
    {
     "data": {
      "text/plain": [
       "'Amount withdrawn from 392232992'"
      ]
     },
     "execution_count": 53,
     "metadata": {},
     "output_type": "execute_result"
    }
   ],
   "source": [
    "sbi=SBI(42444,392232992,8483922)\n",
    "sbi.withdrawfromCurrent()"
   ]
  },
  {
   "cell_type": "code",
   "execution_count": 60,
   "id": "f780d0d7-55b1-4ce8-8a91-05047124ece6",
   "metadata": {},
   "outputs": [],
   "source": [
    "#15\n",
    "\n",
    "'''\n",
    "Operators like +,-,*,/ support different type of Operands like int,float,str etc.\n",
    "Based on the operands, the result will get listed.\n",
    "In this way, they support Polymorphism.\n",
    "\n",
    "'''\n",
    "\n",
    "\n",
    "class Operators:\n",
    "    def add(self,a,b):\n",
    "        return a+b\n",
    "    \n",
    "    def sub(self,a,b):\n",
    "        return a-b\n",
    "    \n",
    "    def mul(self,a,b):\n",
    "        return a*b\n",
    "        \n",
    "    def div(self,a,b):\n",
    "        return a/b"
   ]
  },
  {
   "cell_type": "code",
   "execution_count": 61,
   "id": "fe668042-5245-4f91-b196-d9be17530778",
   "metadata": {},
   "outputs": [],
   "source": [
    "operator=Operators()"
   ]
  },
  {
   "cell_type": "code",
   "execution_count": 62,
   "id": "c7be11f5-265f-4a66-95b7-d90b4f651e51",
   "metadata": {},
   "outputs": [
    {
     "data": {
      "text/plain": [
       "3"
      ]
     },
     "execution_count": 62,
     "metadata": {},
     "output_type": "execute_result"
    }
   ],
   "source": [
    "operator.add(1,2)"
   ]
  },
  {
   "cell_type": "code",
   "execution_count": 63,
   "id": "718d593e-366e-4f0f-a30b-4d4860e594a7",
   "metadata": {},
   "outputs": [
    {
     "data": {
      "text/plain": [
       "'SiddSriram'"
      ]
     },
     "execution_count": 63,
     "metadata": {},
     "output_type": "execute_result"
    }
   ],
   "source": [
    "operator.add('Sidd',\"Sriram\")"
   ]
  },
  {
   "cell_type": "code",
   "execution_count": 64,
   "id": "38def2f8-cff7-4734-ba41-91fb4c0925da",
   "metadata": {},
   "outputs": [
    {
     "data": {
      "text/plain": [
       "12"
      ]
     },
     "execution_count": 64,
     "metadata": {},
     "output_type": "execute_result"
    }
   ],
   "source": [
    "operator.mul(3,4)"
   ]
  },
  {
   "cell_type": "code",
   "execution_count": 65,
   "id": "bb3d9b2e-4ed8-4219-afab-9450d3d69ab6",
   "metadata": {},
   "outputs": [
    {
     "data": {
      "text/plain": [
       "201.72"
      ]
     },
     "execution_count": 65,
     "metadata": {},
     "output_type": "execute_result"
    }
   ],
   "source": [
    "operator.mul(4.1,49.2)"
   ]
  },
  {
   "cell_type": "code",
   "execution_count": 70,
   "id": "17eadca6-001f-493c-836f-00a6b1d917e4",
   "metadata": {},
   "outputs": [],
   "source": [
    "#17\n",
    "\n",
    "class employee:\n",
    "    def __init__(self,salary):\n",
    "        self.salary=salary\n",
    "        \n",
    "    def calculate_salary(self):\n",
    "        return self.salary\n",
    "    \n",
    "class Manager(employee):\n",
    "    def __init__(self,salary):\n",
    "        super().__init__(salary)\n",
    "        \n",
    "    def calculate_salary(self):\n",
    "        return super().calculate_salary()\n",
    "        \n",
    "class Developer(employee):\n",
    "    def __init__(self,salary):\n",
    "        super().__init__(salary)\n",
    "        \n",
    "    def calculate_salary(self):\n",
    "        return super().calculate_salary()\n",
    "        \n",
    "class Designer(employee):\n",
    "    def __init__(self,salary):\n",
    "        super().__init__(salary)\n",
    "        \n",
    "    def calculate_salary(self):\n",
    "        return super().calculate_salary()"
   ]
  },
  {
   "cell_type": "code",
   "execution_count": 71,
   "id": "3aa64c1b-e98d-4c59-a70a-12d62c96dacb",
   "metadata": {},
   "outputs": [
    {
     "data": {
      "text/plain": [
       "100000"
      ]
     },
     "execution_count": 71,
     "metadata": {},
     "output_type": "execute_result"
    }
   ],
   "source": [
    "manager=Manager(100000)\n",
    "manager.calculate_salary()"
   ]
  },
  {
   "cell_type": "code",
   "execution_count": 72,
   "id": "ba484618-252f-4fc4-8a59-6144a2f7ec6f",
   "metadata": {},
   "outputs": [
    {
     "data": {
      "text/plain": [
       "50000"
      ]
     },
     "execution_count": 72,
     "metadata": {},
     "output_type": "execute_result"
    }
   ],
   "source": [
    "developer=Developer(50000)\n",
    "developer.calculate_salary()"
   ]
  },
  {
   "cell_type": "code",
   "execution_count": 85,
   "id": "07255a37-4eb3-47a5-abf7-d1c0e5a17a11",
   "metadata": {},
   "outputs": [],
   "source": [
    "#20\n",
    "\n",
    "from abc import ABC,abstractmethod\n",
    "\n",
    "class animal(ABC):\n",
    "    @abstractmethod\n",
    "    def eat(self):\n",
    "        pass\n",
    "    \n",
    "    @abstractmethod\n",
    "    def sound(self):\n",
    "        pass\n",
    "    \n",
    "    @abstractmethod\n",
    "    def sleep(self):\n",
    "        pass\n",
    "    \n",
    "class mammal(animal):\n",
    "    def eat(self):\n",
    "        return \"Mammals eat food\"\n",
    "\n",
    "    def sound(self):\n",
    "        return \"Mammals make sound\"\n",
    "    \n",
    "    def sleep(self):\n",
    "        return \"Mammals sleep during night\"\n",
    "    \n",
    "\n",
    "class birds(animal):\n",
    "    def eat(self):\n",
    "        return \"Birds eat food\"\n",
    "\n",
    "    def sound(self):\n",
    "        return \"Birds make sound\"\n",
    "    \n",
    "    def sleep(self):\n",
    "        return \"Birds sleep during night\"\n",
    "    \n",
    "\n",
    "class reptiles(animal):\n",
    "    def eat(self):\n",
    "        return \"Reptiles eat food\"\n",
    "\n",
    "    def sound(self):\n",
    "        return \"Reptiles make sound\"\n",
    "    \n",
    "    def sleep(self):\n",
    "        return \"Reptiles sleep during night\"\n"
   ]
  },
  {
   "cell_type": "code",
   "execution_count": 86,
   "id": "d911cf28-f764-4494-a2e3-3e6c88b85036",
   "metadata": {},
   "outputs": [
    {
     "data": {
      "text/plain": [
       "'Mammals eat food'"
      ]
     },
     "execution_count": 86,
     "metadata": {},
     "output_type": "execute_result"
    }
   ],
   "source": [
    "mammal=mammal()\n",
    "mammal.eat()"
   ]
  },
  {
   "cell_type": "code",
   "execution_count": 87,
   "id": "20f5799a-c2c5-4c4e-aff3-1e9df625d4cb",
   "metadata": {},
   "outputs": [
    {
     "data": {
      "text/plain": [
       "'Reptiles make sound'"
      ]
     },
     "execution_count": 87,
     "metadata": {},
     "output_type": "execute_result"
    }
   ],
   "source": [
    "reptiles=reptiles()\n",
    "reptiles.sound()"
   ]
  },
  {
   "cell_type": "markdown",
   "id": "c6dee616-919d-4e80-a051-98a2b346422c",
   "metadata": {},
   "source": [
    "# Abstraction"
   ]
  },
  {
   "cell_type": "code",
   "execution_count": null,
   "id": "10991a52-b97b-438f-999c-28c158d8cbc6",
   "metadata": {},
   "outputs": [],
   "source": [
    "#1\n",
    "'''\n",
    "Abstraction is the concept of sharing only feature to the user & hiding the details / implementation.\n",
    "It is one of the core concepts of OOPS. \n",
    "'''"
   ]
  },
  {
   "cell_type": "code",
   "execution_count": 1,
   "id": "8db2a35c-c8ae-4515-9701-295fc8120358",
   "metadata": {},
   "outputs": [],
   "source": [
    "#3\n",
    "\n",
    "from abc import ABC,abstractmethod\n",
    "\n",
    "class shape(ABC):\n",
    "    @abstractmethod\n",
    "    def area(self):\n",
    "        pass\n",
    "    \n",
    "class circle(shape):\n",
    "    def area(self):\n",
    "        return \"This method prints the area of circle\"\n",
    "    \n",
    "class square(shape):\n",
    "    def area(self):\n",
    "        return \"This method prints the area of square\""
   ]
  },
  {
   "cell_type": "code",
   "execution_count": 2,
   "id": "2ce8f51a-7a91-478f-9189-d4df8d19d5e4",
   "metadata": {},
   "outputs": [
    {
     "data": {
      "text/plain": [
       "'This method prints the area of square'"
      ]
     },
     "execution_count": 2,
     "metadata": {},
     "output_type": "execute_result"
    }
   ],
   "source": [
    "sq=square()\n",
    "sq.area()"
   ]
  },
  {
   "cell_type": "code",
   "execution_count": 3,
   "id": "140549fa-01ea-45e8-ac67-1c61a29d9ba2",
   "metadata": {},
   "outputs": [],
   "source": [
    "#4\n",
    "'''\n",
    "Abstract classes provide blueprint for child classes. \n",
    "The class that inherit abstract classes must implement the methods declared in the abstract class.\n",
    "Abstract classes cannot be instantiated, ie, object cannot be created for abstract class.\n",
    "'''\n",
    "\n",
    "from abc import ABC,abstractmethod\n",
    "\n",
    "class shape(ABC):\n",
    "    @abstractmethod\n",
    "    def area(self):\n",
    "        pass\n",
    "    \n",
    "class circle(shape):\n",
    "    def area(self):\n",
    "        return \"This method prints the area of circle\"\n",
    "    \n",
    "class square(shape):\n",
    "    def area(self):\n",
    "        return \"This method prints the area of square\""
   ]
  },
  {
   "cell_type": "code",
   "execution_count": null,
   "id": "2ee298c9-1a83-4913-b3ba-a40f14c2507c",
   "metadata": {},
   "outputs": [],
   "source": [
    "#5\n",
    "\n",
    "'''\n",
    "Abstract classes provide blueprint for child classes, whereas regular classes has \n",
    "attributes & methods having implementation of its own.\n",
    "Abstract classes cannot be instantiated, ie, object cannot be created for abstract class, \n",
    "whereas objects can be created for regular classes.\n",
    "'''"
   ]
  },
  {
   "cell_type": "code",
   "execution_count": 7,
   "id": "7041f8a7-9a11-46e1-9aa5-c1b3f5edd724",
   "metadata": {},
   "outputs": [],
   "source": [
    "#6\n",
    "class bank:\n",
    "    def __init__(self,balance):\n",
    "        self.__balance=balance\n",
    "        \n",
    "    def deposit(self,amount):\n",
    "        self.__balance=self.__balance+amount\n",
    "        return self.__balance\n",
    "        \n",
    "    def withdraw(self,amount):\n",
    "        self.__balance=self.__balance-amount\n",
    "        return self.__balance"
   ]
  },
  {
   "cell_type": "code",
   "execution_count": 8,
   "id": "d3845042-50aa-4b5f-bddf-557b86aa23d4",
   "metadata": {},
   "outputs": [],
   "source": [
    "bank=bank(10000)"
   ]
  },
  {
   "cell_type": "code",
   "execution_count": 9,
   "id": "7e90f90b-c1b4-4ec4-b158-1e2052cc9a91",
   "metadata": {},
   "outputs": [
    {
     "data": {
      "text/plain": [
       "10100"
      ]
     },
     "execution_count": 9,
     "metadata": {},
     "output_type": "execute_result"
    }
   ],
   "source": [
    "bank.deposit(100)"
   ]
  },
  {
   "cell_type": "code",
   "execution_count": 10,
   "id": "0bba20d0-7527-41ff-9e7c-b080389ede64",
   "metadata": {},
   "outputs": [
    {
     "data": {
      "text/plain": [
       "9200"
      ]
     },
     "execution_count": 10,
     "metadata": {},
     "output_type": "execute_result"
    }
   ],
   "source": [
    "bank.withdraw(900)"
   ]
  },
  {
   "cell_type": "code",
   "execution_count": 11,
   "id": "6a761d20-a3d7-476b-ba44-56f2bb8873c9",
   "metadata": {},
   "outputs": [],
   "source": [
    "#7\n",
    "\n",
    "from abc import ABC,abstractmethod\n",
    "\n",
    "class animal(ABC):\n",
    "    @abstractmethod\n",
    "    def eat(self):\n",
    "        pass\n",
    "    \n",
    "    @abstractmethod\n",
    "    def sound(self):\n",
    "        pass\n",
    "    \n",
    "    @abstractmethod\n",
    "    def sleep(self):\n",
    "        pass\n",
    "    \n",
    "class mammal(animal):\n",
    "    def eat(self):\n",
    "        return \"Mammals eat food\"\n",
    "\n",
    "    def sound(self):\n",
    "        return \"Mammals make sound\"\n",
    "    \n",
    "    def sleep(self):\n",
    "        return \"Mammals sleep during night\"\n",
    "    \n",
    "\n",
    "class birds(animal):\n",
    "    def eat(self):\n",
    "        return \"Birds eat food\"\n",
    "\n",
    "    def sound(self):\n",
    "        return \"Birds make sound\"\n",
    "    \n",
    "    def sleep(self):\n",
    "        return \"Birds sleep during night\"\n",
    "    \n",
    "\n",
    "class reptiles(animal):\n",
    "    def eat(self):\n",
    "        return \"Reptiles eat food\"\n",
    "\n",
    "    def sound(self):\n",
    "        return \"Reptiles make sound\"\n",
    "    \n",
    "    def sleep(self):\n",
    "        return \"Reptiles sleep during night\""
   ]
  },
  {
   "cell_type": "code",
   "execution_count": 12,
   "id": "4570de88-8688-4a7f-8f50-c74d2639140a",
   "metadata": {},
   "outputs": [
    {
     "data": {
      "text/plain": [
       "'Reptiles make sound'"
      ]
     },
     "execution_count": 12,
     "metadata": {},
     "output_type": "execute_result"
    }
   ],
   "source": [
    "reptile=reptiles()\n",
    "reptile.sound()"
   ]
  },
  {
   "cell_type": "code",
   "execution_count": null,
   "id": "913763d4-acb5-4ff5-a05d-64d641686e37",
   "metadata": {},
   "outputs": [],
   "source": [
    "#10\n",
    "\n",
    "'''\n",
    "abstractmethod cannot be defined. We can just declare it. Implementation of the method would be done in child class.\n",
    "Without implenting all the abstract methods, parent class cannot be inherited.\n",
    "\n",
    "'''"
   ]
  },
  {
   "cell_type": "code",
   "execution_count": 36,
   "id": "11e25c90-af59-438b-97ab-fca95fe899aa",
   "metadata": {},
   "outputs": [],
   "source": [
    "#11\n",
    "\n",
    "from abc import ABC,abstractmethod\n",
    "\n",
    "class Vehicle(ABC):\n",
    "    @abstractmethod\n",
    "    def start(self):\n",
    "        pass\n",
    "    \n",
    "    @abstractmethod\n",
    "    def stop(self):\n",
    "        pass\n",
    "    \n",
    "    def parking(self):\n",
    "        return \"Parking done\"\n",
    "    \n",
    "class Car(Vehicle):\n",
    "    def start(self):\n",
    "        return \"Start Car\"\n",
    "    \n",
    "    def stop(self):\n",
    "        return \"Stop Car\"\n",
    "    \n",
    "class Boat(Vehicle):\n",
    "    def start(self):\n",
    "        return \"Start Boat\"\n",
    "    \n",
    "    def stop(self):\n",
    "        return \"Stop Boat\""
   ]
  },
  {
   "cell_type": "code",
   "execution_count": 37,
   "id": "ea30cedd-69a2-42f8-a757-9deff4e84030",
   "metadata": {},
   "outputs": [
    {
     "data": {
      "text/plain": [
       "'Start Car'"
      ]
     },
     "execution_count": 37,
     "metadata": {},
     "output_type": "execute_result"
    }
   ],
   "source": [
    "car=Car()\n",
    "car.start()"
   ]
  },
  {
   "cell_type": "code",
   "execution_count": 15,
   "id": "2b2e2378-64d5-4e3c-a93f-494656b7afea",
   "metadata": {},
   "outputs": [
    {
     "data": {
      "text/plain": [
       "'Stop Boat'"
      ]
     },
     "execution_count": 15,
     "metadata": {},
     "output_type": "execute_result"
    }
   ],
   "source": [
    "boat=Boat()\n",
    "boat.stop()"
   ]
  },
  {
   "cell_type": "code",
   "execution_count": 20,
   "id": "64fd344f-2dd1-438f-81be-b5c9c5118ef4",
   "metadata": {},
   "outputs": [],
   "source": [
    "#13\n",
    "from abc import ABC,abstractmethod\n",
    "\n",
    "class employee(ABC):        \n",
    "    def calculate_salary(self):\n",
    "        pass\n",
    "    \n",
    "class Manager(employee):\n",
    "    def __init__(self,salary):\n",
    "        self.salary=salary\n",
    "        \n",
    "    def calculate_salary(self):\n",
    "        return self.salary\n",
    "        \n",
    "class Developer(employee):\n",
    "    def __init__(self,salary):\n",
    "        self.salary=salary\n",
    "        \n",
    "    def calculate_salary(self):\n",
    "        return self.salary\n",
    "        \n",
    "class Designer(employee):\n",
    "    def __init__(self,salary):\n",
    "        self.salary=salary\n",
    "        \n",
    "    def calculate_salary(self):\n",
    "        return self.salary"
   ]
  },
  {
   "cell_type": "code",
   "execution_count": 21,
   "id": "ec893fd0-5b12-4358-96e3-12b7da50a37c",
   "metadata": {},
   "outputs": [
    {
     "data": {
      "text/plain": [
       "10000"
      ]
     },
     "execution_count": 21,
     "metadata": {},
     "output_type": "execute_result"
    }
   ],
   "source": [
    "manager=Manager(10000)\n",
    "manager.calculate_salary()"
   ]
  },
  {
   "cell_type": "code",
   "execution_count": null,
   "id": "632746f8-25d7-4618-8005-60b0cdf2f672",
   "metadata": {},
   "outputs": [],
   "source": [
    "#14\n",
    "'''\n",
    "Abstract class can have both abstract and non-abstract methods. \n",
    "Whereas Concrete class can contain non-abstract methods only.\n",
    "\n",
    "Abstract class cannot be instantiated, whereas Concrete class can be instantiated.\n",
    "\n",
    "'''"
   ]
  },
  {
   "cell_type": "code",
   "execution_count": 34,
   "id": "95b810a3-b879-4db9-8112-aa523f20c091",
   "metadata": {},
   "outputs": [],
   "source": [
    "#16\n",
    "\n",
    "from abc import ABC,abstractmethod\n",
    "\n",
    "class system(ABC):\n",
    "    @abstractmethod\n",
    "    def power_on(self):\n",
    "        pass\n",
    "    \n",
    "    @abstractmethod\n",
    "    def shutdown(self):\n",
    "        pass\n",
    "    \n",
    "class laptop(system):\n",
    "    def power_on(self):\n",
    "        return \"Laptop is turned on\"\n",
    "    \n",
    "    def shutdown(self):\n",
    "        return \"Laptop is shutdown\"\n",
    "    \n",
    "class desktop(system):\n",
    "    def power_on(self):\n",
    "        return \"Desktop is turned on\"\n",
    "    \n",
    "    def shutdown(self):\n",
    "        return \"Desktop is shutdown\""
   ]
  },
  {
   "cell_type": "code",
   "execution_count": 32,
   "id": "708b9f9f-6d23-41ef-820d-86e5d8de6268",
   "metadata": {},
   "outputs": [
    {
     "data": {
      "text/plain": [
       "'Laptop is turned on'"
      ]
     },
     "execution_count": 32,
     "metadata": {},
     "output_type": "execute_result"
    }
   ],
   "source": [
    "laptop=laptop()\n",
    "laptop.power_on()"
   ]
  },
  {
   "cell_type": "code",
   "execution_count": 33,
   "id": "4c3ccd47-dd16-4f95-bad9-3b639f1bc9c6",
   "metadata": {},
   "outputs": [
    {
     "data": {
      "text/plain": [
       "'Desktop is shutdown'"
      ]
     },
     "execution_count": 33,
     "metadata": {},
     "output_type": "execute_result"
    }
   ],
   "source": [
    "desktop=desktop()\n",
    "desktop.shutdown()"
   ]
  },
  {
   "cell_type": "code",
   "execution_count": null,
   "id": "9185ed9c-31c7-4aca-b8d0-b99fff227fb2",
   "metadata": {},
   "outputs": [],
   "source": [
    "#17\n",
    "'''\n",
    "1. In large scale projects, abstraction can be used to hide attributes / variables from other classes.\n",
    "2. During designing of projects, generic / important methods can be declared as abstract methods, so that they can be \n",
    "implemented in the class that inherits the parent class.\n",
    "'''"
   ]
  },
  {
   "cell_type": "code",
   "execution_count": null,
   "id": "1b38ace0-ef04-4d25-9751-e1c75a4529b0",
   "metadata": {},
   "outputs": [],
   "source": [
    "#18\n",
    "'''\n",
    "Abstraction promotes code reusability as the generic methods can be defined in parent class & it can be \n",
    "implemented in all the child class that inherites the parent class.\n",
    "'''"
   ]
  },
  {
   "cell_type": "code",
   "execution_count": 28,
   "id": "b45e967c-191f-4d7b-ae1e-38c0374bac5c",
   "metadata": {},
   "outputs": [],
   "source": [
    "#19\n",
    "\n",
    "from abc import ABC,abstractmethod\n",
    "\n",
    "class library(ABC):\n",
    "    @abstractmethod\n",
    "    def add_book(self):\n",
    "        pass\n",
    "    \n",
    "    @abstractmethod\n",
    "    def borrow_book(self):\n",
    "        pass\n",
    "    \n",
    "class library1(library):\n",
    "    def add_book(self):\n",
    "        return \"Library 1 - Add book\"\n",
    "    \n",
    "    def borrow_book(self):\n",
    "        return \"Library 1 - Borrow book\"\n",
    "    \n",
    "class library2(library):\n",
    "    def add_book(self):\n",
    "        return \"Library 2 - Add book\"\n",
    "    \n",
    "    def borrow_book(self):\n",
    "        return \"Library 2 - Borrow book\""
   ]
  },
  {
   "cell_type": "code",
   "execution_count": 29,
   "id": "160d6b7e-3ef3-45b3-8cc3-1bd0dde3969c",
   "metadata": {},
   "outputs": [
    {
     "data": {
      "text/plain": [
       "'Library 1 - Add book'"
      ]
     },
     "execution_count": 29,
     "metadata": {},
     "output_type": "execute_result"
    }
   ],
   "source": [
    "library1=library1()\n",
    "library1.add_book()"
   ]
  },
  {
   "cell_type": "markdown",
   "id": "8f5d2975-8587-4d6d-843d-ff7ae8c04a5b",
   "metadata": {},
   "source": [
    "# Encapsulation"
   ]
  },
  {
   "cell_type": "code",
   "execution_count": null,
   "id": "b16d42a9-3680-4fb8-a05f-245de2d8ec88",
   "metadata": {},
   "outputs": [],
   "source": [
    "#1\n",
    "'''\n",
    "Encapsulation is the concept of wrapping data & methods into one unit.\n",
    "It puts restriction on accessing data & accidental modification of data\n",
    "'''"
   ]
  },
  {
   "cell_type": "code",
   "execution_count": 39,
   "id": "b1201276-1c43-4149-bed5-9bf94fdd1d81",
   "metadata": {},
   "outputs": [],
   "source": [
    "#3\n",
    "'''\n",
    "Encapsulation can be achieved by declaring variables / methods as private or protected. \n",
    "It can be done by using single _ or double _\n",
    "'''\n",
    "\n",
    "class encapsulation:\n",
    "    def __init__(self,x):\n",
    "        self.__x=x\n",
    "        \n",
    "    def access_x(self):\n",
    "        return self.__x"
   ]
  },
  {
   "cell_type": "code",
   "execution_count": 40,
   "id": "3dddef93-bf39-4e00-a834-61ecebdf37e1",
   "metadata": {},
   "outputs": [
    {
     "data": {
      "text/plain": [
       "40"
      ]
     },
     "execution_count": 40,
     "metadata": {},
     "output_type": "execute_result"
    }
   ],
   "source": [
    "encap=encapsulation(40)\n",
    "encap.access_x()"
   ]
  },
  {
   "cell_type": "code",
   "execution_count": 42,
   "id": "78ea4344-d094-4ed4-9672-a869b286c5bd",
   "metadata": {},
   "outputs": [
    {
     "data": {
      "text/plain": [
       "'\\nVariables / methods declared as private can be accessed only within the same class.\\nVariables / methods declared as protected can be accessed within the class and its sub-classes.\\n'"
      ]
     },
     "execution_count": 42,
     "metadata": {},
     "output_type": "execute_result"
    }
   ],
   "source": [
    "#4\n",
    "'''\n",
    "Variables / methods declared as private can be accessed only within the same class.\n",
    "Variables / methods declared as protected can be accessed within the class and its sub-classes.\n",
    "'''"
   ]
  },
  {
   "cell_type": "code",
   "execution_count": 53,
   "id": "9978bb0d-81da-4cc7-b32b-9d99b4910c72",
   "metadata": {},
   "outputs": [],
   "source": [
    "#5\n",
    "\n",
    "class Person:\n",
    "    def __init__(self,name):\n",
    "        self.__name=name\n",
    "        \n",
    "    @property\n",
    "    def name(self):\n",
    "        return self.__name\n",
    "    \n",
    "    @name.setter\n",
    "    def name(self,name):\n",
    "        self.__name=name\n",
    "        \n",
    "    @name.getter\n",
    "    def name(self):\n",
    "        return self.__name\n",
    "        "
   ]
  },
  {
   "cell_type": "code",
   "execution_count": 55,
   "id": "dca7ff8c-5c5c-45b7-9ed1-65c7e8e89f01",
   "metadata": {},
   "outputs": [
    {
     "data": {
      "text/plain": [
       "'Siddharth'"
      ]
     },
     "execution_count": 55,
     "metadata": {},
     "output_type": "execute_result"
    }
   ],
   "source": [
    "person=Person('Siddharth')\n",
    "person.name"
   ]
  },
  {
   "cell_type": "code",
   "execution_count": 56,
   "id": "02752d14-91fa-444b-a358-7c68edf8342c",
   "metadata": {},
   "outputs": [],
   "source": [
    "#6\n",
    "'''\n",
    "Getter & setter methods are used to achieve encapsulation in Python. \n",
    "They are used to access private & protected variables & methods.\n",
    "\n",
    "'''\n",
    "\n",
    "class Student:\n",
    "    def __init__(self,name):\n",
    "        self.__name=name\n",
    "        \n",
    "    @property\n",
    "    def name(self):\n",
    "        return self.__name\n",
    "    \n",
    "    @name.setter\n",
    "    def name(self,name):\n",
    "        self.__name=name\n",
    "        \n",
    "    @name.getter\n",
    "    def name(self):\n",
    "        return self.__name"
   ]
  },
  {
   "cell_type": "code",
   "execution_count": 57,
   "id": "3f2bce34-2566-4587-9985-e72a6239f667",
   "metadata": {},
   "outputs": [
    {
     "data": {
      "text/plain": [
       "'Ajay'"
      ]
     },
     "execution_count": 57,
     "metadata": {},
     "output_type": "execute_result"
    }
   ],
   "source": [
    "st=Student('Ajay')\n",
    "st.name"
   ]
  },
  {
   "cell_type": "code",
   "execution_count": 43,
   "id": "287267d3-2a0c-42bf-836f-dfa00897b456",
   "metadata": {},
   "outputs": [],
   "source": [
    "#8\n",
    "\n",
    "class bank:\n",
    "    def __init__(self,balance):\n",
    "        self.__balance=balance\n",
    "        \n",
    "    def deposit(self,amount):\n",
    "        self.__balance=self.__balance+amount\n",
    "        return self.__balance\n",
    "        \n",
    "    def withdraw(self,amount):\n",
    "        self.__balance=self.__balance-amount\n",
    "        return self.__balance"
   ]
  },
  {
   "cell_type": "code",
   "execution_count": 44,
   "id": "6f0c1639-300e-4d16-890b-2836a99ca34d",
   "metadata": {},
   "outputs": [
    {
     "data": {
      "text/plain": [
       "10050"
      ]
     },
     "execution_count": 44,
     "metadata": {},
     "output_type": "execute_result"
    }
   ],
   "source": [
    "bank=bank(10000)\n",
    "bank.deposit(50)"
   ]
  },
  {
   "cell_type": "code",
   "execution_count": 15,
   "id": "5a8a63f7-9040-460c-8f85-f8e147aab593",
   "metadata": {},
   "outputs": [],
   "source": [
    "#11\n",
    "class School:\n",
    "    def __init__(self,revenue,expenditure):\n",
    "        self.__revenue=revenue\n",
    "        self.__expenditure=expenditure\n",
    "        \n",
    "    @property\n",
    "    def school_details(self):\n",
    "        return self.__revenue,self.__expenditure\n",
    "    \n",
    "    @school_details.setter\n",
    "    def school_details(self,revenue,expenditure):\n",
    "        self.__revenue=revenue\n",
    "        self.__expenditure=expenditure\n",
    "        \n",
    "    @school_details.getter\n",
    "    def school_details(self):\n",
    "        return self.__revenue,self.__expenditure\n",
    "\n",
    "class Students(School):\n",
    "    def __init__(self,name):\n",
    "        self.name=name\n",
    "        \n",
    "    def student_details(self):\n",
    "        return self.name\n",
    "        \n",
    "        \n",
    "class Teacher(School):\n",
    "    def __init__(self,name):\n",
    "        self._name=name\n",
    "        \n",
    "    def teacher_details(self):\n",
    "        return self._name\n",
    "\n",
    "class Courses(School):\n",
    "    def __init__(self,courses):\n",
    "        self.courses=courses\n",
    "        \n",
    "    def course_details(self):\n",
    "        return self.courses"
   ]
  },
  {
   "cell_type": "code",
   "execution_count": 16,
   "id": "d508ca56-1276-4b46-aa9b-a73405cb5958",
   "metadata": {},
   "outputs": [
    {
     "data": {
      "text/plain": [
       "(110203022, 4193222)"
      ]
     },
     "execution_count": 16,
     "metadata": {},
     "output_type": "execute_result"
    }
   ],
   "source": [
    "school=School(110203022,4193222)\n",
    "school.school_details"
   ]
  },
  {
   "cell_type": "code",
   "execution_count": 17,
   "id": "198ccb49-2d0a-40af-92e3-3d13c3094671",
   "metadata": {},
   "outputs": [
    {
     "data": {
      "text/plain": [
       "'Sid'"
      ]
     },
     "execution_count": 17,
     "metadata": {},
     "output_type": "execute_result"
    }
   ],
   "source": [
    "student1=Students('Sid')\n",
    "student1.student_details()"
   ]
  },
  {
   "cell_type": "code",
   "execution_count": 18,
   "id": "3269ea6d-021a-4f31-ae99-406f453fb521",
   "metadata": {},
   "outputs": [
    {
     "data": {
      "text/plain": [
       "'Dilli'"
      ]
     },
     "execution_count": 18,
     "metadata": {},
     "output_type": "execute_result"
    }
   ],
   "source": [
    "teacher1=Teacher('Dilli')\n",
    "teacher1.teacher_details()"
   ]
  },
  {
   "cell_type": "code",
   "execution_count": null,
   "id": "c8696be7-5c74-4b9f-b006-3249c97a7400",
   "metadata": {},
   "outputs": [],
   "source": [
    "#12\n",
    "'''\n",
    "@property is a built-in decorator in Python. It is used to give special functionality to certain methods & make them\n",
    "act as setters, getters & deleters.\n",
    "\n",
    "'''"
   ]
  },
  {
   "cell_type": "code",
   "execution_count": 11,
   "id": "7087a6e4-a76c-414a-84da-f7b69cafc748",
   "metadata": {},
   "outputs": [],
   "source": [
    "#13\n",
    "'''\n",
    "1. Hiding of data provides restriction on data access.\n",
    "2. Improves security & avoids erroneous / accidental update of data. \n",
    "'''\n",
    "class bank:\n",
    "    def __init__(self,balance):\n",
    "        self.__balance=balance\n",
    "        \n",
    "    def deposit(self,amount):\n",
    "        self.__balance=self.__balance+amount\n",
    "        return self.__balance\n",
    "        \n",
    "    def withdraw(self,amount):\n",
    "        self.__balance=self.__balance-amount\n",
    "        return self.__balance\n",
    "    "
   ]
  },
  {
   "cell_type": "code",
   "execution_count": 13,
   "id": "401c910b-a8c5-420e-adc5-e70f447cd42e",
   "metadata": {},
   "outputs": [
    {
     "ename": "AttributeError",
     "evalue": "'bank' object has no attribute '__balance'",
     "output_type": "error",
     "traceback": [
      "\u001b[0;31m---------------------------------------------------------------------------\u001b[0m",
      "\u001b[0;31mAttributeError\u001b[0m                            Traceback (most recent call last)",
      "Cell \u001b[0;32mIn[13], line 2\u001b[0m\n\u001b[1;32m      1\u001b[0m b1\u001b[38;5;241m=\u001b[39mbank(\u001b[38;5;241m10000\u001b[39m)\n\u001b[0;32m----> 2\u001b[0m \u001b[43mb1\u001b[49m\u001b[38;5;241;43m.\u001b[39;49m\u001b[43m__balance\u001b[49m\n\u001b[1;32m      4\u001b[0m \u001b[38;5;124;03m'''\u001b[39;00m\n\u001b[1;32m      5\u001b[0m \u001b[38;5;124;03mIn the above example, as the balance attribute is declared as private, it cannot be accessed from outside the class directly.\u001b[39;00m\n\u001b[1;32m      6\u001b[0m \u001b[38;5;124;03m'''\u001b[39;00m\n",
      "\u001b[0;31mAttributeError\u001b[0m: 'bank' object has no attribute '__balance'"
     ]
    }
   ],
   "source": [
    "b1=bank(10000)\n",
    "b1.__balance\n",
    "\n",
    "'''\n",
    "In the above example, as the balance attribute is declared as private, it cannot be accessed from outside the class directly.\n",
    "Hence we are getting the below Error\n",
    "'''"
   ]
  },
  {
   "cell_type": "code",
   "execution_count": 6,
   "id": "c4127167-9ff0-4581-9863-e3a157978e0f",
   "metadata": {},
   "outputs": [],
   "source": [
    "#14\n",
    "class Employee:\n",
    "    def __init__(self,ID,salary):\n",
    "        self.__ID=ID\n",
    "        self.__salary=salary\n",
    "        \n",
    "    def bonus(self):\n",
    "        if self.__salary>10000:\n",
    "            return self.__salary+self.__salary*0.10\n",
    "        else:\n",
    "            return self.__salary"
   ]
  },
  {
   "cell_type": "code",
   "execution_count": 7,
   "id": "e77d4e42-b7e1-4030-b50a-1522b3ee47af",
   "metadata": {},
   "outputs": [
    {
     "data": {
      "text/plain": [
       "110003.3"
      ]
     },
     "execution_count": 7,
     "metadata": {},
     "output_type": "execute_result"
    }
   ],
   "source": [
    "emp1=Employee(332,100003)\n",
    "emp1.bonus()"
   ]
  },
  {
   "cell_type": "code",
   "execution_count": 8,
   "id": "0504f0b7-9d12-4a65-87ec-ebda60202715",
   "metadata": {},
   "outputs": [
    {
     "data": {
      "text/plain": [
       "1000"
      ]
     },
     "execution_count": 8,
     "metadata": {},
     "output_type": "execute_result"
    }
   ],
   "source": [
    "emp2=Employee(331,1000)\n",
    "emp2.bonus()"
   ]
  },
  {
   "cell_type": "code",
   "execution_count": null,
   "id": "de9171e9-0d13-4c89-bd76-23994569cb8b",
   "metadata": {},
   "outputs": [],
   "source": [
    "#16\n",
    "'''\n",
    "1. Data Hiding / Encapsulation makes the program lengthly.\n",
    "2. Handling invisible / hidden data and regular data needs extra coding / effort from programmers.\n",
    "'''"
   ]
  },
  {
   "cell_type": "code",
   "execution_count": 1,
   "id": "efd53caf-7c7b-442c-bb6e-d5b03570a63d",
   "metadata": {},
   "outputs": [],
   "source": [
    "#17\n",
    "class library:\n",
    "    def __init__(self,title,author,status):\n",
    "        self.__title=title\n",
    "        self.__author=author\n",
    "        self.__status=status\n",
    "        \n",
    "    @property\n",
    "    def details_display(self):\n",
    "        return self.__title,self.__author,self.__status\n",
    "    \n",
    "    @details_display.setter\n",
    "    def details_display(self,title,author,status):\n",
    "        self.__title=title\n",
    "        self.__author=author\n",
    "        self.__status=status\n",
    "        \n",
    "    @details_display.getter\n",
    "    def details_display(self):\n",
    "        return self.__title,self.__author,self.__status"
   ]
  },
  {
   "cell_type": "code",
   "execution_count": 4,
   "id": "61e5ef11-1951-4348-a09f-f53ed04a01b4",
   "metadata": {},
   "outputs": [],
   "source": [
    "library1=library('Good Habits','Jack','Available')"
   ]
  },
  {
   "cell_type": "code",
   "execution_count": 5,
   "id": "5e0c8589-39dd-492d-b08a-5af933e41ba8",
   "metadata": {},
   "outputs": [
    {
     "data": {
      "text/plain": [
       "('Good Habits', 'Jack', 'Available')"
      ]
     },
     "execution_count": 5,
     "metadata": {},
     "output_type": "execute_result"
    }
   ],
   "source": [
    "library1.details_display"
   ]
  },
  {
   "cell_type": "code",
   "execution_count": null,
   "id": "af9efa73-09c0-4c75-a6a6-c1843c96d003",
   "metadata": {},
   "outputs": [],
   "source": [
    "#19\n",
    "'''\n",
    "Encapsulation provides facility to hide implementation and displaying only the feature to the customer.\n",
    "It provides security to sensitive data by declaring them as private or protected. \n",
    "Also accidental update of data is avoided. \n",
    "'''"
   ]
  },
  {
   "cell_type": "code",
   "execution_count": 46,
   "id": "73db9570-d19e-499d-9a4c-898311b65d65",
   "metadata": {},
   "outputs": [],
   "source": [
    "#20\n",
    "\n",
    "class Customer:\n",
    "    def __init__(self,name,address,contact):\n",
    "        self.__name=name\n",
    "        self.__address=address\n",
    "        self.__contact=contact\n",
    "        \n",
    "    def display_details(self):\n",
    "        return self.__name,self.__address,self.__contact"
   ]
  },
  {
   "cell_type": "code",
   "execution_count": 47,
   "id": "053b0617-f128-41e6-a653-b44124fb45bf",
   "metadata": {},
   "outputs": [
    {
     "data": {
      "text/plain": [
       "('Sid', 'Chennai', 484929)"
      ]
     },
     "execution_count": 47,
     "metadata": {},
     "output_type": "execute_result"
    }
   ],
   "source": [
    "cust1=Customer('Sid','Chennai',484929)\n",
    "cust1.display_details()"
   ]
  },
  {
   "cell_type": "markdown",
   "id": "92c35b50-5b91-413e-a81f-20e9442f2ffd",
   "metadata": {},
   "source": [
    "# Composition"
   ]
  },
  {
   "cell_type": "code",
   "execution_count": null,
   "id": "1ea37586-5c55-44cb-8100-2d74ed042fe5",
   "metadata": {},
   "outputs": [],
   "source": [
    "#1\n",
    "'''\n",
    "Through Composition, we establish relationship between 2 classes. \n",
    "We do this by combining objects of different Classes. \n",
    "By Composition, we can also create complex code blocks in a more compact way. \n",
    "'''"
   ]
  },
  {
   "cell_type": "code",
   "execution_count": null,
   "id": "0b204efb-1089-47b8-ad33-de40ed0cc187",
   "metadata": {},
   "outputs": [],
   "source": [
    "#2\n",
    "'''\n",
    "In Composition, objects of 2 different classes are combined to form a more complex structure / code block.\n",
    "However, in Inheritance, a new class is created from an existing class by inheriting its properties & attributes.\n",
    "'''"
   ]
  },
  {
   "cell_type": "code",
   "execution_count": 1,
   "id": "b8c95b33-ca6f-48fb-bb94-5c2c033b17f3",
   "metadata": {},
   "outputs": [],
   "source": [
    "#3\n",
    "class Author:\n",
    "    def __init__(self,name,dateofbirth):\n",
    "        self.name=name\n",
    "        self.dateofbirth=dateofbirth\n",
    "        \n",
    "class Book:\n",
    "    def __init__(self,name):\n",
    "        self.name=name"
   ]
  },
  {
   "cell_type": "code",
   "execution_count": 2,
   "id": "2267daf2-5d5d-45bf-8be3-93557c9f5a61",
   "metadata": {},
   "outputs": [],
   "source": [
    "book=Book('Good Habits')"
   ]
  },
  {
   "cell_type": "code",
   "execution_count": 5,
   "id": "c2fbc8e4-66c0-4c83-808d-8089a24e3dad",
   "metadata": {},
   "outputs": [],
   "source": [
    "author=Author(book,1989)"
   ]
  },
  {
   "cell_type": "code",
   "execution_count": 6,
   "id": "b90ac93d-4390-4561-9a5b-52824a9bcb66",
   "metadata": {},
   "outputs": [
    {
     "data": {
      "text/plain": [
       "'Good Habits'"
      ]
     },
     "execution_count": 6,
     "metadata": {},
     "output_type": "execute_result"
    }
   ],
   "source": [
    "book.name"
   ]
  },
  {
   "cell_type": "code",
   "execution_count": 7,
   "id": "65dc908f-0eb7-497d-ae77-e89ce117e0fb",
   "metadata": {},
   "outputs": [
    {
     "data": {
      "text/plain": [
       "<__main__.Book at 0x7f8b642a2440>"
      ]
     },
     "execution_count": 7,
     "metadata": {},
     "output_type": "execute_result"
    }
   ],
   "source": [
    "author.name"
   ]
  },
  {
   "cell_type": "code",
   "execution_count": 8,
   "id": "c8b96c51-d309-4b8a-abd9-fd894200b34c",
   "metadata": {},
   "outputs": [
    {
     "data": {
      "text/plain": [
       "'Good Habits'"
      ]
     },
     "execution_count": 8,
     "metadata": {},
     "output_type": "execute_result"
    }
   ],
   "source": [
    "author.name.name"
   ]
  },
  {
   "cell_type": "code",
   "execution_count": 1,
   "id": "bd144977-933e-45d7-8344-7709858b5290",
   "metadata": {},
   "outputs": [],
   "source": [
    "#5\n",
    "class College:\n",
    "    def college(self):\n",
    "        return \"This method prints College details\"\n",
    "    \n",
    "class Student:\n",
    "    def __init__(self):\n",
    "        self.student=College()"
   ]
  },
  {
   "cell_type": "code",
   "execution_count": 2,
   "id": "3c324bdf-fca9-42df-9ce4-cacb2f2b4fb2",
   "metadata": {},
   "outputs": [],
   "source": [
    "college=College()"
   ]
  },
  {
   "cell_type": "code",
   "execution_count": 3,
   "id": "b50dd1cc-a27f-4b59-ab83-a8b5a0ae4b61",
   "metadata": {},
   "outputs": [],
   "source": [
    "student=Student()"
   ]
  },
  {
   "cell_type": "code",
   "execution_count": 4,
   "id": "bb7c3281-aaa7-493f-905d-4110a6526bc7",
   "metadata": {},
   "outputs": [
    {
     "data": {
      "text/plain": [
       "'This method prints College details'"
      ]
     },
     "execution_count": 4,
     "metadata": {},
     "output_type": "execute_result"
    }
   ],
   "source": [
    "student.student.college()"
   ]
  },
  {
   "cell_type": "code",
   "execution_count": 6,
   "id": "9e88707a-18eb-42b1-8b27-7fb71834e238",
   "metadata": {},
   "outputs": [],
   "source": [
    "#6\n",
    "class MusicSystem:\n",
    "    def __init__(self,playlist,songs):\n",
    "        self.playlist=playlist\n",
    "        self.songs=songs\n",
    "\n",
    "class MusicDirector:\n",
    "    def __init__(self,songs):\n",
    "        self.songs=songs"
   ]
  },
  {
   "cell_type": "code",
   "execution_count": 8,
   "id": "f182fd15-bd94-4a13-b18a-faa14d9f79c8",
   "metadata": {},
   "outputs": [],
   "source": [
    "md=MusicDirector('Hindi')"
   ]
  },
  {
   "cell_type": "code",
   "execution_count": 9,
   "id": "57c8c449-8dee-445d-8e77-16e645c2a495",
   "metadata": {},
   "outputs": [],
   "source": [
    "ms=MusicSystem(1990,md)"
   ]
  },
  {
   "cell_type": "code",
   "execution_count": 12,
   "id": "5983d60d-42a7-41fc-98f8-0a44a3c4319e",
   "metadata": {},
   "outputs": [
    {
     "data": {
      "text/plain": [
       "'Hindi'"
      ]
     },
     "execution_count": 12,
     "metadata": {},
     "output_type": "execute_result"
    }
   ],
   "source": [
    "md.songs"
   ]
  },
  {
   "cell_type": "code",
   "execution_count": 13,
   "id": "f3ffad84-558e-48ec-9081-66c05b000301",
   "metadata": {},
   "outputs": [
    {
     "data": {
      "text/plain": [
       "'Hindi'"
      ]
     },
     "execution_count": 13,
     "metadata": {},
     "output_type": "execute_result"
    }
   ],
   "source": [
    "ms.songs.songs"
   ]
  },
  {
   "cell_type": "code",
   "execution_count": 15,
   "id": "da0a9f63-9398-4eea-a894-8f4ce3143fe7",
   "metadata": {},
   "outputs": [],
   "source": [
    "#8\n",
    "class ComputerSystem:\n",
    "    def __init__(self,cpu,ram,storage):\n",
    "        self.cpu=cpu\n",
    "        self.ram=ram\n",
    "        self.storage=storage\n",
    "        \n",
    "class CPU:\n",
    "    def __init__(self,cpu):\n",
    "        self.cpu=cpu\n",
    "        \n",
    "class RAM:\n",
    "    def __init__(self,ram):\n",
    "        self.ram=ram\n",
    "        \n",
    "class Storage:\n",
    "    def __init__(self,storage):\n",
    "        self.storage=storage"
   ]
  },
  {
   "cell_type": "code",
   "execution_count": 16,
   "id": "82afbe8e-7993-4b10-8ae0-d1db3a30f595",
   "metadata": {},
   "outputs": [],
   "source": [
    "cpu=CPU('Intel')\n",
    "ram=RAM(8)\n",
    "storage=Storage(512)"
   ]
  },
  {
   "cell_type": "code",
   "execution_count": 17,
   "id": "f23ab200-eacd-4be4-bccf-30868cf0de71",
   "metadata": {},
   "outputs": [],
   "source": [
    "compSystem=ComputerSystem(cpu,ram,storage)"
   ]
  },
  {
   "cell_type": "code",
   "execution_count": 18,
   "id": "cd71c017-f654-4d52-b6b0-85cd1b7603f3",
   "metadata": {},
   "outputs": [
    {
     "data": {
      "text/plain": [
       "8"
      ]
     },
     "execution_count": 18,
     "metadata": {},
     "output_type": "execute_result"
    }
   ],
   "source": [
    "ram.ram"
   ]
  },
  {
   "cell_type": "code",
   "execution_count": 20,
   "id": "e4a6d2ed-f51a-48d6-840a-50a700a3535e",
   "metadata": {},
   "outputs": [
    {
     "data": {
      "text/plain": [
       "8"
      ]
     },
     "execution_count": 20,
     "metadata": {},
     "output_type": "execute_result"
    }
   ],
   "source": [
    "compSystem.ram.ram"
   ]
  },
  {
   "cell_type": "code",
   "execution_count": 21,
   "id": "d032312f-0238-4d45-9df9-857a51b41727",
   "metadata": {},
   "outputs": [],
   "source": [
    "#10\n",
    "class Engine:\n",
    "    def __init__(self,engine):\n",
    "        self.engine=engine\n",
    "\n",
    "class Wheels:\n",
    "    def __init__(self,wheels):\n",
    "        self.wheels=wheels\n",
    "        \n",
    "class Transmission:\n",
    "    def __init__(self,transmission):\n",
    "        self.transmission=transmission\n",
    "        \n",
    "class Car:\n",
    "    def __init__(self,engine,wheels,transmission):\n",
    "        self.engine=engine\n",
    "        self.wheels=wheels\n",
    "        self.transmission=transmission"
   ]
  },
  {
   "cell_type": "code",
   "execution_count": 22,
   "id": "e314a399-d67d-4985-8371-62e0c0c04954",
   "metadata": {},
   "outputs": [],
   "source": [
    "engine=Engine(8)\n",
    "wheels=Wheels(4)\n",
    "transmission=Transmission('Manual')\n",
    "car=Car(engine,wheels,transmission)"
   ]
  },
  {
   "cell_type": "code",
   "execution_count": 23,
   "id": "9885a1f8-7075-4262-9d0e-454558e6c1e5",
   "metadata": {},
   "outputs": [
    {
     "data": {
      "text/plain": [
       "'Manual'"
      ]
     },
     "execution_count": 23,
     "metadata": {},
     "output_type": "execute_result"
    }
   ],
   "source": [
    "car.transmission.transmission"
   ]
  },
  {
   "cell_type": "code",
   "execution_count": 24,
   "id": "7c466a03-61ea-487b-bc66-0f3da72c0d9d",
   "metadata": {},
   "outputs": [],
   "source": [
    "#12\n",
    "class Students:\n",
    "    def __init__(self,students):\n",
    "        self.students=students\n",
    "        \n",
    "class Instructors:\n",
    "    def __init__(self,instructors):\n",
    "        self.instructors=instructors\n",
    "        \n",
    "class Materials:\n",
    "    def __init__(self,materials):\n",
    "        self.materials=materials\n",
    "        \n",
    "class University:\n",
    "    def __init__(self,students,instructors,materials):\n",
    "        self.students=students\n",
    "        self.instructors=instructors\n",
    "        self.materials=materials"
   ]
  },
  {
   "cell_type": "code",
   "execution_count": 25,
   "id": "83684276-8e11-4dee-8a06-a8b9ba8c2c5a",
   "metadata": {},
   "outputs": [],
   "source": [
    "students=Students(1000)\n",
    "instructors=Instructors(70)\n",
    "materials=Materials(['Electrical','Computers','Electronics'])\n",
    "university=University(students,instructors,materials)"
   ]
  },
  {
   "cell_type": "code",
   "execution_count": 26,
   "id": "346a9cb7-23a9-42de-942c-6f63f09a82a7",
   "metadata": {},
   "outputs": [
    {
     "data": {
      "text/plain": [
       "['Electrical', 'Computers', 'Electronics']"
      ]
     },
     "execution_count": 26,
     "metadata": {},
     "output_type": "execute_result"
    }
   ],
   "source": [
    "university.materials.materials"
   ]
  },
  {
   "cell_type": "code",
   "execution_count": null,
   "id": "0b35ab62-2d39-4ac3-93a3-8d2649b66803",
   "metadata": {},
   "outputs": [],
   "source": [
    "#13\n",
    "'''\n",
    "1. Disadvantage of Composition is that it does not allow for code reusability as the second class cannot be shared\n",
    "among multiple instances of the first class.\n",
    "2. Behaviour of Composition is harder to understand, thereby increasing the code complexity.\n",
    "'''"
   ]
  },
  {
   "cell_type": "code",
   "execution_count": 40,
   "id": "d97f88b5-423a-4788-858e-57980b99ca79",
   "metadata": {},
   "outputs": [],
   "source": [
    "#14\n",
    "\n",
    "class Menu:\n",
    "    def menu(self):\n",
    "        return \"Display menu of ABC Restaurant\"\n",
    "\n",
    "class Restaurant:\n",
    "    def __init__(self):\n",
    "        self.menu=Menu()\n",
    "        \n",
    "    def restaurant(self):\n",
    "        return \"Welcome to ABC Restaurant\"\n",
    "    \n",
    "class dishes:\n",
    "    def __init__(self):\n",
    "        self.dish=Restaurant()\n",
    "        "
   ]
  },
  {
   "cell_type": "code",
   "execution_count": 41,
   "id": "144900b9-a7c1-45a0-b413-b23328b9b873",
   "metadata": {},
   "outputs": [],
   "source": [
    "dish=dishes()\n",
    "restaurant=Restaurant()"
   ]
  },
  {
   "cell_type": "code",
   "execution_count": 42,
   "id": "bd1dce16-afcb-4172-8be7-e4316b523065",
   "metadata": {},
   "outputs": [
    {
     "data": {
      "text/plain": [
       "'Welcome to ABC Restaurant'"
      ]
     },
     "execution_count": 42,
     "metadata": {},
     "output_type": "execute_result"
    }
   ],
   "source": [
    "dish.dish.restaurant()"
   ]
  },
  {
   "cell_type": "code",
   "execution_count": 43,
   "id": "4781f5a7-1948-43ff-8044-94591ddacf5f",
   "metadata": {},
   "outputs": [],
   "source": [
    "menu=Menu()"
   ]
  },
  {
   "cell_type": "code",
   "execution_count": 44,
   "id": "30a167a6-f2de-4b0a-9b63-2f4c1c72b06f",
   "metadata": {},
   "outputs": [
    {
     "data": {
      "text/plain": [
       "'Display menu of ABC Restaurant'"
      ]
     },
     "execution_count": 44,
     "metadata": {},
     "output_type": "execute_result"
    }
   ],
   "source": [
    "restaurant.menu.menu()"
   ]
  },
  {
   "cell_type": "code",
   "execution_count": 45,
   "id": "495df219-b88f-4798-ac54-58f0796e51f3",
   "metadata": {},
   "outputs": [],
   "source": [
    "#16\n",
    "class Inventory:\n",
    "    def __init__(self,inventory):\n",
    "        self.inventory=inventory\n",
    "        \n",
    "class Armour:\n",
    "    def __init__(self,armour):\n",
    "        self.armour=armour\n",
    "        \n",
    "class Weapons:\n",
    "    def __init__(self,weapons):\n",
    "        self.weapons=weapons\n",
    "        \n",
    "class Game:\n",
    "    def __init__(self,inventory,armour,weapons):\n",
    "        self.inventory=inventory\n",
    "        self.armour=armour\n",
    "        self.weapons=weapons\n",
    "        \n",
    "        "
   ]
  },
  {
   "cell_type": "code",
   "execution_count": 46,
   "id": "9e53d6aa-e613-4f07-9bda-fde0781444fd",
   "metadata": {},
   "outputs": [],
   "source": [
    "inventory=Inventory(\"Nuclear\")\n",
    "armour=Armour(\"Iron\")\n",
    "weapons=Weapons(\"Arrow\")\n",
    "game=Game(inventory,armour,weapons)"
   ]
  },
  {
   "cell_type": "code",
   "execution_count": 47,
   "id": "a8b6362e-58a6-4700-b444-5bcea6d3f727",
   "metadata": {},
   "outputs": [
    {
     "data": {
      "text/plain": [
       "'Arrow'"
      ]
     },
     "execution_count": 47,
     "metadata": {},
     "output_type": "execute_result"
    }
   ],
   "source": [
    "game.weapons.weapons"
   ]
  },
  {
   "cell_type": "code",
   "execution_count": 50,
   "id": "1503e6ad-8a51-49f3-82b4-3aea90eb8f78",
   "metadata": {},
   "outputs": [],
   "source": [
    "#18\n",
    "class Rooms:\n",
    "    def __init__(self,rooms):\n",
    "        self.rooms=rooms\n",
    "        \n",
    "class Furniture:\n",
    "    def __init__(self,furniture):\n",
    "        self.furniture=furniture\n",
    "        \n",
    "class Appliances:\n",
    "    def __init__(self,appliances):\n",
    "        self.appliances=appliances\n",
    "        \n",
    "class House:\n",
    "    def __init__(self,rooms,furniture,weapons):\n",
    "        self.rooms=rooms\n",
    "        self.furniture=furniture\n",
    "        self.appliances=appliances"
   ]
  },
  {
   "cell_type": "code",
   "execution_count": 51,
   "id": "59e2ebab-eab2-4adc-97ec-9f363d173ddb",
   "metadata": {},
   "outputs": [],
   "source": [
    "rooms=Rooms(5)\n",
    "furniture=Furniture(['Chair','Table'])\n",
    "appliances=Appliances(['Washing Machine','Grinder'])\n",
    "house=House(rooms,furniture,appliances)"
   ]
  },
  {
   "cell_type": "code",
   "execution_count": 52,
   "id": "4985caa9-fcd7-42de-adb1-bcab76c24fcd",
   "metadata": {},
   "outputs": [
    {
     "data": {
      "text/plain": [
       "['Chair', 'Table']"
      ]
     },
     "execution_count": 52,
     "metadata": {},
     "output_type": "execute_result"
    }
   ],
   "source": [
    "house.furniture.furniture"
   ]
  },
  {
   "cell_type": "code",
   "execution_count": null,
   "id": "bf80d061-a697-4e7d-9ad2-72f22a65d4b6",
   "metadata": {},
   "outputs": [],
   "source": []
  }
 ],
 "metadata": {
  "kernelspec": {
   "display_name": "Python 3 (ipykernel)",
   "language": "python",
   "name": "python3"
  },
  "language_info": {
   "codemirror_mode": {
    "name": "ipython",
    "version": 3
   },
   "file_extension": ".py",
   "mimetype": "text/x-python",
   "name": "python",
   "nbconvert_exporter": "python",
   "pygments_lexer": "ipython3",
   "version": "3.10.8"
  }
 },
 "nbformat": 4,
 "nbformat_minor": 5
}
