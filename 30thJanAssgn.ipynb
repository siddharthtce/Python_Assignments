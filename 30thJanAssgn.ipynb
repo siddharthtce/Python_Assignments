{
 "cells": [
  {
   "cell_type": "code",
   "execution_count": 1,
   "id": "e8ca02f1-2dbb-4251-a5f9-2fee177ffdd7",
   "metadata": {},
   "outputs": [
    {
     "name": "stdin",
     "output_type": "stream",
     "text": [
      "Enter the percentage 89\n"
     ]
    },
    {
     "name": "stdout",
     "output_type": "stream",
     "text": [
      "Grade B\n"
     ]
    }
   ],
   "source": [
    "#1\n",
    "\n",
    "grade=float(input(\"Enter the percentage\"))\n",
    "if 90<grade<=100:\n",
    "    print(\"Grade A\")\n",
    "elif 80<grade<=90:\n",
    "    print(\"Grade B\")\n",
    "elif 60<=grade<=80:\n",
    "    print(\"Grade C\")\n",
    "elif grade<60:\n",
    "    print(\"Grade D\")\n",
    "else:\n",
    "    print(\"Enter a valid percentage\")"
   ]
  },
  {
   "cell_type": "code",
   "execution_count": 3,
   "id": "f1b58de1-55fa-429f-b6b7-c0f47d7c97fb",
   "metadata": {},
   "outputs": [
    {
     "name": "stdin",
     "output_type": "stream",
     "text": [
      "Enter the cost of the bike 67000\n"
     ]
    },
    {
     "name": "stdout",
     "output_type": "stream",
     "text": [
      "The road tax to be paid is 10%\n"
     ]
    }
   ],
   "source": [
    "#2\n",
    "bike_cost=float(input(\"Enter the cost of the bike\"))\n",
    "if 1000000<bike_cost:\n",
    "    print(\"The road tax to be paid is 15%\")\n",
    "elif 50000<bike_cost<=1000000:\n",
    "    print(\"The road tax to be paid is 10%\")\n",
    "elif bike_cost<=50000:\n",
    "          print(\"The road tax to be paid is 5%\")\n",
    "else:\n",
    "          print(\"Enter the valid bike cost\")"
   ]
  },
  {
   "cell_type": "code",
   "execution_count": 4,
   "id": "0cf36795-b5c2-4aee-bec9-c8ee17aa9e9c",
   "metadata": {},
   "outputs": [
    {
     "name": "stdin",
     "output_type": "stream",
     "text": [
      "Enter the name of the city Agra\n"
     ]
    },
    {
     "name": "stdout",
     "output_type": "stream",
     "text": [
      "Monument = Taj Mahal\n"
     ]
    }
   ],
   "source": [
    "#3\n",
    "city=str(input(\"Enter the name of the city\"))\n",
    "if city=='Delhi':\n",
    "    print(\"Monument = Red Fort\")\n",
    "elif city=='Agra':\n",
    "    print(\"Monument = Taj Mahal\")\n",
    "elif city=='Jaipur':\n",
    "    print(\"Monument = Jal Mahal\")"
   ]
  },
  {
   "cell_type": "code",
   "execution_count": 7,
   "id": "03619d8b-5153-4a41-b8ad-52b52af27cd5",
   "metadata": {},
   "outputs": [
    {
     "name": "stdin",
     "output_type": "stream",
     "text": [
      "Enter the number 111000\n"
     ]
    },
    {
     "name": "stdout",
     "output_type": "stream",
     "text": [
      "The number of times the number is divisible by 3 is 9\n"
     ]
    }
   ],
   "source": [
    "#4\n",
    "num=int(input(\"Enter the number\"))\n",
    "count=0\n",
    "if num<=0:\n",
    "    print(\"Enter a valid number greater than 0\")\n",
    "elif num<=10:\n",
    "    count=count+1\n",
    "else:\n",
    "    while num>10:\n",
    "        num=num/3\n",
    "        count=count+1\n",
    "print(\"The number of times the number is divisible by 3 is\",count)"
   ]
  },
  {
   "cell_type": "code",
   "execution_count": 4,
   "id": "2fc8cb70-6526-4f23-97b4-2ecfd860094d",
   "metadata": {},
   "outputs": [
    {
     "name": "stdout",
     "output_type": "stream",
     "text": [
      "1\n",
      "2\n",
      "3\n",
      "4\n",
      "5\n",
      "6\n",
      "7\n",
      "8\n",
      "9\n",
      "10\n"
     ]
    }
   ],
   "source": [
    "#5\n",
    "'''\n",
    "While loop is used to run a block of code continuously until a certain condition is met. It is basically used when the number of iterations is not known in advance.\n",
    "'''\n",
    "i=1\n",
    "while i<11:\n",
    "    print(i)\n",
    "    i=i+1\n"
   ]
  },
  {
   "cell_type": "code",
   "execution_count": 16,
   "id": "13289690-8124-4162-942b-e1dc4f11eb20",
   "metadata": {},
   "outputs": [
    {
     "name": "stdout",
     "output_type": "stream",
     "text": [
      "* \n",
      "* * \n",
      "* * * \n",
      "* * * * \n",
      "* * * * * \n"
     ]
    }
   ],
   "source": [
    "#6\n",
    "i=1\n",
    "while i in range(1,6):\n",
    "    j=1\n",
    "    while j in range(1,i+1):\n",
    "        print('*',end=' ')\n",
    "        j=j+1\n",
    "    print()\n",
    "    i=i+1\n",
    "    "
   ]
  },
  {
   "cell_type": "code",
   "execution_count": 2,
   "id": "cfcb2345-5058-41a0-94f1-f58030dd6c42",
   "metadata": {},
   "outputs": [
    {
     "name": "stdout",
     "output_type": "stream",
     "text": [
      "1 2 3 4 6 7 8 9 11 12 13 14 16 17 18 19 "
     ]
    }
   ],
   "source": [
    "i=1\n",
    "while i in range(1,21):\n",
    "    if i%5!=0:\n",
    "        print(i,end=' ')\n",
    "    i=i+1\n",
    "        "
   ]
  },
  {
   "cell_type": "code",
   "execution_count": 3,
   "id": "a9fc5f03-8634-4fb3-8ac0-c4b6cefa3199",
   "metadata": {},
   "outputs": [
    {
     "name": "stdout",
     "output_type": "stream",
     "text": [
      "5 10 15 20 "
     ]
    }
   ],
   "source": [
    "i=1\n",
    "while i in range(1,21):\n",
    "    if i%5==0:\n",
    "        print(i,end=' ')\n",
    "    i=i+1"
   ]
  },
  {
   "cell_type": "code",
   "execution_count": 10,
   "id": "9b9fe03e-7ce5-40bb-b9f3-236c5c4a0995",
   "metadata": {},
   "outputs": [
    {
     "name": "stdout",
     "output_type": "stream",
     "text": [
      "10 9 8 7 6 5 4 3 2 1 "
     ]
    }
   ],
   "source": [
    "#7\n",
    "num=10\n",
    "while num>=1:\n",
    "    print(num,end=' ')\n",
    "    num-=1"
   ]
  },
  {
   "cell_type": "code",
   "execution_count": 1,
   "id": "7f96fa1b-d529-40c4-bb82-b650ed5cb54e",
   "metadata": {},
   "outputs": [
    {
     "name": "stdout",
     "output_type": "stream",
     "text": [
      "10 9 8 7 6 5 4 3 2 1 "
     ]
    }
   ],
   "source": [
    "#8\n",
    "num=10\n",
    "while num>=1:\n",
    "    print(num,end=' ')\n",
    "    num-=1"
   ]
  }
 ],
 "metadata": {
  "kernelspec": {
   "display_name": "Python 3 (ipykernel)",
   "language": "python",
   "name": "python3"
  },
  "language_info": {
   "codemirror_mode": {
    "name": "ipython",
    "version": 3
   },
   "file_extension": ".py",
   "mimetype": "text/x-python",
   "name": "python",
   "nbconvert_exporter": "python",
   "pygments_lexer": "ipython3",
   "version": "3.10.8"
  }
 },
 "nbformat": 4,
 "nbformat_minor": 5
}
