{
 "cells": [
  {
   "cell_type": "code",
   "execution_count": 14,
   "id": "b0e6a54d-5460-45ce-8823-9d941562b95b",
   "metadata": {},
   "outputs": [],
   "source": [
    "#1\n",
    "class bank_account:\n",
    "    def __init__(self,acc_no,acc_name,bal):\n",
    "        self.account_number=acc_no\n",
    "        self.account_name=acc_name\n",
    "        self.balance=bal\n",
    "        \n",
    "    def deposit_money(self,amt):\n",
    "        print(\"Amount of Rs.\"+str(amt)+\" has been deposited to the account\")\n",
    "        print(\"Your new balance is Rs.\",self.balance+amt)\n",
    "    \n",
    "    def withdraw_money(self,amt):\n",
    "        print(\"Amount of Rs.\"+str(amt)+\" has been withdrawn from the account\")\n",
    "        print(\"Your new balance is Rs.\",self.balance-amt)"
   ]
  },
  {
   "cell_type": "code",
   "execution_count": 15,
   "id": "ccd1025b-30f3-4ab2-9f69-254389b73c81",
   "metadata": {},
   "outputs": [],
   "source": [
    "acc1=bank_account(2832132322,\"Ajay\",19800000)"
   ]
  },
  {
   "cell_type": "code",
   "execution_count": 16,
   "id": "e3d33040-3180-4e93-be1e-86fbce583dd7",
   "metadata": {},
   "outputs": [
    {
     "name": "stdout",
     "output_type": "stream",
     "text": [
      "Amount of Rs.100 has been deposited to the account\n",
      "Your new balance is Rs. 19800100\n"
     ]
    }
   ],
   "source": [
    "acc1.deposit_money(100)"
   ]
  },
  {
   "cell_type": "code",
   "execution_count": 17,
   "id": "f575e364-5bb4-46aa-83ff-eee919859526",
   "metadata": {},
   "outputs": [],
   "source": [
    "acc2=bank_account(28919933911,\"Siddharth\",93334000)"
   ]
  },
  {
   "cell_type": "code",
   "execution_count": 19,
   "id": "c988d359-ac8b-4c35-81f2-f5057647b828",
   "metadata": {},
   "outputs": [
    {
     "name": "stdout",
     "output_type": "stream",
     "text": [
      "Amount of Rs.200 has been withdrawn from the account\n",
      "Your new balance is Rs. 93333800\n"
     ]
    }
   ],
   "source": [
    "acc2.withdraw_money(200)"
   ]
  },
  {
   "cell_type": "code",
   "execution_count": 34,
   "id": "e0e7684c-ba87-4bff-be5f-68ed6ef7bc30",
   "metadata": {},
   "outputs": [],
   "source": [
    "#2\n",
    "class emp_management:\n",
    "    def __init__(self,id,name,sal):\n",
    "        self.employee_id = id\n",
    "        self.employee_name = name\n",
    "        self.employee_salary = sal\n",
    "        \n",
    "    def bonus_display(self):\n",
    "        print(\"The employee \",self.employee_name,\" will get a bonus of\",self.employee_salary*0.005)\n",
    "        \n",
    "    def emp_details_display(self,loc):\n",
    "        print(f\"The employee id of {self.employee_name} is {self.employee_id} and his salary is Rs.{self.employee_salary}\")\n",
    "        print(f\"{self.employee_name} is based out of {loc} location\")"
   ]
  },
  {
   "cell_type": "code",
   "execution_count": 35,
   "id": "1e9c75de-15d2-4642-8120-99ed0ccff930",
   "metadata": {},
   "outputs": [],
   "source": [
    "emp1=emp_management(101,\"Ajay\",32911100)"
   ]
  },
  {
   "cell_type": "code",
   "execution_count": 32,
   "id": "d85db395-0b60-409e-94af-a49c32f13ce9",
   "metadata": {},
   "outputs": [
    {
     "name": "stdout",
     "output_type": "stream",
     "text": [
      "The employee  Ajay  will get a bonus of 164555.5\n"
     ]
    }
   ],
   "source": [
    "emp1.bonus_display()"
   ]
  },
  {
   "cell_type": "code",
   "execution_count": 36,
   "id": "1def068f-2f01-494c-9219-64666b8475dc",
   "metadata": {},
   "outputs": [
    {
     "name": "stdout",
     "output_type": "stream",
     "text": [
      "The employee id of Ajay is 101 and his salary is Rs.32911100\n",
      "Ajay is based out of Chennai location\n"
     ]
    }
   ],
   "source": [
    "emp1.emp_details_display(\"Chennai\")"
   ]
  },
  {
   "cell_type": "code",
   "execution_count": 37,
   "id": "492c14e9-757c-410b-85e9-635252c75b1f",
   "metadata": {},
   "outputs": [
    {
     "name": "stdout",
     "output_type": "stream",
     "text": [
      "The employee  Siddharth  will get a bonus of 110555.0\n",
      "The employee id of Siddharth is 102 and his salary is Rs.22111000\n",
      "Siddharth is based out of Bengaluru location\n"
     ]
    }
   ],
   "source": [
    "emp2=emp_management(102,\"Siddharth\",22111000)\n",
    "emp2.bonus_display()\n",
    "emp2.emp_details_display(\"Bengaluru\")"
   ]
  },
  {
   "cell_type": "code",
   "execution_count": 44,
   "id": "d6b29011-c693-456b-936b-b0ae4072a6b8",
   "metadata": {},
   "outputs": [],
   "source": [
    "#3\n",
    "class veh_rental:\n",
    "    car1=\"Wagon R\"\n",
    "    car2=\"Santro\"\n",
    "    car3=\"Accent\"\n",
    "    \n",
    "    def rent_vehicle(self,car):\n",
    "        return \"Car \"+car+\" is rented\"\n",
    "    \n",
    "    def return_vehicle(self,car):\n",
    "        return \"Car \"+car+\" is returned\"\n",
    "    \n",
    "    def display_cars(self,*args):\n",
    "        print(\"The list of available cars are \",args)"
   ]
  },
  {
   "cell_type": "code",
   "execution_count": 45,
   "id": "7b2170b4-8153-4541-a234-f8830861fd38",
   "metadata": {},
   "outputs": [],
   "source": [
    "car1=veh_rental()"
   ]
  },
  {
   "cell_type": "code",
   "execution_count": 46,
   "id": "94bab0d1-1ebf-45a2-a512-39376ac98c68",
   "metadata": {},
   "outputs": [
    {
     "name": "stdout",
     "output_type": "stream",
     "text": [
      "The list of available cars are  ('Wagon R', 'Santro')\n"
     ]
    }
   ],
   "source": [
    "car1.display_cars(car1.car1,car1.car2)"
   ]
  },
  {
   "cell_type": "code",
   "execution_count": 62,
   "id": "62e00b62-ff71-46ae-88d5-7b096aa3321a",
   "metadata": {},
   "outputs": [],
   "source": [
    "#4\n",
    "class library:\n",
    "    def __init__(self,*args):\n",
    "        self.books=args\n",
    "        \n",
    "    def add_books(self,book):\n",
    "        return \"The book \"+book+\" is added to the library\"\n",
    "    \n",
    "    def borrow_books(self,book):\n",
    "        return \"The book \"+book+\" is returned back from the library\"\n",
    "    \n",
    "    def available_books(self):\n",
    "        return \"The list of available books are \"+str(self.books)"
   ]
  },
  {
   "cell_type": "code",
   "execution_count": 63,
   "id": "7f2fd5cc-66e0-40ec-bac2-833281b9f6cd",
   "metadata": {},
   "outputs": [],
   "source": [
    "lib1=library(\"Atomic Habits\",\"Encylopedia\",\"Harry Potter\")"
   ]
  },
  {
   "cell_type": "code",
   "execution_count": 64,
   "id": "3db7dda0-f77a-4192-947c-92590ad0ea6e",
   "metadata": {},
   "outputs": [
    {
     "data": {
      "text/plain": [
       "\"The list of available books are ('Atomic Habits', 'Encylopedia', 'Harry Potter')\""
      ]
     },
     "execution_count": 64,
     "metadata": {},
     "output_type": "execute_result"
    }
   ],
   "source": [
    "lib1.available_books()"
   ]
  },
  {
   "cell_type": "code",
   "execution_count": 89,
   "id": "a2fcb8a6-8af7-4f1c-94ce-cf2d9c56485c",
   "metadata": {},
   "outputs": [],
   "source": [
    "#5\n",
    "class product_inventory:\n",
    "    \n",
    "    def __init__(self,*args):\n",
    "        self.items=args\n",
    "    \n",
    "    def add_product(self,prod):\n",
    "        return prod+ \" is added to the inventory\"\n",
    "    \n",
    "    def prod_quantity(self):\n",
    "        print(\"The number of items in the inventory is\",len(self.items))\n",
    "    \n",
    "    def inventory_details(self):\n",
    "        return \"The list of items in the inventory is \",args\n",
    "    "
   ]
  },
  {
   "cell_type": "code",
   "execution_count": 90,
   "id": "852fd8c4-fc7e-435c-bc9b-d4e71a9ef082",
   "metadata": {},
   "outputs": [],
   "source": [
    "inv1=product_inventory('Apple','Orange','Mango')"
   ]
  },
  {
   "cell_type": "code",
   "execution_count": 91,
   "id": "3e9031cf-d894-4ed7-b0b0-c5c455628934",
   "metadata": {},
   "outputs": [
    {
     "name": "stdout",
     "output_type": "stream",
     "text": [
      "The number of items in the inventory is 3\n"
     ]
    }
   ],
   "source": [
    "inv1.prod_quantity()"
   ]
  },
  {
   "cell_type": "code",
   "execution_count": 74,
   "id": "9527cd22-3e0d-431a-8ad2-e3c442abfa77",
   "metadata": {},
   "outputs": [
    {
     "data": {
      "text/plain": [
       "'Banana is added to the inventory'"
      ]
     },
     "execution_count": 74,
     "metadata": {},
     "output_type": "execute_result"
    }
   ],
   "source": [
    "inv1.add_product('Banana')"
   ]
  },
  {
   "cell_type": "code",
   "execution_count": 102,
   "id": "02ff0f85-78bc-4ee5-81f9-6437289965d5",
   "metadata": {},
   "outputs": [],
   "source": [
    "#6\n",
    "class shape_calculator:\n",
    "    def __init__(self,l,w,h):\n",
    "        self.length = l\n",
    "        self.width = w\n",
    "        self.height = h\n",
    "        \n",
    "    def area(self):\n",
    "        print(\"The area is\",self.length*self.width)\n",
    "    \n",
    "    def perimeter(self):\n",
    "        print(\"The perimeter is\",2*(self.length+self.width))"
   ]
  },
  {
   "cell_type": "code",
   "execution_count": 103,
   "id": "6f3e29c5-a061-4134-9cd0-381993cb3f87",
   "metadata": {},
   "outputs": [],
   "source": [
    "obj1=shape_calculator(10,5,5)"
   ]
  },
  {
   "cell_type": "code",
   "execution_count": 104,
   "id": "7ec19a4c-5289-46c9-a6d2-852dafcba73d",
   "metadata": {},
   "outputs": [
    {
     "name": "stdout",
     "output_type": "stream",
     "text": [
      "The area is 50\n"
     ]
    }
   ],
   "source": [
    "obj1.area()"
   ]
  },
  {
   "cell_type": "code",
   "execution_count": 105,
   "id": "9a355106-ad0c-4c57-826f-682273802f7e",
   "metadata": {},
   "outputs": [
    {
     "name": "stdout",
     "output_type": "stream",
     "text": [
      "The perimeter is 30\n"
     ]
    }
   ],
   "source": [
    "obj1.perimeter()"
   ]
  },
  {
   "cell_type": "code",
   "execution_count": 109,
   "id": "b1c97476-f657-48ce-9b4b-0510a0317b72",
   "metadata": {},
   "outputs": [],
   "source": [
    "#7\n",
    "class student:\n",
    "    def __init__(self,id,name,*args):\n",
    "        self.id=id\n",
    "        self.name=name\n",
    "        self.marks=list(args)\n",
    "        \n",
    "    def grade(self):\n",
    "        print(f\"The average grade of the {self.name} is\",sum(self.marks)/len(self.marks))\n",
    "        \n",
    "    def student_details(self):\n",
    "        print(f\"The student {self.name} has scored the marks = {self.marks}\")"
   ]
  },
  {
   "cell_type": "code",
   "execution_count": 110,
   "id": "4d671bb0-f20e-4884-b4a0-97c407c751c9",
   "metadata": {},
   "outputs": [],
   "source": [
    "student1=student(101,\"Ajay\",87,89,90,99,97)"
   ]
  },
  {
   "cell_type": "code",
   "execution_count": 111,
   "id": "e273a2d4-edac-4301-aec9-4f050d3d4f36",
   "metadata": {},
   "outputs": [
    {
     "name": "stdout",
     "output_type": "stream",
     "text": [
      "The average grade of the Ajay is 92.4\n"
     ]
    }
   ],
   "source": [
    "student1.grade()"
   ]
  },
  {
   "cell_type": "code",
   "execution_count": 112,
   "id": "c7050d0c-2050-42aa-a3c5-3870bb63dda9",
   "metadata": {},
   "outputs": [
    {
     "name": "stdout",
     "output_type": "stream",
     "text": [
      "The student Ajay has scored the marks = [87, 89, 90, 99, 97]\n"
     ]
    }
   ],
   "source": [
    "student1.student_details()"
   ]
  },
  {
   "cell_type": "code",
   "execution_count": 1,
   "id": "d62881ac-5bc8-405e-90c5-4c1e3044077b",
   "metadata": {},
   "outputs": [],
   "source": [
    "#8\n",
    "class email:\n",
    "    def __init__(self,sender,recipient,subject):\n",
    "        self.email_sender=sender\n",
    "        self.email_recipient=recipient\n",
    "        self.email_subject=subject\n",
    "        \n",
    "    def send_email(self):\n",
    "        return \"Send the email\"\n",
    "        \n",
    "    def email_details(self):\n",
    "        print(f\"{self.email_sender} has sent email to {self.email_recipient} on the subject - {self.email_subject}\")"
   ]
  },
  {
   "cell_type": "code",
   "execution_count": 3,
   "id": "d09253fa-dc11-4c12-ac8b-e18f7351d98f",
   "metadata": {},
   "outputs": [],
   "source": [
    "sidd_email=email('siddharthtce@gmail.com','sharkattack@gmail.com','Good morning')"
   ]
  },
  {
   "cell_type": "code",
   "execution_count": 4,
   "id": "cc9c5213-a86c-4731-9f6c-cc9bf83b51de",
   "metadata": {},
   "outputs": [
    {
     "data": {
      "text/plain": [
       "'Send the email'"
      ]
     },
     "execution_count": 4,
     "metadata": {},
     "output_type": "execute_result"
    }
   ],
   "source": [
    "sidd_email.send_email()"
   ]
  },
  {
   "cell_type": "code",
   "execution_count": 5,
   "id": "fe33a2a6-bbb1-41fb-9709-0be98b5be6c0",
   "metadata": {},
   "outputs": [
    {
     "name": "stdout",
     "output_type": "stream",
     "text": [
      "siddharthtce@gmail.com has sent email to sharkattack@gmail.com on the subject - Good morning\n"
     ]
    }
   ],
   "source": [
    "sidd_email.email_details()"
   ]
  },
  {
   "cell_type": "code",
   "execution_count": 33,
   "id": "287ca72a-9495-4d11-812f-37d396c3c9aa",
   "metadata": {},
   "outputs": [],
   "source": [
    "#9\n",
    "class social_media:\n",
    "    def __init__(self,username,*args):\n",
    "        self.username=username\n",
    "        self.post=list(args)\n",
    "        \n",
    "    def add_post(self,text):\n",
    "        self.post.append(text)\n",
    "        print(self.post)\n",
    "           \n",
    "    def display_post(self):\n",
    "        return self.post\n",
    "    \n",
    "    def search_post(self, text):\n",
    "        return \"The text '\"+text+\"' is present in the \"+str(self.post)"
   ]
  },
  {
   "cell_type": "code",
   "execution_count": 34,
   "id": "ed25c144-95c0-44d2-b68a-abb95fb9d522",
   "metadata": {},
   "outputs": [],
   "source": [
    "sidd=social_media('siddharth',\"This is my first post\",\"This is my second post\")"
   ]
  },
  {
   "cell_type": "code",
   "execution_count": 27,
   "id": "ca54b8e1-f6a2-4680-afa4-1d9717f8c0ce",
   "metadata": {},
   "outputs": [
    {
     "data": {
      "text/plain": [
       "['This is my first post', 'This is my second post']"
      ]
     },
     "execution_count": 27,
     "metadata": {},
     "output_type": "execute_result"
    }
   ],
   "source": [
    "sidd.display_post()"
   ]
  },
  {
   "cell_type": "code",
   "execution_count": 31,
   "id": "93e1351a-2227-48dd-b43e-c2c92615ca67",
   "metadata": {},
   "outputs": [
    {
     "data": {
      "text/plain": [
       "\"The text 'This is my second post' is present in the ['This is my first post', 'This is my second post']\""
      ]
     },
     "execution_count": 31,
     "metadata": {},
     "output_type": "execute_result"
    }
   ],
   "source": [
    "sidd.search_post(\"This is my second post\")"
   ]
  },
  {
   "cell_type": "code",
   "execution_count": 35,
   "id": "db7fb021-853d-4ae2-b6c5-eb3a2a114112",
   "metadata": {},
   "outputs": [
    {
     "name": "stdout",
     "output_type": "stream",
     "text": [
      "['This is my first post', 'This is my second post', 'This is my third post']\n"
     ]
    }
   ],
   "source": [
    "sidd.add_post(\"This is my third post\")"
   ]
  },
  {
   "cell_type": "code",
   "execution_count": 50,
   "id": "fbc3a89d-d1e9-426a-b38d-3a4d3ae44929",
   "metadata": {},
   "outputs": [],
   "source": [
    "#10\n",
    "class task_list:\n",
    "    def __init__(self,*args):\n",
    "        self.tasks=list(args)\n",
    "     \n",
    "    def add_task(self,task):\n",
    "        self.tasks.append(task)\n",
    "        print(self.tasks)\n",
    "        \n",
    "    def complete_task(self,task):\n",
    "        return \"The task \"+task+\" is completed\"\n",
    "    \n",
    "    def pending_task(self,task):\n",
    "        self.tasks.remove(task)\n",
    "        return \"The pending tasks are \"+str(self.tasks)"
   ]
  },
  {
   "cell_type": "code",
   "execution_count": 51,
   "id": "a0300485-b2b1-4359-8bcb-19c6af64e4ff",
   "metadata": {},
   "outputs": [],
   "source": [
    "tasks1=task_list('Brush','Eat','Bath')"
   ]
  },
  {
   "cell_type": "code",
   "execution_count": 52,
   "id": "8f685f27-3b7d-4896-b4fb-b3093a2c2541",
   "metadata": {},
   "outputs": [
    {
     "name": "stdout",
     "output_type": "stream",
     "text": [
      "['Brush', 'Eat', 'Bath', 'Sleep']\n"
     ]
    }
   ],
   "source": [
    "tasks1.add_task('Sleep')"
   ]
  },
  {
   "cell_type": "code",
   "execution_count": 53,
   "id": "7b6f3b14-857a-4abd-83d2-200be53222df",
   "metadata": {},
   "outputs": [
    {
     "data": {
      "text/plain": [
       "'The task Bath is completed'"
      ]
     },
     "execution_count": 53,
     "metadata": {},
     "output_type": "execute_result"
    }
   ],
   "source": [
    "tasks1.complete_task('Bath')"
   ]
  },
  {
   "cell_type": "code",
   "execution_count": 54,
   "id": "f477d965-e26c-4e87-97a6-d0b7f4533e5a",
   "metadata": {},
   "outputs": [
    {
     "data": {
      "text/plain": [
       "\"The pending tasks are ['Brush', 'Eat', 'Sleep']\""
      ]
     },
     "execution_count": 54,
     "metadata": {},
     "output_type": "execute_result"
    }
   ],
   "source": [
    "tasks1.pending_task('Bath')"
   ]
  },
  {
   "cell_type": "code",
   "execution_count": null,
   "id": "2a55fb09-aadb-4866-a8d3-41b3ed69eaac",
   "metadata": {},
   "outputs": [],
   "source": []
  }
 ],
 "metadata": {
  "kernelspec": {
   "display_name": "Python 3 (ipykernel)",
   "language": "python",
   "name": "python3"
  },
  "language_info": {
   "codemirror_mode": {
    "name": "ipython",
    "version": 3
   },
   "file_extension": ".py",
   "mimetype": "text/x-python",
   "name": "python",
   "nbconvert_exporter": "python",
   "pygments_lexer": "ipython3",
   "version": "3.10.8"
  }
 },
 "nbformat": 4,
 "nbformat_minor": 5
}
